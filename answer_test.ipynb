{
 "cells": [
  {
   "cell_type": "markdown",
   "id": "aacf0ec2",
   "metadata": {},
   "source": [
    "# Import Library"
   ]
  },
  {
   "cell_type": "code",
   "execution_count": 1,
   "id": "d368eaab",
   "metadata": {},
   "outputs": [],
   "source": [
    "import pandas as pd\n",
    "import duckdb\n",
    "import os\n",
    "import plotly.express as px\n"
   ]
  },
  {
   "cell_type": "markdown",
   "id": "554dba8a",
   "metadata": {},
   "source": [
    "# Make eklipse_data.db"
   ]
  },
  {
   "cell_type": "code",
   "execution_count": 2,
   "id": "50276359",
   "metadata": {},
   "outputs": [
    {
     "data": {
      "text/plain": [
       "<duckdb.duckdb.DuckDBPyConnection at 0x20a84556870>"
      ]
     },
     "execution_count": 2,
     "metadata": {},
     "output_type": "execute_result"
    }
   ],
   "source": [
    "# Inisialisasi koneksi DuckDB (in-memory atau file)\n",
    "con = duckdb.connect(database=':memory:')  # Atau ganti dengan 'database.duckdb' kalau ingin persist\n",
    "\n",
    "# Load semua CSV sebagai view (DuckDB bisa baca langsung dari disk!)\n",
    "con.execute(\"\"\"\n",
    "    CREATE VIEW downloaded_clips AS SELECT * FROM read_csv_auto('da_test/downloaded_clips.csv');\n",
    "    CREATE VIEW shared_clips AS SELECT * FROM read_csv_auto('da_test/shared_clips.csv');\n",
    "    CREATE VIEW clips AS SELECT * FROM read_csv_auto('da_test/clips.csv');\n",
    "    CREATE VIEW premium_users AS SELECT * FROM read_csv_auto('da_test/premium_users.csv');\n",
    "    CREATE VIEW gamesession AS SELECT * FROM read_csv_auto('da_test/gamesession.csv');\n",
    "\"\"\")"
   ]
  },
  {
   "cell_type": "markdown",
   "id": "bf4ce6d4",
   "metadata": {},
   "source": [
    "## SQL"
   ]
  },
  {
   "cell_type": "markdown",
   "id": "0a03332e",
   "metadata": {},
   "source": [
    "## Question SQL 1\n",
    "The total number of users who have downloaded any clips. total number of clips downloaded. The total number of game sessions from which the downloaded clips were generated. "
   ]
  },
  {
   "cell_type": "code",
   "execution_count": 3,
   "id": "f4f9ba36",
   "metadata": {},
   "outputs": [
    {
     "data": {
      "text/html": [
       "<div>\n",
       "<style scoped>\n",
       "    .dataframe tbody tr th:only-of-type {\n",
       "        vertical-align: middle;\n",
       "    }\n",
       "\n",
       "    .dataframe tbody tr th {\n",
       "        vertical-align: top;\n",
       "    }\n",
       "\n",
       "    .dataframe thead th {\n",
       "        text-align: right;\n",
       "    }\n",
       "</style>\n",
       "<table border=\"1\" class=\"dataframe\">\n",
       "  <thead>\n",
       "    <tr style=\"text-align: right;\">\n",
       "      <th></th>\n",
       "      <th>total_user_who_download_clips</th>\n",
       "      <th>total_clips_downloaded</th>\n",
       "      <th>total_gamesession_generated</th>\n",
       "    </tr>\n",
       "  </thead>\n",
       "  <tbody>\n",
       "    <tr>\n",
       "      <th>0</th>\n",
       "      <td>1454</td>\n",
       "      <td>12935</td>\n",
       "      <td>4338</td>\n",
       "    </tr>\n",
       "  </tbody>\n",
       "</table>\n",
       "</div>"
      ],
      "text/plain": [
       "   total_user_who_download_clips  total_clips_downloaded  \\\n",
       "0                           1454                   12935   \n",
       "\n",
       "   total_gamesession_generated  \n",
       "0                         4338  "
      ]
     },
     "execution_count": 3,
     "metadata": {},
     "output_type": "execute_result"
    }
   ],
   "source": [
    "query = \"\"\"--sql \n",
    "SELECT\n",
    "    COUNT(DISTINCT user_id) AS total_user_who_download_clips,\n",
    "    COUNT(DISTINCT clip_id) AS total_clips_downloaded,\n",
    "    COUNT(DISTINCT gamesession_id) AS total_gamesession_generated\n",
    "FROM downloaded_clips dc;\"\"\"\n",
    "\n",
    "df = con.execute(query).fetchdf()\n",
    "df\n"
   ]
  },
  {
   "cell_type": "markdown",
   "id": "dd0058e2",
   "metadata": {},
   "source": [
    "## Question SQL 2\n",
    "For users who purchased premium in the last 3 months: Get the number of \n",
    "users who purchased premium, the number of users who shared any clips, \n",
    "the total number of clips shared, and the total number of gamesessions from \n",
    "which the shared clips were generated. "
   ]
  },
  {
   "cell_type": "code",
   "execution_count": 4,
   "id": "5358d5c9",
   "metadata": {},
   "outputs": [
    {
     "data": {
      "text/html": [
       "<div>\n",
       "<style scoped>\n",
       "    .dataframe tbody tr th:only-of-type {\n",
       "        vertical-align: middle;\n",
       "    }\n",
       "\n",
       "    .dataframe tbody tr th {\n",
       "        vertical-align: top;\n",
       "    }\n",
       "\n",
       "    .dataframe thead th {\n",
       "        text-align: right;\n",
       "    }\n",
       "</style>\n",
       "<table border=\"1\" class=\"dataframe\">\n",
       "  <thead>\n",
       "    <tr style=\"text-align: right;\">\n",
       "      <th></th>\n",
       "      <th>total_user_who_purchased_premium_last_3_months</th>\n",
       "      <th>number_of_user_premium_last_3_month_who_shared_clips</th>\n",
       "      <th>number_of_clip_shared</th>\n",
       "      <th>number_of_gamesession_generated_from_shared_clips</th>\n",
       "    </tr>\n",
       "  </thead>\n",
       "  <tbody>\n",
       "    <tr>\n",
       "      <th>0</th>\n",
       "      <td>164</td>\n",
       "      <td>59</td>\n",
       "      <td>1144</td>\n",
       "      <td>359</td>\n",
       "    </tr>\n",
       "  </tbody>\n",
       "</table>\n",
       "</div>"
      ],
      "text/plain": [
       "   total_user_who_purchased_premium_last_3_months  \\\n",
       "0                                             164   \n",
       "\n",
       "   number_of_user_premium_last_3_month_who_shared_clips  \\\n",
       "0                                                 59      \n",
       "\n",
       "   number_of_clip_shared  number_of_gamesession_generated_from_shared_clips  \n",
       "0                   1144                                                359  "
      ]
     },
     "execution_count": 4,
     "metadata": {},
     "output_type": "execute_result"
    }
   ],
   "source": [
    "query = \"\"\"--sql \n",
    "WITH premiums_users_last_3_month AS (\n",
    "    SELECT user_id\n",
    "    FROM premium_users\n",
    "    WHERE CAST(starts_at AS TIMESTAMP) >= (\n",
    "        SELECT MAX(CAST(starts_at AS TIMESTAMP)) - INTERVAL '3 MONTH'\n",
    "        FROM premium_users\n",
    "    )\n",
    "),\n",
    "premium_summary AS (\n",
    "    SELECT \n",
    "        COUNT(DISTINCT user_id) AS total_user_who_purchased_premium_last_3_months\n",
    "    FROM premiums_users_last_3_month\n",
    "),\n",
    "shared_clips_summary AS (\n",
    "    SELECT \n",
    "        COUNT(DISTINCT sc.user_id) AS number_of_user_premium_last_3_month_who_shared_clips,\n",
    "        COUNT(DISTINCT sc.clip_id) AS number_of_clip_shared,\n",
    "        COUNT(DISTINCT sc.gamesession_id) AS number_of_gamesession_generated_from_shared_clips\n",
    "    FROM shared_clips sc\n",
    "    JOIN premiums_users_last_3_month pul3m ON sc.user_id = pul3m.user_id\n",
    ")\n",
    "\n",
    "SELECT \n",
    "    ps.total_user_who_purchased_premium_last_3_months,\n",
    "    scs.number_of_user_premium_last_3_month_who_shared_clips,\n",
    "    scs.number_of_clip_shared,\n",
    "    scs.number_of_gamesession_generated_from_shared_clips\n",
    "FROM premium_summary ps\n",
    "CROSS JOIN shared_clips_summary scs;\n",
    "\n",
    "\"\"\"\n",
    "\n",
    "df = con.execute(query).fetchdf()\n",
    "df\n"
   ]
  },
  {
   "cell_type": "markdown",
   "id": "9024346d",
   "metadata": {},
   "source": [
    "## Question SQL 3\n",
    "Calculate, on a weekly basis: The number of users engaged. The number of \n",
    "clips engaged. The total number of gamesessions from which the engaged \n",
    "clips were generated."
   ]
  },
  {
   "cell_type": "code",
   "execution_count": 5,
   "id": "c6c1cae6",
   "metadata": {},
   "outputs": [
    {
     "data": {
      "text/html": [
       "<div>\n",
       "<style scoped>\n",
       "    .dataframe tbody tr th:only-of-type {\n",
       "        vertical-align: middle;\n",
       "    }\n",
       "\n",
       "    .dataframe tbody tr th {\n",
       "        vertical-align: top;\n",
       "    }\n",
       "\n",
       "    .dataframe thead th {\n",
       "        text-align: right;\n",
       "    }\n",
       "</style>\n",
       "<table border=\"1\" class=\"dataframe\">\n",
       "  <thead>\n",
       "    <tr style=\"text-align: right;\">\n",
       "      <th></th>\n",
       "      <th>total_user_who_purchased_premium_last_3_months</th>\n",
       "      <th>number_of_user_premium_last_3_month_who_shared_clips</th>\n",
       "      <th>number_of_clip_shared</th>\n",
       "      <th>number_of_gamesession_generated_from_shared_clips</th>\n",
       "    </tr>\n",
       "  </thead>\n",
       "  <tbody>\n",
       "    <tr>\n",
       "      <th>0</th>\n",
       "      <td>164</td>\n",
       "      <td>59</td>\n",
       "      <td>1144</td>\n",
       "      <td>359</td>\n",
       "    </tr>\n",
       "  </tbody>\n",
       "</table>\n",
       "</div>"
      ],
      "text/plain": [
       "   total_user_who_purchased_premium_last_3_months  \\\n",
       "0                                             164   \n",
       "\n",
       "   number_of_user_premium_last_3_month_who_shared_clips  \\\n",
       "0                                                 59      \n",
       "\n",
       "   number_of_clip_shared  number_of_gamesession_generated_from_shared_clips  \n",
       "0                   1144                                                359  "
      ]
     },
     "execution_count": 5,
     "metadata": {},
     "output_type": "execute_result"
    }
   ],
   "source": [
    "query = \"\"\"--sql \n",
    "WITH premiums_users_last_3_month AS (\n",
    "    SELECT user_id\n",
    "    FROM premium_users\n",
    "    WHERE starts_at >= (\n",
    "        SELECT MAX(starts_at) - INTERVAL '3 MONTH'\n",
    "        FROM premium_users\n",
    "    )\n",
    "),\n",
    "premium_summary AS (\n",
    "    SELECT \n",
    "        COUNT(DISTINCT user_id) AS total_user_who_purchased_premium_last_3_months\n",
    "    FROM premiums_users_last_3_month\n",
    "),\n",
    "shared_clips_summary AS (\n",
    "    SELECT \n",
    "        COUNT(DISTINCT sc.user_id) AS number_of_user_premium_last_3_month_who_shared_clips,\n",
    "        COUNT(DISTINCT sc.clip_id) AS number_of_clip_shared,\n",
    "        COUNT(DISTINCT sc.gamesession_id) AS number_of_gamesession_generated_from_shared_clips\n",
    "    FROM shared_clips sc\n",
    "    JOIN premiums_users_last_3_month pul3m ON sc.user_id = pul3m.user_id\n",
    ")\n",
    "\n",
    "SELECT \n",
    "    ps.total_user_who_purchased_premium_last_3_months,\n",
    "    scs.number_of_user_premium_last_3_month_who_shared_clips,\n",
    "    scs.number_of_clip_shared,\n",
    "    scs.number_of_gamesession_generated_from_shared_clips\n",
    "FROM premium_summary ps\n",
    "CROSS JOIN shared_clips_summary scs;\n",
    "\"\"\"\n",
    "\n",
    "df = con.execute(query).fetchdf()\n",
    "df\n"
   ]
  },
  {
   "cell_type": "markdown",
   "id": "906373ff",
   "metadata": {},
   "source": [
    "# B. Data Analysis"
   ]
  },
  {
   "cell_type": "code",
   "execution_count": 6,
   "id": "1d03b9ae",
   "metadata": {},
   "outputs": [
    {
     "data": {
      "text/html": [
       "<div>\n",
       "<style scoped>\n",
       "    .dataframe tbody tr th:only-of-type {\n",
       "        vertical-align: middle;\n",
       "    }\n",
       "\n",
       "    .dataframe tbody tr th {\n",
       "        vertical-align: top;\n",
       "    }\n",
       "\n",
       "    .dataframe thead th {\n",
       "        text-align: right;\n",
       "    }\n",
       "</style>\n",
       "<table border=\"1\" class=\"dataframe\">\n",
       "  <thead>\n",
       "    <tr style=\"text-align: right;\">\n",
       "      <th></th>\n",
       "      <th>total_gamesession_generated_by_free_users</th>\n",
       "      <th>total_free_users_who_generated_gamesession</th>\n",
       "      <th>average_duration_gamesession_per_free_users</th>\n",
       "      <th>total_games_used_by_free_users_to_process_gamesession</th>\n",
       "    </tr>\n",
       "  </thead>\n",
       "  <tbody>\n",
       "    <tr>\n",
       "      <th>0</th>\n",
       "      <td>28524</td>\n",
       "      <td>4002</td>\n",
       "      <td>6959.48</td>\n",
       "      <td>57</td>\n",
       "    </tr>\n",
       "  </tbody>\n",
       "</table>\n",
       "</div>"
      ],
      "text/plain": [
       "   total_gamesession_generated_by_free_users  \\\n",
       "0                                      28524   \n",
       "\n",
       "   total_free_users_who_generated_gamesession  \\\n",
       "0                                        4002   \n",
       "\n",
       "   average_duration_gamesession_per_free_users  \\\n",
       "0                                      6959.48   \n",
       "\n",
       "   total_games_used_by_free_users_to_process_gamesession  \n",
       "0                                                 57      "
      ]
     },
     "execution_count": 6,
     "metadata": {},
     "output_type": "execute_result"
    }
   ],
   "source": [
    "query_gamesession_premium_users = \"\"\"--sql\n",
    "-----------------------------------------------------------\n",
    "-- query premium user ids\n",
    "with gamession_with_premium_users as (\n",
    "-- query gamesession who the user_id is premium\n",
    "SELECT \n",
    "    *\n",
    "FROM\n",
    "    gamesession\n",
    "WHERE\n",
    "    user_id IN (SELECT DISTINCT user_id from premium_users)\n",
    ")\n",
    "\n",
    "select \n",
    "    count(distinct id) as total_gamesession_generated_by_premium_users,\n",
    "    count(distinct user_id) as total_premium_users_who_generated_gamesession,\n",
    "    round(avg(duration)/1000,2) as average_duration_gamesession_per_premium_users,\n",
    "    count(distinct game_name) as total_games_used_by_premium_users_to_process_gamesession  \n",
    "\n",
    "from \n",
    "    gamession_with_premium_users\n",
    "-----------------------------------------------------------\n",
    "\"\"\"\n",
    "\n",
    "query_gamesession_free_users = \"\"\"--sql\n",
    "-----------------------------------------------------------\n",
    "-- query free user ids\n",
    "with gamession_with_free_users as (\n",
    "-- query gamesession who the user_id is free\n",
    "SELECT \n",
    "    *\n",
    "FROM\n",
    "    gamesession\n",
    "WHERE\n",
    "    user_id NOT IN (SELECT DISTINCT user_id from premium_users)\n",
    ")\n",
    "\n",
    "select \n",
    "    count(distinct id) as total_gamesession_generated_by_free_users,\n",
    "    count(distinct user_id) as total_free_users_who_generated_gamesession,\n",
    "    round(avg(duration)/1000,2) as average_duration_gamesession_per_free_users,\n",
    "    count(distinct game_name) as total_games_used_by_free_users_to_process_gamesession\n",
    "from \n",
    "    gamession_with_free_users\n",
    "-----------------------------------------------------------\n",
    "\"\"\"\n",
    "\n",
    "df_premium_users = con.execute(query_gamesession_premium_users).fetchdf()\n",
    "df_free_users = con.execute(query_gamesession_free_users).fetchdf()\n",
    "\n",
    "df_free_users"
   ]
  },
  {
   "cell_type": "markdown",
   "id": "d4754f3e",
   "metadata": {},
   "source": [
    "## Gamessesion"
   ]
  },
  {
   "cell_type": "markdown",
   "id": "f024d813",
   "metadata": {},
   "source": [
    "### Compare free and premium users based on the gamesessions created by users\n"
   ]
  },
  {
   "cell_type": "code",
   "execution_count": 7,
   "id": "2859cbc5",
   "metadata": {},
   "outputs": [
    {
     "data": {
      "text/html": [
       "<div>\n",
       "<style scoped>\n",
       "    .dataframe tbody tr th:only-of-type {\n",
       "        vertical-align: middle;\n",
       "    }\n",
       "\n",
       "    .dataframe tbody tr th {\n",
       "        vertical-align: top;\n",
       "    }\n",
       "\n",
       "    .dataframe thead th {\n",
       "        text-align: right;\n",
       "    }\n",
       "</style>\n",
       "<table border=\"1\" class=\"dataframe\">\n",
       "  <thead>\n",
       "    <tr style=\"text-align: right;\">\n",
       "      <th></th>\n",
       "      <th>user_type</th>\n",
       "      <th>total_gamesession_generated</th>\n",
       "      <th>total_users_who_generated_gamesession</th>\n",
       "      <th>average_duration_gamesession</th>\n",
       "      <th>total_games_used_to_process_gamesession</th>\n",
       "    </tr>\n",
       "  </thead>\n",
       "  <tbody>\n",
       "    <tr>\n",
       "      <th>0</th>\n",
       "      <td>free</td>\n",
       "      <td>28524</td>\n",
       "      <td>4002</td>\n",
       "      <td>6959485.0</td>\n",
       "      <td>57</td>\n",
       "    </tr>\n",
       "    <tr>\n",
       "      <th>1</th>\n",
       "      <td>premium</td>\n",
       "      <td>9055</td>\n",
       "      <td>320</td>\n",
       "      <td>10506121.0</td>\n",
       "      <td>53</td>\n",
       "    </tr>\n",
       "  </tbody>\n",
       "</table>\n",
       "</div>"
      ],
      "text/plain": [
       "  user_type  total_gamesession_generated  \\\n",
       "0      free                        28524   \n",
       "1   premium                         9055   \n",
       "\n",
       "   total_users_who_generated_gamesession  average_duration_gamesession  \\\n",
       "0                                   4002                     6959485.0   \n",
       "1                                    320                    10506121.0   \n",
       "\n",
       "   total_games_used_to_process_gamesession  \n",
       "0                                       57  \n",
       "1                                       53  "
      ]
     },
     "execution_count": 7,
     "metadata": {},
     "output_type": "execute_result"
    }
   ],
   "source": [
    "query = \"\"\"--sql\n",
    "----------------------------------------------------------------------------------------------\n",
    "with gamesession_with_user_type as (\n",
    "SELECT \n",
    "    g.*,\n",
    "    CASE \n",
    "        WHEN g.user_id IN (SELECT DISTINCT user_id FROM premium_users) THEN 'premium'\n",
    "        ELSE 'free'\n",
    "    END AS user_type\n",
    "FROM \n",
    "    gamesession g\n",
    ")\n",
    "\n",
    "select\n",
    "    user_type, \n",
    "    count(distinct id) as total_gamesession_generated,\n",
    "    count(distinct user_id) as total_users_who_generated_gamesession,\n",
    "    round(avg(duration),0) as average_duration_gamesession,\n",
    "    count(distinct game_name) as total_games_used_to_process_gamesession,\n",
    "    \n",
    "from \n",
    "    gamesession_with_user_type\n",
    "group by user_type\n",
    "----------------------------------------------------------------------------------------------\n",
    "\"\"\"\n",
    "df_agg_gamession_by_user_type = con.execute(query).fetchdf()\n",
    "\n",
    "\n",
    "df_agg_gamession_by_user_type"
   ]
  },
  {
   "cell_type": "code",
   "execution_count": 8,
   "id": "cac866c8",
   "metadata": {},
   "outputs": [
    {
     "data": {
      "application/vnd.plotly.v1+json": {
       "config": {
        "plotlyServerURL": "https://plot.ly"
       },
       "data": [
        {
         "marker": {
          "color": "indianred"
         },
         "name": "Total GameSessions",
         "type": "bar",
         "x": [
          "free",
          "premium"
         ],
         "xaxis": "x",
         "y": [
          28524,
          9055
         ],
         "yaxis": "y"
        },
        {
         "marker": {
          "color": "lightsalmon"
         },
         "name": "Total Users",
         "type": "bar",
         "x": [
          "free",
          "premium"
         ],
         "xaxis": "x2",
         "y": [
          4002,
          320
         ],
         "yaxis": "y2"
        },
        {
         "marker": {
          "color": "dodgerblue"
         },
         "name": "Avg Duration",
         "type": "bar",
         "x": [
          "free",
          "premium"
         ],
         "xaxis": "x3",
         "y": [
          6959485,
          10506121
         ],
         "yaxis": "y3"
        },
        {
         "marker": {
          "color": "mediumseagreen"
         },
         "name": "Games Used",
         "type": "bar",
         "x": [
          "free",
          "premium"
         ],
         "xaxis": "x4",
         "y": [
          57,
          53
         ],
         "yaxis": "y4"
        }
       ],
       "layout": {
        "annotations": [
         {
          "font": {
           "size": 16
          },
          "showarrow": false,
          "text": "Total GameSessions",
          "x": 0.225,
          "xanchor": "center",
          "xref": "paper",
          "y": 1,
          "yanchor": "bottom",
          "yref": "paper"
         },
         {
          "font": {
           "size": 16
          },
          "showarrow": false,
          "text": "Total Users",
          "x": 0.775,
          "xanchor": "center",
          "xref": "paper",
          "y": 1,
          "yanchor": "bottom",
          "yref": "paper"
         },
         {
          "font": {
           "size": 16
          },
          "showarrow": false,
          "text": "Average Duration (sec)",
          "x": 0.225,
          "xanchor": "center",
          "xref": "paper",
          "y": 0.375,
          "yanchor": "bottom",
          "yref": "paper"
         },
         {
          "font": {
           "size": 16
          },
          "showarrow": false,
          "text": "Total Games Used",
          "x": 0.775,
          "xanchor": "center",
          "xref": "paper",
          "y": 0.375,
          "yanchor": "bottom",
          "yref": "paper"
         }
        ],
        "height": 600,
        "showlegend": false,
        "template": {
         "data": {
          "bar": [
           {
            "error_x": {
             "color": "#2a3f5f"
            },
            "error_y": {
             "color": "#2a3f5f"
            },
            "marker": {
             "line": {
              "color": "#E5ECF6",
              "width": 0.5
             },
             "pattern": {
              "fillmode": "overlay",
              "size": 10,
              "solidity": 0.2
             }
            },
            "type": "bar"
           }
          ],
          "barpolar": [
           {
            "marker": {
             "line": {
              "color": "#E5ECF6",
              "width": 0.5
             },
             "pattern": {
              "fillmode": "overlay",
              "size": 10,
              "solidity": 0.2
             }
            },
            "type": "barpolar"
           }
          ],
          "carpet": [
           {
            "aaxis": {
             "endlinecolor": "#2a3f5f",
             "gridcolor": "white",
             "linecolor": "white",
             "minorgridcolor": "white",
             "startlinecolor": "#2a3f5f"
            },
            "baxis": {
             "endlinecolor": "#2a3f5f",
             "gridcolor": "white",
             "linecolor": "white",
             "minorgridcolor": "white",
             "startlinecolor": "#2a3f5f"
            },
            "type": "carpet"
           }
          ],
          "choropleth": [
           {
            "colorbar": {
             "outlinewidth": 0,
             "ticks": ""
            },
            "type": "choropleth"
           }
          ],
          "contour": [
           {
            "colorbar": {
             "outlinewidth": 0,
             "ticks": ""
            },
            "colorscale": [
             [
              0,
              "#0d0887"
             ],
             [
              0.1111111111111111,
              "#46039f"
             ],
             [
              0.2222222222222222,
              "#7201a8"
             ],
             [
              0.3333333333333333,
              "#9c179e"
             ],
             [
              0.4444444444444444,
              "#bd3786"
             ],
             [
              0.5555555555555556,
              "#d8576b"
             ],
             [
              0.6666666666666666,
              "#ed7953"
             ],
             [
              0.7777777777777778,
              "#fb9f3a"
             ],
             [
              0.8888888888888888,
              "#fdca26"
             ],
             [
              1,
              "#f0f921"
             ]
            ],
            "type": "contour"
           }
          ],
          "contourcarpet": [
           {
            "colorbar": {
             "outlinewidth": 0,
             "ticks": ""
            },
            "type": "contourcarpet"
           }
          ],
          "heatmap": [
           {
            "colorbar": {
             "outlinewidth": 0,
             "ticks": ""
            },
            "colorscale": [
             [
              0,
              "#0d0887"
             ],
             [
              0.1111111111111111,
              "#46039f"
             ],
             [
              0.2222222222222222,
              "#7201a8"
             ],
             [
              0.3333333333333333,
              "#9c179e"
             ],
             [
              0.4444444444444444,
              "#bd3786"
             ],
             [
              0.5555555555555556,
              "#d8576b"
             ],
             [
              0.6666666666666666,
              "#ed7953"
             ],
             [
              0.7777777777777778,
              "#fb9f3a"
             ],
             [
              0.8888888888888888,
              "#fdca26"
             ],
             [
              1,
              "#f0f921"
             ]
            ],
            "type": "heatmap"
           }
          ],
          "heatmapgl": [
           {
            "colorbar": {
             "outlinewidth": 0,
             "ticks": ""
            },
            "colorscale": [
             [
              0,
              "#0d0887"
             ],
             [
              0.1111111111111111,
              "#46039f"
             ],
             [
              0.2222222222222222,
              "#7201a8"
             ],
             [
              0.3333333333333333,
              "#9c179e"
             ],
             [
              0.4444444444444444,
              "#bd3786"
             ],
             [
              0.5555555555555556,
              "#d8576b"
             ],
             [
              0.6666666666666666,
              "#ed7953"
             ],
             [
              0.7777777777777778,
              "#fb9f3a"
             ],
             [
              0.8888888888888888,
              "#fdca26"
             ],
             [
              1,
              "#f0f921"
             ]
            ],
            "type": "heatmapgl"
           }
          ],
          "histogram": [
           {
            "marker": {
             "pattern": {
              "fillmode": "overlay",
              "size": 10,
              "solidity": 0.2
             }
            },
            "type": "histogram"
           }
          ],
          "histogram2d": [
           {
            "colorbar": {
             "outlinewidth": 0,
             "ticks": ""
            },
            "colorscale": [
             [
              0,
              "#0d0887"
             ],
             [
              0.1111111111111111,
              "#46039f"
             ],
             [
              0.2222222222222222,
              "#7201a8"
             ],
             [
              0.3333333333333333,
              "#9c179e"
             ],
             [
              0.4444444444444444,
              "#bd3786"
             ],
             [
              0.5555555555555556,
              "#d8576b"
             ],
             [
              0.6666666666666666,
              "#ed7953"
             ],
             [
              0.7777777777777778,
              "#fb9f3a"
             ],
             [
              0.8888888888888888,
              "#fdca26"
             ],
             [
              1,
              "#f0f921"
             ]
            ],
            "type": "histogram2d"
           }
          ],
          "histogram2dcontour": [
           {
            "colorbar": {
             "outlinewidth": 0,
             "ticks": ""
            },
            "colorscale": [
             [
              0,
              "#0d0887"
             ],
             [
              0.1111111111111111,
              "#46039f"
             ],
             [
              0.2222222222222222,
              "#7201a8"
             ],
             [
              0.3333333333333333,
              "#9c179e"
             ],
             [
              0.4444444444444444,
              "#bd3786"
             ],
             [
              0.5555555555555556,
              "#d8576b"
             ],
             [
              0.6666666666666666,
              "#ed7953"
             ],
             [
              0.7777777777777778,
              "#fb9f3a"
             ],
             [
              0.8888888888888888,
              "#fdca26"
             ],
             [
              1,
              "#f0f921"
             ]
            ],
            "type": "histogram2dcontour"
           }
          ],
          "mesh3d": [
           {
            "colorbar": {
             "outlinewidth": 0,
             "ticks": ""
            },
            "type": "mesh3d"
           }
          ],
          "parcoords": [
           {
            "line": {
             "colorbar": {
              "outlinewidth": 0,
              "ticks": ""
             }
            },
            "type": "parcoords"
           }
          ],
          "pie": [
           {
            "automargin": true,
            "type": "pie"
           }
          ],
          "scatter": [
           {
            "fillpattern": {
             "fillmode": "overlay",
             "size": 10,
             "solidity": 0.2
            },
            "type": "scatter"
           }
          ],
          "scatter3d": [
           {
            "line": {
             "colorbar": {
              "outlinewidth": 0,
              "ticks": ""
             }
            },
            "marker": {
             "colorbar": {
              "outlinewidth": 0,
              "ticks": ""
             }
            },
            "type": "scatter3d"
           }
          ],
          "scattercarpet": [
           {
            "marker": {
             "colorbar": {
              "outlinewidth": 0,
              "ticks": ""
             }
            },
            "type": "scattercarpet"
           }
          ],
          "scattergeo": [
           {
            "marker": {
             "colorbar": {
              "outlinewidth": 0,
              "ticks": ""
             }
            },
            "type": "scattergeo"
           }
          ],
          "scattergl": [
           {
            "marker": {
             "colorbar": {
              "outlinewidth": 0,
              "ticks": ""
             }
            },
            "type": "scattergl"
           }
          ],
          "scattermapbox": [
           {
            "marker": {
             "colorbar": {
              "outlinewidth": 0,
              "ticks": ""
             }
            },
            "type": "scattermapbox"
           }
          ],
          "scatterpolar": [
           {
            "marker": {
             "colorbar": {
              "outlinewidth": 0,
              "ticks": ""
             }
            },
            "type": "scatterpolar"
           }
          ],
          "scatterpolargl": [
           {
            "marker": {
             "colorbar": {
              "outlinewidth": 0,
              "ticks": ""
             }
            },
            "type": "scatterpolargl"
           }
          ],
          "scatterternary": [
           {
            "marker": {
             "colorbar": {
              "outlinewidth": 0,
              "ticks": ""
             }
            },
            "type": "scatterternary"
           }
          ],
          "surface": [
           {
            "colorbar": {
             "outlinewidth": 0,
             "ticks": ""
            },
            "colorscale": [
             [
              0,
              "#0d0887"
             ],
             [
              0.1111111111111111,
              "#46039f"
             ],
             [
              0.2222222222222222,
              "#7201a8"
             ],
             [
              0.3333333333333333,
              "#9c179e"
             ],
             [
              0.4444444444444444,
              "#bd3786"
             ],
             [
              0.5555555555555556,
              "#d8576b"
             ],
             [
              0.6666666666666666,
              "#ed7953"
             ],
             [
              0.7777777777777778,
              "#fb9f3a"
             ],
             [
              0.8888888888888888,
              "#fdca26"
             ],
             [
              1,
              "#f0f921"
             ]
            ],
            "type": "surface"
           }
          ],
          "table": [
           {
            "cells": {
             "fill": {
              "color": "#EBF0F8"
             },
             "line": {
              "color": "white"
             }
            },
            "header": {
             "fill": {
              "color": "#C8D4E3"
             },
             "line": {
              "color": "white"
             }
            },
            "type": "table"
           }
          ]
         },
         "layout": {
          "annotationdefaults": {
           "arrowcolor": "#2a3f5f",
           "arrowhead": 0,
           "arrowwidth": 1
          },
          "autotypenumbers": "strict",
          "coloraxis": {
           "colorbar": {
            "outlinewidth": 0,
            "ticks": ""
           }
          },
          "colorscale": {
           "diverging": [
            [
             0,
             "#8e0152"
            ],
            [
             0.1,
             "#c51b7d"
            ],
            [
             0.2,
             "#de77ae"
            ],
            [
             0.3,
             "#f1b6da"
            ],
            [
             0.4,
             "#fde0ef"
            ],
            [
             0.5,
             "#f7f7f7"
            ],
            [
             0.6,
             "#e6f5d0"
            ],
            [
             0.7,
             "#b8e186"
            ],
            [
             0.8,
             "#7fbc41"
            ],
            [
             0.9,
             "#4d9221"
            ],
            [
             1,
             "#276419"
            ]
           ],
           "sequential": [
            [
             0,
             "#0d0887"
            ],
            [
             0.1111111111111111,
             "#46039f"
            ],
            [
             0.2222222222222222,
             "#7201a8"
            ],
            [
             0.3333333333333333,
             "#9c179e"
            ],
            [
             0.4444444444444444,
             "#bd3786"
            ],
            [
             0.5555555555555556,
             "#d8576b"
            ],
            [
             0.6666666666666666,
             "#ed7953"
            ],
            [
             0.7777777777777778,
             "#fb9f3a"
            ],
            [
             0.8888888888888888,
             "#fdca26"
            ],
            [
             1,
             "#f0f921"
            ]
           ],
           "sequentialminus": [
            [
             0,
             "#0d0887"
            ],
            [
             0.1111111111111111,
             "#46039f"
            ],
            [
             0.2222222222222222,
             "#7201a8"
            ],
            [
             0.3333333333333333,
             "#9c179e"
            ],
            [
             0.4444444444444444,
             "#bd3786"
            ],
            [
             0.5555555555555556,
             "#d8576b"
            ],
            [
             0.6666666666666666,
             "#ed7953"
            ],
            [
             0.7777777777777778,
             "#fb9f3a"
            ],
            [
             0.8888888888888888,
             "#fdca26"
            ],
            [
             1,
             "#f0f921"
            ]
           ]
          },
          "colorway": [
           "#636efa",
           "#EF553B",
           "#00cc96",
           "#ab63fa",
           "#FFA15A",
           "#19d3f3",
           "#FF6692",
           "#B6E880",
           "#FF97FF",
           "#FECB52"
          ],
          "font": {
           "color": "#2a3f5f"
          },
          "geo": {
           "bgcolor": "white",
           "lakecolor": "white",
           "landcolor": "#E5ECF6",
           "showlakes": true,
           "showland": true,
           "subunitcolor": "white"
          },
          "hoverlabel": {
           "align": "left"
          },
          "hovermode": "closest",
          "mapbox": {
           "style": "light"
          },
          "paper_bgcolor": "white",
          "plot_bgcolor": "#E5ECF6",
          "polar": {
           "angularaxis": {
            "gridcolor": "white",
            "linecolor": "white",
            "ticks": ""
           },
           "bgcolor": "#E5ECF6",
           "radialaxis": {
            "gridcolor": "white",
            "linecolor": "white",
            "ticks": ""
           }
          },
          "scene": {
           "xaxis": {
            "backgroundcolor": "#E5ECF6",
            "gridcolor": "white",
            "gridwidth": 2,
            "linecolor": "white",
            "showbackground": true,
            "ticks": "",
            "zerolinecolor": "white"
           },
           "yaxis": {
            "backgroundcolor": "#E5ECF6",
            "gridcolor": "white",
            "gridwidth": 2,
            "linecolor": "white",
            "showbackground": true,
            "ticks": "",
            "zerolinecolor": "white"
           },
           "zaxis": {
            "backgroundcolor": "#E5ECF6",
            "gridcolor": "white",
            "gridwidth": 2,
            "linecolor": "white",
            "showbackground": true,
            "ticks": "",
            "zerolinecolor": "white"
           }
          },
          "shapedefaults": {
           "line": {
            "color": "#2a3f5f"
           }
          },
          "ternary": {
           "aaxis": {
            "gridcolor": "white",
            "linecolor": "white",
            "ticks": ""
           },
           "baxis": {
            "gridcolor": "white",
            "linecolor": "white",
            "ticks": ""
           },
           "bgcolor": "#E5ECF6",
           "caxis": {
            "gridcolor": "white",
            "linecolor": "white",
            "ticks": ""
           }
          },
          "title": {
           "x": 0.05
          },
          "xaxis": {
           "automargin": true,
           "gridcolor": "white",
           "linecolor": "white",
           "ticks": "",
           "title": {
            "standoff": 15
           },
           "zerolinecolor": "white",
           "zerolinewidth": 2
          },
          "yaxis": {
           "automargin": true,
           "gridcolor": "white",
           "linecolor": "white",
           "ticks": "",
           "title": {
            "standoff": 15
           },
           "zerolinecolor": "white",
           "zerolinewidth": 2
          }
         }
        },
        "title": {
         "text": "Comparison Between Free vs Premium Users"
        },
        "width": 900,
        "xaxis": {
         "anchor": "y",
         "domain": [
          0,
          0.45
         ]
        },
        "xaxis2": {
         "anchor": "y2",
         "domain": [
          0.55,
          1
         ]
        },
        "xaxis3": {
         "anchor": "y3",
         "domain": [
          0,
          0.45
         ]
        },
        "xaxis4": {
         "anchor": "y4",
         "domain": [
          0.55,
          1
         ]
        },
        "yaxis": {
         "anchor": "x",
         "domain": [
          0.625,
          1
         ]
        },
        "yaxis2": {
         "anchor": "x2",
         "domain": [
          0.625,
          1
         ]
        },
        "yaxis3": {
         "anchor": "x3",
         "domain": [
          0,
          0.375
         ]
        },
        "yaxis4": {
         "anchor": "x4",
         "domain": [
          0,
          0.375
         ]
        }
       }
      }
     },
     "metadata": {},
     "output_type": "display_data"
    }
   ],
   "source": [
    "import plotly.graph_objects as go\n",
    "from plotly.subplots import make_subplots\n",
    "\n",
    "# Buat subplot 2x2\n",
    "fig = make_subplots(rows=2, cols=2, subplot_titles=[\n",
    "    \"Total GameSessions\",\n",
    "    \"Total Users\",\n",
    "    \"Average Duration (sec)\",\n",
    "    \"Total Games Used\"\n",
    "])\n",
    "\n",
    "# Bar chart 1: Total GameSessions\n",
    "fig.add_trace(go.Bar(\n",
    "    x=df_agg_gamession_by_user_type['user_type'],\n",
    "    y=df_agg_gamession_by_user_type['total_gamesession_generated'],\n",
    "    name='Total GameSessions',\n",
    "    marker_color='indianred'\n",
    "), row=1, col=1)\n",
    "\n",
    "# Bar chart 2: Total Users\n",
    "fig.add_trace(go.Bar(\n",
    "    x=df_agg_gamession_by_user_type['user_type'],\n",
    "    y=df_agg_gamession_by_user_type['total_users_who_generated_gamesession'],\n",
    "    name='Total Users',\n",
    "    marker_color='lightsalmon'\n",
    "), row=1, col=2)\n",
    "\n",
    "# Bar chart 3: Average Duration\n",
    "fig.add_trace(go.Bar(\n",
    "    x=df_agg_gamession_by_user_type['user_type'],\n",
    "    y=df_agg_gamession_by_user_type['average_duration_gamesession'],\n",
    "    name='Avg Duration',\n",
    "    marker_color='dodgerblue'\n",
    "), row=2, col=1)\n",
    "\n",
    "# Bar chart 4: Total Games Used\n",
    "fig.add_trace(go.Bar(\n",
    "    x=df_agg_gamession_by_user_type['user_type'],\n",
    "    y=df_agg_gamession_by_user_type['total_games_used_to_process_gamesession'],\n",
    "    name='Games Used',\n",
    "    marker_color='mediumseagreen'\n",
    "), row=2, col=2)\n",
    "\n",
    "# Update layout\n",
    "fig.update_layout(\n",
    "    title_text=\"Comparison Between Free vs Premium Users\",\n",
    "    showlegend=False,\n",
    "    height=600,\n",
    "    width=900\n",
    ")\n",
    "\n",
    "fig.show()\n"
   ]
  },
  {
   "cell_type": "markdown",
   "id": "5aa133ea",
   "metadata": {},
   "source": [
    "We can observe that the total number of gamesessions created and the number of games played are higher among free users compared to premium users. This is expected, as the number of free users who create gamesessions is significantly greater than that of premium users. However, an interesting insight is that premium users tend to create gamesessions with much longer durations compared to free users."
   ]
  },
  {
   "cell_type": "markdown",
   "id": "b0840550",
   "metadata": {},
   "source": [
    "### Compare free and premium users based on the gamesessions created by users for each game."
   ]
  },
  {
   "cell_type": "code",
   "execution_count": 9,
   "id": "fb0c7259",
   "metadata": {},
   "outputs": [
    {
     "data": {
      "text/html": [
       "<div>\n",
       "<style scoped>\n",
       "    .dataframe tbody tr th:only-of-type {\n",
       "        vertical-align: middle;\n",
       "    }\n",
       "\n",
       "    .dataframe tbody tr th {\n",
       "        vertical-align: top;\n",
       "    }\n",
       "\n",
       "    .dataframe thead th {\n",
       "        text-align: right;\n",
       "    }\n",
       "</style>\n",
       "<table border=\"1\" class=\"dataframe\">\n",
       "  <thead>\n",
       "    <tr style=\"text-align: right;\">\n",
       "      <th></th>\n",
       "      <th>user_type</th>\n",
       "      <th>game_name</th>\n",
       "      <th>total_gamesession_generated</th>\n",
       "      <th>total_users_who_generated_gamesession</th>\n",
       "      <th>average_duration_gamesession</th>\n",
       "      <th>pct_gamesession_within_user_type</th>\n",
       "      <th>pct_users_within_user_type</th>\n",
       "    </tr>\n",
       "  </thead>\n",
       "  <tbody>\n",
       "    <tr>\n",
       "      <th>0</th>\n",
       "      <td>free</td>\n",
       "      <td>Other Games</td>\n",
       "      <td>10938</td>\n",
       "      <td>2233</td>\n",
       "      <td>7562694.0</td>\n",
       "      <td>38.35</td>\n",
       "      <td>32.11</td>\n",
       "    </tr>\n",
       "    <tr>\n",
       "      <th>1</th>\n",
       "      <td>free</td>\n",
       "      <td>COD: Warzone3-2 &amp; MW3-2</td>\n",
       "      <td>5655</td>\n",
       "      <td>983</td>\n",
       "      <td>6154490.0</td>\n",
       "      <td>19.83</td>\n",
       "      <td>14.14</td>\n",
       "    </tr>\n",
       "    <tr>\n",
       "      <th>2</th>\n",
       "      <td>free</td>\n",
       "      <td>Fortnite</td>\n",
       "      <td>3213</td>\n",
       "      <td>807</td>\n",
       "      <td>6394120.0</td>\n",
       "      <td>11.26</td>\n",
       "      <td>11.60</td>\n",
       "    </tr>\n",
       "    <tr>\n",
       "      <th>3</th>\n",
       "      <td>free</td>\n",
       "      <td>Valorant</td>\n",
       "      <td>1977</td>\n",
       "      <td>388</td>\n",
       "      <td>8528200.0</td>\n",
       "      <td>6.93</td>\n",
       "      <td>5.58</td>\n",
       "    </tr>\n",
       "    <tr>\n",
       "      <th>4</th>\n",
       "      <td>free</td>\n",
       "      <td>Apex Legends</td>\n",
       "      <td>1413</td>\n",
       "      <td>303</td>\n",
       "      <td>7047973.0</td>\n",
       "      <td>4.95</td>\n",
       "      <td>4.36</td>\n",
       "    </tr>\n",
       "  </tbody>\n",
       "</table>\n",
       "</div>"
      ],
      "text/plain": [
       "  user_type                game_name  total_gamesession_generated  \\\n",
       "0      free              Other Games                        10938   \n",
       "1      free  COD: Warzone3-2 & MW3-2                         5655   \n",
       "2      free                 Fortnite                         3213   \n",
       "3      free                 Valorant                         1977   \n",
       "4      free             Apex Legends                         1413   \n",
       "\n",
       "   total_users_who_generated_gamesession  average_duration_gamesession  \\\n",
       "0                                   2233                     7562694.0   \n",
       "1                                    983                     6154490.0   \n",
       "2                                    807                     6394120.0   \n",
       "3                                    388                     8528200.0   \n",
       "4                                    303                     7047973.0   \n",
       "\n",
       "   pct_gamesession_within_user_type  pct_users_within_user_type  \n",
       "0                             38.35                       32.11  \n",
       "1                             19.83                       14.14  \n",
       "2                             11.26                       11.60  \n",
       "3                              6.93                        5.58  \n",
       "4                              4.95                        4.36  "
      ]
     },
     "execution_count": 9,
     "metadata": {},
     "output_type": "execute_result"
    }
   ],
   "source": [
    "query = \"\"\"--sql\n",
    "WITH gamesession_with_user_type AS (\n",
    "    SELECT \n",
    "        g.*,\n",
    "        CASE \n",
    "            WHEN g.user_id IN (SELECT DISTINCT user_id FROM premium_users) THEN 'premium'\n",
    "            ELSE 'free'\n",
    "        END AS user_type\n",
    "    FROM \n",
    "        gamesession g\n",
    "),\n",
    "agg AS (\n",
    "    SELECT \n",
    "        user_type, \n",
    "        game_name,\n",
    "        COUNT(DISTINCT id) AS total_gamesession_generated,\n",
    "        COUNT(DISTINCT user_id) AS total_users_who_generated_gamesession,\n",
    "        ROUND(AVG(duration), 0) AS average_duration_gamesession\n",
    "    FROM gamesession_with_user_type\n",
    "    GROUP BY user_type, game_name\n",
    ")\n",
    "\n",
    "SELECT \n",
    "    *,\n",
    "    ROUND(\n",
    "        total_gamesession_generated * 100.0 \n",
    "        / SUM(total_gamesession_generated) OVER (PARTITION BY user_type), \n",
    "        2\n",
    "    ) AS pct_gamesession_within_user_type,\n",
    "    ROUND(\n",
    "        total_users_who_generated_gamesession * 100.0 \n",
    "        / SUM(total_users_who_generated_gamesession) OVER (PARTITION BY user_type), \n",
    "        2\n",
    "    ) AS pct_users_within_user_type\n",
    "FROM agg\n",
    "ORDER BY user_type, pct_gamesession_within_user_type DESC\n",
    "\n",
    "\n",
    "---order by user_type, total_gamesession_generated DESC\n",
    "\"\"\"\n",
    "\n",
    "df_agg_gamession_by_user_type_per_game = con.execute(query).fetchdf()\n",
    "df_agg_gamession_by_user_type_per_game.head(5)"
   ]
  },
  {
   "cell_type": "code",
   "execution_count": 10,
   "id": "4dd43cdd",
   "metadata": {},
   "outputs": [
    {
     "data": {
      "application/vnd.plotly.v1+json": {
       "config": {
        "plotlyServerURL": "https://plot.ly"
       },
       "data": [
        {
         "alignmentgroup": "True",
         "hovertemplate": "User Type=free<br>Percent of Total GameSessions=%{text}<br>Game=%{y}<extra></extra>",
         "legendgroup": "free",
         "marker": {
          "color": "#636efa",
          "pattern": {
           "shape": ""
          }
         },
         "name": "free",
         "offsetgroup": "free",
         "orientation": "h",
         "showlegend": true,
         "text": [
          38.35,
          19.83,
          11.26,
          6.93,
          4.95,
          2.58,
          2.5,
          2.24,
          1.51,
          1.12,
          1.05,
          0.86,
          0.76,
          0.71,
          0.65,
          0.52,
          0.51,
          0.47,
          0.34,
          0.33,
          0.27,
          0.22,
          0.18,
          0.16,
          0.13,
          0.13,
          0.12,
          0.12,
          0.11,
          0.1,
          0.1,
          0.09,
          0.09,
          0.07,
          0.07,
          0.06,
          0.06,
          0.05,
          0.04,
          0.03,
          0.03,
          0.03,
          0.03,
          0.02,
          0.02,
          0.02,
          0.02,
          0.01,
          0.01,
          0.01,
          0.01,
          0.01,
          0.01,
          0,
          0,
          0,
          0
         ],
         "textposition": "outside",
         "type": "bar",
         "x": [
          38.35,
          19.83,
          11.26,
          6.93,
          4.95,
          2.58,
          2.5,
          2.24,
          1.51,
          1.12,
          1.05,
          0.86,
          0.76,
          0.71,
          0.65,
          0.52,
          0.51,
          0.47,
          0.34,
          0.33,
          0.27,
          0.22,
          0.18,
          0.16,
          0.13,
          0.13,
          0.12,
          0.12,
          0.11,
          0.1,
          0.1,
          0.09,
          0.09,
          0.07,
          0.07,
          0.06,
          0.06,
          0.05,
          0.04,
          0.03,
          0.03,
          0.03,
          0.03,
          0.02,
          0.02,
          0.02,
          0.02,
          0.01,
          0.01,
          0.01,
          0.01,
          0.01,
          0.01,
          0,
          0,
          0,
          0
         ],
         "xaxis": "x",
         "y": [
          "Other Games",
          "COD: Warzone3-2 & MW3-2",
          "Fortnite",
          "Valorant",
          "Apex Legends",
          "Podcast",
          "Overwatch 2",
          "League of Legends",
          "Tom Clancy's Rainbow Six: Siege",
          "NBA: 2K24",
          "Rocket League",
          "Dead by Daylight",
          "Madden NFL 24",
          "chatting",
          "Fall Guys",
          "FIFA 23-24 & EA Sports FC 24",
          "Counter Strike2",
          "Grand Theft Auto V",
          "ROBLOX",
          "Destiny ",
          "PlayerUnknown's Battlegrounds\n",
          "Mortal Kombat 1",
          "starfield",
          "COD: Black Ops Coldwar",
          "Halo Infinite",
          "The Texas Chain Saw Massacre",
          "Elden Ring",
          "Farlight84",
          "THE FINALS",
          "Mobile Legend",
          "Party Animals",
          "Among Us",
          "Naraka",
          "Lies of P",
          "Phasmophobia",
          "My Hero Ultra Rumble",
          "Street Fighter",
          "Game Detector",
          "COD: Mobile",
          "PAYDAY 3",
          "Rogue Company",
          "Marvel's Spider-Man 2",
          "Freefire",
          "COD: Vanguard",
          "SMITE",
          "Worlds of Tanks",
          "Remnant 2",
          "Team Fight Tatics",
          "Battlebit",
          "Honkai: Star Rail",
          "battlefield2042",
          "Call of Duty",
          "Fifa fc 2024",
          "SuperSmash Bros Ultimate",
          "Hearthstone",
          "MLB The Show 22&23",
          "Yu-Gi-Oh! Master Duel"
         ],
         "yaxis": "y"
        },
        {
         "alignmentgroup": "True",
         "hovertemplate": "User Type=premium<br>Percent of Total GameSessions=%{text}<br>Game=%{y}<extra></extra>",
         "legendgroup": "premium",
         "marker": {
          "color": "#EF553B",
          "pattern": {
           "shape": ""
          }
         },
         "name": "premium",
         "offsetgroup": "premium",
         "orientation": "h",
         "showlegend": true,
         "text": [
          34.71,
          25.11,
          7.68,
          6.48,
          5.07,
          4.2,
          2.47,
          2.33,
          2.33,
          1.18,
          1,
          0.97,
          0.87,
          0.66,
          0.64,
          0.38,
          0.34,
          0.3,
          0.28,
          0.24,
          0.24,
          0.23,
          0.22,
          0.19,
          0.19,
          0.17,
          0.17,
          0.14,
          0.12,
          0.12,
          0.12,
          0.09,
          0.08,
          0.08,
          0.07,
          0.07,
          0.06,
          0.06,
          0.04,
          0.04,
          0.03,
          0.03,
          0.02,
          0.02,
          0.02,
          0.02,
          0.01,
          0.01,
          0.01,
          0.01,
          0.01,
          0.01,
          0.01
         ],
         "textposition": "outside",
         "type": "bar",
         "x": [
          34.71,
          25.11,
          7.68,
          6.48,
          5.07,
          4.2,
          2.47,
          2.33,
          2.33,
          1.18,
          1,
          0.97,
          0.87,
          0.66,
          0.64,
          0.38,
          0.34,
          0.3,
          0.28,
          0.24,
          0.24,
          0.23,
          0.22,
          0.19,
          0.19,
          0.17,
          0.17,
          0.14,
          0.12,
          0.12,
          0.12,
          0.09,
          0.08,
          0.08,
          0.07,
          0.07,
          0.06,
          0.06,
          0.04,
          0.04,
          0.03,
          0.03,
          0.02,
          0.02,
          0.02,
          0.02,
          0.01,
          0.01,
          0.01,
          0.01,
          0.01,
          0.01,
          0.01
         ],
         "xaxis": "x",
         "y": [
          "Other Games",
          "COD: Warzone3-2 & MW3-2",
          "Fortnite",
          "Apex Legends",
          "Valorant",
          "League of Legends",
          "Rocket League",
          "Overwatch 2",
          "Tom Clancy's Rainbow Six: Siege",
          "chatting",
          "Dead by Daylight",
          "FIFA 23-24 & EA Sports FC 24",
          "Counter Strike2",
          "Halo Infinite",
          "NBA: 2K24",
          "Farlight84",
          "Grand Theft Auto V",
          "Fall Guys",
          "Party Animals",
          "The Texas Chain Saw Massacre",
          "Podcast",
          "Madden NFL 24",
          "Phasmophobia",
          "Mobile Legend",
          "starfield",
          "Honkai: Star Rail",
          "THE FINALS",
          "Destiny ",
          "Game Detector",
          "Elden Ring",
          "Lies of P",
          "ROBLOX",
          "Naraka",
          "SMITE",
          "Forza Motorsport",
          "My Hero Ultra Rumble",
          "Hearthstone",
          "PlayerUnknown's Battlegrounds\n",
          "Among Us",
          "Team Fight Tatics",
          "Remnant 2",
          "Mortal Kombat 1",
          "Fifa fc 2024",
          "Marvel's Spider-Man 2",
          "NHL 23",
          "SuperSmash Bros Ultimate",
          "MLB The Show 22&23",
          "Freefire",
          "Rogue Company",
          "COD: Mobile",
          "COD: Vanguard",
          "Street Fighter",
          "COD: Black Ops Coldwar"
         ],
         "yaxis": "y"
        }
       ],
       "layout": {
        "barmode": "group",
        "height": 800,
        "legend": {
         "title": {
          "text": "User Type"
         },
         "tracegroupgap": 0
        },
        "margin": {
         "l": 150,
         "t": 80
        },
        "template": {
         "data": {
          "bar": [
           {
            "error_x": {
             "color": "#2a3f5f"
            },
            "error_y": {
             "color": "#2a3f5f"
            },
            "marker": {
             "line": {
              "color": "#E5ECF6",
              "width": 0.5
             },
             "pattern": {
              "fillmode": "overlay",
              "size": 10,
              "solidity": 0.2
             }
            },
            "type": "bar"
           }
          ],
          "barpolar": [
           {
            "marker": {
             "line": {
              "color": "#E5ECF6",
              "width": 0.5
             },
             "pattern": {
              "fillmode": "overlay",
              "size": 10,
              "solidity": 0.2
             }
            },
            "type": "barpolar"
           }
          ],
          "carpet": [
           {
            "aaxis": {
             "endlinecolor": "#2a3f5f",
             "gridcolor": "white",
             "linecolor": "white",
             "minorgridcolor": "white",
             "startlinecolor": "#2a3f5f"
            },
            "baxis": {
             "endlinecolor": "#2a3f5f",
             "gridcolor": "white",
             "linecolor": "white",
             "minorgridcolor": "white",
             "startlinecolor": "#2a3f5f"
            },
            "type": "carpet"
           }
          ],
          "choropleth": [
           {
            "colorbar": {
             "outlinewidth": 0,
             "ticks": ""
            },
            "type": "choropleth"
           }
          ],
          "contour": [
           {
            "colorbar": {
             "outlinewidth": 0,
             "ticks": ""
            },
            "colorscale": [
             [
              0,
              "#0d0887"
             ],
             [
              0.1111111111111111,
              "#46039f"
             ],
             [
              0.2222222222222222,
              "#7201a8"
             ],
             [
              0.3333333333333333,
              "#9c179e"
             ],
             [
              0.4444444444444444,
              "#bd3786"
             ],
             [
              0.5555555555555556,
              "#d8576b"
             ],
             [
              0.6666666666666666,
              "#ed7953"
             ],
             [
              0.7777777777777778,
              "#fb9f3a"
             ],
             [
              0.8888888888888888,
              "#fdca26"
             ],
             [
              1,
              "#f0f921"
             ]
            ],
            "type": "contour"
           }
          ],
          "contourcarpet": [
           {
            "colorbar": {
             "outlinewidth": 0,
             "ticks": ""
            },
            "type": "contourcarpet"
           }
          ],
          "heatmap": [
           {
            "colorbar": {
             "outlinewidth": 0,
             "ticks": ""
            },
            "colorscale": [
             [
              0,
              "#0d0887"
             ],
             [
              0.1111111111111111,
              "#46039f"
             ],
             [
              0.2222222222222222,
              "#7201a8"
             ],
             [
              0.3333333333333333,
              "#9c179e"
             ],
             [
              0.4444444444444444,
              "#bd3786"
             ],
             [
              0.5555555555555556,
              "#d8576b"
             ],
             [
              0.6666666666666666,
              "#ed7953"
             ],
             [
              0.7777777777777778,
              "#fb9f3a"
             ],
             [
              0.8888888888888888,
              "#fdca26"
             ],
             [
              1,
              "#f0f921"
             ]
            ],
            "type": "heatmap"
           }
          ],
          "heatmapgl": [
           {
            "colorbar": {
             "outlinewidth": 0,
             "ticks": ""
            },
            "colorscale": [
             [
              0,
              "#0d0887"
             ],
             [
              0.1111111111111111,
              "#46039f"
             ],
             [
              0.2222222222222222,
              "#7201a8"
             ],
             [
              0.3333333333333333,
              "#9c179e"
             ],
             [
              0.4444444444444444,
              "#bd3786"
             ],
             [
              0.5555555555555556,
              "#d8576b"
             ],
             [
              0.6666666666666666,
              "#ed7953"
             ],
             [
              0.7777777777777778,
              "#fb9f3a"
             ],
             [
              0.8888888888888888,
              "#fdca26"
             ],
             [
              1,
              "#f0f921"
             ]
            ],
            "type": "heatmapgl"
           }
          ],
          "histogram": [
           {
            "marker": {
             "pattern": {
              "fillmode": "overlay",
              "size": 10,
              "solidity": 0.2
             }
            },
            "type": "histogram"
           }
          ],
          "histogram2d": [
           {
            "colorbar": {
             "outlinewidth": 0,
             "ticks": ""
            },
            "colorscale": [
             [
              0,
              "#0d0887"
             ],
             [
              0.1111111111111111,
              "#46039f"
             ],
             [
              0.2222222222222222,
              "#7201a8"
             ],
             [
              0.3333333333333333,
              "#9c179e"
             ],
             [
              0.4444444444444444,
              "#bd3786"
             ],
             [
              0.5555555555555556,
              "#d8576b"
             ],
             [
              0.6666666666666666,
              "#ed7953"
             ],
             [
              0.7777777777777778,
              "#fb9f3a"
             ],
             [
              0.8888888888888888,
              "#fdca26"
             ],
             [
              1,
              "#f0f921"
             ]
            ],
            "type": "histogram2d"
           }
          ],
          "histogram2dcontour": [
           {
            "colorbar": {
             "outlinewidth": 0,
             "ticks": ""
            },
            "colorscale": [
             [
              0,
              "#0d0887"
             ],
             [
              0.1111111111111111,
              "#46039f"
             ],
             [
              0.2222222222222222,
              "#7201a8"
             ],
             [
              0.3333333333333333,
              "#9c179e"
             ],
             [
              0.4444444444444444,
              "#bd3786"
             ],
             [
              0.5555555555555556,
              "#d8576b"
             ],
             [
              0.6666666666666666,
              "#ed7953"
             ],
             [
              0.7777777777777778,
              "#fb9f3a"
             ],
             [
              0.8888888888888888,
              "#fdca26"
             ],
             [
              1,
              "#f0f921"
             ]
            ],
            "type": "histogram2dcontour"
           }
          ],
          "mesh3d": [
           {
            "colorbar": {
             "outlinewidth": 0,
             "ticks": ""
            },
            "type": "mesh3d"
           }
          ],
          "parcoords": [
           {
            "line": {
             "colorbar": {
              "outlinewidth": 0,
              "ticks": ""
             }
            },
            "type": "parcoords"
           }
          ],
          "pie": [
           {
            "automargin": true,
            "type": "pie"
           }
          ],
          "scatter": [
           {
            "fillpattern": {
             "fillmode": "overlay",
             "size": 10,
             "solidity": 0.2
            },
            "type": "scatter"
           }
          ],
          "scatter3d": [
           {
            "line": {
             "colorbar": {
              "outlinewidth": 0,
              "ticks": ""
             }
            },
            "marker": {
             "colorbar": {
              "outlinewidth": 0,
              "ticks": ""
             }
            },
            "type": "scatter3d"
           }
          ],
          "scattercarpet": [
           {
            "marker": {
             "colorbar": {
              "outlinewidth": 0,
              "ticks": ""
             }
            },
            "type": "scattercarpet"
           }
          ],
          "scattergeo": [
           {
            "marker": {
             "colorbar": {
              "outlinewidth": 0,
              "ticks": ""
             }
            },
            "type": "scattergeo"
           }
          ],
          "scattergl": [
           {
            "marker": {
             "colorbar": {
              "outlinewidth": 0,
              "ticks": ""
             }
            },
            "type": "scattergl"
           }
          ],
          "scattermapbox": [
           {
            "marker": {
             "colorbar": {
              "outlinewidth": 0,
              "ticks": ""
             }
            },
            "type": "scattermapbox"
           }
          ],
          "scatterpolar": [
           {
            "marker": {
             "colorbar": {
              "outlinewidth": 0,
              "ticks": ""
             }
            },
            "type": "scatterpolar"
           }
          ],
          "scatterpolargl": [
           {
            "marker": {
             "colorbar": {
              "outlinewidth": 0,
              "ticks": ""
             }
            },
            "type": "scatterpolargl"
           }
          ],
          "scatterternary": [
           {
            "marker": {
             "colorbar": {
              "outlinewidth": 0,
              "ticks": ""
             }
            },
            "type": "scatterternary"
           }
          ],
          "surface": [
           {
            "colorbar": {
             "outlinewidth": 0,
             "ticks": ""
            },
            "colorscale": [
             [
              0,
              "#0d0887"
             ],
             [
              0.1111111111111111,
              "#46039f"
             ],
             [
              0.2222222222222222,
              "#7201a8"
             ],
             [
              0.3333333333333333,
              "#9c179e"
             ],
             [
              0.4444444444444444,
              "#bd3786"
             ],
             [
              0.5555555555555556,
              "#d8576b"
             ],
             [
              0.6666666666666666,
              "#ed7953"
             ],
             [
              0.7777777777777778,
              "#fb9f3a"
             ],
             [
              0.8888888888888888,
              "#fdca26"
             ],
             [
              1,
              "#f0f921"
             ]
            ],
            "type": "surface"
           }
          ],
          "table": [
           {
            "cells": {
             "fill": {
              "color": "#EBF0F8"
             },
             "line": {
              "color": "white"
             }
            },
            "header": {
             "fill": {
              "color": "#C8D4E3"
             },
             "line": {
              "color": "white"
             }
            },
            "type": "table"
           }
          ]
         },
         "layout": {
          "annotationdefaults": {
           "arrowcolor": "#2a3f5f",
           "arrowhead": 0,
           "arrowwidth": 1
          },
          "autotypenumbers": "strict",
          "coloraxis": {
           "colorbar": {
            "outlinewidth": 0,
            "ticks": ""
           }
          },
          "colorscale": {
           "diverging": [
            [
             0,
             "#8e0152"
            ],
            [
             0.1,
             "#c51b7d"
            ],
            [
             0.2,
             "#de77ae"
            ],
            [
             0.3,
             "#f1b6da"
            ],
            [
             0.4,
             "#fde0ef"
            ],
            [
             0.5,
             "#f7f7f7"
            ],
            [
             0.6,
             "#e6f5d0"
            ],
            [
             0.7,
             "#b8e186"
            ],
            [
             0.8,
             "#7fbc41"
            ],
            [
             0.9,
             "#4d9221"
            ],
            [
             1,
             "#276419"
            ]
           ],
           "sequential": [
            [
             0,
             "#0d0887"
            ],
            [
             0.1111111111111111,
             "#46039f"
            ],
            [
             0.2222222222222222,
             "#7201a8"
            ],
            [
             0.3333333333333333,
             "#9c179e"
            ],
            [
             0.4444444444444444,
             "#bd3786"
            ],
            [
             0.5555555555555556,
             "#d8576b"
            ],
            [
             0.6666666666666666,
             "#ed7953"
            ],
            [
             0.7777777777777778,
             "#fb9f3a"
            ],
            [
             0.8888888888888888,
             "#fdca26"
            ],
            [
             1,
             "#f0f921"
            ]
           ],
           "sequentialminus": [
            [
             0,
             "#0d0887"
            ],
            [
             0.1111111111111111,
             "#46039f"
            ],
            [
             0.2222222222222222,
             "#7201a8"
            ],
            [
             0.3333333333333333,
             "#9c179e"
            ],
            [
             0.4444444444444444,
             "#bd3786"
            ],
            [
             0.5555555555555556,
             "#d8576b"
            ],
            [
             0.6666666666666666,
             "#ed7953"
            ],
            [
             0.7777777777777778,
             "#fb9f3a"
            ],
            [
             0.8888888888888888,
             "#fdca26"
            ],
            [
             1,
             "#f0f921"
            ]
           ]
          },
          "colorway": [
           "#636efa",
           "#EF553B",
           "#00cc96",
           "#ab63fa",
           "#FFA15A",
           "#19d3f3",
           "#FF6692",
           "#B6E880",
           "#FF97FF",
           "#FECB52"
          ],
          "font": {
           "color": "#2a3f5f"
          },
          "geo": {
           "bgcolor": "white",
           "lakecolor": "white",
           "landcolor": "#E5ECF6",
           "showlakes": true,
           "showland": true,
           "subunitcolor": "white"
          },
          "hoverlabel": {
           "align": "left"
          },
          "hovermode": "closest",
          "mapbox": {
           "style": "light"
          },
          "paper_bgcolor": "white",
          "plot_bgcolor": "#E5ECF6",
          "polar": {
           "angularaxis": {
            "gridcolor": "white",
            "linecolor": "white",
            "ticks": ""
           },
           "bgcolor": "#E5ECF6",
           "radialaxis": {
            "gridcolor": "white",
            "linecolor": "white",
            "ticks": ""
           }
          },
          "scene": {
           "xaxis": {
            "backgroundcolor": "#E5ECF6",
            "gridcolor": "white",
            "gridwidth": 2,
            "linecolor": "white",
            "showbackground": true,
            "ticks": "",
            "zerolinecolor": "white"
           },
           "yaxis": {
            "backgroundcolor": "#E5ECF6",
            "gridcolor": "white",
            "gridwidth": 2,
            "linecolor": "white",
            "showbackground": true,
            "ticks": "",
            "zerolinecolor": "white"
           },
           "zaxis": {
            "backgroundcolor": "#E5ECF6",
            "gridcolor": "white",
            "gridwidth": 2,
            "linecolor": "white",
            "showbackground": true,
            "ticks": "",
            "zerolinecolor": "white"
           }
          },
          "shapedefaults": {
           "line": {
            "color": "#2a3f5f"
           }
          },
          "ternary": {
           "aaxis": {
            "gridcolor": "white",
            "linecolor": "white",
            "ticks": ""
           },
           "baxis": {
            "gridcolor": "white",
            "linecolor": "white",
            "ticks": ""
           },
           "bgcolor": "#E5ECF6",
           "caxis": {
            "gridcolor": "white",
            "linecolor": "white",
            "ticks": ""
           }
          },
          "title": {
           "x": 0.05
          },
          "xaxis": {
           "automargin": true,
           "gridcolor": "white",
           "linecolor": "white",
           "ticks": "",
           "title": {
            "standoff": 15
           },
           "zerolinecolor": "white",
           "zerolinewidth": 2
          },
          "yaxis": {
           "automargin": true,
           "gridcolor": "white",
           "linecolor": "white",
           "ticks": "",
           "title": {
            "standoff": 15
           },
           "zerolinecolor": "white",
           "zerolinewidth": 2
          }
         }
        },
        "title": {
         "text": "Percent of Total GameSessions per Game (Free vs Premium) - Horizontal"
        },
        "width": 1000,
        "xaxis": {
         "anchor": "y",
         "domain": [
          0,
          1
         ],
         "title": {
          "text": "Percent of Total GameSessions"
         }
        },
        "yaxis": {
         "anchor": "x",
         "categoryorder": "total ascending",
         "domain": [
          0,
          1
         ],
         "title": {
          "text": "Game"
         }
        }
       }
      }
     },
     "metadata": {},
     "output_type": "display_data"
    },
    {
     "data": {
      "application/vnd.plotly.v1+json": {
       "config": {
        "plotlyServerURL": "https://plot.ly"
       },
       "data": [
        {
         "alignmentgroup": "True",
         "hovertemplate": "User Type=free<br>Percent of Total Users=%{text}<br>Game=%{y}<extra></extra>",
         "legendgroup": "free",
         "marker": {
          "color": "#636efa",
          "pattern": {
           "shape": ""
          }
         },
         "name": "free",
         "offsetgroup": "free",
         "orientation": "h",
         "showlegend": true,
         "text": [
          32.11,
          14.14,
          11.6,
          5.58,
          4.36,
          8.05,
          2.5,
          1.74,
          2.09,
          1.78,
          1.57,
          1.5,
          0.95,
          1.6,
          1.16,
          0.75,
          1.01,
          0.78,
          0.78,
          0.55,
          0.27,
          0.4,
          0.29,
          0.37,
          0.27,
          0.33,
          0.26,
          0.26,
          0.23,
          0.04,
          0.26,
          0.29,
          0.17,
          0.17,
          0.22,
          0.1,
          0.1,
          0.14,
          0.12,
          0.1,
          0.1,
          0.09,
          0.06,
          0.04,
          0.06,
          0.03,
          0.07,
          0.03,
          0.01,
          0.04,
          0.01,
          0.03,
          0.04,
          0.01,
          0.01,
          0.01,
          0.01
         ],
         "textposition": "outside",
         "type": "bar",
         "x": [
          32.11,
          14.14,
          11.6,
          5.58,
          4.36,
          8.05,
          2.5,
          1.74,
          2.09,
          1.78,
          1.57,
          1.5,
          0.95,
          1.6,
          1.16,
          0.75,
          1.01,
          0.78,
          0.78,
          0.55,
          0.27,
          0.4,
          0.29,
          0.37,
          0.27,
          0.33,
          0.26,
          0.26,
          0.23,
          0.04,
          0.26,
          0.29,
          0.17,
          0.17,
          0.22,
          0.1,
          0.1,
          0.14,
          0.12,
          0.1,
          0.1,
          0.09,
          0.06,
          0.04,
          0.06,
          0.03,
          0.07,
          0.03,
          0.01,
          0.04,
          0.01,
          0.03,
          0.04,
          0.01,
          0.01,
          0.01,
          0.01
         ],
         "xaxis": "x",
         "y": [
          "Other Games",
          "COD: Warzone3-2 & MW3-2",
          "Fortnite",
          "Valorant",
          "Apex Legends",
          "Podcast",
          "Overwatch 2",
          "League of Legends",
          "Tom Clancy's Rainbow Six: Siege",
          "NBA: 2K24",
          "Rocket League",
          "Dead by Daylight",
          "Madden NFL 24",
          "chatting",
          "Fall Guys",
          "FIFA 23-24 & EA Sports FC 24",
          "Counter Strike2",
          "Grand Theft Auto V",
          "ROBLOX",
          "Destiny ",
          "PlayerUnknown's Battlegrounds\n",
          "Mortal Kombat 1",
          "starfield",
          "COD: Black Ops Coldwar",
          "Halo Infinite",
          "The Texas Chain Saw Massacre",
          "Elden Ring",
          "Farlight84",
          "THE FINALS",
          "Mobile Legend",
          "Party Animals",
          "Among Us",
          "Naraka",
          "Lies of P",
          "Phasmophobia",
          "My Hero Ultra Rumble",
          "Street Fighter",
          "Game Detector",
          "COD: Mobile",
          "PAYDAY 3",
          "Rogue Company",
          "Marvel's Spider-Man 2",
          "Freefire",
          "COD: Vanguard",
          "SMITE",
          "Worlds of Tanks",
          "Remnant 2",
          "Team Fight Tatics",
          "Battlebit",
          "Honkai: Star Rail",
          "battlefield2042",
          "Call of Duty",
          "Fifa fc 2024",
          "SuperSmash Bros Ultimate",
          "Hearthstone",
          "MLB The Show 22&23",
          "Yu-Gi-Oh! Master Duel"
         ],
         "yaxis": "y"
        },
        {
         "alignmentgroup": "True",
         "hovertemplate": "User Type=premium<br>Percent of Total Users=%{text}<br>Game=%{y}<extra></extra>",
         "legendgroup": "premium",
         "marker": {
          "color": "#EF553B",
          "pattern": {
           "shape": ""
          }
         },
         "name": "premium",
         "offsetgroup": "premium",
         "orientation": "h",
         "showlegend": true,
         "text": [
          29.74,
          13.47,
          10.42,
          4.92,
          4.68,
          2.46,
          1.52,
          2.81,
          1.99,
          3.16,
          2.34,
          0.82,
          1.29,
          1.05,
          1.17,
          1.05,
          0.82,
          1.52,
          1.29,
          0.7,
          1.05,
          0.7,
          1.05,
          0.12,
          0.82,
          0.47,
          0.94,
          0.59,
          1.05,
          0.35,
          0.35,
          0.59,
          0.23,
          0.23,
          0.47,
          0.23,
          0.23,
          0.35,
          0.47,
          0.35,
          0.23,
          0.12,
          0.12,
          0.23,
          0.12,
          0.12,
          0.12,
          0.12,
          0.12,
          0.12,
          0.12,
          0.12,
          0.12
         ],
         "textposition": "outside",
         "type": "bar",
         "x": [
          29.74,
          13.47,
          10.42,
          4.92,
          4.68,
          2.46,
          1.52,
          2.81,
          1.99,
          3.16,
          2.34,
          0.82,
          1.29,
          1.05,
          1.17,
          1.05,
          0.82,
          1.52,
          1.29,
          0.7,
          1.05,
          0.7,
          1.05,
          0.12,
          0.82,
          0.47,
          0.94,
          0.59,
          1.05,
          0.35,
          0.35,
          0.59,
          0.23,
          0.23,
          0.47,
          0.23,
          0.23,
          0.35,
          0.47,
          0.35,
          0.23,
          0.12,
          0.12,
          0.23,
          0.12,
          0.12,
          0.12,
          0.12,
          0.12,
          0.12,
          0.12,
          0.12,
          0.12
         ],
         "xaxis": "x",
         "y": [
          "Other Games",
          "COD: Warzone3-2 & MW3-2",
          "Fortnite",
          "Apex Legends",
          "Valorant",
          "League of Legends",
          "Rocket League",
          "Overwatch 2",
          "Tom Clancy's Rainbow Six: Siege",
          "chatting",
          "Dead by Daylight",
          "FIFA 23-24 & EA Sports FC 24",
          "Counter Strike2",
          "Halo Infinite",
          "NBA: 2K24",
          "Farlight84",
          "Grand Theft Auto V",
          "Fall Guys",
          "Party Animals",
          "The Texas Chain Saw Massacre",
          "Podcast",
          "Madden NFL 24",
          "Phasmophobia",
          "Mobile Legend",
          "starfield",
          "Honkai: Star Rail",
          "THE FINALS",
          "Destiny ",
          "Game Detector",
          "Elden Ring",
          "Lies of P",
          "ROBLOX",
          "Naraka",
          "SMITE",
          "Forza Motorsport",
          "My Hero Ultra Rumble",
          "Hearthstone",
          "PlayerUnknown's Battlegrounds\n",
          "Among Us",
          "Team Fight Tatics",
          "Remnant 2",
          "Mortal Kombat 1",
          "Fifa fc 2024",
          "Marvel's Spider-Man 2",
          "NHL 23",
          "SuperSmash Bros Ultimate",
          "MLB The Show 22&23",
          "Freefire",
          "Rogue Company",
          "COD: Mobile",
          "COD: Vanguard",
          "Street Fighter",
          "COD: Black Ops Coldwar"
         ],
         "yaxis": "y"
        }
       ],
       "layout": {
        "barmode": "group",
        "height": 800,
        "legend": {
         "title": {
          "text": "User Type"
         },
         "tracegroupgap": 0
        },
        "margin": {
         "l": 150,
         "t": 80
        },
        "template": {
         "data": {
          "bar": [
           {
            "error_x": {
             "color": "#2a3f5f"
            },
            "error_y": {
             "color": "#2a3f5f"
            },
            "marker": {
             "line": {
              "color": "#E5ECF6",
              "width": 0.5
             },
             "pattern": {
              "fillmode": "overlay",
              "size": 10,
              "solidity": 0.2
             }
            },
            "type": "bar"
           }
          ],
          "barpolar": [
           {
            "marker": {
             "line": {
              "color": "#E5ECF6",
              "width": 0.5
             },
             "pattern": {
              "fillmode": "overlay",
              "size": 10,
              "solidity": 0.2
             }
            },
            "type": "barpolar"
           }
          ],
          "carpet": [
           {
            "aaxis": {
             "endlinecolor": "#2a3f5f",
             "gridcolor": "white",
             "linecolor": "white",
             "minorgridcolor": "white",
             "startlinecolor": "#2a3f5f"
            },
            "baxis": {
             "endlinecolor": "#2a3f5f",
             "gridcolor": "white",
             "linecolor": "white",
             "minorgridcolor": "white",
             "startlinecolor": "#2a3f5f"
            },
            "type": "carpet"
           }
          ],
          "choropleth": [
           {
            "colorbar": {
             "outlinewidth": 0,
             "ticks": ""
            },
            "type": "choropleth"
           }
          ],
          "contour": [
           {
            "colorbar": {
             "outlinewidth": 0,
             "ticks": ""
            },
            "colorscale": [
             [
              0,
              "#0d0887"
             ],
             [
              0.1111111111111111,
              "#46039f"
             ],
             [
              0.2222222222222222,
              "#7201a8"
             ],
             [
              0.3333333333333333,
              "#9c179e"
             ],
             [
              0.4444444444444444,
              "#bd3786"
             ],
             [
              0.5555555555555556,
              "#d8576b"
             ],
             [
              0.6666666666666666,
              "#ed7953"
             ],
             [
              0.7777777777777778,
              "#fb9f3a"
             ],
             [
              0.8888888888888888,
              "#fdca26"
             ],
             [
              1,
              "#f0f921"
             ]
            ],
            "type": "contour"
           }
          ],
          "contourcarpet": [
           {
            "colorbar": {
             "outlinewidth": 0,
             "ticks": ""
            },
            "type": "contourcarpet"
           }
          ],
          "heatmap": [
           {
            "colorbar": {
             "outlinewidth": 0,
             "ticks": ""
            },
            "colorscale": [
             [
              0,
              "#0d0887"
             ],
             [
              0.1111111111111111,
              "#46039f"
             ],
             [
              0.2222222222222222,
              "#7201a8"
             ],
             [
              0.3333333333333333,
              "#9c179e"
             ],
             [
              0.4444444444444444,
              "#bd3786"
             ],
             [
              0.5555555555555556,
              "#d8576b"
             ],
             [
              0.6666666666666666,
              "#ed7953"
             ],
             [
              0.7777777777777778,
              "#fb9f3a"
             ],
             [
              0.8888888888888888,
              "#fdca26"
             ],
             [
              1,
              "#f0f921"
             ]
            ],
            "type": "heatmap"
           }
          ],
          "heatmapgl": [
           {
            "colorbar": {
             "outlinewidth": 0,
             "ticks": ""
            },
            "colorscale": [
             [
              0,
              "#0d0887"
             ],
             [
              0.1111111111111111,
              "#46039f"
             ],
             [
              0.2222222222222222,
              "#7201a8"
             ],
             [
              0.3333333333333333,
              "#9c179e"
             ],
             [
              0.4444444444444444,
              "#bd3786"
             ],
             [
              0.5555555555555556,
              "#d8576b"
             ],
             [
              0.6666666666666666,
              "#ed7953"
             ],
             [
              0.7777777777777778,
              "#fb9f3a"
             ],
             [
              0.8888888888888888,
              "#fdca26"
             ],
             [
              1,
              "#f0f921"
             ]
            ],
            "type": "heatmapgl"
           }
          ],
          "histogram": [
           {
            "marker": {
             "pattern": {
              "fillmode": "overlay",
              "size": 10,
              "solidity": 0.2
             }
            },
            "type": "histogram"
           }
          ],
          "histogram2d": [
           {
            "colorbar": {
             "outlinewidth": 0,
             "ticks": ""
            },
            "colorscale": [
             [
              0,
              "#0d0887"
             ],
             [
              0.1111111111111111,
              "#46039f"
             ],
             [
              0.2222222222222222,
              "#7201a8"
             ],
             [
              0.3333333333333333,
              "#9c179e"
             ],
             [
              0.4444444444444444,
              "#bd3786"
             ],
             [
              0.5555555555555556,
              "#d8576b"
             ],
             [
              0.6666666666666666,
              "#ed7953"
             ],
             [
              0.7777777777777778,
              "#fb9f3a"
             ],
             [
              0.8888888888888888,
              "#fdca26"
             ],
             [
              1,
              "#f0f921"
             ]
            ],
            "type": "histogram2d"
           }
          ],
          "histogram2dcontour": [
           {
            "colorbar": {
             "outlinewidth": 0,
             "ticks": ""
            },
            "colorscale": [
             [
              0,
              "#0d0887"
             ],
             [
              0.1111111111111111,
              "#46039f"
             ],
             [
              0.2222222222222222,
              "#7201a8"
             ],
             [
              0.3333333333333333,
              "#9c179e"
             ],
             [
              0.4444444444444444,
              "#bd3786"
             ],
             [
              0.5555555555555556,
              "#d8576b"
             ],
             [
              0.6666666666666666,
              "#ed7953"
             ],
             [
              0.7777777777777778,
              "#fb9f3a"
             ],
             [
              0.8888888888888888,
              "#fdca26"
             ],
             [
              1,
              "#f0f921"
             ]
            ],
            "type": "histogram2dcontour"
           }
          ],
          "mesh3d": [
           {
            "colorbar": {
             "outlinewidth": 0,
             "ticks": ""
            },
            "type": "mesh3d"
           }
          ],
          "parcoords": [
           {
            "line": {
             "colorbar": {
              "outlinewidth": 0,
              "ticks": ""
             }
            },
            "type": "parcoords"
           }
          ],
          "pie": [
           {
            "automargin": true,
            "type": "pie"
           }
          ],
          "scatter": [
           {
            "fillpattern": {
             "fillmode": "overlay",
             "size": 10,
             "solidity": 0.2
            },
            "type": "scatter"
           }
          ],
          "scatter3d": [
           {
            "line": {
             "colorbar": {
              "outlinewidth": 0,
              "ticks": ""
             }
            },
            "marker": {
             "colorbar": {
              "outlinewidth": 0,
              "ticks": ""
             }
            },
            "type": "scatter3d"
           }
          ],
          "scattercarpet": [
           {
            "marker": {
             "colorbar": {
              "outlinewidth": 0,
              "ticks": ""
             }
            },
            "type": "scattercarpet"
           }
          ],
          "scattergeo": [
           {
            "marker": {
             "colorbar": {
              "outlinewidth": 0,
              "ticks": ""
             }
            },
            "type": "scattergeo"
           }
          ],
          "scattergl": [
           {
            "marker": {
             "colorbar": {
              "outlinewidth": 0,
              "ticks": ""
             }
            },
            "type": "scattergl"
           }
          ],
          "scattermapbox": [
           {
            "marker": {
             "colorbar": {
              "outlinewidth": 0,
              "ticks": ""
             }
            },
            "type": "scattermapbox"
           }
          ],
          "scatterpolar": [
           {
            "marker": {
             "colorbar": {
              "outlinewidth": 0,
              "ticks": ""
             }
            },
            "type": "scatterpolar"
           }
          ],
          "scatterpolargl": [
           {
            "marker": {
             "colorbar": {
              "outlinewidth": 0,
              "ticks": ""
             }
            },
            "type": "scatterpolargl"
           }
          ],
          "scatterternary": [
           {
            "marker": {
             "colorbar": {
              "outlinewidth": 0,
              "ticks": ""
             }
            },
            "type": "scatterternary"
           }
          ],
          "surface": [
           {
            "colorbar": {
             "outlinewidth": 0,
             "ticks": ""
            },
            "colorscale": [
             [
              0,
              "#0d0887"
             ],
             [
              0.1111111111111111,
              "#46039f"
             ],
             [
              0.2222222222222222,
              "#7201a8"
             ],
             [
              0.3333333333333333,
              "#9c179e"
             ],
             [
              0.4444444444444444,
              "#bd3786"
             ],
             [
              0.5555555555555556,
              "#d8576b"
             ],
             [
              0.6666666666666666,
              "#ed7953"
             ],
             [
              0.7777777777777778,
              "#fb9f3a"
             ],
             [
              0.8888888888888888,
              "#fdca26"
             ],
             [
              1,
              "#f0f921"
             ]
            ],
            "type": "surface"
           }
          ],
          "table": [
           {
            "cells": {
             "fill": {
              "color": "#EBF0F8"
             },
             "line": {
              "color": "white"
             }
            },
            "header": {
             "fill": {
              "color": "#C8D4E3"
             },
             "line": {
              "color": "white"
             }
            },
            "type": "table"
           }
          ]
         },
         "layout": {
          "annotationdefaults": {
           "arrowcolor": "#2a3f5f",
           "arrowhead": 0,
           "arrowwidth": 1
          },
          "autotypenumbers": "strict",
          "coloraxis": {
           "colorbar": {
            "outlinewidth": 0,
            "ticks": ""
           }
          },
          "colorscale": {
           "diverging": [
            [
             0,
             "#8e0152"
            ],
            [
             0.1,
             "#c51b7d"
            ],
            [
             0.2,
             "#de77ae"
            ],
            [
             0.3,
             "#f1b6da"
            ],
            [
             0.4,
             "#fde0ef"
            ],
            [
             0.5,
             "#f7f7f7"
            ],
            [
             0.6,
             "#e6f5d0"
            ],
            [
             0.7,
             "#b8e186"
            ],
            [
             0.8,
             "#7fbc41"
            ],
            [
             0.9,
             "#4d9221"
            ],
            [
             1,
             "#276419"
            ]
           ],
           "sequential": [
            [
             0,
             "#0d0887"
            ],
            [
             0.1111111111111111,
             "#46039f"
            ],
            [
             0.2222222222222222,
             "#7201a8"
            ],
            [
             0.3333333333333333,
             "#9c179e"
            ],
            [
             0.4444444444444444,
             "#bd3786"
            ],
            [
             0.5555555555555556,
             "#d8576b"
            ],
            [
             0.6666666666666666,
             "#ed7953"
            ],
            [
             0.7777777777777778,
             "#fb9f3a"
            ],
            [
             0.8888888888888888,
             "#fdca26"
            ],
            [
             1,
             "#f0f921"
            ]
           ],
           "sequentialminus": [
            [
             0,
             "#0d0887"
            ],
            [
             0.1111111111111111,
             "#46039f"
            ],
            [
             0.2222222222222222,
             "#7201a8"
            ],
            [
             0.3333333333333333,
             "#9c179e"
            ],
            [
             0.4444444444444444,
             "#bd3786"
            ],
            [
             0.5555555555555556,
             "#d8576b"
            ],
            [
             0.6666666666666666,
             "#ed7953"
            ],
            [
             0.7777777777777778,
             "#fb9f3a"
            ],
            [
             0.8888888888888888,
             "#fdca26"
            ],
            [
             1,
             "#f0f921"
            ]
           ]
          },
          "colorway": [
           "#636efa",
           "#EF553B",
           "#00cc96",
           "#ab63fa",
           "#FFA15A",
           "#19d3f3",
           "#FF6692",
           "#B6E880",
           "#FF97FF",
           "#FECB52"
          ],
          "font": {
           "color": "#2a3f5f"
          },
          "geo": {
           "bgcolor": "white",
           "lakecolor": "white",
           "landcolor": "#E5ECF6",
           "showlakes": true,
           "showland": true,
           "subunitcolor": "white"
          },
          "hoverlabel": {
           "align": "left"
          },
          "hovermode": "closest",
          "mapbox": {
           "style": "light"
          },
          "paper_bgcolor": "white",
          "plot_bgcolor": "#E5ECF6",
          "polar": {
           "angularaxis": {
            "gridcolor": "white",
            "linecolor": "white",
            "ticks": ""
           },
           "bgcolor": "#E5ECF6",
           "radialaxis": {
            "gridcolor": "white",
            "linecolor": "white",
            "ticks": ""
           }
          },
          "scene": {
           "xaxis": {
            "backgroundcolor": "#E5ECF6",
            "gridcolor": "white",
            "gridwidth": 2,
            "linecolor": "white",
            "showbackground": true,
            "ticks": "",
            "zerolinecolor": "white"
           },
           "yaxis": {
            "backgroundcolor": "#E5ECF6",
            "gridcolor": "white",
            "gridwidth": 2,
            "linecolor": "white",
            "showbackground": true,
            "ticks": "",
            "zerolinecolor": "white"
           },
           "zaxis": {
            "backgroundcolor": "#E5ECF6",
            "gridcolor": "white",
            "gridwidth": 2,
            "linecolor": "white",
            "showbackground": true,
            "ticks": "",
            "zerolinecolor": "white"
           }
          },
          "shapedefaults": {
           "line": {
            "color": "#2a3f5f"
           }
          },
          "ternary": {
           "aaxis": {
            "gridcolor": "white",
            "linecolor": "white",
            "ticks": ""
           },
           "baxis": {
            "gridcolor": "white",
            "linecolor": "white",
            "ticks": ""
           },
           "bgcolor": "#E5ECF6",
           "caxis": {
            "gridcolor": "white",
            "linecolor": "white",
            "ticks": ""
           }
          },
          "title": {
           "x": 0.05
          },
          "xaxis": {
           "automargin": true,
           "gridcolor": "white",
           "linecolor": "white",
           "ticks": "",
           "title": {
            "standoff": 15
           },
           "zerolinecolor": "white",
           "zerolinewidth": 2
          },
          "yaxis": {
           "automargin": true,
           "gridcolor": "white",
           "linecolor": "white",
           "ticks": "",
           "title": {
            "standoff": 15
           },
           "zerolinecolor": "white",
           "zerolinewidth": 2
          }
         }
        },
        "title": {
         "text": "Percent of Total Users who Generated GameSessions per Game (Free vs Premium) - Horizontal"
        },
        "width": 1000,
        "xaxis": {
         "anchor": "y",
         "domain": [
          0,
          1
         ],
         "title": {
          "text": "Percent of Total Users"
         }
        },
        "yaxis": {
         "anchor": "x",
         "categoryorder": "total ascending",
         "domain": [
          0,
          1
         ],
         "title": {
          "text": "Game"
         }
        }
       }
      }
     },
     "metadata": {},
     "output_type": "display_data"
    },
    {
     "data": {
      "application/vnd.plotly.v1+json": {
       "config": {
        "plotlyServerURL": "https://plot.ly"
       },
       "data": [
        {
         "alignmentgroup": "True",
         "hovertemplate": "User Type=free<br>Duration=%{text}<br>Game=%{y}<extra></extra>",
         "legendgroup": "free",
         "marker": {
          "color": "#636efa",
          "pattern": {
           "shape": ""
          }
         },
         "name": "free",
         "offsetgroup": "free",
         "orientation": "h",
         "showlegend": true,
         "text": [
          7562694,
          6154490,
          6394120,
          8528200,
          7047973,
          1204439,
          8342839,
          8367272,
          6481222,
          5942747,
          6823920,
          8390947,
          4768078,
          6309653,
          6616098,
          6319336,
          8253342,
          5893887,
          4640071,
          7986663,
          7753104,
          5162270,
          7148266,
          4602532,
          9258472,
          5765297,
          8427152,
          7947142,
          7031355,
          7047642,
          5827964,
          9066080,
          7893852,
          6585158,
          5902350,
          6337500,
          8779706,
          5312496,
          4111667,
          7077000,
          6055250,
          4537000,
          6801500,
          8277600,
          9631000,
          8904000,
          7284333,
          10217000,
          5707628,
          8696000,
          8012500,
          5522667,
          5204667,
          9974000,
          5134000,
          17020000,
          939000
         ],
         "textposition": "outside",
         "type": "bar",
         "x": [
          7562694,
          6154490,
          6394120,
          8528200,
          7047973,
          1204439,
          8342839,
          8367272,
          6481222,
          5942747,
          6823920,
          8390947,
          4768078,
          6309653,
          6616098,
          6319336,
          8253342,
          5893887,
          4640071,
          7986663,
          7753104,
          5162270,
          7148266,
          4602532,
          9258472,
          5765297,
          8427152,
          7947142,
          7031355,
          7047642,
          5827964,
          9066080,
          7893852,
          6585158,
          5902350,
          6337500,
          8779706,
          5312496,
          4111667,
          7077000,
          6055250,
          4537000,
          6801500,
          8277600,
          9631000,
          8904000,
          7284333,
          10217000,
          5707628,
          8696000,
          8012500,
          5522667,
          5204667,
          9974000,
          5134000,
          17020000,
          939000
         ],
         "xaxis": "x",
         "y": [
          "Other Games",
          "COD: Warzone3-2 & MW3-2",
          "Fortnite",
          "Valorant",
          "Apex Legends",
          "Podcast",
          "Overwatch 2",
          "League of Legends",
          "Tom Clancy's Rainbow Six: Siege",
          "NBA: 2K24",
          "Rocket League",
          "Dead by Daylight",
          "Madden NFL 24",
          "chatting",
          "Fall Guys",
          "FIFA 23-24 & EA Sports FC 24",
          "Counter Strike2",
          "Grand Theft Auto V",
          "ROBLOX",
          "Destiny ",
          "PlayerUnknown's Battlegrounds\n",
          "Mortal Kombat 1",
          "starfield",
          "COD: Black Ops Coldwar",
          "Halo Infinite",
          "The Texas Chain Saw Massacre",
          "Elden Ring",
          "Farlight84",
          "THE FINALS",
          "Mobile Legend",
          "Party Animals",
          "Among Us",
          "Naraka",
          "Lies of P",
          "Phasmophobia",
          "My Hero Ultra Rumble",
          "Street Fighter",
          "Game Detector",
          "COD: Mobile",
          "PAYDAY 3",
          "Rogue Company",
          "Marvel's Spider-Man 2",
          "Freefire",
          "COD: Vanguard",
          "SMITE",
          "Worlds of Tanks",
          "Remnant 2",
          "Team Fight Tatics",
          "Battlebit",
          "Honkai: Star Rail",
          "battlefield2042",
          "Call of Duty",
          "Fifa fc 2024",
          "SuperSmash Bros Ultimate",
          "Hearthstone",
          "MLB The Show 22&23",
          "Yu-Gi-Oh! Master Duel"
         ],
         "yaxis": "y"
        },
        {
         "alignmentgroup": "True",
         "hovertemplate": "User Type=premium<br>Duration=%{text}<br>Game=%{y}<extra></extra>",
         "legendgroup": "premium",
         "marker": {
          "color": "#EF553B",
          "pattern": {
           "shape": ""
          }
         },
         "name": "premium",
         "offsetgroup": "premium",
         "orientation": "h",
         "showlegend": true,
         "text": [
          10094784,
          9589965,
          11292837,
          11062780,
          11708603,
          13962903,
          11125129,
          14071408,
          9691863,
          9434178,
          10411209,
          7663011,
          15229222,
          11184833,
          9345481,
          16112794,
          14102129,
          7988000,
          7874040,
          10791091,
          2071364,
          6399571,
          10109050,
          13081941,
          6804235,
          19094467,
          11103533,
          9822538,
          6217000,
          8494545,
          12895091,
          12412250,
          5014714,
          16356571,
          13412667,
          3638667,
          15688200,
          10608000,
          9103500,
          11742750,
          10974000,
          8601667,
          4304500,
          5288500,
          5822000,
          14226000,
          6733000,
          6893000,
          5592000,
          32715000,
          8823000,
          1656000,
          7262000
         ],
         "textposition": "outside",
         "type": "bar",
         "x": [
          10094784,
          9589965,
          11292837,
          11062780,
          11708603,
          13962903,
          11125129,
          14071408,
          9691863,
          9434178,
          10411209,
          7663011,
          15229222,
          11184833,
          9345481,
          16112794,
          14102129,
          7988000,
          7874040,
          10791091,
          2071364,
          6399571,
          10109050,
          13081941,
          6804235,
          19094467,
          11103533,
          9822538,
          6217000,
          8494545,
          12895091,
          12412250,
          5014714,
          16356571,
          13412667,
          3638667,
          15688200,
          10608000,
          9103500,
          11742750,
          10974000,
          8601667,
          4304500,
          5288500,
          5822000,
          14226000,
          6733000,
          6893000,
          5592000,
          32715000,
          8823000,
          1656000,
          7262000
         ],
         "xaxis": "x",
         "y": [
          "Other Games",
          "COD: Warzone3-2 & MW3-2",
          "Fortnite",
          "Apex Legends",
          "Valorant",
          "League of Legends",
          "Rocket League",
          "Overwatch 2",
          "Tom Clancy's Rainbow Six: Siege",
          "chatting",
          "Dead by Daylight",
          "FIFA 23-24 & EA Sports FC 24",
          "Counter Strike2",
          "Halo Infinite",
          "NBA: 2K24",
          "Farlight84",
          "Grand Theft Auto V",
          "Fall Guys",
          "Party Animals",
          "The Texas Chain Saw Massacre",
          "Podcast",
          "Madden NFL 24",
          "Phasmophobia",
          "Mobile Legend",
          "starfield",
          "Honkai: Star Rail",
          "THE FINALS",
          "Destiny ",
          "Game Detector",
          "Elden Ring",
          "Lies of P",
          "ROBLOX",
          "Naraka",
          "SMITE",
          "Forza Motorsport",
          "My Hero Ultra Rumble",
          "Hearthstone",
          "PlayerUnknown's Battlegrounds\n",
          "Among Us",
          "Team Fight Tatics",
          "Remnant 2",
          "Mortal Kombat 1",
          "Fifa fc 2024",
          "Marvel's Spider-Man 2",
          "NHL 23",
          "SuperSmash Bros Ultimate",
          "MLB The Show 22&23",
          "Freefire",
          "Rogue Company",
          "COD: Mobile",
          "COD: Vanguard",
          "Street Fighter",
          "COD: Black Ops Coldwar"
         ],
         "yaxis": "y"
        }
       ],
       "layout": {
        "barmode": "group",
        "height": 800,
        "legend": {
         "title": {
          "text": "User Type"
         },
         "tracegroupgap": 0
        },
        "margin": {
         "l": 150,
         "t": 80
        },
        "template": {
         "data": {
          "bar": [
           {
            "error_x": {
             "color": "#2a3f5f"
            },
            "error_y": {
             "color": "#2a3f5f"
            },
            "marker": {
             "line": {
              "color": "#E5ECF6",
              "width": 0.5
             },
             "pattern": {
              "fillmode": "overlay",
              "size": 10,
              "solidity": 0.2
             }
            },
            "type": "bar"
           }
          ],
          "barpolar": [
           {
            "marker": {
             "line": {
              "color": "#E5ECF6",
              "width": 0.5
             },
             "pattern": {
              "fillmode": "overlay",
              "size": 10,
              "solidity": 0.2
             }
            },
            "type": "barpolar"
           }
          ],
          "carpet": [
           {
            "aaxis": {
             "endlinecolor": "#2a3f5f",
             "gridcolor": "white",
             "linecolor": "white",
             "minorgridcolor": "white",
             "startlinecolor": "#2a3f5f"
            },
            "baxis": {
             "endlinecolor": "#2a3f5f",
             "gridcolor": "white",
             "linecolor": "white",
             "minorgridcolor": "white",
             "startlinecolor": "#2a3f5f"
            },
            "type": "carpet"
           }
          ],
          "choropleth": [
           {
            "colorbar": {
             "outlinewidth": 0,
             "ticks": ""
            },
            "type": "choropleth"
           }
          ],
          "contour": [
           {
            "colorbar": {
             "outlinewidth": 0,
             "ticks": ""
            },
            "colorscale": [
             [
              0,
              "#0d0887"
             ],
             [
              0.1111111111111111,
              "#46039f"
             ],
             [
              0.2222222222222222,
              "#7201a8"
             ],
             [
              0.3333333333333333,
              "#9c179e"
             ],
             [
              0.4444444444444444,
              "#bd3786"
             ],
             [
              0.5555555555555556,
              "#d8576b"
             ],
             [
              0.6666666666666666,
              "#ed7953"
             ],
             [
              0.7777777777777778,
              "#fb9f3a"
             ],
             [
              0.8888888888888888,
              "#fdca26"
             ],
             [
              1,
              "#f0f921"
             ]
            ],
            "type": "contour"
           }
          ],
          "contourcarpet": [
           {
            "colorbar": {
             "outlinewidth": 0,
             "ticks": ""
            },
            "type": "contourcarpet"
           }
          ],
          "heatmap": [
           {
            "colorbar": {
             "outlinewidth": 0,
             "ticks": ""
            },
            "colorscale": [
             [
              0,
              "#0d0887"
             ],
             [
              0.1111111111111111,
              "#46039f"
             ],
             [
              0.2222222222222222,
              "#7201a8"
             ],
             [
              0.3333333333333333,
              "#9c179e"
             ],
             [
              0.4444444444444444,
              "#bd3786"
             ],
             [
              0.5555555555555556,
              "#d8576b"
             ],
             [
              0.6666666666666666,
              "#ed7953"
             ],
             [
              0.7777777777777778,
              "#fb9f3a"
             ],
             [
              0.8888888888888888,
              "#fdca26"
             ],
             [
              1,
              "#f0f921"
             ]
            ],
            "type": "heatmap"
           }
          ],
          "heatmapgl": [
           {
            "colorbar": {
             "outlinewidth": 0,
             "ticks": ""
            },
            "colorscale": [
             [
              0,
              "#0d0887"
             ],
             [
              0.1111111111111111,
              "#46039f"
             ],
             [
              0.2222222222222222,
              "#7201a8"
             ],
             [
              0.3333333333333333,
              "#9c179e"
             ],
             [
              0.4444444444444444,
              "#bd3786"
             ],
             [
              0.5555555555555556,
              "#d8576b"
             ],
             [
              0.6666666666666666,
              "#ed7953"
             ],
             [
              0.7777777777777778,
              "#fb9f3a"
             ],
             [
              0.8888888888888888,
              "#fdca26"
             ],
             [
              1,
              "#f0f921"
             ]
            ],
            "type": "heatmapgl"
           }
          ],
          "histogram": [
           {
            "marker": {
             "pattern": {
              "fillmode": "overlay",
              "size": 10,
              "solidity": 0.2
             }
            },
            "type": "histogram"
           }
          ],
          "histogram2d": [
           {
            "colorbar": {
             "outlinewidth": 0,
             "ticks": ""
            },
            "colorscale": [
             [
              0,
              "#0d0887"
             ],
             [
              0.1111111111111111,
              "#46039f"
             ],
             [
              0.2222222222222222,
              "#7201a8"
             ],
             [
              0.3333333333333333,
              "#9c179e"
             ],
             [
              0.4444444444444444,
              "#bd3786"
             ],
             [
              0.5555555555555556,
              "#d8576b"
             ],
             [
              0.6666666666666666,
              "#ed7953"
             ],
             [
              0.7777777777777778,
              "#fb9f3a"
             ],
             [
              0.8888888888888888,
              "#fdca26"
             ],
             [
              1,
              "#f0f921"
             ]
            ],
            "type": "histogram2d"
           }
          ],
          "histogram2dcontour": [
           {
            "colorbar": {
             "outlinewidth": 0,
             "ticks": ""
            },
            "colorscale": [
             [
              0,
              "#0d0887"
             ],
             [
              0.1111111111111111,
              "#46039f"
             ],
             [
              0.2222222222222222,
              "#7201a8"
             ],
             [
              0.3333333333333333,
              "#9c179e"
             ],
             [
              0.4444444444444444,
              "#bd3786"
             ],
             [
              0.5555555555555556,
              "#d8576b"
             ],
             [
              0.6666666666666666,
              "#ed7953"
             ],
             [
              0.7777777777777778,
              "#fb9f3a"
             ],
             [
              0.8888888888888888,
              "#fdca26"
             ],
             [
              1,
              "#f0f921"
             ]
            ],
            "type": "histogram2dcontour"
           }
          ],
          "mesh3d": [
           {
            "colorbar": {
             "outlinewidth": 0,
             "ticks": ""
            },
            "type": "mesh3d"
           }
          ],
          "parcoords": [
           {
            "line": {
             "colorbar": {
              "outlinewidth": 0,
              "ticks": ""
             }
            },
            "type": "parcoords"
           }
          ],
          "pie": [
           {
            "automargin": true,
            "type": "pie"
           }
          ],
          "scatter": [
           {
            "fillpattern": {
             "fillmode": "overlay",
             "size": 10,
             "solidity": 0.2
            },
            "type": "scatter"
           }
          ],
          "scatter3d": [
           {
            "line": {
             "colorbar": {
              "outlinewidth": 0,
              "ticks": ""
             }
            },
            "marker": {
             "colorbar": {
              "outlinewidth": 0,
              "ticks": ""
             }
            },
            "type": "scatter3d"
           }
          ],
          "scattercarpet": [
           {
            "marker": {
             "colorbar": {
              "outlinewidth": 0,
              "ticks": ""
             }
            },
            "type": "scattercarpet"
           }
          ],
          "scattergeo": [
           {
            "marker": {
             "colorbar": {
              "outlinewidth": 0,
              "ticks": ""
             }
            },
            "type": "scattergeo"
           }
          ],
          "scattergl": [
           {
            "marker": {
             "colorbar": {
              "outlinewidth": 0,
              "ticks": ""
             }
            },
            "type": "scattergl"
           }
          ],
          "scattermapbox": [
           {
            "marker": {
             "colorbar": {
              "outlinewidth": 0,
              "ticks": ""
             }
            },
            "type": "scattermapbox"
           }
          ],
          "scatterpolar": [
           {
            "marker": {
             "colorbar": {
              "outlinewidth": 0,
              "ticks": ""
             }
            },
            "type": "scatterpolar"
           }
          ],
          "scatterpolargl": [
           {
            "marker": {
             "colorbar": {
              "outlinewidth": 0,
              "ticks": ""
             }
            },
            "type": "scatterpolargl"
           }
          ],
          "scatterternary": [
           {
            "marker": {
             "colorbar": {
              "outlinewidth": 0,
              "ticks": ""
             }
            },
            "type": "scatterternary"
           }
          ],
          "surface": [
           {
            "colorbar": {
             "outlinewidth": 0,
             "ticks": ""
            },
            "colorscale": [
             [
              0,
              "#0d0887"
             ],
             [
              0.1111111111111111,
              "#46039f"
             ],
             [
              0.2222222222222222,
              "#7201a8"
             ],
             [
              0.3333333333333333,
              "#9c179e"
             ],
             [
              0.4444444444444444,
              "#bd3786"
             ],
             [
              0.5555555555555556,
              "#d8576b"
             ],
             [
              0.6666666666666666,
              "#ed7953"
             ],
             [
              0.7777777777777778,
              "#fb9f3a"
             ],
             [
              0.8888888888888888,
              "#fdca26"
             ],
             [
              1,
              "#f0f921"
             ]
            ],
            "type": "surface"
           }
          ],
          "table": [
           {
            "cells": {
             "fill": {
              "color": "#EBF0F8"
             },
             "line": {
              "color": "white"
             }
            },
            "header": {
             "fill": {
              "color": "#C8D4E3"
             },
             "line": {
              "color": "white"
             }
            },
            "type": "table"
           }
          ]
         },
         "layout": {
          "annotationdefaults": {
           "arrowcolor": "#2a3f5f",
           "arrowhead": 0,
           "arrowwidth": 1
          },
          "autotypenumbers": "strict",
          "coloraxis": {
           "colorbar": {
            "outlinewidth": 0,
            "ticks": ""
           }
          },
          "colorscale": {
           "diverging": [
            [
             0,
             "#8e0152"
            ],
            [
             0.1,
             "#c51b7d"
            ],
            [
             0.2,
             "#de77ae"
            ],
            [
             0.3,
             "#f1b6da"
            ],
            [
             0.4,
             "#fde0ef"
            ],
            [
             0.5,
             "#f7f7f7"
            ],
            [
             0.6,
             "#e6f5d0"
            ],
            [
             0.7,
             "#b8e186"
            ],
            [
             0.8,
             "#7fbc41"
            ],
            [
             0.9,
             "#4d9221"
            ],
            [
             1,
             "#276419"
            ]
           ],
           "sequential": [
            [
             0,
             "#0d0887"
            ],
            [
             0.1111111111111111,
             "#46039f"
            ],
            [
             0.2222222222222222,
             "#7201a8"
            ],
            [
             0.3333333333333333,
             "#9c179e"
            ],
            [
             0.4444444444444444,
             "#bd3786"
            ],
            [
             0.5555555555555556,
             "#d8576b"
            ],
            [
             0.6666666666666666,
             "#ed7953"
            ],
            [
             0.7777777777777778,
             "#fb9f3a"
            ],
            [
             0.8888888888888888,
             "#fdca26"
            ],
            [
             1,
             "#f0f921"
            ]
           ],
           "sequentialminus": [
            [
             0,
             "#0d0887"
            ],
            [
             0.1111111111111111,
             "#46039f"
            ],
            [
             0.2222222222222222,
             "#7201a8"
            ],
            [
             0.3333333333333333,
             "#9c179e"
            ],
            [
             0.4444444444444444,
             "#bd3786"
            ],
            [
             0.5555555555555556,
             "#d8576b"
            ],
            [
             0.6666666666666666,
             "#ed7953"
            ],
            [
             0.7777777777777778,
             "#fb9f3a"
            ],
            [
             0.8888888888888888,
             "#fdca26"
            ],
            [
             1,
             "#f0f921"
            ]
           ]
          },
          "colorway": [
           "#636efa",
           "#EF553B",
           "#00cc96",
           "#ab63fa",
           "#FFA15A",
           "#19d3f3",
           "#FF6692",
           "#B6E880",
           "#FF97FF",
           "#FECB52"
          ],
          "font": {
           "color": "#2a3f5f"
          },
          "geo": {
           "bgcolor": "white",
           "lakecolor": "white",
           "landcolor": "#E5ECF6",
           "showlakes": true,
           "showland": true,
           "subunitcolor": "white"
          },
          "hoverlabel": {
           "align": "left"
          },
          "hovermode": "closest",
          "mapbox": {
           "style": "light"
          },
          "paper_bgcolor": "white",
          "plot_bgcolor": "#E5ECF6",
          "polar": {
           "angularaxis": {
            "gridcolor": "white",
            "linecolor": "white",
            "ticks": ""
           },
           "bgcolor": "#E5ECF6",
           "radialaxis": {
            "gridcolor": "white",
            "linecolor": "white",
            "ticks": ""
           }
          },
          "scene": {
           "xaxis": {
            "backgroundcolor": "#E5ECF6",
            "gridcolor": "white",
            "gridwidth": 2,
            "linecolor": "white",
            "showbackground": true,
            "ticks": "",
            "zerolinecolor": "white"
           },
           "yaxis": {
            "backgroundcolor": "#E5ECF6",
            "gridcolor": "white",
            "gridwidth": 2,
            "linecolor": "white",
            "showbackground": true,
            "ticks": "",
            "zerolinecolor": "white"
           },
           "zaxis": {
            "backgroundcolor": "#E5ECF6",
            "gridcolor": "white",
            "gridwidth": 2,
            "linecolor": "white",
            "showbackground": true,
            "ticks": "",
            "zerolinecolor": "white"
           }
          },
          "shapedefaults": {
           "line": {
            "color": "#2a3f5f"
           }
          },
          "ternary": {
           "aaxis": {
            "gridcolor": "white",
            "linecolor": "white",
            "ticks": ""
           },
           "baxis": {
            "gridcolor": "white",
            "linecolor": "white",
            "ticks": ""
           },
           "bgcolor": "#E5ECF6",
           "caxis": {
            "gridcolor": "white",
            "linecolor": "white",
            "ticks": ""
           }
          },
          "title": {
           "x": 0.05
          },
          "xaxis": {
           "automargin": true,
           "gridcolor": "white",
           "linecolor": "white",
           "ticks": "",
           "title": {
            "standoff": 15
           },
           "zerolinecolor": "white",
           "zerolinewidth": 2
          },
          "yaxis": {
           "automargin": true,
           "gridcolor": "white",
           "linecolor": "white",
           "ticks": "",
           "title": {
            "standoff": 15
           },
           "zerolinecolor": "white",
           "zerolinewidth": 2
          }
         }
        },
        "title": {
         "text": "Average Duration of GameSessions per Game (Free vs Premium) - Horizontal"
        },
        "width": 1000,
        "xaxis": {
         "anchor": "y",
         "domain": [
          0,
          1
         ],
         "title": {
          "text": "Duration"
         }
        },
        "yaxis": {
         "anchor": "x",
         "categoryorder": "total ascending",
         "domain": [
          0,
          1
         ],
         "title": {
          "text": "Game"
         }
        }
       }
      }
     },
     "metadata": {},
     "output_type": "display_data"
    }
   ],
   "source": [
    "import plotly.express as px\n",
    "\n",
    "df_filtered = df_agg_gamession_by_user_type_per_game[~df_agg_gamession_by_user_type_per_game['game_name'].isnull()]\n",
    "\n",
    "\n",
    "fig = px.bar(\n",
    "    df_filtered,\n",
    "    x='pct_gamesession_within_user_type',\n",
    "    y='game_name',\n",
    "    color='user_type',\n",
    "    orientation='h',\n",
    "    text='pct_gamesession_within_user_type',\n",
    "    barmode='group',\n",
    "    title='Percent of Total GameSessions per Game (Free vs Premium) - Horizontal',\n",
    "    labels={\n",
    "        \"pct_gamesession_within_user_type\": \"Percent of Total GameSessions\",\n",
    "        \"game_name\": \"Game\",\n",
    "        \"user_type\": \"User Type\"\n",
    "    }\n",
    ")\n",
    "\n",
    "fig.update_traces(textposition='outside')\n",
    "fig.update_layout(\n",
    "    height=800,\n",
    "    width=1000,\n",
    "    margin=dict(l=150, t=80),\n",
    "    yaxis=dict(categoryorder='total ascending') \n",
    ")\n",
    "\n",
    "fig.show()\n",
    "\n",
    "######################################################################################\n",
    "fig = px.bar(\n",
    "    df_filtered,\n",
    "    x='pct_users_within_user_type',\n",
    "    y='game_name',\n",
    "    color='user_type',\n",
    "    orientation='h',\n",
    "    text='pct_users_within_user_type',\n",
    "    barmode='group',\n",
    "    title='Percent of Total Users who Generated GameSessions per Game (Free vs Premium) - Horizontal',\n",
    "    labels={\n",
    "        \"pct_users_within_user_type\": \"Percent of Total Users\",\n",
    "        \"game_name\": \"Game\",\n",
    "        \"user_type\": \"User Type\"\n",
    "    }\n",
    ")\n",
    "\n",
    "fig.update_traces(textposition='outside')\n",
    "fig.update_layout(\n",
    "    height=800,\n",
    "    width=1000,\n",
    "    margin=dict(l=150, t=80),\n",
    "    yaxis=dict(categoryorder='total ascending') \n",
    ")\n",
    "\n",
    "fig.show()\n",
    "\n",
    "######################################################################################\n",
    "fig = px.bar(\n",
    "    df_filtered,\n",
    "    x='average_duration_gamesession',\n",
    "    y='game_name',\n",
    "    color='user_type',\n",
    "    orientation='h',\n",
    "    text='average_duration_gamesession',\n",
    "    barmode='group',\n",
    "    title='Average Duration of GameSessions per Game (Free vs Premium) - Horizontal',\n",
    "    labels={\n",
    "        \"average_duration_gamesession\": \"Duration\",\n",
    "        \"game_name\": \"Game\",\n",
    "        \"user_type\": \"User Type\"\n",
    "    }\n",
    ")\n",
    "\n",
    "fig.update_traces(textposition='outside')\n",
    "fig.update_layout(\n",
    "    height=800,\n",
    "    width=1000,\n",
    "    margin=dict(l=150, t=80),\n",
    "    yaxis=dict(categoryorder='total ascending') \n",
    ")\n",
    "\n",
    "fig.show()\n"
   ]
  },
  {
   "cell_type": "markdown",
   "id": "3f3338d6",
   "metadata": {},
   "source": [
    "## Clips"
   ]
  },
  {
   "cell_type": "markdown",
   "id": "7d2834ab",
   "metadata": {},
   "source": [
    "### Compare free and premium users based on the clips created by users\n"
   ]
  },
  {
   "cell_type": "markdown",
   "id": "3a5642fd",
   "metadata": {},
   "source": [
    "#### query"
   ]
  },
  {
   "cell_type": "code",
   "execution_count": 11,
   "id": "0f245f38",
   "metadata": {},
   "outputs": [
    {
     "data": {
      "text/html": [
       "<div>\n",
       "<style scoped>\n",
       "    .dataframe tbody tr th:only-of-type {\n",
       "        vertical-align: middle;\n",
       "    }\n",
       "\n",
       "    .dataframe tbody tr th {\n",
       "        vertical-align: top;\n",
       "    }\n",
       "\n",
       "    .dataframe thead th {\n",
       "        text-align: right;\n",
       "    }\n",
       "</style>\n",
       "<table border=\"1\" class=\"dataframe\">\n",
       "  <thead>\n",
       "    <tr style=\"text-align: right;\">\n",
       "      <th></th>\n",
       "      <th>user_type</th>\n",
       "      <th>total_clips_created</th>\n",
       "      <th>total_users_whose_clips_created</th>\n",
       "      <th>average_duration_clips</th>\n",
       "      <th>total_games_used_for_creating_clips</th>\n",
       "      <th>total_event</th>\n",
       "      <th>average_clips_per_user</th>\n",
       "    </tr>\n",
       "  </thead>\n",
       "  <tbody>\n",
       "    <tr>\n",
       "      <th>0</th>\n",
       "      <td>free</td>\n",
       "      <td>361391</td>\n",
       "      <td>4239</td>\n",
       "      <td>61</td>\n",
       "      <td>53</td>\n",
       "      <td>106</td>\n",
       "      <td>85</td>\n",
       "    </tr>\n",
       "    <tr>\n",
       "      <th>1</th>\n",
       "      <td>premium</td>\n",
       "      <td>190640</td>\n",
       "      <td>324</td>\n",
       "      <td>48</td>\n",
       "      <td>53</td>\n",
       "      <td>101</td>\n",
       "      <td>588</td>\n",
       "    </tr>\n",
       "  </tbody>\n",
       "</table>\n",
       "</div>"
      ],
      "text/plain": [
       "  user_type  total_clips_created  total_users_whose_clips_created  \\\n",
       "0      free               361391                             4239   \n",
       "1   premium               190640                              324   \n",
       "\n",
       "   average_duration_clips  total_games_used_for_creating_clips  total_event  \\\n",
       "0                      61                                   53          106   \n",
       "1                      48                                   53          101   \n",
       "\n",
       "   average_clips_per_user  \n",
       "0                      85  \n",
       "1                     588  "
      ]
     },
     "execution_count": 11,
     "metadata": {},
     "output_type": "execute_result"
    }
   ],
   "source": [
    "query_clips_by_user_type = \"\"\"--sql\n",
    "SELECT \n",
    "    c.*,\n",
    "    CASE \n",
    "        WHEN c.user_id IN (SELECT DISTINCT user_id FROM premium_users) THEN 'premium'\n",
    "        ELSE 'free'\n",
    "    END AS user_type\n",
    "FROM \n",
    "    clips c\n",
    "\"\"\"\n",
    "\n",
    "query_aggregate = f\"\"\"--sql\n",
    "----------------------------------------------------------------------------------------------\n",
    "with clips_with_user_type as (\n",
    "{query_clips_by_user_type}\n",
    ")\n",
    "\n",
    "select\n",
    "    user_type, \n",
    "    count(distinct id) as total_clips_created,\n",
    "    count(distinct user_id) as total_users_whose_clips_created,\n",
    "    cast(round(avg(duration),0) as integer) as average_duration_clips,\n",
    "    count(distinct game_name) as total_games_used_for_creating_clips,\n",
    "    count(distinct event_name) as total_event,\n",
    "    cast(round(count(distinct id) / count(distinct user_id),0) as integer) as average_clips_per_user\n",
    "    \n",
    "from \n",
    "    clips_with_user_type\n",
    "group by user_type\n",
    "----------------------------------------------------------------------------------------------\n",
    "\"\"\"\n",
    "\n",
    "query_duration_distribution = f\"\"\"--sql\n",
    "with clips_with_user_type as (\n",
    "{query_clips_by_user_type}\n",
    ")\n",
    "\n",
    "select\n",
    "    user_type, \n",
    "    count(distinct id) as total_clips_created,\n",
    "    count(distinct user_id) as total_users_whose_clips_created,\n",
    " \n",
    "     \n",
    "\"\"\"\n",
    "\n",
    "query_clips_premium_user = f\"\"\"--sql\n",
    "with clips_with_user_type as (\n",
    "{query_clips_by_user_type}\n",
    ")\n",
    "\n",
    "select * from clips_with_user_type where user_type = 'premium'\n",
    "\"\"\"\n",
    "\n",
    "query_clips_free_user = f\"\"\"--sql\n",
    "with clips_with_user_type as (\n",
    "{query_clips_by_user_type}\n",
    ")\n",
    "\n",
    "select * from clips_with_user_type where not user_type = 'premium'\n",
    "\"\"\"\n",
    "\n",
    "df_clips = con.execute(query_clips_by_user_type).fetchdf()\n",
    "df_clips_premium_user = con.execute(query_clips_premium_user).fetchdf()\n",
    "df_clips_free_user = con.execute(query_clips_free_user).fetchdf()\n",
    "\n",
    "df_clips_agg_by_user_type = con.execute(query_aggregate).fetchdf()\n",
    "\n",
    "df_clips_agg_by_user_type\n"
   ]
  },
  {
   "cell_type": "markdown",
   "id": "c467c8ff",
   "metadata": {},
   "source": [
    "#### Charts"
   ]
  },
  {
   "cell_type": "code",
   "execution_count": 16,
   "id": "c28de183",
   "metadata": {},
   "outputs": [
    {
     "data": {
      "application/vnd.plotly.v1+json": {
       "config": {
        "plotlyServerURL": "https://plot.ly"
       },
       "data": [
        {
         "marker": {
          "color": "indianred"
         },
         "name": "Total Clips",
         "type": "bar",
         "x": [
          "free",
          "premium"
         ],
         "xaxis": "x",
         "y": [
          361391,
          190640
         ],
         "yaxis": "y"
        },
        {
         "marker": {
          "color": "lightsalmon"
         },
         "name": "Total Users",
         "type": "bar",
         "x": [
          "free",
          "premium"
         ],
         "xaxis": "x2",
         "y": [
          4239,
          324
         ],
         "yaxis": "y2"
        },
        {
         "marker": {
          "color": "dodgerblue"
         },
         "name": "Avg Duration",
         "type": "bar",
         "x": [
          "free",
          "premium"
         ],
         "xaxis": "x3",
         "y": [
          61,
          48
         ],
         "yaxis": "y3"
        },
        {
         "marker": {
          "color": "mediumseagreen"
         },
         "name": "Games Used",
         "type": "bar",
         "x": [
          "free",
          "premium"
         ],
         "xaxis": "x4",
         "y": [
          53,
          53
         ],
         "yaxis": "y4"
        },
        {
         "marker": {
          "color": "mediumseagreen"
         },
         "name": "Average Clips",
         "type": "bar",
         "x": [
          "free",
          "premium"
         ],
         "xaxis": "x5",
         "y": [
          85,
          588
         ],
         "yaxis": "y5"
        }
       ],
       "layout": {
        "annotations": [
         {
          "font": {
           "size": 16
          },
          "showarrow": false,
          "text": "Total Clips Created",
          "x": 0.225,
          "xanchor": "center",
          "xref": "paper",
          "y": 1,
          "yanchor": "bottom",
          "yref": "paper"
         },
         {
          "font": {
           "size": 16
          },
          "showarrow": false,
          "text": "Total Users Whose Clips Created",
          "x": 0.775,
          "xanchor": "center",
          "xref": "paper",
          "y": 1,
          "yanchor": "bottom",
          "yref": "paper"
         },
         {
          "font": {
           "size": 16
          },
          "showarrow": false,
          "text": "Average Duration Clips (sec)",
          "x": 0.225,
          "xanchor": "center",
          "xref": "paper",
          "y": 0.6111111111111112,
          "yanchor": "bottom",
          "yref": "paper"
         },
         {
          "font": {
           "size": 16
          },
          "showarrow": false,
          "text": "Total Games Used For Creating Clips",
          "x": 0.775,
          "xanchor": "center",
          "xref": "paper",
          "y": 0.6111111111111112,
          "yanchor": "bottom",
          "yref": "paper"
         },
         {
          "font": {
           "size": 16
          },
          "showarrow": false,
          "text": "Average Clips per User",
          "x": 0.225,
          "xanchor": "center",
          "xref": "paper",
          "y": 0.22222222222222224,
          "yanchor": "bottom",
          "yref": "paper"
         }
        ],
        "height": 900,
        "showlegend": false,
        "template": {
         "data": {
          "bar": [
           {
            "error_x": {
             "color": "#2a3f5f"
            },
            "error_y": {
             "color": "#2a3f5f"
            },
            "marker": {
             "line": {
              "color": "#E5ECF6",
              "width": 0.5
             },
             "pattern": {
              "fillmode": "overlay",
              "size": 10,
              "solidity": 0.2
             }
            },
            "type": "bar"
           }
          ],
          "barpolar": [
           {
            "marker": {
             "line": {
              "color": "#E5ECF6",
              "width": 0.5
             },
             "pattern": {
              "fillmode": "overlay",
              "size": 10,
              "solidity": 0.2
             }
            },
            "type": "barpolar"
           }
          ],
          "carpet": [
           {
            "aaxis": {
             "endlinecolor": "#2a3f5f",
             "gridcolor": "white",
             "linecolor": "white",
             "minorgridcolor": "white",
             "startlinecolor": "#2a3f5f"
            },
            "baxis": {
             "endlinecolor": "#2a3f5f",
             "gridcolor": "white",
             "linecolor": "white",
             "minorgridcolor": "white",
             "startlinecolor": "#2a3f5f"
            },
            "type": "carpet"
           }
          ],
          "choropleth": [
           {
            "colorbar": {
             "outlinewidth": 0,
             "ticks": ""
            },
            "type": "choropleth"
           }
          ],
          "contour": [
           {
            "colorbar": {
             "outlinewidth": 0,
             "ticks": ""
            },
            "colorscale": [
             [
              0,
              "#0d0887"
             ],
             [
              0.1111111111111111,
              "#46039f"
             ],
             [
              0.2222222222222222,
              "#7201a8"
             ],
             [
              0.3333333333333333,
              "#9c179e"
             ],
             [
              0.4444444444444444,
              "#bd3786"
             ],
             [
              0.5555555555555556,
              "#d8576b"
             ],
             [
              0.6666666666666666,
              "#ed7953"
             ],
             [
              0.7777777777777778,
              "#fb9f3a"
             ],
             [
              0.8888888888888888,
              "#fdca26"
             ],
             [
              1,
              "#f0f921"
             ]
            ],
            "type": "contour"
           }
          ],
          "contourcarpet": [
           {
            "colorbar": {
             "outlinewidth": 0,
             "ticks": ""
            },
            "type": "contourcarpet"
           }
          ],
          "heatmap": [
           {
            "colorbar": {
             "outlinewidth": 0,
             "ticks": ""
            },
            "colorscale": [
             [
              0,
              "#0d0887"
             ],
             [
              0.1111111111111111,
              "#46039f"
             ],
             [
              0.2222222222222222,
              "#7201a8"
             ],
             [
              0.3333333333333333,
              "#9c179e"
             ],
             [
              0.4444444444444444,
              "#bd3786"
             ],
             [
              0.5555555555555556,
              "#d8576b"
             ],
             [
              0.6666666666666666,
              "#ed7953"
             ],
             [
              0.7777777777777778,
              "#fb9f3a"
             ],
             [
              0.8888888888888888,
              "#fdca26"
             ],
             [
              1,
              "#f0f921"
             ]
            ],
            "type": "heatmap"
           }
          ],
          "heatmapgl": [
           {
            "colorbar": {
             "outlinewidth": 0,
             "ticks": ""
            },
            "colorscale": [
             [
              0,
              "#0d0887"
             ],
             [
              0.1111111111111111,
              "#46039f"
             ],
             [
              0.2222222222222222,
              "#7201a8"
             ],
             [
              0.3333333333333333,
              "#9c179e"
             ],
             [
              0.4444444444444444,
              "#bd3786"
             ],
             [
              0.5555555555555556,
              "#d8576b"
             ],
             [
              0.6666666666666666,
              "#ed7953"
             ],
             [
              0.7777777777777778,
              "#fb9f3a"
             ],
             [
              0.8888888888888888,
              "#fdca26"
             ],
             [
              1,
              "#f0f921"
             ]
            ],
            "type": "heatmapgl"
           }
          ],
          "histogram": [
           {
            "marker": {
             "pattern": {
              "fillmode": "overlay",
              "size": 10,
              "solidity": 0.2
             }
            },
            "type": "histogram"
           }
          ],
          "histogram2d": [
           {
            "colorbar": {
             "outlinewidth": 0,
             "ticks": ""
            },
            "colorscale": [
             [
              0,
              "#0d0887"
             ],
             [
              0.1111111111111111,
              "#46039f"
             ],
             [
              0.2222222222222222,
              "#7201a8"
             ],
             [
              0.3333333333333333,
              "#9c179e"
             ],
             [
              0.4444444444444444,
              "#bd3786"
             ],
             [
              0.5555555555555556,
              "#d8576b"
             ],
             [
              0.6666666666666666,
              "#ed7953"
             ],
             [
              0.7777777777777778,
              "#fb9f3a"
             ],
             [
              0.8888888888888888,
              "#fdca26"
             ],
             [
              1,
              "#f0f921"
             ]
            ],
            "type": "histogram2d"
           }
          ],
          "histogram2dcontour": [
           {
            "colorbar": {
             "outlinewidth": 0,
             "ticks": ""
            },
            "colorscale": [
             [
              0,
              "#0d0887"
             ],
             [
              0.1111111111111111,
              "#46039f"
             ],
             [
              0.2222222222222222,
              "#7201a8"
             ],
             [
              0.3333333333333333,
              "#9c179e"
             ],
             [
              0.4444444444444444,
              "#bd3786"
             ],
             [
              0.5555555555555556,
              "#d8576b"
             ],
             [
              0.6666666666666666,
              "#ed7953"
             ],
             [
              0.7777777777777778,
              "#fb9f3a"
             ],
             [
              0.8888888888888888,
              "#fdca26"
             ],
             [
              1,
              "#f0f921"
             ]
            ],
            "type": "histogram2dcontour"
           }
          ],
          "mesh3d": [
           {
            "colorbar": {
             "outlinewidth": 0,
             "ticks": ""
            },
            "type": "mesh3d"
           }
          ],
          "parcoords": [
           {
            "line": {
             "colorbar": {
              "outlinewidth": 0,
              "ticks": ""
             }
            },
            "type": "parcoords"
           }
          ],
          "pie": [
           {
            "automargin": true,
            "type": "pie"
           }
          ],
          "scatter": [
           {
            "fillpattern": {
             "fillmode": "overlay",
             "size": 10,
             "solidity": 0.2
            },
            "type": "scatter"
           }
          ],
          "scatter3d": [
           {
            "line": {
             "colorbar": {
              "outlinewidth": 0,
              "ticks": ""
             }
            },
            "marker": {
             "colorbar": {
              "outlinewidth": 0,
              "ticks": ""
             }
            },
            "type": "scatter3d"
           }
          ],
          "scattercarpet": [
           {
            "marker": {
             "colorbar": {
              "outlinewidth": 0,
              "ticks": ""
             }
            },
            "type": "scattercarpet"
           }
          ],
          "scattergeo": [
           {
            "marker": {
             "colorbar": {
              "outlinewidth": 0,
              "ticks": ""
             }
            },
            "type": "scattergeo"
           }
          ],
          "scattergl": [
           {
            "marker": {
             "colorbar": {
              "outlinewidth": 0,
              "ticks": ""
             }
            },
            "type": "scattergl"
           }
          ],
          "scattermapbox": [
           {
            "marker": {
             "colorbar": {
              "outlinewidth": 0,
              "ticks": ""
             }
            },
            "type": "scattermapbox"
           }
          ],
          "scatterpolar": [
           {
            "marker": {
             "colorbar": {
              "outlinewidth": 0,
              "ticks": ""
             }
            },
            "type": "scatterpolar"
           }
          ],
          "scatterpolargl": [
           {
            "marker": {
             "colorbar": {
              "outlinewidth": 0,
              "ticks": ""
             }
            },
            "type": "scatterpolargl"
           }
          ],
          "scatterternary": [
           {
            "marker": {
             "colorbar": {
              "outlinewidth": 0,
              "ticks": ""
             }
            },
            "type": "scatterternary"
           }
          ],
          "surface": [
           {
            "colorbar": {
             "outlinewidth": 0,
             "ticks": ""
            },
            "colorscale": [
             [
              0,
              "#0d0887"
             ],
             [
              0.1111111111111111,
              "#46039f"
             ],
             [
              0.2222222222222222,
              "#7201a8"
             ],
             [
              0.3333333333333333,
              "#9c179e"
             ],
             [
              0.4444444444444444,
              "#bd3786"
             ],
             [
              0.5555555555555556,
              "#d8576b"
             ],
             [
              0.6666666666666666,
              "#ed7953"
             ],
             [
              0.7777777777777778,
              "#fb9f3a"
             ],
             [
              0.8888888888888888,
              "#fdca26"
             ],
             [
              1,
              "#f0f921"
             ]
            ],
            "type": "surface"
           }
          ],
          "table": [
           {
            "cells": {
             "fill": {
              "color": "#EBF0F8"
             },
             "line": {
              "color": "white"
             }
            },
            "header": {
             "fill": {
              "color": "#C8D4E3"
             },
             "line": {
              "color": "white"
             }
            },
            "type": "table"
           }
          ]
         },
         "layout": {
          "annotationdefaults": {
           "arrowcolor": "#2a3f5f",
           "arrowhead": 0,
           "arrowwidth": 1
          },
          "autotypenumbers": "strict",
          "coloraxis": {
           "colorbar": {
            "outlinewidth": 0,
            "ticks": ""
           }
          },
          "colorscale": {
           "diverging": [
            [
             0,
             "#8e0152"
            ],
            [
             0.1,
             "#c51b7d"
            ],
            [
             0.2,
             "#de77ae"
            ],
            [
             0.3,
             "#f1b6da"
            ],
            [
             0.4,
             "#fde0ef"
            ],
            [
             0.5,
             "#f7f7f7"
            ],
            [
             0.6,
             "#e6f5d0"
            ],
            [
             0.7,
             "#b8e186"
            ],
            [
             0.8,
             "#7fbc41"
            ],
            [
             0.9,
             "#4d9221"
            ],
            [
             1,
             "#276419"
            ]
           ],
           "sequential": [
            [
             0,
             "#0d0887"
            ],
            [
             0.1111111111111111,
             "#46039f"
            ],
            [
             0.2222222222222222,
             "#7201a8"
            ],
            [
             0.3333333333333333,
             "#9c179e"
            ],
            [
             0.4444444444444444,
             "#bd3786"
            ],
            [
             0.5555555555555556,
             "#d8576b"
            ],
            [
             0.6666666666666666,
             "#ed7953"
            ],
            [
             0.7777777777777778,
             "#fb9f3a"
            ],
            [
             0.8888888888888888,
             "#fdca26"
            ],
            [
             1,
             "#f0f921"
            ]
           ],
           "sequentialminus": [
            [
             0,
             "#0d0887"
            ],
            [
             0.1111111111111111,
             "#46039f"
            ],
            [
             0.2222222222222222,
             "#7201a8"
            ],
            [
             0.3333333333333333,
             "#9c179e"
            ],
            [
             0.4444444444444444,
             "#bd3786"
            ],
            [
             0.5555555555555556,
             "#d8576b"
            ],
            [
             0.6666666666666666,
             "#ed7953"
            ],
            [
             0.7777777777777778,
             "#fb9f3a"
            ],
            [
             0.8888888888888888,
             "#fdca26"
            ],
            [
             1,
             "#f0f921"
            ]
           ]
          },
          "colorway": [
           "#636efa",
           "#EF553B",
           "#00cc96",
           "#ab63fa",
           "#FFA15A",
           "#19d3f3",
           "#FF6692",
           "#B6E880",
           "#FF97FF",
           "#FECB52"
          ],
          "font": {
           "color": "#2a3f5f"
          },
          "geo": {
           "bgcolor": "white",
           "lakecolor": "white",
           "landcolor": "#E5ECF6",
           "showlakes": true,
           "showland": true,
           "subunitcolor": "white"
          },
          "hoverlabel": {
           "align": "left"
          },
          "hovermode": "closest",
          "mapbox": {
           "style": "light"
          },
          "paper_bgcolor": "white",
          "plot_bgcolor": "#E5ECF6",
          "polar": {
           "angularaxis": {
            "gridcolor": "white",
            "linecolor": "white",
            "ticks": ""
           },
           "bgcolor": "#E5ECF6",
           "radialaxis": {
            "gridcolor": "white",
            "linecolor": "white",
            "ticks": ""
           }
          },
          "scene": {
           "xaxis": {
            "backgroundcolor": "#E5ECF6",
            "gridcolor": "white",
            "gridwidth": 2,
            "linecolor": "white",
            "showbackground": true,
            "ticks": "",
            "zerolinecolor": "white"
           },
           "yaxis": {
            "backgroundcolor": "#E5ECF6",
            "gridcolor": "white",
            "gridwidth": 2,
            "linecolor": "white",
            "showbackground": true,
            "ticks": "",
            "zerolinecolor": "white"
           },
           "zaxis": {
            "backgroundcolor": "#E5ECF6",
            "gridcolor": "white",
            "gridwidth": 2,
            "linecolor": "white",
            "showbackground": true,
            "ticks": "",
            "zerolinecolor": "white"
           }
          },
          "shapedefaults": {
           "line": {
            "color": "#2a3f5f"
           }
          },
          "ternary": {
           "aaxis": {
            "gridcolor": "white",
            "linecolor": "white",
            "ticks": ""
           },
           "baxis": {
            "gridcolor": "white",
            "linecolor": "white",
            "ticks": ""
           },
           "bgcolor": "#E5ECF6",
           "caxis": {
            "gridcolor": "white",
            "linecolor": "white",
            "ticks": ""
           }
          },
          "title": {
           "x": 0.05
          },
          "xaxis": {
           "automargin": true,
           "gridcolor": "white",
           "linecolor": "white",
           "ticks": "",
           "title": {
            "standoff": 15
           },
           "zerolinecolor": "white",
           "zerolinewidth": 2
          },
          "yaxis": {
           "automargin": true,
           "gridcolor": "white",
           "linecolor": "white",
           "ticks": "",
           "title": {
            "standoff": 15
           },
           "zerolinecolor": "white",
           "zerolinewidth": 2
          }
         }
        },
        "title": {
         "text": "Comparison Between Free vs Premium Users"
        },
        "width": 900,
        "xaxis": {
         "anchor": "y",
         "domain": [
          0,
          0.45
         ]
        },
        "xaxis2": {
         "anchor": "y2",
         "domain": [
          0.55,
          1
         ]
        },
        "xaxis3": {
         "anchor": "y3",
         "domain": [
          0,
          0.45
         ]
        },
        "xaxis4": {
         "anchor": "y4",
         "domain": [
          0.55,
          1
         ]
        },
        "xaxis5": {
         "anchor": "y5",
         "domain": [
          0,
          0.45
         ]
        },
        "xaxis6": {
         "anchor": "y6",
         "domain": [
          0.55,
          1
         ]
        },
        "yaxis": {
         "anchor": "x",
         "domain": [
          0.7777777777777778,
          1
         ]
        },
        "yaxis2": {
         "anchor": "x2",
         "domain": [
          0.7777777777777778,
          1
         ]
        },
        "yaxis3": {
         "anchor": "x3",
         "domain": [
          0.3888888888888889,
          0.6111111111111112
         ]
        },
        "yaxis4": {
         "anchor": "x4",
         "domain": [
          0.3888888888888889,
          0.6111111111111112
         ]
        },
        "yaxis5": {
         "anchor": "x5",
         "domain": [
          0,
          0.22222222222222224
         ]
        },
        "yaxis6": {
         "anchor": "x6",
         "domain": [
          0,
          0.22222222222222224
         ]
        }
       }
      }
     },
     "metadata": {},
     "output_type": "display_data"
    },
    {
     "data": {
      "image/png": "[encoded data removed]",
      "text/plain": [
       "<Figure size 800x500 with 1 Axes>"
      ]
     },
     "metadata": {},
     "output_type": "display_data"
    }
   ],
   "source": [
    "import plotly.graph_objects as go\n",
    "from plotly.subplots import make_subplots\n",
    "\n",
    "# Buat subplot 2x2\n",
    "fig = make_subplots(rows=3, cols=2, subplot_titles=[\n",
    "    \"Total Clips Created\",\n",
    "    \"Total Users Whose Clips Created\",\n",
    "    \"Average Duration Clips (sec)\",\n",
    "    \"Total Games Used For Creating Clips\",\n",
    "    \"Average Clips per User\",\n",
    "])\n",
    "\n",
    "# Bar chart 1: Total Clips Created\n",
    "fig.add_trace(go.Bar(\n",
    "    x=df_clips_agg_by_user_type['user_type'],\n",
    "    y=df_clips_agg_by_user_type['total_clips_created'],\n",
    "    name='Total Clips',\n",
    "    marker_color='indianred'\n",
    "), row=1, col=1)\n",
    "\n",
    "# Bar chart 2: Total Users\n",
    "fig.add_trace(go.Bar(\n",
    "    x=df_clips_agg_by_user_type['user_type'],\n",
    "    y=df_clips_agg_by_user_type['total_users_whose_clips_created'],\n",
    "    name='Total Users',\n",
    "    marker_color='lightsalmon'\n",
    "), row=1, col=2)\n",
    "\n",
    "# Bar chart 3: Average Duration\n",
    "fig.add_trace(go.Bar(\n",
    "    x=df_clips_agg_by_user_type['user_type'],\n",
    "    y=df_clips_agg_by_user_type['average_duration_clips'],\n",
    "    name='Avg Duration',\n",
    "    marker_color='dodgerblue'\n",
    "), row=2, col=1)\n",
    "\n",
    "# Bar chart 4: Total Games Used\n",
    "fig.add_trace(go.Bar(\n",
    "    x=df_clips_agg_by_user_type['user_type'],\n",
    "    y=df_clips_agg_by_user_type['total_games_used_for_creating_clips'],\n",
    "    name='Games Used',\n",
    "    marker_color='mediumseagreen'\n",
    "), row=2, col=2)\n",
    "\n",
    "# Bar chart 5: Average Clips per User \n",
    "fig.add_trace(go.Bar(\n",
    "    x=df_clips_agg_by_user_type['user_type'],\n",
    "    y=df_clips_agg_by_user_type['average_clips_per_user'],\n",
    "    name='Average Clips',\n",
    "    marker_color='mediumseagreen'\n",
    "), row=3, col=1)\n",
    "\n",
    "\n",
    "# Update layout\n",
    "fig.update_layout(\n",
    "    title_text=\"Comparison Between Free vs Premium Users\",\n",
    "    showlegend=False,\n",
    "    height=900,\n",
    "    width=900\n",
    ")\n",
    "\n",
    "fig.show()\n",
    "#################################\n",
    "import seaborn as sns\n",
    "import matplotlib.pyplot as plt\n",
    "plt.figure(figsize=(8, 5))\n",
    "sns.boxplot(data=df_clips, x=\"user_type\", y=\"duration\")\n",
    "sns.stripplot(data=df_clips, x=\"user_type\", y=\"duration\", color='black', size=1.5, jitter=True, alpha=0.3)\n",
    "plt.title(\"Distribusi Duration per User Type (Box + Strip)\")\n",
    "plt.show()\n"
   ]
  },
  {
   "cell_type": "markdown",
   "id": "5dab0f9a",
   "metadata": {},
   "source": [
    "We can observe that the total number of gamesessions created and the number of games played are higher among free users compared to premium users. This is expected, as the number of free users who create gamesessions is significantly greater than that of premium users. However, an interesting insight is that premium users tend to create gamesessions with much longer durations compared to free users."
   ]
  },
  {
   "cell_type": "markdown",
   "id": "2a85a577",
   "metadata": {},
   "source": [
    "### Compare free and premium users based on the gamesessions created by users for each game."
   ]
  },
  {
   "cell_type": "markdown",
   "id": "f3e95b19",
   "metadata": {},
   "source": [
    "#### query"
   ]
  },
  {
   "cell_type": "code",
   "execution_count": 55,
   "id": "467906fd",
   "metadata": {},
   "outputs": [
    {
     "data": {
      "text/html": [
       "<div>\n",
       "<style scoped>\n",
       "    .dataframe tbody tr th:only-of-type {\n",
       "        vertical-align: middle;\n",
       "    }\n",
       "\n",
       "    .dataframe tbody tr th {\n",
       "        vertical-align: top;\n",
       "    }\n",
       "\n",
       "    .dataframe thead th {\n",
       "        text-align: right;\n",
       "    }\n",
       "</style>\n",
       "<table border=\"1\" class=\"dataframe\">\n",
       "  <thead>\n",
       "    <tr style=\"text-align: right;\">\n",
       "      <th></th>\n",
       "      <th>user_type</th>\n",
       "      <th>game_name</th>\n",
       "      <th>total_clips_created</th>\n",
       "      <th>total_users_whose_clips_created</th>\n",
       "      <th>average_duration_clips</th>\n",
       "      <th>total_event</th>\n",
       "      <th>average_clips_per_user</th>\n",
       "      <th>percentage_clips</th>\n",
       "      <th>percentage_users_whose_clips_created</th>\n",
       "      <th>percentage_event</th>\n",
       "    </tr>\n",
       "  </thead>\n",
       "  <tbody>\n",
       "    <tr>\n",
       "      <th>0</th>\n",
       "      <td>free</td>\n",
       "      <td>Other Games</td>\n",
       "      <td>96995</td>\n",
       "      <td>2177</td>\n",
       "      <td>104</td>\n",
       "      <td>8</td>\n",
       "      <td>45</td>\n",
       "      <td>26.84</td>\n",
       "      <td>27.22</td>\n",
       "      <td>4.30</td>\n",
       "    </tr>\n",
       "    <tr>\n",
       "      <th>1</th>\n",
       "      <td>free</td>\n",
       "      <td>None</td>\n",
       "      <td>10091</td>\n",
       "      <td>1299</td>\n",
       "      <td>34</td>\n",
       "      <td>0</td>\n",
       "      <td>8</td>\n",
       "      <td>2.79</td>\n",
       "      <td>16.24</td>\n",
       "      <td>0.00</td>\n",
       "    </tr>\n",
       "    <tr>\n",
       "      <th>2</th>\n",
       "      <td>free</td>\n",
       "      <td>COD: Warzone3-2 &amp; MW3-2</td>\n",
       "      <td>79418</td>\n",
       "      <td>971</td>\n",
       "      <td>49</td>\n",
       "      <td>17</td>\n",
       "      <td>82</td>\n",
       "      <td>21.98</td>\n",
       "      <td>12.14</td>\n",
       "      <td>9.14</td>\n",
       "    </tr>\n",
       "    <tr>\n",
       "      <th>3</th>\n",
       "      <td>free</td>\n",
       "      <td>Fortnite</td>\n",
       "      <td>46749</td>\n",
       "      <td>802</td>\n",
       "      <td>37</td>\n",
       "      <td>9</td>\n",
       "      <td>58</td>\n",
       "      <td>12.94</td>\n",
       "      <td>10.03</td>\n",
       "      <td>4.84</td>\n",
       "    </tr>\n",
       "    <tr>\n",
       "      <th>4</th>\n",
       "      <td>free</td>\n",
       "      <td>Podcast</td>\n",
       "      <td>10288</td>\n",
       "      <td>448</td>\n",
       "      <td>61</td>\n",
       "      <td>1</td>\n",
       "      <td>23</td>\n",
       "      <td>2.85</td>\n",
       "      <td>5.60</td>\n",
       "      <td>0.54</td>\n",
       "    </tr>\n",
       "  </tbody>\n",
       "</table>\n",
       "</div>"
      ],
      "text/plain": [
       "  user_type                game_name  total_clips_created  \\\n",
       "0      free              Other Games                96995   \n",
       "1      free                     None                10091   \n",
       "2      free  COD: Warzone3-2 & MW3-2                79418   \n",
       "3      free                 Fortnite                46749   \n",
       "4      free                  Podcast                10288   \n",
       "\n",
       "   total_users_whose_clips_created  average_duration_clips  total_event  \\\n",
       "0                             2177                     104            8   \n",
       "1                             1299                      34            0   \n",
       "2                              971                      49           17   \n",
       "3                              802                      37            9   \n",
       "4                              448                      61            1   \n",
       "\n",
       "   average_clips_per_user  percentage_clips  \\\n",
       "0                      45             26.84   \n",
       "1                       8              2.79   \n",
       "2                      82             21.98   \n",
       "3                      58             12.94   \n",
       "4                      23              2.85   \n",
       "\n",
       "   percentage_users_whose_clips_created  percentage_event  \n",
       "0                                 27.22              4.30  \n",
       "1                                 16.24              0.00  \n",
       "2                                 12.14              9.14  \n",
       "3                                 10.03              4.84  \n",
       "4                                  5.60              0.54  "
      ]
     },
     "execution_count": 55,
     "metadata": {},
     "output_type": "execute_result"
    }
   ],
   "source": [
    "query = \"\"\"--sql\n",
    "WITH clip_with_user_type AS (\n",
    "    SELECT \n",
    "        c.*,\n",
    "        CASE \n",
    "            WHEN c.user_id IN (SELECT DISTINCT user_id FROM premium_users) THEN 'premium'\n",
    "            ELSE 'free'\n",
    "        END AS user_type\n",
    "    FROM \n",
    "        clips c\n",
    "),\n",
    "agg AS (\n",
    "    SELECT \n",
    "        user_type,\n",
    "        game_name, \n",
    "        count(distinct id) as total_clips_created,\n",
    "        count(distinct user_id) as total_users_whose_clips_created,\n",
    "        cast(round(avg(duration),0) as integer) as average_duration_clips,\n",
    "        count(distinct event_name) as total_event,\n",
    "        cast(round(count(distinct id) / count(distinct user_id),0) as integer) as average_clips_per_user\n",
    "    FROM clip_with_user_type\n",
    "    GROUP BY user_type, game_name\n",
    ")\n",
    "\n",
    "SELECT \n",
    "    *,\n",
    "    ROUND(\n",
    "        total_clips_created * 100.0 \n",
    "        / SUM(total_clips_created) OVER (PARTITION BY user_type), \n",
    "        2\n",
    "    ) AS percentage_clips,\n",
    "    ROUND(\n",
    "        total_users_whose_clips_created * 100.0 \n",
    "        / SUM(total_users_whose_clips_created) OVER (PARTITION BY user_type), \n",
    "        2\n",
    "    ) AS percentage_users_whose_clips_created,\n",
    "    ROUND(\n",
    "        total_event * 100.0 \n",
    "        / SUM(total_event) OVER (PARTITION BY user_type), \n",
    "        2\n",
    "    ) AS percentage_event \n",
    "FROM agg\n",
    "ORDER BY user_type, percentage_users_whose_clips_created DESC\n",
    "\n",
    "\n",
    "---order by user_type, total_user_generated DESC\n",
    "\"\"\"\n",
    "\n",
    "df_agg_clip_by_user_type_per_game = con.execute(query).fetchdf()\n",
    "df_agg_clip_by_user_type_per_game.head(5)"
   ]
  },
  {
   "cell_type": "markdown",
   "id": "80a65187",
   "metadata": {},
   "source": [
    "#### Charts"
   ]
  },
  {
   "cell_type": "code",
   "execution_count": 94,
   "id": "3faaccac",
   "metadata": {},
   "outputs": [
    {
     "data": {
      "application/vnd.plotly.v1+json": {
       "config": {
        "plotlyServerURL": "https://plot.ly"
       },
       "data": [
        {
         "customdata": [
          [
           "Other Games"
          ],
          [
           null
          ],
          [
           "COD: Warzone3-2 & MW3-2"
          ],
          [
           "Fortnite"
          ],
          [
           "Podcast"
          ],
          [
           "Valorant"
          ],
          [
           "Apex Legends"
          ],
          [
           "Overwatch 2"
          ],
          [
           "Tom Clancy's Rainbow Six: Siege"
          ],
          [
           "League of Legends"
          ],
          [
           "NBA: 2K24"
          ],
          [
           "chatting"
          ],
          [
           "Rocket League"
          ],
          [
           "Dead by Daylight"
          ],
          [
           "Fall Guys"
          ],
          [
           "Counter Strike2"
          ],
          [
           "Madden NFL 24"
          ],
          [
           "Grand Theft Auto V"
          ],
          [
           "ROBLOX"
          ],
          [
           "FIFA 23-24 & EA Sports FC 24"
          ],
          [
           "Destiny "
          ],
          [
           "Mortal Kombat 1"
          ],
          [
           "COD: Black Ops Coldwar"
          ],
          [
           "The Texas Chain Saw Massacre"
          ],
          [
           "starfield"
          ],
          [
           "Halo Infinite"
          ],
          [
           "Farlight84"
          ],
          [
           "PlayerUnknown's Battlegrounds\n"
          ],
          [
           "Among Us"
          ],
          [
           "Party Animals"
          ],
          [
           "Elden Ring"
          ],
          [
           "Phasmophobia"
          ],
          [
           "THE FINALS"
          ],
          [
           "Naraka"
          ],
          [
           "Lies of P"
          ],
          [
           "My Hero Ultra Rumble"
          ],
          [
           "PAYDAY 3"
          ],
          [
           "COD: Mobile"
          ],
          [
           "Rogue Company"
          ],
          [
           "Marvel's Spider-Man 2"
          ],
          [
           "Street Fighter"
          ],
          [
           "Remnant 2"
          ],
          [
           "SMITE"
          ],
          [
           "Mobile Legend"
          ],
          [
           "Honkai: Star Rail"
          ],
          [
           "Fifa fc 2024"
          ],
          [
           "COD: Vanguard"
          ],
          [
           "Team Fight Tatics"
          ],
          [
           "Worlds of Tanks"
          ],
          [
           "Hearthstone"
          ],
          [
           "Freefire"
          ],
          [
           "MLB The Show 22&23"
          ],
          [
           "battlefield2042"
          ],
          [
           "SuperSmash Bros Ultimate"
          ]
         ],
         "hovertemplate": "user_type=free<br>total_clips_created=%{x}<br>total_users_whose_clips_created=%{y}<br>game_name=%{customdata[0]}<extra></extra>",
         "legendgroup": "free",
         "marker": {
          "color": "#636efa",
          "symbol": "circle"
         },
         "mode": "markers",
         "name": "free",
         "orientation": "v",
         "showlegend": true,
         "type": "scatter",
         "x": [
          96995,
          10091,
          79418,
          46749,
          10288,
          33465,
          16739,
          15323,
          4623,
          11668,
          4757,
          2129,
          5244,
          3553,
          1606,
          2830,
          2984,
          1391,
          1042,
          1548,
          1264,
          1053,
          666,
          395,
          526,
          394,
          379,
          622,
          212,
          270,
          375,
          249,
          607,
          321,
          196,
          169,
          80,
          128,
          155,
          63,
          248,
          41,
          81,
          138,
          45,
          32,
          30,
          20,
          89,
          3,
          16,
          15,
          55,
          11
         ],
         "xaxis": "x",
         "y": [
          2177,
          1299,
          971,
          802,
          448,
          384,
          304,
          175,
          144,
          122,
          119,
          111,
          108,
          99,
          82,
          71,
          66,
          55,
          54,
          52,
          37,
          27,
          24,
          23,
          18,
          18,
          18,
          17,
          17,
          17,
          16,
          15,
          15,
          12,
          11,
          7,
          7,
          7,
          7,
          6,
          5,
          5,
          4,
          3,
          3,
          3,
          3,
          2,
          2,
          1,
          1,
          1,
          1,
          1
         ],
         "yaxis": "y"
        },
        {
         "hovertemplate": "<b>OLS trendline</b><br>total_users_whose_clips_created = 0.0179361 * total_clips_created + 28.0566<br>R<sup>2</sup>=0.762768<br><br>user_type=free<br>total_clips_created=%{x}<br>total_users_whose_clips_created=%{y} <b>(trend)</b><extra></extra>",
         "legendgroup": "free",
         "marker": {
          "color": "#636efa",
          "symbol": "circle"
         },
         "mode": "lines",
         "name": "free",
         "showlegend": false,
         "type": "scatter",
         "x": [
          3,
          11,
          15,
          16,
          20,
          30,
          32,
          41,
          45,
          55,
          63,
          80,
          81,
          89,
          128,
          138,
          155,
          169,
          196,
          212,
          248,
          249,
          270,
          321,
          375,
          379,
          394,
          395,
          526,
          607,
          622,
          666,
          1042,
          1053,
          1264,
          1391,
          1548,
          1606,
          2129,
          2830,
          2984,
          3553,
          4623,
          4757,
          5244,
          10091,
          10288,
          11668,
          15323,
          16739,
          33465,
          46749,
          79418,
          96995
         ],
         "xaxis": "x",
         "y": [
          28.11040285781534,
          28.253891630769406,
          28.32563601724644,
          28.343572113865697,
          28.41531650034273,
          28.59467746653531,
          28.630549659773827,
          28.791974529347147,
          28.86371891582418,
          29.043079882016762,
          29.186568654970827,
          29.491482297498212,
          29.50941839411747,
          29.652907167071536,
          30.3524149352226,
          30.53177590141518,
          30.83668954394257,
          31.08779489661218,
          31.57206950533215,
          31.859047051240278,
          32.50474652953357,
          32.52268262615283,
          32.899340655157246,
          33.814081582739405,
          34.78263080017934,
          34.85437518665638,
          35.12341663594525,
          35.1413527325645,
          37.490981389687306,
          38.94380521584721,
          39.212846665136084,
          40.00203491638344,
          46.74600724522447,
          46.9433043080363,
          50.72782069469976,
          53.00570496534553,
          55.82167213456905,
          56.86196573848602,
          66.24254427035798,
          78.81574800045789,
          81.57790687982363,
          91.78354585618146,
          110.9751692387876,
          113.37860618576818,
          122.11348523934686,
          209.0497455528907,
          212.58315658688454,
          237.33496992146067,
          302.8914030648489,
          328.2889158777183,
          628.2880679314286,
          866.5511754216527,
          1452.5055158761945,
          1767.7682861528933
         ],
         "yaxis": "y"
        },
        {
         "customdata": [
          [
           "Other Games"
          ],
          [
           null
          ],
          [
           "COD: Warzone3-2 & MW3-2"
          ],
          [
           "Fortnite"
          ],
          [
           "Apex Legends"
          ],
          [
           "Valorant"
          ],
          [
           "chatting"
          ],
          [
           "Overwatch 2"
          ],
          [
           "League of Legends"
          ],
          [
           "Dead by Daylight"
          ],
          [
           "Tom Clancy's Rainbow Six: Siege"
          ],
          [
           "Fall Guys"
          ],
          [
           "Rocket League"
          ],
          [
           "Party Animals"
          ],
          [
           "Counter Strike2"
          ],
          [
           "Phasmophobia"
          ],
          [
           "THE FINALS"
          ],
          [
           "NBA: 2K24"
          ],
          [
           "Farlight84"
          ],
          [
           "Grand Theft Auto V"
          ],
          [
           "Halo Infinite"
          ],
          [
           "FIFA 23-24 & EA Sports FC 24"
          ],
          [
           "starfield"
          ],
          [
           "Podcast"
          ],
          [
           "The Texas Chain Saw Massacre"
          ],
          [
           "Madden NFL 24"
          ],
          [
           "ROBLOX"
          ],
          [
           "Destiny "
          ],
          [
           "Among Us"
          ],
          [
           "Honkai: Star Rail"
          ],
          [
           "Forza Motorsport"
          ],
          [
           "Team Fight Tatics"
          ],
          [
           "Marvel's Spider-Man 2"
          ],
          [
           "Game Detector"
          ],
          [
           "Lies of P"
          ],
          [
           "Elden Ring"
          ],
          [
           "Naraka"
          ],
          [
           "My Hero Ultra Rumble"
          ],
          [
           "PlayerUnknown's Battlegrounds\n"
          ],
          [
           "SMITE"
          ],
          [
           "Hearthstone"
          ],
          [
           "Remnant 2"
          ],
          [
           "Freefire"
          ],
          [
           "MLB The Show 22&23"
          ],
          [
           "SuperSmash Bros Ultimate"
          ],
          [
           "Fifa fc 2024"
          ],
          [
           "Rogue Company"
          ],
          [
           "COD: Mobile"
          ],
          [
           "COD: Vanguard"
          ],
          [
           "Street Fighter"
          ],
          [
           "Mortal Kombat 1"
          ],
          [
           "Mobile Legend"
          ],
          [
           "NHL 23"
          ],
          [
           "COD: Black Ops Coldwar"
          ]
         ],
         "hovertemplate": "user_type=premium<br>total_clips_created=%{x}<br>total_users_whose_clips_created=%{y}<br>game_name=%{customdata[0]}<extra></extra>",
         "legendgroup": "premium",
         "marker": {
          "color": "#EF553B",
          "symbol": "circle"
         },
         "mode": "markers",
         "name": "premium",
         "orientation": "v",
         "showlegend": true,
         "type": "scatter",
         "x": [
          32764,
          2670,
          60887,
          19010,
          12199,
          15121,
          1444,
          6774,
          13108,
          2645,
          3090,
          235,
          6860,
          256,
          3321,
          288,
          619,
          1740,
          472,
          553,
          1627,
          1567,
          167,
          291,
          266,
          369,
          121,
          236,
          30,
          308,
          207,
          45,
          13,
          14,
          261,
          112,
          146,
          28,
          56,
          214,
          34,
          42,
          19,
          28,
          3,
          21,
          45,
          10,
          7,
          8,
          105,
          94,
          66,
          24
         ],
         "xaxis": "x",
         "y": [
          252,
          158,
          116,
          90,
          43,
          40,
          27,
          24,
          21,
          21,
          17,
          14,
          13,
          11,
          11,
          10,
          10,
          9,
          9,
          9,
          8,
          7,
          7,
          7,
          6,
          6,
          5,
          5,
          4,
          4,
          4,
          3,
          3,
          3,
          3,
          3,
          2,
          2,
          2,
          2,
          2,
          2,
          1,
          1,
          1,
          1,
          1,
          1,
          1,
          1,
          1,
          1,
          1,
          1
         ],
         "yaxis": "y"
        },
        {
         "hovertemplate": "<b>OLS trendline</b><br>total_users_whose_clips_created = 0.00306608 * total_clips_created + 7.82374<br>R<sup>2</sup>=0.491374<br><br>user_type=premium<br>total_clips_created=%{x}<br>total_users_whose_clips_created=%{y} <b>(trend)</b><extra></extra>",
         "legendgroup": "premium",
         "marker": {
          "color": "#EF553B",
          "symbol": "circle"
         },
         "mode": "lines",
         "name": "premium",
         "showlegend": false,
         "type": "scatter",
         "x": [
          3,
          7,
          8,
          10,
          13,
          14,
          19,
          21,
          24,
          28,
          28,
          30,
          34,
          42,
          45,
          45,
          56,
          66,
          94,
          105,
          112,
          121,
          146,
          167,
          207,
          214,
          235,
          236,
          256,
          261,
          266,
          288,
          291,
          308,
          369,
          472,
          553,
          619,
          1444,
          1567,
          1627,
          1740,
          2645,
          2670,
          3090,
          3321,
          6774,
          6860,
          12199,
          13108,
          15121,
          19010,
          32764,
          60887
         ],
         "xaxis": "x",
         "y": [
          7.832941202061875,
          7.845205530227619,
          7.8482716122690555,
          7.854403776351927,
          7.863602022476235,
          7.866668104517672,
          7.8819985147248515,
          7.888130678807724,
          7.897328924932032,
          7.909593253097777,
          7.909593253097777,
          7.915725417180648,
          7.927989745346393,
          7.952518401677882,
          7.96171664780219,
          7.96171664780219,
          7.995443550257987,
          8.026104370672346,
          8.111954667832556,
          8.145681570288353,
          8.167144144578407,
          8.19473888295133,
          8.271390933987233,
          8.33577865685739,
          8.458421938514832,
          8.479884512804885,
          8.544272235675042,
          8.547338317716479,
          8.6086599585452,
          8.62399036875238,
          8.63932077895956,
          8.706774583871153,
          8.715972829995462,
          8.768096224699875,
          8.955127229227475,
          9.27093367949539,
          9.519286324851711,
          9.72164773958649,
          12.251165423771246,
          12.628293514867881,
          12.812258437354046,
          13.158725708036322,
          15.933529955535962,
          16.01018200657186,
          17.29793646397501,
          18.00620141554674,
          28.593382704625476,
          28.85706576018898,
          45.226877779416135,
          48.01394635508152,
          54.18596950449232,
          66.10996256363718,
          108.28085496154883,
          194.5082802128553
         ],
         "yaxis": "y"
        }
       ],
       "layout": {
        "legend": {
         "title": {
          "text": "user_type"
         },
         "tracegroupgap": 0
        },
        "template": {
         "data": {
          "bar": [
           {
            "error_x": {
             "color": "#2a3f5f"
            },
            "error_y": {
             "color": "#2a3f5f"
            },
            "marker": {
             "line": {
              "color": "#E5ECF6",
              "width": 0.5
             },
             "pattern": {
              "fillmode": "overlay",
              "size": 10,
              "solidity": 0.2
             }
            },
            "type": "bar"
           }
          ],
          "barpolar": [
           {
            "marker": {
             "line": {
              "color": "#E5ECF6",
              "width": 0.5
             },
             "pattern": {
              "fillmode": "overlay",
              "size": 10,
              "solidity": 0.2
             }
            },
            "type": "barpolar"
           }
          ],
          "carpet": [
           {
            "aaxis": {
             "endlinecolor": "#2a3f5f",
             "gridcolor": "white",
             "linecolor": "white",
             "minorgridcolor": "white",
             "startlinecolor": "#2a3f5f"
            },
            "baxis": {
             "endlinecolor": "#2a3f5f",
             "gridcolor": "white",
             "linecolor": "white",
             "minorgridcolor": "white",
             "startlinecolor": "#2a3f5f"
            },
            "type": "carpet"
           }
          ],
          "choropleth": [
           {
            "colorbar": {
             "outlinewidth": 0,
             "ticks": ""
            },
            "type": "choropleth"
           }
          ],
          "contour": [
           {
            "colorbar": {
             "outlinewidth": 0,
             "ticks": ""
            },
            "colorscale": [
             [
              0,
              "#0d0887"
             ],
             [
              0.1111111111111111,
              "#46039f"
             ],
             [
              0.2222222222222222,
              "#7201a8"
             ],
             [
              0.3333333333333333,
              "#9c179e"
             ],
             [
              0.4444444444444444,
              "#bd3786"
             ],
             [
              0.5555555555555556,
              "#d8576b"
             ],
             [
              0.6666666666666666,
              "#ed7953"
             ],
             [
              0.7777777777777778,
              "#fb9f3a"
             ],
             [
              0.8888888888888888,
              "#fdca26"
             ],
             [
              1,
              "#f0f921"
             ]
            ],
            "type": "contour"
           }
          ],
          "contourcarpet": [
           {
            "colorbar": {
             "outlinewidth": 0,
             "ticks": ""
            },
            "type": "contourcarpet"
           }
          ],
          "heatmap": [
           {
            "colorbar": {
             "outlinewidth": 0,
             "ticks": ""
            },
            "colorscale": [
             [
              0,
              "#0d0887"
             ],
             [
              0.1111111111111111,
              "#46039f"
             ],
             [
              0.2222222222222222,
              "#7201a8"
             ],
             [
              0.3333333333333333,
              "#9c179e"
             ],
             [
              0.4444444444444444,
              "#bd3786"
             ],
             [
              0.5555555555555556,
              "#d8576b"
             ],
             [
              0.6666666666666666,
              "#ed7953"
             ],
             [
              0.7777777777777778,
              "#fb9f3a"
             ],
             [
              0.8888888888888888,
              "#fdca26"
             ],
             [
              1,
              "#f0f921"
             ]
            ],
            "type": "heatmap"
           }
          ],
          "heatmapgl": [
           {
            "colorbar": {
             "outlinewidth": 0,
             "ticks": ""
            },
            "colorscale": [
             [
              0,
              "#0d0887"
             ],
             [
              0.1111111111111111,
              "#46039f"
             ],
             [
              0.2222222222222222,
              "#7201a8"
             ],
             [
              0.3333333333333333,
              "#9c179e"
             ],
             [
              0.4444444444444444,
              "#bd3786"
             ],
             [
              0.5555555555555556,
              "#d8576b"
             ],
             [
              0.6666666666666666,
              "#ed7953"
             ],
             [
              0.7777777777777778,
              "#fb9f3a"
             ],
             [
              0.8888888888888888,
              "#fdca26"
             ],
             [
              1,
              "#f0f921"
             ]
            ],
            "type": "heatmapgl"
           }
          ],
          "histogram": [
           {
            "marker": {
             "pattern": {
              "fillmode": "overlay",
              "size": 10,
              "solidity": 0.2
             }
            },
            "type": "histogram"
           }
          ],
          "histogram2d": [
           {
            "colorbar": {
             "outlinewidth": 0,
             "ticks": ""
            },
            "colorscale": [
             [
              0,
              "#0d0887"
             ],
             [
              0.1111111111111111,
              "#46039f"
             ],
             [
              0.2222222222222222,
              "#7201a8"
             ],
             [
              0.3333333333333333,
              "#9c179e"
             ],
             [
              0.4444444444444444,
              "#bd3786"
             ],
             [
              0.5555555555555556,
              "#d8576b"
             ],
             [
              0.6666666666666666,
              "#ed7953"
             ],
             [
              0.7777777777777778,
              "#fb9f3a"
             ],
             [
              0.8888888888888888,
              "#fdca26"
             ],
             [
              1,
              "#f0f921"
             ]
            ],
            "type": "histogram2d"
           }
          ],
          "histogram2dcontour": [
           {
            "colorbar": {
             "outlinewidth": 0,
             "ticks": ""
            },
            "colorscale": [
             [
              0,
              "#0d0887"
             ],
             [
              0.1111111111111111,
              "#46039f"
             ],
             [
              0.2222222222222222,
              "#7201a8"
             ],
             [
              0.3333333333333333,
              "#9c179e"
             ],
             [
              0.4444444444444444,
              "#bd3786"
             ],
             [
              0.5555555555555556,
              "#d8576b"
             ],
             [
              0.6666666666666666,
              "#ed7953"
             ],
             [
              0.7777777777777778,
              "#fb9f3a"
             ],
             [
              0.8888888888888888,
              "#fdca26"
             ],
             [
              1,
              "#f0f921"
             ]
            ],
            "type": "histogram2dcontour"
           }
          ],
          "mesh3d": [
           {
            "colorbar": {
             "outlinewidth": 0,
             "ticks": ""
            },
            "type": "mesh3d"
           }
          ],
          "parcoords": [
           {
            "line": {
             "colorbar": {
              "outlinewidth": 0,
              "ticks": ""
             }
            },
            "type": "parcoords"
           }
          ],
          "pie": [
           {
            "automargin": true,
            "type": "pie"
           }
          ],
          "scatter": [
           {
            "fillpattern": {
             "fillmode": "overlay",
             "size": 10,
             "solidity": 0.2
            },
            "type": "scatter"
           }
          ],
          "scatter3d": [
           {
            "line": {
             "colorbar": {
              "outlinewidth": 0,
              "ticks": ""
             }
            },
            "marker": {
             "colorbar": {
              "outlinewidth": 0,
              "ticks": ""
             }
            },
            "type": "scatter3d"
           }
          ],
          "scattercarpet": [
           {
            "marker": {
             "colorbar": {
              "outlinewidth": 0,
              "ticks": ""
             }
            },
            "type": "scattercarpet"
           }
          ],
          "scattergeo": [
           {
            "marker": {
             "colorbar": {
              "outlinewidth": 0,
              "ticks": ""
             }
            },
            "type": "scattergeo"
           }
          ],
          "scattergl": [
           {
            "marker": {
             "colorbar": {
              "outlinewidth": 0,
              "ticks": ""
             }
            },
            "type": "scattergl"
           }
          ],
          "scattermapbox": [
           {
            "marker": {
             "colorbar": {
              "outlinewidth": 0,
              "ticks": ""
             }
            },
            "type": "scattermapbox"
           }
          ],
          "scatterpolar": [
           {
            "marker": {
             "colorbar": {
              "outlinewidth": 0,
              "ticks": ""
             }
            },
            "type": "scatterpolar"
           }
          ],
          "scatterpolargl": [
           {
            "marker": {
             "colorbar": {
              "outlinewidth": 0,
              "ticks": ""
             }
            },
            "type": "scatterpolargl"
           }
          ],
          "scatterternary": [
           {
            "marker": {
             "colorbar": {
              "outlinewidth": 0,
              "ticks": ""
             }
            },
            "type": "scatterternary"
           }
          ],
          "surface": [
           {
            "colorbar": {
             "outlinewidth": 0,
             "ticks": ""
            },
            "colorscale": [
             [
              0,
              "#0d0887"
             ],
             [
              0.1111111111111111,
              "#46039f"
             ],
             [
              0.2222222222222222,
              "#7201a8"
             ],
             [
              0.3333333333333333,
              "#9c179e"
             ],
             [
              0.4444444444444444,
              "#bd3786"
             ],
             [
              0.5555555555555556,
              "#d8576b"
             ],
             [
              0.6666666666666666,
              "#ed7953"
             ],
             [
              0.7777777777777778,
              "#fb9f3a"
             ],
             [
              0.8888888888888888,
              "#fdca26"
             ],
             [
              1,
              "#f0f921"
             ]
            ],
            "type": "surface"
           }
          ],
          "table": [
           {
            "cells": {
             "fill": {
              "color": "#EBF0F8"
             },
             "line": {
              "color": "white"
             }
            },
            "header": {
             "fill": {
              "color": "#C8D4E3"
             },
             "line": {
              "color": "white"
             }
            },
            "type": "table"
           }
          ]
         },
         "layout": {
          "annotationdefaults": {
           "arrowcolor": "#2a3f5f",
           "arrowhead": 0,
           "arrowwidth": 1
          },
          "autotypenumbers": "strict",
          "coloraxis": {
           "colorbar": {
            "outlinewidth": 0,
            "ticks": ""
           }
          },
          "colorscale": {
           "diverging": [
            [
             0,
             "#8e0152"
            ],
            [
             0.1,
             "#c51b7d"
            ],
            [
             0.2,
             "#de77ae"
            ],
            [
             0.3,
             "#f1b6da"
            ],
            [
             0.4,
             "#fde0ef"
            ],
            [
             0.5,
             "#f7f7f7"
            ],
            [
             0.6,
             "#e6f5d0"
            ],
            [
             0.7,
             "#b8e186"
            ],
            [
             0.8,
             "#7fbc41"
            ],
            [
             0.9,
             "#4d9221"
            ],
            [
             1,
             "#276419"
            ]
           ],
           "sequential": [
            [
             0,
             "#0d0887"
            ],
            [
             0.1111111111111111,
             "#46039f"
            ],
            [
             0.2222222222222222,
             "#7201a8"
            ],
            [
             0.3333333333333333,
             "#9c179e"
            ],
            [
             0.4444444444444444,
             "#bd3786"
            ],
            [
             0.5555555555555556,
             "#d8576b"
            ],
            [
             0.6666666666666666,
             "#ed7953"
            ],
            [
             0.7777777777777778,
             "#fb9f3a"
            ],
            [
             0.8888888888888888,
             "#fdca26"
            ],
            [
             1,
             "#f0f921"
            ]
           ],
           "sequentialminus": [
            [
             0,
             "#0d0887"
            ],
            [
             0.1111111111111111,
             "#46039f"
            ],
            [
             0.2222222222222222,
             "#7201a8"
            ],
            [
             0.3333333333333333,
             "#9c179e"
            ],
            [
             0.4444444444444444,
             "#bd3786"
            ],
            [
             0.5555555555555556,
             "#d8576b"
            ],
            [
             0.6666666666666666,
             "#ed7953"
            ],
            [
             0.7777777777777778,
             "#fb9f3a"
            ],
            [
             0.8888888888888888,
             "#fdca26"
            ],
            [
             1,
             "#f0f921"
            ]
           ]
          },
          "colorway": [
           "#636efa",
           "#EF553B",
           "#00cc96",
           "#ab63fa",
           "#FFA15A",
           "#19d3f3",
           "#FF6692",
           "#B6E880",
           "#FF97FF",
           "#FECB52"
          ],
          "font": {
           "color": "#2a3f5f"
          },
          "geo": {
           "bgcolor": "white",
           "lakecolor": "white",
           "landcolor": "#E5ECF6",
           "showlakes": true,
           "showland": true,
           "subunitcolor": "white"
          },
          "hoverlabel": {
           "align": "left"
          },
          "hovermode": "closest",
          "mapbox": {
           "style": "light"
          },
          "paper_bgcolor": "white",
          "plot_bgcolor": "#E5ECF6",
          "polar": {
           "angularaxis": {
            "gridcolor": "white",
            "linecolor": "white",
            "ticks": ""
           },
           "bgcolor": "#E5ECF6",
           "radialaxis": {
            "gridcolor": "white",
            "linecolor": "white",
            "ticks": ""
           }
          },
          "scene": {
           "xaxis": {
            "backgroundcolor": "#E5ECF6",
            "gridcolor": "white",
            "gridwidth": 2,
            "linecolor": "white",
            "showbackground": true,
            "ticks": "",
            "zerolinecolor": "white"
           },
           "yaxis": {
            "backgroundcolor": "#E5ECF6",
            "gridcolor": "white",
            "gridwidth": 2,
            "linecolor": "white",
            "showbackground": true,
            "ticks": "",
            "zerolinecolor": "white"
           },
           "zaxis": {
            "backgroundcolor": "#E5ECF6",
            "gridcolor": "white",
            "gridwidth": 2,
            "linecolor": "white",
            "showbackground": true,
            "ticks": "",
            "zerolinecolor": "white"
           }
          },
          "shapedefaults": {
           "line": {
            "color": "#2a3f5f"
           }
          },
          "ternary": {
           "aaxis": {
            "gridcolor": "white",
            "linecolor": "white",
            "ticks": ""
           },
           "baxis": {
            "gridcolor": "white",
            "linecolor": "white",
            "ticks": ""
           },
           "bgcolor": "#E5ECF6",
           "caxis": {
            "gridcolor": "white",
            "linecolor": "white",
            "ticks": ""
           }
          },
          "title": {
           "x": 0.05
          },
          "xaxis": {
           "automargin": true,
           "gridcolor": "white",
           "linecolor": "white",
           "ticks": "",
           "title": {
            "standoff": 15
           },
           "zerolinecolor": "white",
           "zerolinewidth": 2
          },
          "yaxis": {
           "automargin": true,
           "gridcolor": "white",
           "linecolor": "white",
           "ticks": "",
           "title": {
            "standoff": 15
           },
           "zerolinecolor": "white",
           "zerolinewidth": 2
          }
         }
        },
        "title": {
         "text": "Scatter Plot: total_clips_created vs total_users_whose_clips_created per Game"
        },
        "xaxis": {
         "anchor": "y",
         "domain": [
          0,
          1
         ],
         "title": {
          "text": "total_clips_created"
         }
        },
        "yaxis": {
         "anchor": "x",
         "domain": [
          0,
          1
         ],
         "title": {
          "text": "total_users_whose_clips_created"
         }
        }
       }
      }
     },
     "metadata": {},
     "output_type": "display_data"
    },
    {
     "data": {
      "application/vnd.plotly.v1+json": {
       "config": {
        "plotlyServerURL": "https://plot.ly"
       },
       "data": [
        {
         "customdata": [
          [
           "Other Games"
          ],
          [
           null
          ],
          [
           "COD: Warzone3-2 & MW3-2"
          ],
          [
           "Fortnite"
          ],
          [
           "Podcast"
          ],
          [
           "Valorant"
          ],
          [
           "Apex Legends"
          ],
          [
           "Overwatch 2"
          ],
          [
           "Tom Clancy's Rainbow Six: Siege"
          ],
          [
           "League of Legends"
          ],
          [
           "NBA: 2K24"
          ],
          [
           "chatting"
          ],
          [
           "Rocket League"
          ],
          [
           "Dead by Daylight"
          ],
          [
           "Fall Guys"
          ],
          [
           "Counter Strike2"
          ],
          [
           "Madden NFL 24"
          ],
          [
           "Grand Theft Auto V"
          ],
          [
           "ROBLOX"
          ],
          [
           "FIFA 23-24 & EA Sports FC 24"
          ],
          [
           "Destiny "
          ],
          [
           "Mortal Kombat 1"
          ],
          [
           "COD: Black Ops Coldwar"
          ],
          [
           "The Texas Chain Saw Massacre"
          ],
          [
           "starfield"
          ],
          [
           "Halo Infinite"
          ],
          [
           "Farlight84"
          ],
          [
           "PlayerUnknown's Battlegrounds\n"
          ],
          [
           "Among Us"
          ],
          [
           "Party Animals"
          ],
          [
           "Elden Ring"
          ],
          [
           "Phasmophobia"
          ],
          [
           "THE FINALS"
          ],
          [
           "Naraka"
          ],
          [
           "Lies of P"
          ],
          [
           "My Hero Ultra Rumble"
          ],
          [
           "PAYDAY 3"
          ],
          [
           "COD: Mobile"
          ],
          [
           "Rogue Company"
          ],
          [
           "Marvel's Spider-Man 2"
          ],
          [
           "Street Fighter"
          ],
          [
           "Remnant 2"
          ],
          [
           "SMITE"
          ],
          [
           "Mobile Legend"
          ],
          [
           "Honkai: Star Rail"
          ],
          [
           "Fifa fc 2024"
          ],
          [
           "COD: Vanguard"
          ],
          [
           "Team Fight Tatics"
          ],
          [
           "Worlds of Tanks"
          ],
          [
           "Hearthstone"
          ],
          [
           "Freefire"
          ],
          [
           "MLB The Show 22&23"
          ],
          [
           "battlefield2042"
          ],
          [
           "SuperSmash Bros Ultimate"
          ]
         ],
         "hovertemplate": "user_type=free<br>total_clips_created=%{x}<br>average_duration_clips=%{y}<br>game_name=%{customdata[0]}<extra></extra>",
         "legendgroup": "free",
         "marker": {
          "color": "#636efa",
          "symbol": "circle"
         },
         "mode": "markers",
         "name": "free",
         "orientation": "v",
         "showlegend": true,
         "type": "scatter",
         "x": [
          96995,
          10091,
          79418,
          46749,
          10288,
          33465,
          16739,
          15323,
          4623,
          11668,
          4757,
          2129,
          5244,
          3553,
          1606,
          2830,
          2984,
          1391,
          1042,
          1548,
          1264,
          1053,
          666,
          395,
          526,
          394,
          379,
          622,
          212,
          270,
          375,
          249,
          607,
          321,
          196,
          169,
          80,
          128,
          155,
          63,
          248,
          41,
          81,
          138,
          45,
          32,
          30,
          20,
          89,
          3,
          16,
          15,
          55,
          11
         ],
         "xaxis": "x",
         "y": [
          104,
          34,
          49,
          37,
          61,
          44,
          42,
          83,
          18,
          32,
          26,
          55,
          48,
          38,
          85,
          30,
          36,
          46,
          48,
          62,
          40,
          29,
          29,
          54,
          29,
          40,
          28,
          23,
          30,
          59,
          17,
          49,
          29,
          29,
          29,
          29,
          63,
          29,
          29,
          29,
          29,
          29,
          29,
          45,
          47,
          57,
          29,
          39,
          36,
          19,
          262,
          24,
          28,
          29
         ],
         "yaxis": "y"
        },
        {
         "hovertemplate": "<b>OLS trendline</b><br>average_duration_clips = 0.000351072 * total_clips_created + 41.5949<br>R<sup>2</sup>=0.033854<br><br>user_type=free<br>total_clips_created=%{x}<br>average_duration_clips=%{y} <b>(trend)</b><extra></extra>",
         "legendgroup": "free",
         "marker": {
          "color": "#636efa",
          "symbol": "circle"
         },
         "mode": "lines",
         "name": "free",
         "showlegend": false,
         "type": "scatter",
         "x": [
          3,
          11,
          15,
          16,
          20,
          30,
          32,
          41,
          45,
          55,
          63,
          80,
          81,
          89,
          128,
          138,
          155,
          169,
          196,
          212,
          248,
          249,
          270,
          321,
          375,
          379,
          394,
          395,
          526,
          607,
          622,
          666,
          1042,
          1053,
          1264,
          1391,
          1548,
          1606,
          2129,
          2830,
          2984,
          3553,
          4623,
          4757,
          5244,
          10091,
          10288,
          11668,
          15323,
          16739,
          33465,
          46749,
          79418,
          96995
         ],
         "xaxis": "x",
         "y": [
          41.59597607072171,
          41.59878464461098,
          41.60018893155562,
          41.600540003291776,
          41.60194429023642,
          41.605455007598,
          41.60615715107033,
          41.60931679669576,
          41.61072108364039,
          41.614231801001985,
          41.61704037489126,
          41.62300859440596,
          41.62335966614212,
          41.6261682400314,
          41.6398600377416,
          41.64337075510319,
          41.6493389746179,
          41.654253978924125,
          41.66373291580042,
          41.66935006357897,
          41.6819886460807,
          41.68233971781686,
          41.6897122242762,
          41.70761688282031,
          41.72657475657291,
          41.72797904351754,
          41.73324511955993,
          41.73359619129609,
          41.77958658873293,
          41.80802339936182,
          41.81328947540421,
          41.828736631795216,
          41.96073960459105,
          41.964601393688795,
          42.038677530018376,
          42.08326364051059,
          42.13838190308757,
          42.158744063784795,
          42.34235458179602,
          42.588455868843575,
          42.642520916212085,
          42.84228073408663,
          43.2179274917769,
          43.26497110442222,
          43.43594303993172,
          45.13758774509503,
          45.20674887711838,
          45.691227873017986,
          46.97439506867961,
          47.47151264708094,
          53.34353850607859,
          58.00717544921649,
          69.47633799779918,
          75.64712590426824
         ],
         "yaxis": "y"
        },
        {
         "customdata": [
          [
           "Other Games"
          ],
          [
           null
          ],
          [
           "COD: Warzone3-2 & MW3-2"
          ],
          [
           "Fortnite"
          ],
          [
           "Apex Legends"
          ],
          [
           "Valorant"
          ],
          [
           "chatting"
          ],
          [
           "Overwatch 2"
          ],
          [
           "League of Legends"
          ],
          [
           "Dead by Daylight"
          ],
          [
           "Tom Clancy's Rainbow Six: Siege"
          ],
          [
           "Fall Guys"
          ],
          [
           "Rocket League"
          ],
          [
           "Party Animals"
          ],
          [
           "Counter Strike2"
          ],
          [
           "Phasmophobia"
          ],
          [
           "THE FINALS"
          ],
          [
           "NBA: 2K24"
          ],
          [
           "Farlight84"
          ],
          [
           "Grand Theft Auto V"
          ],
          [
           "Halo Infinite"
          ],
          [
           "FIFA 23-24 & EA Sports FC 24"
          ],
          [
           "starfield"
          ],
          [
           "Podcast"
          ],
          [
           "The Texas Chain Saw Massacre"
          ],
          [
           "Madden NFL 24"
          ],
          [
           "ROBLOX"
          ],
          [
           "Destiny "
          ],
          [
           "Among Us"
          ],
          [
           "Honkai: Star Rail"
          ],
          [
           "Forza Motorsport"
          ],
          [
           "Team Fight Tatics"
          ],
          [
           "Marvel's Spider-Man 2"
          ],
          [
           "Game Detector"
          ],
          [
           "Lies of P"
          ],
          [
           "Elden Ring"
          ],
          [
           "Naraka"
          ],
          [
           "My Hero Ultra Rumble"
          ],
          [
           "PlayerUnknown's Battlegrounds\n"
          ],
          [
           "SMITE"
          ],
          [
           "Hearthstone"
          ],
          [
           "Remnant 2"
          ],
          [
           "Freefire"
          ],
          [
           "MLB The Show 22&23"
          ],
          [
           "SuperSmash Bros Ultimate"
          ],
          [
           "Fifa fc 2024"
          ],
          [
           "Rogue Company"
          ],
          [
           "COD: Mobile"
          ],
          [
           "COD: Vanguard"
          ],
          [
           "Street Fighter"
          ],
          [
           "Mortal Kombat 1"
          ],
          [
           "Mobile Legend"
          ],
          [
           "NHL 23"
          ],
          [
           "COD: Black Ops Coldwar"
          ]
         ],
         "hovertemplate": "user_type=premium<br>total_clips_created=%{x}<br>average_duration_clips=%{y}<br>game_name=%{customdata[0]}<extra></extra>",
         "legendgroup": "premium",
         "marker": {
          "color": "#EF553B",
          "symbol": "circle"
         },
         "mode": "markers",
         "name": "premium",
         "orientation": "v",
         "showlegend": true,
         "type": "scatter",
         "x": [
          32764,
          2670,
          60887,
          19010,
          12199,
          15121,
          1444,
          6774,
          13108,
          2645,
          3090,
          235,
          6860,
          256,
          3321,
          288,
          619,
          1740,
          472,
          553,
          1627,
          1567,
          167,
          291,
          266,
          369,
          121,
          236,
          30,
          308,
          207,
          45,
          13,
          14,
          261,
          112,
          146,
          28,
          56,
          214,
          34,
          42,
          19,
          28,
          3,
          21,
          45,
          10,
          7,
          8,
          105,
          94,
          66,
          24
         ],
         "xaxis": "x",
         "y": [
          92,
          26,
          42,
          30,
          37,
          34,
          52,
          78,
          32,
          39,
          21,
          87,
          41,
          54,
          26,
          52,
          29,
          27,
          29,
          49,
          32,
          63,
          29,
          63,
          60,
          37,
          57,
          38,
          36,
          50,
          29,
          46,
          33,
          78,
          29,
          14,
          29,
          29,
          24,
          29,
          29,
          29,
          257,
          24,
          29,
          58,
          29,
          29,
          14,
          29,
          29,
          51,
          28,
          29
         ],
         "yaxis": "y"
        },
        {
         "hovertemplate": "<b>OLS trendline</b><br>average_duration_clips = 0.000173833 * total_clips_created + 42.8307<br>R<sup>2</sup>=0.002499<br><br>user_type=premium<br>total_clips_created=%{x}<br>average_duration_clips=%{y} <b>(trend)</b><extra></extra>",
         "legendgroup": "premium",
         "marker": {
          "color": "#EF553B",
          "symbol": "circle"
         },
         "mode": "lines",
         "name": "premium",
         "showlegend": false,
         "type": "scatter",
         "x": [
          3,
          7,
          8,
          10,
          13,
          14,
          19,
          21,
          24,
          28,
          28,
          30,
          34,
          42,
          45,
          45,
          56,
          66,
          94,
          105,
          112,
          121,
          146,
          167,
          207,
          214,
          235,
          236,
          256,
          261,
          266,
          288,
          291,
          308,
          369,
          472,
          553,
          619,
          1444,
          1567,
          1627,
          1740,
          2645,
          2670,
          3090,
          3321,
          6774,
          6860,
          12199,
          13108,
          15121,
          19010,
          32764,
          60887
         ],
         "xaxis": "x",
         "y": [
          42.83127091222767,
          42.831966244407546,
          42.832140077452515,
          42.83248774354246,
          42.83300924267736,
          42.83318307572233,
          42.83405224094718,
          42.834399907037124,
          42.83492140617203,
          42.83561673835191,
          42.83561673835191,
          42.835964404441846,
          42.836659736621726,
          42.83805040098148,
          42.83857190011639,
          42.83857190011639,
          42.84048406361106,
          42.84222239406075,
          42.8470897193199,
          42.84900188281456,
          42.85021871412935,
          42.85178321153408,
          42.85612903765831,
          42.85977953160267,
          42.86673285340145,
          42.86794968471624,
          42.8716001786606,
          42.87177401170557,
          42.87525067260496,
          42.876119837829805,
          42.87698900305465,
          42.880813330043985,
          42.8813348291789,
          42.88428999094337,
          42.89489380668652,
          42.912798610318376,
          42.92687908696091,
          42.938352067928896,
          43.08176433002876,
          43.103145794560014,
          43.113575777258184,
          43.13321891133974,
          43.29053781703717,
          43.294883643161405,
          43.367893522048604,
          43.40804895543657,
          44.00829445971635,
          44.023244101583735,
          44.95133872867605,
          45.10935296655335,
          45.459278886077016,
          46.13531559796351,
          48.52621529847442,
          53.414922022152496
         ],
         "yaxis": "y"
        }
       ],
       "layout": {
        "legend": {
         "title": {
          "text": "user_type"
         },
         "tracegroupgap": 0
        },
        "template": {
         "data": {
          "bar": [
           {
            "error_x": {
             "color": "#2a3f5f"
            },
            "error_y": {
             "color": "#2a3f5f"
            },
            "marker": {
             "line": {
              "color": "#E5ECF6",
              "width": 0.5
             },
             "pattern": {
              "fillmode": "overlay",
              "size": 10,
              "solidity": 0.2
             }
            },
            "type": "bar"
           }
          ],
          "barpolar": [
           {
            "marker": {
             "line": {
              "color": "#E5ECF6",
              "width": 0.5
             },
             "pattern": {
              "fillmode": "overlay",
              "size": 10,
              "solidity": 0.2
             }
            },
            "type": "barpolar"
           }
          ],
          "carpet": [
           {
            "aaxis": {
             "endlinecolor": "#2a3f5f",
             "gridcolor": "white",
             "linecolor": "white",
             "minorgridcolor": "white",
             "startlinecolor": "#2a3f5f"
            },
            "baxis": {
             "endlinecolor": "#2a3f5f",
             "gridcolor": "white",
             "linecolor": "white",
             "minorgridcolor": "white",
             "startlinecolor": "#2a3f5f"
            },
            "type": "carpet"
           }
          ],
          "choropleth": [
           {
            "colorbar": {
             "outlinewidth": 0,
             "ticks": ""
            },
            "type": "choropleth"
           }
          ],
          "contour": [
           {
            "colorbar": {
             "outlinewidth": 0,
             "ticks": ""
            },
            "colorscale": [
             [
              0,
              "#0d0887"
             ],
             [
              0.1111111111111111,
              "#46039f"
             ],
             [
              0.2222222222222222,
              "#7201a8"
             ],
             [
              0.3333333333333333,
              "#9c179e"
             ],
             [
              0.4444444444444444,
              "#bd3786"
             ],
             [
              0.5555555555555556,
              "#d8576b"
             ],
             [
              0.6666666666666666,
              "#ed7953"
             ],
             [
              0.7777777777777778,
              "#fb9f3a"
             ],
             [
              0.8888888888888888,
              "#fdca26"
             ],
             [
              1,
              "#f0f921"
             ]
            ],
            "type": "contour"
           }
          ],
          "contourcarpet": [
           {
            "colorbar": {
             "outlinewidth": 0,
             "ticks": ""
            },
            "type": "contourcarpet"
           }
          ],
          "heatmap": [
           {
            "colorbar": {
             "outlinewidth": 0,
             "ticks": ""
            },
            "colorscale": [
             [
              0,
              "#0d0887"
             ],
             [
              0.1111111111111111,
              "#46039f"
             ],
             [
              0.2222222222222222,
              "#7201a8"
             ],
             [
              0.3333333333333333,
              "#9c179e"
             ],
             [
              0.4444444444444444,
              "#bd3786"
             ],
             [
              0.5555555555555556,
              "#d8576b"
             ],
             [
              0.6666666666666666,
              "#ed7953"
             ],
             [
              0.7777777777777778,
              "#fb9f3a"
             ],
             [
              0.8888888888888888,
              "#fdca26"
             ],
             [
              1,
              "#f0f921"
             ]
            ],
            "type": "heatmap"
           }
          ],
          "heatmapgl": [
           {
            "colorbar": {
             "outlinewidth": 0,
             "ticks": ""
            },
            "colorscale": [
             [
              0,
              "#0d0887"
             ],
             [
              0.1111111111111111,
              "#46039f"
             ],
             [
              0.2222222222222222,
              "#7201a8"
             ],
             [
              0.3333333333333333,
              "#9c179e"
             ],
             [
              0.4444444444444444,
              "#bd3786"
             ],
             [
              0.5555555555555556,
              "#d8576b"
             ],
             [
              0.6666666666666666,
              "#ed7953"
             ],
             [
              0.7777777777777778,
              "#fb9f3a"
             ],
             [
              0.8888888888888888,
              "#fdca26"
             ],
             [
              1,
              "#f0f921"
             ]
            ],
            "type": "heatmapgl"
           }
          ],
          "histogram": [
           {
            "marker": {
             "pattern": {
              "fillmode": "overlay",
              "size": 10,
              "solidity": 0.2
             }
            },
            "type": "histogram"
           }
          ],
          "histogram2d": [
           {
            "colorbar": {
             "outlinewidth": 0,
             "ticks": ""
            },
            "colorscale": [
             [
              0,
              "#0d0887"
             ],
             [
              0.1111111111111111,
              "#46039f"
             ],
             [
              0.2222222222222222,
              "#7201a8"
             ],
             [
              0.3333333333333333,
              "#9c179e"
             ],
             [
              0.4444444444444444,
              "#bd3786"
             ],
             [
              0.5555555555555556,
              "#d8576b"
             ],
             [
              0.6666666666666666,
              "#ed7953"
             ],
             [
              0.7777777777777778,
              "#fb9f3a"
             ],
             [
              0.8888888888888888,
              "#fdca26"
             ],
             [
              1,
              "#f0f921"
             ]
            ],
            "type": "histogram2d"
           }
          ],
          "histogram2dcontour": [
           {
            "colorbar": {
             "outlinewidth": 0,
             "ticks": ""
            },
            "colorscale": [
             [
              0,
              "#0d0887"
             ],
             [
              0.1111111111111111,
              "#46039f"
             ],
             [
              0.2222222222222222,
              "#7201a8"
             ],
             [
              0.3333333333333333,
              "#9c179e"
             ],
             [
              0.4444444444444444,
              "#bd3786"
             ],
             [
              0.5555555555555556,
              "#d8576b"
             ],
             [
              0.6666666666666666,
              "#ed7953"
             ],
             [
              0.7777777777777778,
              "#fb9f3a"
             ],
             [
              0.8888888888888888,
              "#fdca26"
             ],
             [
              1,
              "#f0f921"
             ]
            ],
            "type": "histogram2dcontour"
           }
          ],
          "mesh3d": [
           {
            "colorbar": {
             "outlinewidth": 0,
             "ticks": ""
            },
            "type": "mesh3d"
           }
          ],
          "parcoords": [
           {
            "line": {
             "colorbar": {
              "outlinewidth": 0,
              "ticks": ""
             }
            },
            "type": "parcoords"
           }
          ],
          "pie": [
           {
            "automargin": true,
            "type": "pie"
           }
          ],
          "scatter": [
           {
            "fillpattern": {
             "fillmode": "overlay",
             "size": 10,
             "solidity": 0.2
            },
            "type": "scatter"
           }
          ],
          "scatter3d": [
           {
            "line": {
             "colorbar": {
              "outlinewidth": 0,
              "ticks": ""
             }
            },
            "marker": {
             "colorbar": {
              "outlinewidth": 0,
              "ticks": ""
             }
            },
            "type": "scatter3d"
           }
          ],
          "scattercarpet": [
           {
            "marker": {
             "colorbar": {
              "outlinewidth": 0,
              "ticks": ""
             }
            },
            "type": "scattercarpet"
           }
          ],
          "scattergeo": [
           {
            "marker": {
             "colorbar": {
              "outlinewidth": 0,
              "ticks": ""
             }
            },
            "type": "scattergeo"
           }
          ],
          "scattergl": [
           {
            "marker": {
             "colorbar": {
              "outlinewidth": 0,
              "ticks": ""
             }
            },
            "type": "scattergl"
           }
          ],
          "scattermapbox": [
           {
            "marker": {
             "colorbar": {
              "outlinewidth": 0,
              "ticks": ""
             }
            },
            "type": "scattermapbox"
           }
          ],
          "scatterpolar": [
           {
            "marker": {
             "colorbar": {
              "outlinewidth": 0,
              "ticks": ""
             }
            },
            "type": "scatterpolar"
           }
          ],
          "scatterpolargl": [
           {
            "marker": {
             "colorbar": {
              "outlinewidth": 0,
              "ticks": ""
             }
            },
            "type": "scatterpolargl"
           }
          ],
          "scatterternary": [
           {
            "marker": {
             "colorbar": {
              "outlinewidth": 0,
              "ticks": ""
             }
            },
            "type": "scatterternary"
           }
          ],
          "surface": [
           {
            "colorbar": {
             "outlinewidth": 0,
             "ticks": ""
            },
            "colorscale": [
             [
              0,
              "#0d0887"
             ],
             [
              0.1111111111111111,
              "#46039f"
             ],
             [
              0.2222222222222222,
              "#7201a8"
             ],
             [
              0.3333333333333333,
              "#9c179e"
             ],
             [
              0.4444444444444444,
              "#bd3786"
             ],
             [
              0.5555555555555556,
              "#d8576b"
             ],
             [
              0.6666666666666666,
              "#ed7953"
             ],
             [
              0.7777777777777778,
              "#fb9f3a"
             ],
             [
              0.8888888888888888,
              "#fdca26"
             ],
             [
              1,
              "#f0f921"
             ]
            ],
            "type": "surface"
           }
          ],
          "table": [
           {
            "cells": {
             "fill": {
              "color": "#EBF0F8"
             },
             "line": {
              "color": "white"
             }
            },
            "header": {
             "fill": {
              "color": "#C8D4E3"
             },
             "line": {
              "color": "white"
             }
            },
            "type": "table"
           }
          ]
         },
         "layout": {
          "annotationdefaults": {
           "arrowcolor": "#2a3f5f",
           "arrowhead": 0,
           "arrowwidth": 1
          },
          "autotypenumbers": "strict",
          "coloraxis": {
           "colorbar": {
            "outlinewidth": 0,
            "ticks": ""
           }
          },
          "colorscale": {
           "diverging": [
            [
             0,
             "#8e0152"
            ],
            [
             0.1,
             "#c51b7d"
            ],
            [
             0.2,
             "#de77ae"
            ],
            [
             0.3,
             "#f1b6da"
            ],
            [
             0.4,
             "#fde0ef"
            ],
            [
             0.5,
             "#f7f7f7"
            ],
            [
             0.6,
             "#e6f5d0"
            ],
            [
             0.7,
             "#b8e186"
            ],
            [
             0.8,
             "#7fbc41"
            ],
            [
             0.9,
             "#4d9221"
            ],
            [
             1,
             "#276419"
            ]
           ],
           "sequential": [
            [
             0,
             "#0d0887"
            ],
            [
             0.1111111111111111,
             "#46039f"
            ],
            [
             0.2222222222222222,
             "#7201a8"
            ],
            [
             0.3333333333333333,
             "#9c179e"
            ],
            [
             0.4444444444444444,
             "#bd3786"
            ],
            [
             0.5555555555555556,
             "#d8576b"
            ],
            [
             0.6666666666666666,
             "#ed7953"
            ],
            [
             0.7777777777777778,
             "#fb9f3a"
            ],
            [
             0.8888888888888888,
             "#fdca26"
            ],
            [
             1,
             "#f0f921"
            ]
           ],
           "sequentialminus": [
            [
             0,
             "#0d0887"
            ],
            [
             0.1111111111111111,
             "#46039f"
            ],
            [
             0.2222222222222222,
             "#7201a8"
            ],
            [
             0.3333333333333333,
             "#9c179e"
            ],
            [
             0.4444444444444444,
             "#bd3786"
            ],
            [
             0.5555555555555556,
             "#d8576b"
            ],
            [
             0.6666666666666666,
             "#ed7953"
            ],
            [
             0.7777777777777778,
             "#fb9f3a"
            ],
            [
             0.8888888888888888,
             "#fdca26"
            ],
            [
             1,
             "#f0f921"
            ]
           ]
          },
          "colorway": [
           "#636efa",
           "#EF553B",
           "#00cc96",
           "#ab63fa",
           "#FFA15A",
           "#19d3f3",
           "#FF6692",
           "#B6E880",
           "#FF97FF",
           "#FECB52"
          ],
          "font": {
           "color": "#2a3f5f"
          },
          "geo": {
           "bgcolor": "white",
           "lakecolor": "white",
           "landcolor": "#E5ECF6",
           "showlakes": true,
           "showland": true,
           "subunitcolor": "white"
          },
          "hoverlabel": {
           "align": "left"
          },
          "hovermode": "closest",
          "mapbox": {
           "style": "light"
          },
          "paper_bgcolor": "white",
          "plot_bgcolor": "#E5ECF6",
          "polar": {
           "angularaxis": {
            "gridcolor": "white",
            "linecolor": "white",
            "ticks": ""
           },
           "bgcolor": "#E5ECF6",
           "radialaxis": {
            "gridcolor": "white",
            "linecolor": "white",
            "ticks": ""
           }
          },
          "scene": {
           "xaxis": {
            "backgroundcolor": "#E5ECF6",
            "gridcolor": "white",
            "gridwidth": 2,
            "linecolor": "white",
            "showbackground": true,
            "ticks": "",
            "zerolinecolor": "white"
           },
           "yaxis": {
            "backgroundcolor": "#E5ECF6",
            "gridcolor": "white",
            "gridwidth": 2,
            "linecolor": "white",
            "showbackground": true,
            "ticks": "",
            "zerolinecolor": "white"
           },
           "zaxis": {
            "backgroundcolor": "#E5ECF6",
            "gridcolor": "white",
            "gridwidth": 2,
            "linecolor": "white",
            "showbackground": true,
            "ticks": "",
            "zerolinecolor": "white"
           }
          },
          "shapedefaults": {
           "line": {
            "color": "#2a3f5f"
           }
          },
          "ternary": {
           "aaxis": {
            "gridcolor": "white",
            "linecolor": "white",
            "ticks": ""
           },
           "baxis": {
            "gridcolor": "white",
            "linecolor": "white",
            "ticks": ""
           },
           "bgcolor": "#E5ECF6",
           "caxis": {
            "gridcolor": "white",
            "linecolor": "white",
            "ticks": ""
           }
          },
          "title": {
           "x": 0.05
          },
          "xaxis": {
           "automargin": true,
           "gridcolor": "white",
           "linecolor": "white",
           "ticks": "",
           "title": {
            "standoff": 15
           },
           "zerolinecolor": "white",
           "zerolinewidth": 2
          },
          "yaxis": {
           "automargin": true,
           "gridcolor": "white",
           "linecolor": "white",
           "ticks": "",
           "title": {
            "standoff": 15
           },
           "zerolinecolor": "white",
           "zerolinewidth": 2
          }
         }
        },
        "title": {
         "text": "Scatter Plot: total_clips_created vs average_duration_clips per Game"
        },
        "xaxis": {
         "anchor": "y",
         "domain": [
          0,
          1
         ],
         "title": {
          "text": "total_clips_created"
         }
        },
        "yaxis": {
         "anchor": "x",
         "domain": [
          0,
          1
         ],
         "title": {
          "text": "average_duration_clips"
         }
        }
       }
      }
     },
     "metadata": {},
     "output_type": "display_data"
    },
    {
     "data": {
      "application/vnd.plotly.v1+json": {
       "config": {
        "plotlyServerURL": "https://plot.ly"
       },
       "data": [
        {
         "customdata": [
          [
           "Other Games"
          ],
          [
           null
          ],
          [
           "COD: Warzone3-2 & MW3-2"
          ],
          [
           "Fortnite"
          ],
          [
           "Podcast"
          ],
          [
           "Valorant"
          ],
          [
           "Apex Legends"
          ],
          [
           "Overwatch 2"
          ],
          [
           "Tom Clancy's Rainbow Six: Siege"
          ],
          [
           "League of Legends"
          ],
          [
           "NBA: 2K24"
          ],
          [
           "chatting"
          ],
          [
           "Rocket League"
          ],
          [
           "Dead by Daylight"
          ],
          [
           "Fall Guys"
          ],
          [
           "Counter Strike2"
          ],
          [
           "Madden NFL 24"
          ],
          [
           "Grand Theft Auto V"
          ],
          [
           "ROBLOX"
          ],
          [
           "FIFA 23-24 & EA Sports FC 24"
          ],
          [
           "Destiny "
          ],
          [
           "Mortal Kombat 1"
          ],
          [
           "COD: Black Ops Coldwar"
          ],
          [
           "The Texas Chain Saw Massacre"
          ],
          [
           "starfield"
          ],
          [
           "Halo Infinite"
          ],
          [
           "Farlight84"
          ],
          [
           "PlayerUnknown's Battlegrounds\n"
          ],
          [
           "Among Us"
          ],
          [
           "Party Animals"
          ],
          [
           "Elden Ring"
          ],
          [
           "Phasmophobia"
          ],
          [
           "THE FINALS"
          ],
          [
           "Naraka"
          ],
          [
           "Lies of P"
          ],
          [
           "My Hero Ultra Rumble"
          ],
          [
           "PAYDAY 3"
          ],
          [
           "COD: Mobile"
          ],
          [
           "Rogue Company"
          ],
          [
           "Marvel's Spider-Man 2"
          ],
          [
           "Street Fighter"
          ],
          [
           "Remnant 2"
          ],
          [
           "SMITE"
          ],
          [
           "Mobile Legend"
          ],
          [
           "Honkai: Star Rail"
          ],
          [
           "Fifa fc 2024"
          ],
          [
           "COD: Vanguard"
          ],
          [
           "Team Fight Tatics"
          ],
          [
           "Worlds of Tanks"
          ],
          [
           "Hearthstone"
          ],
          [
           "Freefire"
          ],
          [
           "MLB The Show 22&23"
          ],
          [
           "battlefield2042"
          ],
          [
           "SuperSmash Bros Ultimate"
          ]
         ],
         "hovertemplate": "user_type=free<br>total_clips_created=%{x}<br>total_event=%{y}<br>game_name=%{customdata[0]}<extra></extra>",
         "legendgroup": "free",
         "marker": {
          "color": "#636efa",
          "symbol": "circle"
         },
         "mode": "markers",
         "name": "free",
         "orientation": "v",
         "showlegend": true,
         "type": "scatter",
         "x": [
          96995,
          10091,
          79418,
          46749,
          10288,
          33465,
          16739,
          15323,
          4623,
          11668,
          4757,
          2129,
          5244,
          3553,
          1606,
          2830,
          2984,
          1391,
          1042,
          1548,
          1264,
          1053,
          666,
          395,
          526,
          394,
          379,
          622,
          212,
          270,
          375,
          249,
          607,
          321,
          196,
          169,
          80,
          128,
          155,
          63,
          248,
          41,
          81,
          138,
          45,
          32,
          30,
          20,
          89,
          3,
          16,
          15,
          55,
          11
         ],
         "xaxis": "x",
         "y": [
          8,
          0,
          17,
          9,
          1,
          8,
          10,
          4,
          4,
          7,
          4,
          2,
          3,
          4,
          3,
          2,
          6,
          2,
          2,
          1,
          4,
          2,
          5,
          2,
          4,
          3,
          3,
          8,
          3,
          2,
          4,
          2,
          4,
          1,
          2,
          2,
          1,
          4,
          4,
          2,
          3,
          2,
          2,
          5,
          1,
          1,
          2,
          1,
          1,
          2,
          3,
          2,
          1,
          1
         ],
         "yaxis": "y"
        },
        {
         "hovertemplate": "<b>OLS trendline</b><br>total_event = 0.00011534 * total_clips_created + 2.67254<br>R<sup>2</sup>=0.515888<br><br>user_type=free<br>total_clips_created=%{x}<br>total_event=%{y} <b>(trend)</b><extra></extra>",
         "legendgroup": "free",
         "marker": {
          "color": "#636efa",
          "symbol": "circle"
         },
         "mode": "lines",
         "name": "free",
         "showlegend": false,
         "type": "scatter",
         "x": [
          3,
          11,
          15,
          16,
          20,
          30,
          32,
          41,
          45,
          55,
          63,
          80,
          81,
          89,
          128,
          138,
          155,
          169,
          196,
          212,
          248,
          249,
          270,
          321,
          375,
          379,
          394,
          395,
          526,
          607,
          622,
          666,
          1042,
          1053,
          1264,
          1391,
          1548,
          1606,
          2129,
          2830,
          2984,
          3553,
          4623,
          4757,
          5244,
          10091,
          10288,
          11668,
          15323,
          16739,
          33465,
          46749,
          79418,
          96995
         ],
         "xaxis": "x",
         "y": [
          2.6728845328440354,
          2.673807254668173,
          2.6742686155802415,
          2.6743839558082585,
          2.6748453167203277,
          2.6759987190004995,
          2.676229399456534,
          2.6772674615086887,
          2.6777288224207574,
          2.678882224700929,
          2.6798049465250666,
          2.681765730401359,
          2.6818810706293763,
          2.6828037924535137,
          2.687302061346184,
          2.6884554636263562,
          2.6904162475026485,
          2.692031010694889,
          2.695145196851353,
          2.696990640499628,
          2.701142888708247,
          2.7012582289362643,
          2.7036803737246253,
          2.709562725353502,
          2.7157910976664303,
          2.716252458578499,
          2.717982561998757,
          2.7180979022267744,
          2.7332074720970265,
          2.7425500305664188,
          2.7442801339866767,
          2.749355104019433,
          2.792723029753897,
          2.7939917722620864,
          2.818328560373714,
          2.832976769331897,
          2.851085185130596,
          2.857774918355593,
          2.918097857608584,
          2.9989513574486355,
          3.016713752563283,
          3.082342342305065,
          3.20575638628346,
          3.2212119768377634,
          3.2773826678821356,
          3.836436753081463,
          3.8591587780008494,
          4.018328292664574,
          4.439896826067408,
          4.603218588939752,
          6.532399242755297,
          8.064578831735668,
          11.832628740829296,
          13.85996392868747
         ],
         "yaxis": "y"
        },
        {
         "customdata": [
          [
           "Other Games"
          ],
          [
           null
          ],
          [
           "COD: Warzone3-2 & MW3-2"
          ],
          [
           "Fortnite"
          ],
          [
           "Apex Legends"
          ],
          [
           "Valorant"
          ],
          [
           "chatting"
          ],
          [
           "Overwatch 2"
          ],
          [
           "League of Legends"
          ],
          [
           "Dead by Daylight"
          ],
          [
           "Tom Clancy's Rainbow Six: Siege"
          ],
          [
           "Fall Guys"
          ],
          [
           "Rocket League"
          ],
          [
           "Party Animals"
          ],
          [
           "Counter Strike2"
          ],
          [
           "Phasmophobia"
          ],
          [
           "THE FINALS"
          ],
          [
           "NBA: 2K24"
          ],
          [
           "Farlight84"
          ],
          [
           "Grand Theft Auto V"
          ],
          [
           "Halo Infinite"
          ],
          [
           "FIFA 23-24 & EA Sports FC 24"
          ],
          [
           "starfield"
          ],
          [
           "Podcast"
          ],
          [
           "The Texas Chain Saw Massacre"
          ],
          [
           "Madden NFL 24"
          ],
          [
           "ROBLOX"
          ],
          [
           "Destiny "
          ],
          [
           "Among Us"
          ],
          [
           "Honkai: Star Rail"
          ],
          [
           "Forza Motorsport"
          ],
          [
           "Team Fight Tatics"
          ],
          [
           "Marvel's Spider-Man 2"
          ],
          [
           "Game Detector"
          ],
          [
           "Lies of P"
          ],
          [
           "Elden Ring"
          ],
          [
           "Naraka"
          ],
          [
           "My Hero Ultra Rumble"
          ],
          [
           "PlayerUnknown's Battlegrounds\n"
          ],
          [
           "SMITE"
          ],
          [
           "Hearthstone"
          ],
          [
           "Remnant 2"
          ],
          [
           "Freefire"
          ],
          [
           "MLB The Show 22&23"
          ],
          [
           "SuperSmash Bros Ultimate"
          ],
          [
           "Fifa fc 2024"
          ],
          [
           "Rogue Company"
          ],
          [
           "COD: Mobile"
          ],
          [
           "COD: Vanguard"
          ],
          [
           "Street Fighter"
          ],
          [
           "Mortal Kombat 1"
          ],
          [
           "Mobile Legend"
          ],
          [
           "NHL 23"
          ],
          [
           "COD: Black Ops Coldwar"
          ]
         ],
         "hovertemplate": "user_type=premium<br>total_clips_created=%{x}<br>total_event=%{y}<br>game_name=%{customdata[0]}<extra></extra>",
         "legendgroup": "premium",
         "marker": {
          "color": "#EF553B",
          "symbol": "circle"
         },
         "mode": "markers",
         "name": "premium",
         "orientation": "v",
         "showlegend": true,
         "type": "scatter",
         "x": [
          32764,
          2670,
          60887,
          19010,
          12199,
          15121,
          1444,
          6774,
          13108,
          2645,
          3090,
          235,
          6860,
          256,
          3321,
          288,
          619,
          1740,
          472,
          553,
          1627,
          1567,
          167,
          291,
          266,
          369,
          121,
          236,
          30,
          308,
          207,
          45,
          13,
          14,
          261,
          112,
          146,
          28,
          56,
          214,
          34,
          42,
          19,
          28,
          3,
          21,
          45,
          10,
          7,
          8,
          105,
          94,
          66,
          24
         ],
         "xaxis": "x",
         "y": [
          10,
          0,
          17,
          9,
          10,
          8,
          2,
          4,
          7,
          4,
          5,
          4,
          4,
          2,
          2,
          2,
          4,
          5,
          2,
          2,
          4,
          1,
          3,
          1,
          1,
          6,
          2,
          2,
          4,
          2,
          2,
          1,
          2,
          1,
          2,
          2,
          1,
          2,
          3,
          2,
          4,
          2,
          3,
          2,
          1,
          1,
          4,
          1,
          2,
          2,
          3,
          4,
          2,
          1
         ],
         "yaxis": "y"
        },
        {
         "hovertemplate": "<b>OLS trendline</b><br>total_event = 0.000263318 * total_clips_created + 2.38521<br>R<sup>2</sup>=0.774699<br><br>user_type=premium<br>total_clips_created=%{x}<br>total_event=%{y} <b>(trend)</b><extra></extra>",
         "legendgroup": "premium",
         "marker": {
          "color": "#EF553B",
          "symbol": "circle"
         },
         "mode": "lines",
         "name": "premium",
         "showlegend": false,
         "type": "scatter",
         "x": [
          3,
          7,
          8,
          10,
          13,
          14,
          19,
          21,
          24,
          28,
          28,
          30,
          34,
          42,
          45,
          45,
          56,
          66,
          94,
          105,
          112,
          121,
          146,
          167,
          207,
          214,
          235,
          236,
          256,
          261,
          266,
          288,
          291,
          308,
          369,
          472,
          553,
          619,
          1444,
          1567,
          1627,
          1740,
          2645,
          2670,
          3090,
          3321,
          6774,
          6860,
          12199,
          13108,
          15121,
          19010,
          32764,
          60887
         ],
         "xaxis": "x",
         "y": [
          2.385995740243646,
          2.387049011068137,
          2.3873123287742595,
          2.387838964186505,
          2.388628917304873,
          2.388892235010996,
          2.3902088235416095,
          2.3907354589538548,
          2.391525412072223,
          2.392578682896714,
          2.392578682896714,
          2.3931053183089595,
          2.3941585891334505,
          2.396265130782432,
          2.3970550839008,
          2.3970550839008,
          2.39995157866815,
          2.4025847557293774,
          2.409957651500813,
          2.412854146268163,
          2.414697370211022,
          2.417067229566127,
          2.4236501722191948,
          2.4291798440477717,
          2.4397125522926806,
          2.4415557762355395,
          2.4470854480641164,
          2.4473487657702395,
          2.4526151198926938,
          2.4539317084233074,
          2.455248296953921,
          2.4610412864886206,
          2.461831239606989,
          2.466307640611075,
          2.4823700206845607,
          2.5094917444152007,
          2.5308204786111412,
          2.5481994472152403,
          2.7654365547664828,
          2.7978246326195775,
          2.81362369498694,
          2.8433785957788076,
          3.0816811198198675,
          3.0882640624729354,
          3.198857499044477,
          3.259683889158825,
          4.168919928400571,
          4.191565251127125,
          5.597418484116317,
          5.836774278981868,
          6.366832821406899,
          7.390875380518151,
          11.012547110530017,
          18.41783095981922
         ],
         "yaxis": "y"
        }
       ],
       "layout": {
        "legend": {
         "title": {
          "text": "user_type"
         },
         "tracegroupgap": 0
        },
        "template": {
         "data": {
          "bar": [
           {
            "error_x": {
             "color": "#2a3f5f"
            },
            "error_y": {
             "color": "#2a3f5f"
            },
            "marker": {
             "line": {
              "color": "#E5ECF6",
              "width": 0.5
             },
             "pattern": {
              "fillmode": "overlay",
              "size": 10,
              "solidity": 0.2
             }
            },
            "type": "bar"
           }
          ],
          "barpolar": [
           {
            "marker": {
             "line": {
              "color": "#E5ECF6",
              "width": 0.5
             },
             "pattern": {
              "fillmode": "overlay",
              "size": 10,
              "solidity": 0.2
             }
            },
            "type": "barpolar"
           }
          ],
          "carpet": [
           {
            "aaxis": {
             "endlinecolor": "#2a3f5f",
             "gridcolor": "white",
             "linecolor": "white",
             "minorgridcolor": "white",
             "startlinecolor": "#2a3f5f"
            },
            "baxis": {
             "endlinecolor": "#2a3f5f",
             "gridcolor": "white",
             "linecolor": "white",
             "minorgridcolor": "white",
             "startlinecolor": "#2a3f5f"
            },
            "type": "carpet"
           }
          ],
          "choropleth": [
           {
            "colorbar": {
             "outlinewidth": 0,
             "ticks": ""
            },
            "type": "choropleth"
           }
          ],
          "contour": [
           {
            "colorbar": {
             "outlinewidth": 0,
             "ticks": ""
            },
            "colorscale": [
             [
              0,
              "#0d0887"
             ],
             [
              0.1111111111111111,
              "#46039f"
             ],
             [
              0.2222222222222222,
              "#7201a8"
             ],
             [
              0.3333333333333333,
              "#9c179e"
             ],
             [
              0.4444444444444444,
              "#bd3786"
             ],
             [
              0.5555555555555556,
              "#d8576b"
             ],
             [
              0.6666666666666666,
              "#ed7953"
             ],
             [
              0.7777777777777778,
              "#fb9f3a"
             ],
             [
              0.8888888888888888,
              "#fdca26"
             ],
             [
              1,
              "#f0f921"
             ]
            ],
            "type": "contour"
           }
          ],
          "contourcarpet": [
           {
            "colorbar": {
             "outlinewidth": 0,
             "ticks": ""
            },
            "type": "contourcarpet"
           }
          ],
          "heatmap": [
           {
            "colorbar": {
             "outlinewidth": 0,
             "ticks": ""
            },
            "colorscale": [
             [
              0,
              "#0d0887"
             ],
             [
              0.1111111111111111,
              "#46039f"
             ],
             [
              0.2222222222222222,
              "#7201a8"
             ],
             [
              0.3333333333333333,
              "#9c179e"
             ],
             [
              0.4444444444444444,
              "#bd3786"
             ],
             [
              0.5555555555555556,
              "#d8576b"
             ],
             [
              0.6666666666666666,
              "#ed7953"
             ],
             [
              0.7777777777777778,
              "#fb9f3a"
             ],
             [
              0.8888888888888888,
              "#fdca26"
             ],
             [
              1,
              "#f0f921"
             ]
            ],
            "type": "heatmap"
           }
          ],
          "heatmapgl": [
           {
            "colorbar": {
             "outlinewidth": 0,
             "ticks": ""
            },
            "colorscale": [
             [
              0,
              "#0d0887"
             ],
             [
              0.1111111111111111,
              "#46039f"
             ],
             [
              0.2222222222222222,
              "#7201a8"
             ],
             [
              0.3333333333333333,
              "#9c179e"
             ],
             [
              0.4444444444444444,
              "#bd3786"
             ],
             [
              0.5555555555555556,
              "#d8576b"
             ],
             [
              0.6666666666666666,
              "#ed7953"
             ],
             [
              0.7777777777777778,
              "#fb9f3a"
             ],
             [
              0.8888888888888888,
              "#fdca26"
             ],
             [
              1,
              "#f0f921"
             ]
            ],
            "type": "heatmapgl"
           }
          ],
          "histogram": [
           {
            "marker": {
             "pattern": {
              "fillmode": "overlay",
              "size": 10,
              "solidity": 0.2
             }
            },
            "type": "histogram"
           }
          ],
          "histogram2d": [
           {
            "colorbar": {
             "outlinewidth": 0,
             "ticks": ""
            },
            "colorscale": [
             [
              0,
              "#0d0887"
             ],
             [
              0.1111111111111111,
              "#46039f"
             ],
             [
              0.2222222222222222,
              "#7201a8"
             ],
             [
              0.3333333333333333,
              "#9c179e"
             ],
             [
              0.4444444444444444,
              "#bd3786"
             ],
             [
              0.5555555555555556,
              "#d8576b"
             ],
             [
              0.6666666666666666,
              "#ed7953"
             ],
             [
              0.7777777777777778,
              "#fb9f3a"
             ],
             [
              0.8888888888888888,
              "#fdca26"
             ],
             [
              1,
              "#f0f921"
             ]
            ],
            "type": "histogram2d"
           }
          ],
          "histogram2dcontour": [
           {
            "colorbar": {
             "outlinewidth": 0,
             "ticks": ""
            },
            "colorscale": [
             [
              0,
              "#0d0887"
             ],
             [
              0.1111111111111111,
              "#46039f"
             ],
             [
              0.2222222222222222,
              "#7201a8"
             ],
             [
              0.3333333333333333,
              "#9c179e"
             ],
             [
              0.4444444444444444,
              "#bd3786"
             ],
             [
              0.5555555555555556,
              "#d8576b"
             ],
             [
              0.6666666666666666,
              "#ed7953"
             ],
             [
              0.7777777777777778,
              "#fb9f3a"
             ],
             [
              0.8888888888888888,
              "#fdca26"
             ],
             [
              1,
              "#f0f921"
             ]
            ],
            "type": "histogram2dcontour"
           }
          ],
          "mesh3d": [
           {
            "colorbar": {
             "outlinewidth": 0,
             "ticks": ""
            },
            "type": "mesh3d"
           }
          ],
          "parcoords": [
           {
            "line": {
             "colorbar": {
              "outlinewidth": 0,
              "ticks": ""
             }
            },
            "type": "parcoords"
           }
          ],
          "pie": [
           {
            "automargin": true,
            "type": "pie"
           }
          ],
          "scatter": [
           {
            "fillpattern": {
             "fillmode": "overlay",
             "size": 10,
             "solidity": 0.2
            },
            "type": "scatter"
           }
          ],
          "scatter3d": [
           {
            "line": {
             "colorbar": {
              "outlinewidth": 0,
              "ticks": ""
             }
            },
            "marker": {
             "colorbar": {
              "outlinewidth": 0,
              "ticks": ""
             }
            },
            "type": "scatter3d"
           }
          ],
          "scattercarpet": [
           {
            "marker": {
             "colorbar": {
              "outlinewidth": 0,
              "ticks": ""
             }
            },
            "type": "scattercarpet"
           }
          ],
          "scattergeo": [
           {
            "marker": {
             "colorbar": {
              "outlinewidth": 0,
              "ticks": ""
             }
            },
            "type": "scattergeo"
           }
          ],
          "scattergl": [
           {
            "marker": {
             "colorbar": {
              "outlinewidth": 0,
              "ticks": ""
             }
            },
            "type": "scattergl"
           }
          ],
          "scattermapbox": [
           {
            "marker": {
             "colorbar": {
              "outlinewidth": 0,
              "ticks": ""
             }
            },
            "type": "scattermapbox"
           }
          ],
          "scatterpolar": [
           {
            "marker": {
             "colorbar": {
              "outlinewidth": 0,
              "ticks": ""
             }
            },
            "type": "scatterpolar"
           }
          ],
          "scatterpolargl": [
           {
            "marker": {
             "colorbar": {
              "outlinewidth": 0,
              "ticks": ""
             }
            },
            "type": "scatterpolargl"
           }
          ],
          "scatterternary": [
           {
            "marker": {
             "colorbar": {
              "outlinewidth": 0,
              "ticks": ""
             }
            },
            "type": "scatterternary"
           }
          ],
          "surface": [
           {
            "colorbar": {
             "outlinewidth": 0,
             "ticks": ""
            },
            "colorscale": [
             [
              0,
              "#0d0887"
             ],
             [
              0.1111111111111111,
              "#46039f"
             ],
             [
              0.2222222222222222,
              "#7201a8"
             ],
             [
              0.3333333333333333,
              "#9c179e"
             ],
             [
              0.4444444444444444,
              "#bd3786"
             ],
             [
              0.5555555555555556,
              "#d8576b"
             ],
             [
              0.6666666666666666,
              "#ed7953"
             ],
             [
              0.7777777777777778,
              "#fb9f3a"
             ],
             [
              0.8888888888888888,
              "#fdca26"
             ],
             [
              1,
              "#f0f921"
             ]
            ],
            "type": "surface"
           }
          ],
          "table": [
           {
            "cells": {
             "fill": {
              "color": "#EBF0F8"
             },
             "line": {
              "color": "white"
             }
            },
            "header": {
             "fill": {
              "color": "#C8D4E3"
             },
             "line": {
              "color": "white"
             }
            },
            "type": "table"
           }
          ]
         },
         "layout": {
          "annotationdefaults": {
           "arrowcolor": "#2a3f5f",
           "arrowhead": 0,
           "arrowwidth": 1
          },
          "autotypenumbers": "strict",
          "coloraxis": {
           "colorbar": {
            "outlinewidth": 0,
            "ticks": ""
           }
          },
          "colorscale": {
           "diverging": [
            [
             0,
             "#8e0152"
            ],
            [
             0.1,
             "#c51b7d"
            ],
            [
             0.2,
             "#de77ae"
            ],
            [
             0.3,
             "#f1b6da"
            ],
            [
             0.4,
             "#fde0ef"
            ],
            [
             0.5,
             "#f7f7f7"
            ],
            [
             0.6,
             "#e6f5d0"
            ],
            [
             0.7,
             "#b8e186"
            ],
            [
             0.8,
             "#7fbc41"
            ],
            [
             0.9,
             "#4d9221"
            ],
            [
             1,
             "#276419"
            ]
           ],
           "sequential": [
            [
             0,
             "#0d0887"
            ],
            [
             0.1111111111111111,
             "#46039f"
            ],
            [
             0.2222222222222222,
             "#7201a8"
            ],
            [
             0.3333333333333333,
             "#9c179e"
            ],
            [
             0.4444444444444444,
             "#bd3786"
            ],
            [
             0.5555555555555556,
             "#d8576b"
            ],
            [
             0.6666666666666666,
             "#ed7953"
            ],
            [
             0.7777777777777778,
             "#fb9f3a"
            ],
            [
             0.8888888888888888,
             "#fdca26"
            ],
            [
             1,
             "#f0f921"
            ]
           ],
           "sequentialminus": [
            [
             0,
             "#0d0887"
            ],
            [
             0.1111111111111111,
             "#46039f"
            ],
            [
             0.2222222222222222,
             "#7201a8"
            ],
            [
             0.3333333333333333,
             "#9c179e"
            ],
            [
             0.4444444444444444,
             "#bd3786"
            ],
            [
             0.5555555555555556,
             "#d8576b"
            ],
            [
             0.6666666666666666,
             "#ed7953"
            ],
            [
             0.7777777777777778,
             "#fb9f3a"
            ],
            [
             0.8888888888888888,
             "#fdca26"
            ],
            [
             1,
             "#f0f921"
            ]
           ]
          },
          "colorway": [
           "#636efa",
           "#EF553B",
           "#00cc96",
           "#ab63fa",
           "#FFA15A",
           "#19d3f3",
           "#FF6692",
           "#B6E880",
           "#FF97FF",
           "#FECB52"
          ],
          "font": {
           "color": "#2a3f5f"
          },
          "geo": {
           "bgcolor": "white",
           "lakecolor": "white",
           "landcolor": "#E5ECF6",
           "showlakes": true,
           "showland": true,
           "subunitcolor": "white"
          },
          "hoverlabel": {
           "align": "left"
          },
          "hovermode": "closest",
          "mapbox": {
           "style": "light"
          },
          "paper_bgcolor": "white",
          "plot_bgcolor": "#E5ECF6",
          "polar": {
           "angularaxis": {
            "gridcolor": "white",
            "linecolor": "white",
            "ticks": ""
           },
           "bgcolor": "#E5ECF6",
           "radialaxis": {
            "gridcolor": "white",
            "linecolor": "white",
            "ticks": ""
           }
          },
          "scene": {
           "xaxis": {
            "backgroundcolor": "#E5ECF6",
            "gridcolor": "white",
            "gridwidth": 2,
            "linecolor": "white",
            "showbackground": true,
            "ticks": "",
            "zerolinecolor": "white"
           },
           "yaxis": {
            "backgroundcolor": "#E5ECF6",
            "gridcolor": "white",
            "gridwidth": 2,
            "linecolor": "white",
            "showbackground": true,
            "ticks": "",
            "zerolinecolor": "white"
           },
           "zaxis": {
            "backgroundcolor": "#E5ECF6",
            "gridcolor": "white",
            "gridwidth": 2,
            "linecolor": "white",
            "showbackground": true,
            "ticks": "",
            "zerolinecolor": "white"
           }
          },
          "shapedefaults": {
           "line": {
            "color": "#2a3f5f"
           }
          },
          "ternary": {
           "aaxis": {
            "gridcolor": "white",
            "linecolor": "white",
            "ticks": ""
           },
           "baxis": {
            "gridcolor": "white",
            "linecolor": "white",
            "ticks": ""
           },
           "bgcolor": "#E5ECF6",
           "caxis": {
            "gridcolor": "white",
            "linecolor": "white",
            "ticks": ""
           }
          },
          "title": {
           "x": 0.05
          },
          "xaxis": {
           "automargin": true,
           "gridcolor": "white",
           "linecolor": "white",
           "ticks": "",
           "title": {
            "standoff": 15
           },
           "zerolinecolor": "white",
           "zerolinewidth": 2
          },
          "yaxis": {
           "automargin": true,
           "gridcolor": "white",
           "linecolor": "white",
           "ticks": "",
           "title": {
            "standoff": 15
           },
           "zerolinecolor": "white",
           "zerolinewidth": 2
          }
         }
        },
        "title": {
         "text": "Scatter Plot: total_clips_created vs total_event per Game"
        },
        "xaxis": {
         "anchor": "y",
         "domain": [
          0,
          1
         ],
         "title": {
          "text": "total_clips_created"
         }
        },
        "yaxis": {
         "anchor": "x",
         "domain": [
          0,
          1
         ],
         "title": {
          "text": "total_event"
         }
        }
       }
      }
     },
     "metadata": {},
     "output_type": "display_data"
    },
    {
     "data": {
      "application/vnd.plotly.v1+json": {
       "config": {
        "plotlyServerURL": "https://plot.ly"
       },
       "data": [
        {
         "customdata": [
          [
           "Other Games"
          ],
          [
           null
          ],
          [
           "COD: Warzone3-2 & MW3-2"
          ],
          [
           "Fortnite"
          ],
          [
           "Podcast"
          ],
          [
           "Valorant"
          ],
          [
           "Apex Legends"
          ],
          [
           "Overwatch 2"
          ],
          [
           "Tom Clancy's Rainbow Six: Siege"
          ],
          [
           "League of Legends"
          ],
          [
           "NBA: 2K24"
          ],
          [
           "chatting"
          ],
          [
           "Rocket League"
          ],
          [
           "Dead by Daylight"
          ],
          [
           "Fall Guys"
          ],
          [
           "Counter Strike2"
          ],
          [
           "Madden NFL 24"
          ],
          [
           "Grand Theft Auto V"
          ],
          [
           "ROBLOX"
          ],
          [
           "FIFA 23-24 & EA Sports FC 24"
          ],
          [
           "Destiny "
          ],
          [
           "Mortal Kombat 1"
          ],
          [
           "COD: Black Ops Coldwar"
          ],
          [
           "The Texas Chain Saw Massacre"
          ],
          [
           "starfield"
          ],
          [
           "Halo Infinite"
          ],
          [
           "Farlight84"
          ],
          [
           "PlayerUnknown's Battlegrounds\n"
          ],
          [
           "Among Us"
          ],
          [
           "Party Animals"
          ],
          [
           "Elden Ring"
          ],
          [
           "Phasmophobia"
          ],
          [
           "THE FINALS"
          ],
          [
           "Naraka"
          ],
          [
           "Lies of P"
          ],
          [
           "My Hero Ultra Rumble"
          ],
          [
           "PAYDAY 3"
          ],
          [
           "COD: Mobile"
          ],
          [
           "Rogue Company"
          ],
          [
           "Marvel's Spider-Man 2"
          ],
          [
           "Street Fighter"
          ],
          [
           "Remnant 2"
          ],
          [
           "SMITE"
          ],
          [
           "Mobile Legend"
          ],
          [
           "Honkai: Star Rail"
          ],
          [
           "Fifa fc 2024"
          ],
          [
           "COD: Vanguard"
          ],
          [
           "Team Fight Tatics"
          ],
          [
           "Worlds of Tanks"
          ],
          [
           "Hearthstone"
          ],
          [
           "Freefire"
          ],
          [
           "MLB The Show 22&23"
          ],
          [
           "battlefield2042"
          ],
          [
           "SuperSmash Bros Ultimate"
          ]
         ],
         "hovertemplate": "user_type=free<br>total_clips_created=%{x}<br>average_clips_per_user=%{y}<br>game_name=%{customdata[0]}<extra></extra>",
         "legendgroup": "free",
         "marker": {
          "color": "#636efa",
          "symbol": "circle"
         },
         "mode": "markers",
         "name": "free",
         "orientation": "v",
         "showlegend": true,
         "type": "scatter",
         "x": [
          96995,
          10091,
          79418,
          46749,
          10288,
          33465,
          16739,
          15323,
          4623,
          11668,
          4757,
          2129,
          5244,
          3553,
          1606,
          2830,
          2984,
          1391,
          1042,
          1548,
          1264,
          1053,
          666,
          395,
          526,
          394,
          379,
          622,
          212,
          270,
          375,
          249,
          607,
          321,
          196,
          169,
          80,
          128,
          155,
          63,
          248,
          41,
          81,
          138,
          45,
          32,
          30,
          20,
          89,
          3,
          16,
          15,
          55,
          11
         ],
         "xaxis": "x",
         "y": [
          45,
          8,
          82,
          58,
          23,
          87,
          55,
          88,
          32,
          96,
          40,
          19,
          49,
          36,
          20,
          40,
          45,
          25,
          19,
          30,
          34,
          39,
          28,
          17,
          29,
          22,
          21,
          37,
          12,
          16,
          23,
          17,
          40,
          27,
          18,
          24,
          11,
          18,
          22,
          11,
          50,
          8,
          20,
          46,
          15,
          11,
          10,
          10,
          45,
          3,
          16,
          15,
          55,
          11
         ],
         "yaxis": "y"
        },
        {
         "hovertemplate": "<b>OLS trendline</b><br>average_clips_per_user = 0.000590594 * total_clips_created + 27.1216<br>R<sup>2</sup>=0.251513<br><br>user_type=free<br>total_clips_created=%{x}<br>average_clips_per_user=%{y} <b>(trend)</b><extra></extra>",
         "legendgroup": "free",
         "marker": {
          "color": "#636efa",
          "symbol": "circle"
         },
         "mode": "lines",
         "name": "free",
         "showlegend": false,
         "type": "scatter",
         "x": [
          3,
          11,
          15,
          16,
          20,
          30,
          32,
          41,
          45,
          55,
          63,
          80,
          81,
          89,
          128,
          138,
          155,
          169,
          196,
          212,
          248,
          249,
          270,
          321,
          375,
          379,
          394,
          395,
          526,
          607,
          622,
          666,
          1042,
          1053,
          1264,
          1391,
          1548,
          1606,
          2129,
          2830,
          2984,
          3553,
          4623,
          4757,
          5244,
          10091,
          10288,
          11668,
          15323,
          16739,
          33465,
          46749,
          79418,
          96995
         ],
         "xaxis": "x",
         "y": [
          27.123341466633647,
          27.128066215993233,
          27.130428590673027,
          27.131019184342975,
          27.13338155902277,
          27.13928749572225,
          27.14046868306215,
          27.145784026091683,
          27.148146400771477,
          27.15405233747096,
          27.158777086830547,
          27.16881717921967,
          27.16940777288962,
          27.174132522249206,
          27.197165675377192,
          27.203071612076677,
          27.2131117044658,
          27.221380015845078,
          27.23732604493368,
          27.246775543652856,
          27.268036915771,
          27.268627509440947,
          27.281029976509863,
          27.31115025367723,
          27.343042311854443,
          27.345404686534234,
          27.35426359158346,
          27.35485418525341,
          27.432221956016647,
          27.480060043282467,
          27.48891894833169,
          27.51490506980942,
          27.73696828971001,
          27.743464820079442,
          27.86808008443855,
          27.943085480521994,
          28.03580868670389,
          28.070063119560896,
          28.3789436089439,
          28.79294977157771,
          28.88390119674976,
          29.21994899495039,
          29.851884221795153,
          29.93102377356824,
          30.218642890833095,
          33.08125040907289,
          33.19759736205272,
          34.01261662658148,
          36.171236490242805,
          37.00751712688971,
          46.88578685044629,
          54.731233162040546,
          74.02533776558413,
          84.40620270226677
         ],
         "yaxis": "y"
        },
        {
         "customdata": [
          [
           "Other Games"
          ],
          [
           null
          ],
          [
           "COD: Warzone3-2 & MW3-2"
          ],
          [
           "Fortnite"
          ],
          [
           "Apex Legends"
          ],
          [
           "Valorant"
          ],
          [
           "chatting"
          ],
          [
           "Overwatch 2"
          ],
          [
           "League of Legends"
          ],
          [
           "Dead by Daylight"
          ],
          [
           "Tom Clancy's Rainbow Six: Siege"
          ],
          [
           "Fall Guys"
          ],
          [
           "Rocket League"
          ],
          [
           "Party Animals"
          ],
          [
           "Counter Strike2"
          ],
          [
           "Phasmophobia"
          ],
          [
           "THE FINALS"
          ],
          [
           "NBA: 2K24"
          ],
          [
           "Farlight84"
          ],
          [
           "Grand Theft Auto V"
          ],
          [
           "Halo Infinite"
          ],
          [
           "FIFA 23-24 & EA Sports FC 24"
          ],
          [
           "starfield"
          ],
          [
           "Podcast"
          ],
          [
           "The Texas Chain Saw Massacre"
          ],
          [
           "Madden NFL 24"
          ],
          [
           "ROBLOX"
          ],
          [
           "Destiny "
          ],
          [
           "Among Us"
          ],
          [
           "Honkai: Star Rail"
          ],
          [
           "Forza Motorsport"
          ],
          [
           "Team Fight Tatics"
          ],
          [
           "Marvel's Spider-Man 2"
          ],
          [
           "Game Detector"
          ],
          [
           "Lies of P"
          ],
          [
           "Elden Ring"
          ],
          [
           "Naraka"
          ],
          [
           "My Hero Ultra Rumble"
          ],
          [
           "PlayerUnknown's Battlegrounds\n"
          ],
          [
           "SMITE"
          ],
          [
           "Hearthstone"
          ],
          [
           "Remnant 2"
          ],
          [
           "Freefire"
          ],
          [
           "MLB The Show 22&23"
          ],
          [
           "SuperSmash Bros Ultimate"
          ],
          [
           "Fifa fc 2024"
          ],
          [
           "Rogue Company"
          ],
          [
           "COD: Mobile"
          ],
          [
           "COD: Vanguard"
          ],
          [
           "Street Fighter"
          ],
          [
           "Mortal Kombat 1"
          ],
          [
           "Mobile Legend"
          ],
          [
           "NHL 23"
          ],
          [
           "COD: Black Ops Coldwar"
          ]
         ],
         "hovertemplate": "user_type=premium<br>total_clips_created=%{x}<br>average_clips_per_user=%{y}<br>game_name=%{customdata[0]}<extra></extra>",
         "legendgroup": "premium",
         "marker": {
          "color": "#EF553B",
          "symbol": "circle"
         },
         "mode": "markers",
         "name": "premium",
         "orientation": "v",
         "showlegend": true,
         "type": "scatter",
         "x": [
          32764,
          2670,
          60887,
          19010,
          12199,
          15121,
          1444,
          6774,
          13108,
          2645,
          3090,
          235,
          6860,
          256,
          3321,
          288,
          619,
          1740,
          472,
          553,
          1627,
          1567,
          167,
          291,
          266,
          369,
          121,
          236,
          30,
          308,
          207,
          45,
          13,
          14,
          261,
          112,
          146,
          28,
          56,
          214,
          34,
          42,
          19,
          28,
          3,
          21,
          45,
          10,
          7,
          8,
          105,
          94,
          66,
          24
         ],
         "xaxis": "x",
         "y": [
          130,
          17,
          525,
          211,
          284,
          378,
          53,
          282,
          624,
          126,
          182,
          17,
          528,
          23,
          302,
          29,
          62,
          193,
          52,
          61,
          203,
          224,
          24,
          42,
          44,
          62,
          24,
          47,
          8,
          77,
          52,
          15,
          4,
          5,
          87,
          37,
          73,
          14,
          28,
          107,
          17,
          21,
          19,
          28,
          3,
          21,
          45,
          10,
          7,
          8,
          105,
          94,
          66,
          24
         ],
         "yaxis": "y"
        },
        {
         "hovertemplate": "<b>OLS trendline</b><br>average_clips_per_user = 0.00896962 * total_clips_created + 74.3339<br>R<sup>2</sup>=0.391011<br><br>user_type=premium<br>total_clips_created=%{x}<br>average_clips_per_user=%{y} <b>(trend)</b><extra></extra>",
         "legendgroup": "premium",
         "marker": {
          "color": "#EF553B",
          "symbol": "circle"
         },
         "mode": "lines",
         "name": "premium",
         "showlegend": false,
         "type": "scatter",
         "x": [
          3,
          7,
          8,
          10,
          13,
          14,
          19,
          21,
          24,
          28,
          28,
          30,
          34,
          42,
          45,
          45,
          56,
          66,
          94,
          105,
          112,
          121,
          146,
          167,
          207,
          214,
          235,
          236,
          256,
          261,
          266,
          288,
          291,
          308,
          369,
          472,
          553,
          619,
          1444,
          1567,
          1627,
          1740,
          2645,
          2670,
          3090,
          3321,
          6774,
          6860,
          12199,
          13108,
          15121,
          19010,
          32764,
          60887
         ],
         "xaxis": "x",
         "y": [
          74.36084297530984,
          74.39672143853043,
          74.40569105433559,
          74.42363028594589,
          74.45053913336133,
          74.45950874916649,
          74.50435682819223,
          74.52229605980253,
          74.54920490721798,
          74.58508337043858,
          74.58508337043858,
          74.60302260204888,
          74.63890106526948,
          74.71065799171068,
          74.73756683912612,
          74.73756683912612,
          74.83623261298277,
          74.92592877103426,
          75.17707801357845,
          75.27574378743509,
          75.33853109807114,
          75.41925764031748,
          75.64349803544623,
          75.83185996735436,
          76.19064459956034,
          76.25343191019638,
          76.44179384210453,
          76.45076345790967,
          76.63015577401266,
          76.67500385303842,
          76.71985193206416,
          76.91718347977745,
          76.9440923271929,
          77.09657579588044,
          77.64372235999457,
          78.56759278792497,
          79.29413166814207,
          79.88612631128194,
          87.28605935053028,
          88.38932209456368,
          88.92749904287265,
          89.94106562885455,
          98.05856793251485,
          98.28280832764358,
          102.05004696580639,
          104.12202821679591,
          135.09411159197717,
          135.86549855122004,
          183.75427733491327,
          191.90765810179417,
          209.96349471756014,
          244.84633058378657,
          368.21442636781296,
          620.4669316560326
         ],
         "yaxis": "y"
        }
       ],
       "layout": {
        "legend": {
         "title": {
          "text": "user_type"
         },
         "tracegroupgap": 0
        },
        "template": {
         "data": {
          "bar": [
           {
            "error_x": {
             "color": "#2a3f5f"
            },
            "error_y": {
             "color": "#2a3f5f"
            },
            "marker": {
             "line": {
              "color": "#E5ECF6",
              "width": 0.5
             },
             "pattern": {
              "fillmode": "overlay",
              "size": 10,
              "solidity": 0.2
             }
            },
            "type": "bar"
           }
          ],
          "barpolar": [
           {
            "marker": {
             "line": {
              "color": "#E5ECF6",
              "width": 0.5
             },
             "pattern": {
              "fillmode": "overlay",
              "size": 10,
              "solidity": 0.2
             }
            },
            "type": "barpolar"
           }
          ],
          "carpet": [
           {
            "aaxis": {
             "endlinecolor": "#2a3f5f",
             "gridcolor": "white",
             "linecolor": "white",
             "minorgridcolor": "white",
             "startlinecolor": "#2a3f5f"
            },
            "baxis": {
             "endlinecolor": "#2a3f5f",
             "gridcolor": "white",
             "linecolor": "white",
             "minorgridcolor": "white",
             "startlinecolor": "#2a3f5f"
            },
            "type": "carpet"
           }
          ],
          "choropleth": [
           {
            "colorbar": {
             "outlinewidth": 0,
             "ticks": ""
            },
            "type": "choropleth"
           }
          ],
          "contour": [
           {
            "colorbar": {
             "outlinewidth": 0,
             "ticks": ""
            },
            "colorscale": [
             [
              0,
              "#0d0887"
             ],
             [
              0.1111111111111111,
              "#46039f"
             ],
             [
              0.2222222222222222,
              "#7201a8"
             ],
             [
              0.3333333333333333,
              "#9c179e"
             ],
             [
              0.4444444444444444,
              "#bd3786"
             ],
             [
              0.5555555555555556,
              "#d8576b"
             ],
             [
              0.6666666666666666,
              "#ed7953"
             ],
             [
              0.7777777777777778,
              "#fb9f3a"
             ],
             [
              0.8888888888888888,
              "#fdca26"
             ],
             [
              1,
              "#f0f921"
             ]
            ],
            "type": "contour"
           }
          ],
          "contourcarpet": [
           {
            "colorbar": {
             "outlinewidth": 0,
             "ticks": ""
            },
            "type": "contourcarpet"
           }
          ],
          "heatmap": [
           {
            "colorbar": {
             "outlinewidth": 0,
             "ticks": ""
            },
            "colorscale": [
             [
              0,
              "#0d0887"
             ],
             [
              0.1111111111111111,
              "#46039f"
             ],
             [
              0.2222222222222222,
              "#7201a8"
             ],
             [
              0.3333333333333333,
              "#9c179e"
             ],
             [
              0.4444444444444444,
              "#bd3786"
             ],
             [
              0.5555555555555556,
              "#d8576b"
             ],
             [
              0.6666666666666666,
              "#ed7953"
             ],
             [
              0.7777777777777778,
              "#fb9f3a"
             ],
             [
              0.8888888888888888,
              "#fdca26"
             ],
             [
              1,
              "#f0f921"
             ]
            ],
            "type": "heatmap"
           }
          ],
          "heatmapgl": [
           {
            "colorbar": {
             "outlinewidth": 0,
             "ticks": ""
            },
            "colorscale": [
             [
              0,
              "#0d0887"
             ],
             [
              0.1111111111111111,
              "#46039f"
             ],
             [
              0.2222222222222222,
              "#7201a8"
             ],
             [
              0.3333333333333333,
              "#9c179e"
             ],
             [
              0.4444444444444444,
              "#bd3786"
             ],
             [
              0.5555555555555556,
              "#d8576b"
             ],
             [
              0.6666666666666666,
              "#ed7953"
             ],
             [
              0.7777777777777778,
              "#fb9f3a"
             ],
             [
              0.8888888888888888,
              "#fdca26"
             ],
             [
              1,
              "#f0f921"
             ]
            ],
            "type": "heatmapgl"
           }
          ],
          "histogram": [
           {
            "marker": {
             "pattern": {
              "fillmode": "overlay",
              "size": 10,
              "solidity": 0.2
             }
            },
            "type": "histogram"
           }
          ],
          "histogram2d": [
           {
            "colorbar": {
             "outlinewidth": 0,
             "ticks": ""
            },
            "colorscale": [
             [
              0,
              "#0d0887"
             ],
             [
              0.1111111111111111,
              "#46039f"
             ],
             [
              0.2222222222222222,
              "#7201a8"
             ],
             [
              0.3333333333333333,
              "#9c179e"
             ],
             [
              0.4444444444444444,
              "#bd3786"
             ],
             [
              0.5555555555555556,
              "#d8576b"
             ],
             [
              0.6666666666666666,
              "#ed7953"
             ],
             [
              0.7777777777777778,
              "#fb9f3a"
             ],
             [
              0.8888888888888888,
              "#fdca26"
             ],
             [
              1,
              "#f0f921"
             ]
            ],
            "type": "histogram2d"
           }
          ],
          "histogram2dcontour": [
           {
            "colorbar": {
             "outlinewidth": 0,
             "ticks": ""
            },
            "colorscale": [
             [
              0,
              "#0d0887"
             ],
             [
              0.1111111111111111,
              "#46039f"
             ],
             [
              0.2222222222222222,
              "#7201a8"
             ],
             [
              0.3333333333333333,
              "#9c179e"
             ],
             [
              0.4444444444444444,
              "#bd3786"
             ],
             [
              0.5555555555555556,
              "#d8576b"
             ],
             [
              0.6666666666666666,
              "#ed7953"
             ],
             [
              0.7777777777777778,
              "#fb9f3a"
             ],
             [
              0.8888888888888888,
              "#fdca26"
             ],
             [
              1,
              "#f0f921"
             ]
            ],
            "type": "histogram2dcontour"
           }
          ],
          "mesh3d": [
           {
            "colorbar": {
             "outlinewidth": 0,
             "ticks": ""
            },
            "type": "mesh3d"
           }
          ],
          "parcoords": [
           {
            "line": {
             "colorbar": {
              "outlinewidth": 0,
              "ticks": ""
             }
            },
            "type": "parcoords"
           }
          ],
          "pie": [
           {
            "automargin": true,
            "type": "pie"
           }
          ],
          "scatter": [
           {
            "fillpattern": {
             "fillmode": "overlay",
             "size": 10,
             "solidity": 0.2
            },
            "type": "scatter"
           }
          ],
          "scatter3d": [
           {
            "line": {
             "colorbar": {
              "outlinewidth": 0,
              "ticks": ""
             }
            },
            "marker": {
             "colorbar": {
              "outlinewidth": 0,
              "ticks": ""
             }
            },
            "type": "scatter3d"
           }
          ],
          "scattercarpet": [
           {
            "marker": {
             "colorbar": {
              "outlinewidth": 0,
              "ticks": ""
             }
            },
            "type": "scattercarpet"
           }
          ],
          "scattergeo": [
           {
            "marker": {
             "colorbar": {
              "outlinewidth": 0,
              "ticks": ""
             }
            },
            "type": "scattergeo"
           }
          ],
          "scattergl": [
           {
            "marker": {
             "colorbar": {
              "outlinewidth": 0,
              "ticks": ""
             }
            },
            "type": "scattergl"
           }
          ],
          "scattermapbox": [
           {
            "marker": {
             "colorbar": {
              "outlinewidth": 0,
              "ticks": ""
             }
            },
            "type": "scattermapbox"
           }
          ],
          "scatterpolar": [
           {
            "marker": {
             "colorbar": {
              "outlinewidth": 0,
              "ticks": ""
             }
            },
            "type": "scatterpolar"
           }
          ],
          "scatterpolargl": [
           {
            "marker": {
             "colorbar": {
              "outlinewidth": 0,
              "ticks": ""
             }
            },
            "type": "scatterpolargl"
           }
          ],
          "scatterternary": [
           {
            "marker": {
             "colorbar": {
              "outlinewidth": 0,
              "ticks": ""
             }
            },
            "type": "scatterternary"
           }
          ],
          "surface": [
           {
            "colorbar": {
             "outlinewidth": 0,
             "ticks": ""
            },
            "colorscale": [
             [
              0,
              "#0d0887"
             ],
             [
              0.1111111111111111,
              "#46039f"
             ],
             [
              0.2222222222222222,
              "#7201a8"
             ],
             [
              0.3333333333333333,
              "#9c179e"
             ],
             [
              0.4444444444444444,
              "#bd3786"
             ],
             [
              0.5555555555555556,
              "#d8576b"
             ],
             [
              0.6666666666666666,
              "#ed7953"
             ],
             [
              0.7777777777777778,
              "#fb9f3a"
             ],
             [
              0.8888888888888888,
              "#fdca26"
             ],
             [
              1,
              "#f0f921"
             ]
            ],
            "type": "surface"
           }
          ],
          "table": [
           {
            "cells": {
             "fill": {
              "color": "#EBF0F8"
             },
             "line": {
              "color": "white"
             }
            },
            "header": {
             "fill": {
              "color": "#C8D4E3"
             },
             "line": {
              "color": "white"
             }
            },
            "type": "table"
           }
          ]
         },
         "layout": {
          "annotationdefaults": {
           "arrowcolor": "#2a3f5f",
           "arrowhead": 0,
           "arrowwidth": 1
          },
          "autotypenumbers": "strict",
          "coloraxis": {
           "colorbar": {
            "outlinewidth": 0,
            "ticks": ""
           }
          },
          "colorscale": {
           "diverging": [
            [
             0,
             "#8e0152"
            ],
            [
             0.1,
             "#c51b7d"
            ],
            [
             0.2,
             "#de77ae"
            ],
            [
             0.3,
             "#f1b6da"
            ],
            [
             0.4,
             "#fde0ef"
            ],
            [
             0.5,
             "#f7f7f7"
            ],
            [
             0.6,
             "#e6f5d0"
            ],
            [
             0.7,
             "#b8e186"
            ],
            [
             0.8,
             "#7fbc41"
            ],
            [
             0.9,
             "#4d9221"
            ],
            [
             1,
             "#276419"
            ]
           ],
           "sequential": [
            [
             0,
             "#0d0887"
            ],
            [
             0.1111111111111111,
             "#46039f"
            ],
            [
             0.2222222222222222,
             "#7201a8"
            ],
            [
             0.3333333333333333,
             "#9c179e"
            ],
            [
             0.4444444444444444,
             "#bd3786"
            ],
            [
             0.5555555555555556,
             "#d8576b"
            ],
            [
             0.6666666666666666,
             "#ed7953"
            ],
            [
             0.7777777777777778,
             "#fb9f3a"
            ],
            [
             0.8888888888888888,
             "#fdca26"
            ],
            [
             1,
             "#f0f921"
            ]
           ],
           "sequentialminus": [
            [
             0,
             "#0d0887"
            ],
            [
             0.1111111111111111,
             "#46039f"
            ],
            [
             0.2222222222222222,
             "#7201a8"
            ],
            [
             0.3333333333333333,
             "#9c179e"
            ],
            [
             0.4444444444444444,
             "#bd3786"
            ],
            [
             0.5555555555555556,
             "#d8576b"
            ],
            [
             0.6666666666666666,
             "#ed7953"
            ],
            [
             0.7777777777777778,
             "#fb9f3a"
            ],
            [
             0.8888888888888888,
             "#fdca26"
            ],
            [
             1,
             "#f0f921"
            ]
           ]
          },
          "colorway": [
           "#636efa",
           "#EF553B",
           "#00cc96",
           "#ab63fa",
           "#FFA15A",
           "#19d3f3",
           "#FF6692",
           "#B6E880",
           "#FF97FF",
           "#FECB52"
          ],
          "font": {
           "color": "#2a3f5f"
          },
          "geo": {
           "bgcolor": "white",
           "lakecolor": "white",
           "landcolor": "#E5ECF6",
           "showlakes": true,
           "showland": true,
           "subunitcolor": "white"
          },
          "hoverlabel": {
           "align": "left"
          },
          "hovermode": "closest",
          "mapbox": {
           "style": "light"
          },
          "paper_bgcolor": "white",
          "plot_bgcolor": "#E5ECF6",
          "polar": {
           "angularaxis": {
            "gridcolor": "white",
            "linecolor": "white",
            "ticks": ""
           },
           "bgcolor": "#E5ECF6",
           "radialaxis": {
            "gridcolor": "white",
            "linecolor": "white",
            "ticks": ""
           }
          },
          "scene": {
           "xaxis": {
            "backgroundcolor": "#E5ECF6",
            "gridcolor": "white",
            "gridwidth": 2,
            "linecolor": "white",
            "showbackground": true,
            "ticks": "",
            "zerolinecolor": "white"
           },
           "yaxis": {
            "backgroundcolor": "#E5ECF6",
            "gridcolor": "white",
            "gridwidth": 2,
            "linecolor": "white",
            "showbackground": true,
            "ticks": "",
            "zerolinecolor": "white"
           },
           "zaxis": {
            "backgroundcolor": "#E5ECF6",
            "gridcolor": "white",
            "gridwidth": 2,
            "linecolor": "white",
            "showbackground": true,
            "ticks": "",
            "zerolinecolor": "white"
           }
          },
          "shapedefaults": {
           "line": {
            "color": "#2a3f5f"
           }
          },
          "ternary": {
           "aaxis": {
            "gridcolor": "white",
            "linecolor": "white",
            "ticks": ""
           },
           "baxis": {
            "gridcolor": "white",
            "linecolor": "white",
            "ticks": ""
           },
           "bgcolor": "#E5ECF6",
           "caxis": {
            "gridcolor": "white",
            "linecolor": "white",
            "ticks": ""
           }
          },
          "title": {
           "x": 0.05
          },
          "xaxis": {
           "automargin": true,
           "gridcolor": "white",
           "linecolor": "white",
           "ticks": "",
           "title": {
            "standoff": 15
           },
           "zerolinecolor": "white",
           "zerolinewidth": 2
          },
          "yaxis": {
           "automargin": true,
           "gridcolor": "white",
           "linecolor": "white",
           "ticks": "",
           "title": {
            "standoff": 15
           },
           "zerolinecolor": "white",
           "zerolinewidth": 2
          }
         }
        },
        "title": {
         "text": "Scatter Plot: total_clips_created vs average_clips_per_user per Game"
        },
        "xaxis": {
         "anchor": "y",
         "domain": [
          0,
          1
         ],
         "title": {
          "text": "total_clips_created"
         }
        },
        "yaxis": {
         "anchor": "x",
         "domain": [
          0,
          1
         ],
         "title": {
          "text": "average_clips_per_user"
         }
        }
       }
      }
     },
     "metadata": {},
     "output_type": "display_data"
    },
    {
     "data": {
      "application/vnd.plotly.v1+json": {
       "config": {
        "plotlyServerURL": "https://plot.ly"
       },
       "data": [
        {
         "customdata": [
          [
           "Other Games"
          ],
          [
           null
          ],
          [
           "COD: Warzone3-2 & MW3-2"
          ],
          [
           "Fortnite"
          ],
          [
           "Podcast"
          ],
          [
           "Valorant"
          ],
          [
           "Apex Legends"
          ],
          [
           "Overwatch 2"
          ],
          [
           "Tom Clancy's Rainbow Six: Siege"
          ],
          [
           "League of Legends"
          ],
          [
           "NBA: 2K24"
          ],
          [
           "chatting"
          ],
          [
           "Rocket League"
          ],
          [
           "Dead by Daylight"
          ],
          [
           "Fall Guys"
          ],
          [
           "Counter Strike2"
          ],
          [
           "Madden NFL 24"
          ],
          [
           "Grand Theft Auto V"
          ],
          [
           "ROBLOX"
          ],
          [
           "FIFA 23-24 & EA Sports FC 24"
          ],
          [
           "Destiny "
          ],
          [
           "Mortal Kombat 1"
          ],
          [
           "COD: Black Ops Coldwar"
          ],
          [
           "The Texas Chain Saw Massacre"
          ],
          [
           "starfield"
          ],
          [
           "Halo Infinite"
          ],
          [
           "Farlight84"
          ],
          [
           "PlayerUnknown's Battlegrounds\n"
          ],
          [
           "Among Us"
          ],
          [
           "Party Animals"
          ],
          [
           "Elden Ring"
          ],
          [
           "Phasmophobia"
          ],
          [
           "THE FINALS"
          ],
          [
           "Naraka"
          ],
          [
           "Lies of P"
          ],
          [
           "My Hero Ultra Rumble"
          ],
          [
           "PAYDAY 3"
          ],
          [
           "COD: Mobile"
          ],
          [
           "Rogue Company"
          ],
          [
           "Marvel's Spider-Man 2"
          ],
          [
           "Street Fighter"
          ],
          [
           "Remnant 2"
          ],
          [
           "SMITE"
          ],
          [
           "Mobile Legend"
          ],
          [
           "Honkai: Star Rail"
          ],
          [
           "Fifa fc 2024"
          ],
          [
           "COD: Vanguard"
          ],
          [
           "Team Fight Tatics"
          ],
          [
           "Worlds of Tanks"
          ],
          [
           "Hearthstone"
          ],
          [
           "Freefire"
          ],
          [
           "MLB The Show 22&23"
          ],
          [
           "battlefield2042"
          ],
          [
           "SuperSmash Bros Ultimate"
          ]
         ],
         "hovertemplate": "user_type=free<br>total_users_whose_clips_created=%{x}<br>average_duration_clips=%{y}<br>game_name=%{customdata[0]}<extra></extra>",
         "legendgroup": "free",
         "marker": {
          "color": "#636efa",
          "symbol": "circle"
         },
         "mode": "markers",
         "name": "free",
         "orientation": "v",
         "showlegend": true,
         "type": "scatter",
         "x": [
          2177,
          1299,
          971,
          802,
          448,
          384,
          304,
          175,
          144,
          122,
          119,
          111,
          108,
          99,
          82,
          71,
          66,
          55,
          54,
          52,
          37,
          27,
          24,
          23,
          18,
          18,
          18,
          17,
          17,
          17,
          16,
          15,
          15,
          12,
          11,
          7,
          7,
          7,
          7,
          6,
          5,
          5,
          4,
          3,
          3,
          3,
          3,
          2,
          2,
          1,
          1,
          1,
          1,
          1
         ],
         "xaxis": "x",
         "y": [
          104,
          34,
          49,
          37,
          61,
          44,
          42,
          83,
          18,
          32,
          26,
          55,
          48,
          38,
          85,
          30,
          36,
          46,
          48,
          62,
          40,
          29,
          29,
          54,
          29,
          40,
          28,
          23,
          30,
          59,
          17,
          49,
          29,
          29,
          29,
          29,
          63,
          29,
          29,
          29,
          29,
          29,
          29,
          45,
          47,
          57,
          29,
          39,
          36,
          19,
          262,
          24,
          28,
          29
         ],
         "yaxis": "y"
        },
        {
         "hovertemplate": "<b>OLS trendline</b><br>average_duration_clips = 0.0168617 * total_users_whose_clips_created + 41.4473<br>R<sup>2</sup>=0.032937<br><br>user_type=free<br>total_users_whose_clips_created=%{x}<br>average_duration_clips=%{y} <b>(trend)</b><extra></extra>",
         "legendgroup": "free",
         "marker": {
          "color": "#636efa",
          "symbol": "circle"
         },
         "mode": "lines",
         "name": "free",
         "showlegend": false,
         "type": "scatter",
         "x": [
          1,
          1,
          1,
          1,
          1,
          2,
          2,
          3,
          3,
          3,
          3,
          4,
          5,
          5,
          6,
          7,
          7,
          7,
          7,
          11,
          12,
          15,
          15,
          16,
          17,
          17,
          17,
          18,
          18,
          18,
          23,
          24,
          27,
          37,
          52,
          54,
          55,
          66,
          71,
          82,
          99,
          108,
          111,
          119,
          122,
          144,
          175,
          304,
          384,
          448,
          802,
          971,
          1299,
          2177
         ],
         "xaxis": "x",
         "y": [
          41.46420628531147,
          41.46420628531147,
          41.46420628531147,
          41.46420628531147,
          41.46420628531147,
          41.48106803283674,
          41.48106803283674,
          41.497929780362,
          41.497929780362,
          41.497929780362,
          41.497929780362,
          41.51479152788727,
          41.53165327541253,
          41.53165327541253,
          41.5485150229378,
          41.56537677046306,
          41.56537677046306,
          41.56537677046306,
          41.56537677046306,
          41.63282376056412,
          41.64968550808939,
          41.70027075066518,
          41.70027075066518,
          41.71713249819045,
          41.733994245715714,
          41.733994245715714,
          41.733994245715714,
          41.75085599324098,
          41.75085599324098,
          41.75085599324098,
          41.835164730867305,
          41.852026478392574,
          41.902611720968366,
          42.07122919622102,
          42.324155409099994,
          42.357878904150525,
          42.374740651675786,
          42.56021987445371,
          42.64452861208003,
          42.830007834857945,
          43.11665754278746,
          43.26841327051484,
          43.318998513090634,
          43.453892493292756,
          43.504477735868555,
          43.875436181424384,
          44.3981503547076,
          46.573315785466804,
          47.92225558748802,
          49.00140742910499,
          54.97046605304884,
          57.82010138481864,
          63.350754573105604,
          78.15536890028838
         ],
         "yaxis": "y"
        },
        {
         "customdata": [
          [
           "Other Games"
          ],
          [
           null
          ],
          [
           "COD: Warzone3-2 & MW3-2"
          ],
          [
           "Fortnite"
          ],
          [
           "Apex Legends"
          ],
          [
           "Valorant"
          ],
          [
           "chatting"
          ],
          [
           "Overwatch 2"
          ],
          [
           "League of Legends"
          ],
          [
           "Dead by Daylight"
          ],
          [
           "Tom Clancy's Rainbow Six: Siege"
          ],
          [
           "Fall Guys"
          ],
          [
           "Rocket League"
          ],
          [
           "Party Animals"
          ],
          [
           "Counter Strike2"
          ],
          [
           "Phasmophobia"
          ],
          [
           "THE FINALS"
          ],
          [
           "NBA: 2K24"
          ],
          [
           "Farlight84"
          ],
          [
           "Grand Theft Auto V"
          ],
          [
           "Halo Infinite"
          ],
          [
           "FIFA 23-24 & EA Sports FC 24"
          ],
          [
           "starfield"
          ],
          [
           "Podcast"
          ],
          [
           "The Texas Chain Saw Massacre"
          ],
          [
           "Madden NFL 24"
          ],
          [
           "ROBLOX"
          ],
          [
           "Destiny "
          ],
          [
           "Among Us"
          ],
          [
           "Honkai: Star Rail"
          ],
          [
           "Forza Motorsport"
          ],
          [
           "Team Fight Tatics"
          ],
          [
           "Marvel's Spider-Man 2"
          ],
          [
           "Game Detector"
          ],
          [
           "Lies of P"
          ],
          [
           "Elden Ring"
          ],
          [
           "Naraka"
          ],
          [
           "My Hero Ultra Rumble"
          ],
          [
           "PlayerUnknown's Battlegrounds\n"
          ],
          [
           "SMITE"
          ],
          [
           "Hearthstone"
          ],
          [
           "Remnant 2"
          ],
          [
           "Freefire"
          ],
          [
           "MLB The Show 22&23"
          ],
          [
           "SuperSmash Bros Ultimate"
          ],
          [
           "Fifa fc 2024"
          ],
          [
           "Rogue Company"
          ],
          [
           "COD: Mobile"
          ],
          [
           "COD: Vanguard"
          ],
          [
           "Street Fighter"
          ],
          [
           "Mortal Kombat 1"
          ],
          [
           "Mobile Legend"
          ],
          [
           "NHL 23"
          ],
          [
           "COD: Black Ops Coldwar"
          ]
         ],
         "hovertemplate": "user_type=premium<br>total_users_whose_clips_created=%{x}<br>average_duration_clips=%{y}<br>game_name=%{customdata[0]}<extra></extra>",
         "legendgroup": "premium",
         "marker": {
          "color": "#EF553B",
          "symbol": "circle"
         },
         "mode": "markers",
         "name": "premium",
         "orientation": "v",
         "showlegend": true,
         "type": "scatter",
         "x": [
          252,
          158,
          116,
          90,
          43,
          40,
          27,
          24,
          21,
          21,
          17,
          14,
          13,
          11,
          11,
          10,
          10,
          9,
          9,
          9,
          8,
          7,
          7,
          7,
          6,
          6,
          5,
          5,
          4,
          4,
          4,
          3,
          3,
          3,
          3,
          3,
          2,
          2,
          2,
          2,
          2,
          2,
          1,
          1,
          1,
          1,
          1,
          1,
          1,
          1,
          1,
          1,
          1,
          1
         ],
         "xaxis": "x",
         "y": [
          92,
          26,
          42,
          30,
          37,
          34,
          52,
          78,
          32,
          39,
          21,
          87,
          41,
          54,
          26,
          52,
          29,
          27,
          29,
          49,
          32,
          63,
          29,
          63,
          60,
          37,
          57,
          38,
          36,
          50,
          29,
          46,
          33,
          78,
          29,
          14,
          29,
          29,
          24,
          29,
          29,
          29,
          257,
          24,
          29,
          58,
          29,
          29,
          14,
          29,
          29,
          51,
          28,
          29
         ],
         "yaxis": "y"
        },
        {
         "hovertemplate": "<b>OLS trendline</b><br>average_duration_clips = 0.0808498 * total_users_whose_clips_created + 41.9367<br>R<sup>2</sup>=0.010343<br><br>user_type=premium<br>total_users_whose_clips_created=%{x}<br>average_duration_clips=%{y} <b>(trend)</b><extra></extra>",
         "legendgroup": "premium",
         "marker": {
          "color": "#EF553B",
          "symbol": "circle"
         },
         "mode": "lines",
         "name": "premium",
         "showlegend": false,
         "type": "scatter",
         "x": [
          1,
          1,
          1,
          1,
          1,
          1,
          1,
          1,
          1,
          1,
          1,
          1,
          2,
          2,
          2,
          2,
          2,
          2,
          3,
          3,
          3,
          3,
          3,
          4,
          4,
          4,
          5,
          5,
          6,
          6,
          7,
          7,
          7,
          8,
          9,
          9,
          9,
          10,
          10,
          11,
          11,
          13,
          14,
          17,
          21,
          21,
          24,
          27,
          40,
          43,
          90,
          116,
          158,
          252
         ],
         "xaxis": "x",
         "y": [
          42.017595370103635,
          42.017595370103635,
          42.017595370103635,
          42.017595370103635,
          42.017595370103635,
          42.017595370103635,
          42.017595370103635,
          42.017595370103635,
          42.017595370103635,
          42.017595370103635,
          42.017595370103635,
          42.017595370103635,
          42.09844516025516,
          42.09844516025516,
          42.09844516025516,
          42.09844516025516,
          42.09844516025516,
          42.09844516025516,
          42.179294950406685,
          42.179294950406685,
          42.179294950406685,
          42.179294950406685,
          42.179294950406685,
          42.260144740558204,
          42.260144740558204,
          42.260144740558204,
          42.34099453070973,
          42.34099453070973,
          42.421844320861254,
          42.421844320861254,
          42.50269411101278,
          42.50269411101278,
          42.50269411101278,
          42.583543901164305,
          42.66439369131583,
          42.66439369131583,
          42.66439369131583,
          42.745243481467355,
          42.745243481467355,
          42.82609327161888,
          42.82609327161888,
          42.987792851921924,
          43.06864264207345,
          43.311192012528025,
          43.63459117313412,
          43.63459117313412,
          43.877140543588695,
          44.11968991404327,
          45.170737186013085,
          45.41328655646766,
          49.213226693589306,
          51.315321237528934,
          54.71101242389296,
          62.31089269813626
         ],
         "yaxis": "y"
        }
       ],
       "layout": {
        "legend": {
         "title": {
          "text": "user_type"
         },
         "tracegroupgap": 0
        },
        "template": {
         "data": {
          "bar": [
           {
            "error_x": {
             "color": "#2a3f5f"
            },
            "error_y": {
             "color": "#2a3f5f"
            },
            "marker": {
             "line": {
              "color": "#E5ECF6",
              "width": 0.5
             },
             "pattern": {
              "fillmode": "overlay",
              "size": 10,
              "solidity": 0.2
             }
            },
            "type": "bar"
           }
          ],
          "barpolar": [
           {
            "marker": {
             "line": {
              "color": "#E5ECF6",
              "width": 0.5
             },
             "pattern": {
              "fillmode": "overlay",
              "size": 10,
              "solidity": 0.2
             }
            },
            "type": "barpolar"
           }
          ],
          "carpet": [
           {
            "aaxis": {
             "endlinecolor": "#2a3f5f",
             "gridcolor": "white",
             "linecolor": "white",
             "minorgridcolor": "white",
             "startlinecolor": "#2a3f5f"
            },
            "baxis": {
             "endlinecolor": "#2a3f5f",
             "gridcolor": "white",
             "linecolor": "white",
             "minorgridcolor": "white",
             "startlinecolor": "#2a3f5f"
            },
            "type": "carpet"
           }
          ],
          "choropleth": [
           {
            "colorbar": {
             "outlinewidth": 0,
             "ticks": ""
            },
            "type": "choropleth"
           }
          ],
          "contour": [
           {
            "colorbar": {
             "outlinewidth": 0,
             "ticks": ""
            },
            "colorscale": [
             [
              0,
              "#0d0887"
             ],
             [
              0.1111111111111111,
              "#46039f"
             ],
             [
              0.2222222222222222,
              "#7201a8"
             ],
             [
              0.3333333333333333,
              "#9c179e"
             ],
             [
              0.4444444444444444,
              "#bd3786"
             ],
             [
              0.5555555555555556,
              "#d8576b"
             ],
             [
              0.6666666666666666,
              "#ed7953"
             ],
             [
              0.7777777777777778,
              "#fb9f3a"
             ],
             [
              0.8888888888888888,
              "#fdca26"
             ],
             [
              1,
              "#f0f921"
             ]
            ],
            "type": "contour"
           }
          ],
          "contourcarpet": [
           {
            "colorbar": {
             "outlinewidth": 0,
             "ticks": ""
            },
            "type": "contourcarpet"
           }
          ],
          "heatmap": [
           {
            "colorbar": {
             "outlinewidth": 0,
             "ticks": ""
            },
            "colorscale": [
             [
              0,
              "#0d0887"
             ],
             [
              0.1111111111111111,
              "#46039f"
             ],
             [
              0.2222222222222222,
              "#7201a8"
             ],
             [
              0.3333333333333333,
              "#9c179e"
             ],
             [
              0.4444444444444444,
              "#bd3786"
             ],
             [
              0.5555555555555556,
              "#d8576b"
             ],
             [
              0.6666666666666666,
              "#ed7953"
             ],
             [
              0.7777777777777778,
              "#fb9f3a"
             ],
             [
              0.8888888888888888,
              "#fdca26"
             ],
             [
              1,
              "#f0f921"
             ]
            ],
            "type": "heatmap"
           }
          ],
          "heatmapgl": [
           {
            "colorbar": {
             "outlinewidth": 0,
             "ticks": ""
            },
            "colorscale": [
             [
              0,
              "#0d0887"
             ],
             [
              0.1111111111111111,
              "#46039f"
             ],
             [
              0.2222222222222222,
              "#7201a8"
             ],
             [
              0.3333333333333333,
              "#9c179e"
             ],
             [
              0.4444444444444444,
              "#bd3786"
             ],
             [
              0.5555555555555556,
              "#d8576b"
             ],
             [
              0.6666666666666666,
              "#ed7953"
             ],
             [
              0.7777777777777778,
              "#fb9f3a"
             ],
             [
              0.8888888888888888,
              "#fdca26"
             ],
             [
              1,
              "#f0f921"
             ]
            ],
            "type": "heatmapgl"
           }
          ],
          "histogram": [
           {
            "marker": {
             "pattern": {
              "fillmode": "overlay",
              "size": 10,
              "solidity": 0.2
             }
            },
            "type": "histogram"
           }
          ],
          "histogram2d": [
           {
            "colorbar": {
             "outlinewidth": 0,
             "ticks": ""
            },
            "colorscale": [
             [
              0,
              "#0d0887"
             ],
             [
              0.1111111111111111,
              "#46039f"
             ],
             [
              0.2222222222222222,
              "#7201a8"
             ],
             [
              0.3333333333333333,
              "#9c179e"
             ],
             [
              0.4444444444444444,
              "#bd3786"
             ],
             [
              0.5555555555555556,
              "#d8576b"
             ],
             [
              0.6666666666666666,
              "#ed7953"
             ],
             [
              0.7777777777777778,
              "#fb9f3a"
             ],
             [
              0.8888888888888888,
              "#fdca26"
             ],
             [
              1,
              "#f0f921"
             ]
            ],
            "type": "histogram2d"
           }
          ],
          "histogram2dcontour": [
           {
            "colorbar": {
             "outlinewidth": 0,
             "ticks": ""
            },
            "colorscale": [
             [
              0,
              "#0d0887"
             ],
             [
              0.1111111111111111,
              "#46039f"
             ],
             [
              0.2222222222222222,
              "#7201a8"
             ],
             [
              0.3333333333333333,
              "#9c179e"
             ],
             [
              0.4444444444444444,
              "#bd3786"
             ],
             [
              0.5555555555555556,
              "#d8576b"
             ],
             [
              0.6666666666666666,
              "#ed7953"
             ],
             [
              0.7777777777777778,
              "#fb9f3a"
             ],
             [
              0.8888888888888888,
              "#fdca26"
             ],
             [
              1,
              "#f0f921"
             ]
            ],
            "type": "histogram2dcontour"
           }
          ],
          "mesh3d": [
           {
            "colorbar": {
             "outlinewidth": 0,
             "ticks": ""
            },
            "type": "mesh3d"
           }
          ],
          "parcoords": [
           {
            "line": {
             "colorbar": {
              "outlinewidth": 0,
              "ticks": ""
             }
            },
            "type": "parcoords"
           }
          ],
          "pie": [
           {
            "automargin": true,
            "type": "pie"
           }
          ],
          "scatter": [
           {
            "fillpattern": {
             "fillmode": "overlay",
             "size": 10,
             "solidity": 0.2
            },
            "type": "scatter"
           }
          ],
          "scatter3d": [
           {
            "line": {
             "colorbar": {
              "outlinewidth": 0,
              "ticks": ""
             }
            },
            "marker": {
             "colorbar": {
              "outlinewidth": 0,
              "ticks": ""
             }
            },
            "type": "scatter3d"
           }
          ],
          "scattercarpet": [
           {
            "marker": {
             "colorbar": {
              "outlinewidth": 0,
              "ticks": ""
             }
            },
            "type": "scattercarpet"
           }
          ],
          "scattergeo": [
           {
            "marker": {
             "colorbar": {
              "outlinewidth": 0,
              "ticks": ""
             }
            },
            "type": "scattergeo"
           }
          ],
          "scattergl": [
           {
            "marker": {
             "colorbar": {
              "outlinewidth": 0,
              "ticks": ""
             }
            },
            "type": "scattergl"
           }
          ],
          "scattermapbox": [
           {
            "marker": {
             "colorbar": {
              "outlinewidth": 0,
              "ticks": ""
             }
            },
            "type": "scattermapbox"
           }
          ],
          "scatterpolar": [
           {
            "marker": {
             "colorbar": {
              "outlinewidth": 0,
              "ticks": ""
             }
            },
            "type": "scatterpolar"
           }
          ],
          "scatterpolargl": [
           {
            "marker": {
             "colorbar": {
              "outlinewidth": 0,
              "ticks": ""
             }
            },
            "type": "scatterpolargl"
           }
          ],
          "scatterternary": [
           {
            "marker": {
             "colorbar": {
              "outlinewidth": 0,
              "ticks": ""
             }
            },
            "type": "scatterternary"
           }
          ],
          "surface": [
           {
            "colorbar": {
             "outlinewidth": 0,
             "ticks": ""
            },
            "colorscale": [
             [
              0,
              "#0d0887"
             ],
             [
              0.1111111111111111,
              "#46039f"
             ],
             [
              0.2222222222222222,
              "#7201a8"
             ],
             [
              0.3333333333333333,
              "#9c179e"
             ],
             [
              0.4444444444444444,
              "#bd3786"
             ],
             [
              0.5555555555555556,
              "#d8576b"
             ],
             [
              0.6666666666666666,
              "#ed7953"
             ],
             [
              0.7777777777777778,
              "#fb9f3a"
             ],
             [
              0.8888888888888888,
              "#fdca26"
             ],
             [
              1,
              "#f0f921"
             ]
            ],
            "type": "surface"
           }
          ],
          "table": [
           {
            "cells": {
             "fill": {
              "color": "#EBF0F8"
             },
             "line": {
              "color": "white"
             }
            },
            "header": {
             "fill": {
              "color": "#C8D4E3"
             },
             "line": {
              "color": "white"
             }
            },
            "type": "table"
           }
          ]
         },
         "layout": {
          "annotationdefaults": {
           "arrowcolor": "#2a3f5f",
           "arrowhead": 0,
           "arrowwidth": 1
          },
          "autotypenumbers": "strict",
          "coloraxis": {
           "colorbar": {
            "outlinewidth": 0,
            "ticks": ""
           }
          },
          "colorscale": {
           "diverging": [
            [
             0,
             "#8e0152"
            ],
            [
             0.1,
             "#c51b7d"
            ],
            [
             0.2,
             "#de77ae"
            ],
            [
             0.3,
             "#f1b6da"
            ],
            [
             0.4,
             "#fde0ef"
            ],
            [
             0.5,
             "#f7f7f7"
            ],
            [
             0.6,
             "#e6f5d0"
            ],
            [
             0.7,
             "#b8e186"
            ],
            [
             0.8,
             "#7fbc41"
            ],
            [
             0.9,
             "#4d9221"
            ],
            [
             1,
             "#276419"
            ]
           ],
           "sequential": [
            [
             0,
             "#0d0887"
            ],
            [
             0.1111111111111111,
             "#46039f"
            ],
            [
             0.2222222222222222,
             "#7201a8"
            ],
            [
             0.3333333333333333,
             "#9c179e"
            ],
            [
             0.4444444444444444,
             "#bd3786"
            ],
            [
             0.5555555555555556,
             "#d8576b"
            ],
            [
             0.6666666666666666,
             "#ed7953"
            ],
            [
             0.7777777777777778,
             "#fb9f3a"
            ],
            [
             0.8888888888888888,
             "#fdca26"
            ],
            [
             1,
             "#f0f921"
            ]
           ],
           "sequentialminus": [
            [
             0,
             "#0d0887"
            ],
            [
             0.1111111111111111,
             "#46039f"
            ],
            [
             0.2222222222222222,
             "#7201a8"
            ],
            [
             0.3333333333333333,
             "#9c179e"
            ],
            [
             0.4444444444444444,
             "#bd3786"
            ],
            [
             0.5555555555555556,
             "#d8576b"
            ],
            [
             0.6666666666666666,
             "#ed7953"
            ],
            [
             0.7777777777777778,
             "#fb9f3a"
            ],
            [
             0.8888888888888888,
             "#fdca26"
            ],
            [
             1,
             "#f0f921"
            ]
           ]
          },
          "colorway": [
           "#636efa",
           "#EF553B",
           "#00cc96",
           "#ab63fa",
           "#FFA15A",
           "#19d3f3",
           "#FF6692",
           "#B6E880",
           "#FF97FF",
           "#FECB52"
          ],
          "font": {
           "color": "#2a3f5f"
          },
          "geo": {
           "bgcolor": "white",
           "lakecolor": "white",
           "landcolor": "#E5ECF6",
           "showlakes": true,
           "showland": true,
           "subunitcolor": "white"
          },
          "hoverlabel": {
           "align": "left"
          },
          "hovermode": "closest",
          "mapbox": {
           "style": "light"
          },
          "paper_bgcolor": "white",
          "plot_bgcolor": "#E5ECF6",
          "polar": {
           "angularaxis": {
            "gridcolor": "white",
            "linecolor": "white",
            "ticks": ""
           },
           "bgcolor": "#E5ECF6",
           "radialaxis": {
            "gridcolor": "white",
            "linecolor": "white",
            "ticks": ""
           }
          },
          "scene": {
           "xaxis": {
            "backgroundcolor": "#E5ECF6",
            "gridcolor": "white",
            "gridwidth": 2,
            "linecolor": "white",
            "showbackground": true,
            "ticks": "",
            "zerolinecolor": "white"
           },
           "yaxis": {
            "backgroundcolor": "#E5ECF6",
            "gridcolor": "white",
            "gridwidth": 2,
            "linecolor": "white",
            "showbackground": true,
            "ticks": "",
            "zerolinecolor": "white"
           },
           "zaxis": {
            "backgroundcolor": "#E5ECF6",
            "gridcolor": "white",
            "gridwidth": 2,
            "linecolor": "white",
            "showbackground": true,
            "ticks": "",
            "zerolinecolor": "white"
           }
          },
          "shapedefaults": {
           "line": {
            "color": "#2a3f5f"
           }
          },
          "ternary": {
           "aaxis": {
            "gridcolor": "white",
            "linecolor": "white",
            "ticks": ""
           },
           "baxis": {
            "gridcolor": "white",
            "linecolor": "white",
            "ticks": ""
           },
           "bgcolor": "#E5ECF6",
           "caxis": {
            "gridcolor": "white",
            "linecolor": "white",
            "ticks": ""
           }
          },
          "title": {
           "x": 0.05
          },
          "xaxis": {
           "automargin": true,
           "gridcolor": "white",
           "linecolor": "white",
           "ticks": "",
           "title": {
            "standoff": 15
           },
           "zerolinecolor": "white",
           "zerolinewidth": 2
          },
          "yaxis": {
           "automargin": true,
           "gridcolor": "white",
           "linecolor": "white",
           "ticks": "",
           "title": {
            "standoff": 15
           },
           "zerolinecolor": "white",
           "zerolinewidth": 2
          }
         }
        },
        "title": {
         "text": "Scatter Plot: total_users_whose_clips_created vs average_duration_clips per Game"
        },
        "xaxis": {
         "anchor": "y",
         "domain": [
          0,
          1
         ],
         "title": {
          "text": "total_users_whose_clips_created"
         }
        },
        "yaxis": {
         "anchor": "x",
         "domain": [
          0,
          1
         ],
         "title": {
          "text": "average_duration_clips"
         }
        }
       }
      }
     },
     "metadata": {},
     "output_type": "display_data"
    },
    {
     "data": {
      "application/vnd.plotly.v1+json": {
       "config": {
        "plotlyServerURL": "https://plot.ly"
       },
       "data": [
        {
         "customdata": [
          [
           "Other Games"
          ],
          [
           null
          ],
          [
           "COD: Warzone3-2 & MW3-2"
          ],
          [
           "Fortnite"
          ],
          [
           "Podcast"
          ],
          [
           "Valorant"
          ],
          [
           "Apex Legends"
          ],
          [
           "Overwatch 2"
          ],
          [
           "Tom Clancy's Rainbow Six: Siege"
          ],
          [
           "League of Legends"
          ],
          [
           "NBA: 2K24"
          ],
          [
           "chatting"
          ],
          [
           "Rocket League"
          ],
          [
           "Dead by Daylight"
          ],
          [
           "Fall Guys"
          ],
          [
           "Counter Strike2"
          ],
          [
           "Madden NFL 24"
          ],
          [
           "Grand Theft Auto V"
          ],
          [
           "ROBLOX"
          ],
          [
           "FIFA 23-24 & EA Sports FC 24"
          ],
          [
           "Destiny "
          ],
          [
           "Mortal Kombat 1"
          ],
          [
           "COD: Black Ops Coldwar"
          ],
          [
           "The Texas Chain Saw Massacre"
          ],
          [
           "starfield"
          ],
          [
           "Halo Infinite"
          ],
          [
           "Farlight84"
          ],
          [
           "PlayerUnknown's Battlegrounds\n"
          ],
          [
           "Among Us"
          ],
          [
           "Party Animals"
          ],
          [
           "Elden Ring"
          ],
          [
           "Phasmophobia"
          ],
          [
           "THE FINALS"
          ],
          [
           "Naraka"
          ],
          [
           "Lies of P"
          ],
          [
           "My Hero Ultra Rumble"
          ],
          [
           "PAYDAY 3"
          ],
          [
           "COD: Mobile"
          ],
          [
           "Rogue Company"
          ],
          [
           "Marvel's Spider-Man 2"
          ],
          [
           "Street Fighter"
          ],
          [
           "Remnant 2"
          ],
          [
           "SMITE"
          ],
          [
           "Mobile Legend"
          ],
          [
           "Honkai: Star Rail"
          ],
          [
           "Fifa fc 2024"
          ],
          [
           "COD: Vanguard"
          ],
          [
           "Team Fight Tatics"
          ],
          [
           "Worlds of Tanks"
          ],
          [
           "Hearthstone"
          ],
          [
           "Freefire"
          ],
          [
           "MLB The Show 22&23"
          ],
          [
           "battlefield2042"
          ],
          [
           "SuperSmash Bros Ultimate"
          ]
         ],
         "hovertemplate": "user_type=free<br>total_users_whose_clips_created=%{x}<br>total_event=%{y}<br>game_name=%{customdata[0]}<extra></extra>",
         "legendgroup": "free",
         "marker": {
          "color": "#636efa",
          "symbol": "circle"
         },
         "mode": "markers",
         "name": "free",
         "orientation": "v",
         "showlegend": true,
         "type": "scatter",
         "x": [
          2177,
          1299,
          971,
          802,
          448,
          384,
          304,
          175,
          144,
          122,
          119,
          111,
          108,
          99,
          82,
          71,
          66,
          55,
          54,
          52,
          37,
          27,
          24,
          23,
          18,
          18,
          18,
          17,
          17,
          17,
          16,
          15,
          15,
          12,
          11,
          7,
          7,
          7,
          7,
          6,
          5,
          5,
          4,
          3,
          3,
          3,
          3,
          2,
          2,
          1,
          1,
          1,
          1,
          1
         ],
         "xaxis": "x",
         "y": [
          8,
          0,
          17,
          9,
          1,
          8,
          10,
          4,
          4,
          7,
          4,
          2,
          3,
          4,
          3,
          2,
          6,
          2,
          2,
          1,
          4,
          2,
          5,
          2,
          4,
          3,
          3,
          8,
          3,
          2,
          4,
          2,
          4,
          1,
          2,
          2,
          1,
          4,
          4,
          2,
          3,
          2,
          2,
          5,
          1,
          1,
          2,
          1,
          1,
          2,
          3,
          2,
          1,
          1
         ],
         "yaxis": "y"
        },
        {
         "hovertemplate": "<b>OLS trendline</b><br>total_event = 0.00349008 * total_users_whose_clips_created + 2.92759<br>R<sup>2</sup>=0.199218<br><br>user_type=free<br>total_users_whose_clips_created=%{x}<br>total_event=%{y} <b>(trend)</b><extra></extra>",
         "legendgroup": "free",
         "marker": {
          "color": "#636efa",
          "symbol": "circle"
         },
         "mode": "lines",
         "name": "free",
         "showlegend": false,
         "type": "scatter",
         "x": [
          1,
          1,
          1,
          1,
          1,
          2,
          2,
          3,
          3,
          3,
          3,
          4,
          5,
          5,
          6,
          7,
          7,
          7,
          7,
          11,
          12,
          15,
          15,
          16,
          17,
          17,
          17,
          18,
          18,
          18,
          23,
          24,
          27,
          37,
          52,
          54,
          55,
          66,
          71,
          82,
          99,
          108,
          111,
          119,
          122,
          144,
          175,
          304,
          384,
          448,
          802,
          971,
          1299,
          2177
         ],
         "xaxis": "x",
         "y": [
          2.931079043358622,
          2.931079043358622,
          2.931079043358622,
          2.931079043358622,
          2.931079043358622,
          2.93456912665947,
          2.93456912665947,
          2.9380592099603176,
          2.9380592099603176,
          2.9380592099603176,
          2.9380592099603176,
          2.9415492932611658,
          2.9450393765620135,
          2.9450393765620135,
          2.9485294598628613,
          2.952019543163709,
          2.952019543163709,
          2.952019543163709,
          2.952019543163709,
          2.9659798763671006,
          2.9694699596679484,
          2.9799402095704917,
          2.9799402095704917,
          2.98343029287134,
          2.9869203761721876,
          2.9869203761721876,
          2.9869203761721876,
          2.9904104594730354,
          2.9904104594730354,
          2.9904104594730354,
          3.0078608759772747,
          3.0113509592781225,
          3.0218212091806658,
          3.0567220421891443,
          3.109073291701862,
          3.1160534583035577,
          3.1195435416044055,
          3.157934457913732,
          3.175384874417971,
          3.213775790727297,
          3.2731072068417104,
          3.304517956549341,
          3.3149882064518845,
          3.342908872858667,
          3.353379122761211,
          3.430160955379863,
          3.538353537706146,
          3.9885742835155176,
          4.267780947583345,
          4.491146278837607,
          5.726635767337743,
          6.316459845181027,
          7.4612071678591185,
          10.525500306003524
         ],
         "yaxis": "y"
        },
        {
         "customdata": [
          [
           "Other Games"
          ],
          [
           null
          ],
          [
           "COD: Warzone3-2 & MW3-2"
          ],
          [
           "Fortnite"
          ],
          [
           "Apex Legends"
          ],
          [
           "Valorant"
          ],
          [
           "chatting"
          ],
          [
           "Overwatch 2"
          ],
          [
           "League of Legends"
          ],
          [
           "Dead by Daylight"
          ],
          [
           "Tom Clancy's Rainbow Six: Siege"
          ],
          [
           "Fall Guys"
          ],
          [
           "Rocket League"
          ],
          [
           "Party Animals"
          ],
          [
           "Counter Strike2"
          ],
          [
           "Phasmophobia"
          ],
          [
           "THE FINALS"
          ],
          [
           "NBA: 2K24"
          ],
          [
           "Farlight84"
          ],
          [
           "Grand Theft Auto V"
          ],
          [
           "Halo Infinite"
          ],
          [
           "FIFA 23-24 & EA Sports FC 24"
          ],
          [
           "starfield"
          ],
          [
           "Podcast"
          ],
          [
           "The Texas Chain Saw Massacre"
          ],
          [
           "Madden NFL 24"
          ],
          [
           "ROBLOX"
          ],
          [
           "Destiny "
          ],
          [
           "Among Us"
          ],
          [
           "Honkai: Star Rail"
          ],
          [
           "Forza Motorsport"
          ],
          [
           "Team Fight Tatics"
          ],
          [
           "Marvel's Spider-Man 2"
          ],
          [
           "Game Detector"
          ],
          [
           "Lies of P"
          ],
          [
           "Elden Ring"
          ],
          [
           "Naraka"
          ],
          [
           "My Hero Ultra Rumble"
          ],
          [
           "PlayerUnknown's Battlegrounds\n"
          ],
          [
           "SMITE"
          ],
          [
           "Hearthstone"
          ],
          [
           "Remnant 2"
          ],
          [
           "Freefire"
          ],
          [
           "MLB The Show 22&23"
          ],
          [
           "SuperSmash Bros Ultimate"
          ],
          [
           "Fifa fc 2024"
          ],
          [
           "Rogue Company"
          ],
          [
           "COD: Mobile"
          ],
          [
           "COD: Vanguard"
          ],
          [
           "Street Fighter"
          ],
          [
           "Mortal Kombat 1"
          ],
          [
           "Mobile Legend"
          ],
          [
           "NHL 23"
          ],
          [
           "COD: Black Ops Coldwar"
          ]
         ],
         "hovertemplate": "user_type=premium<br>total_users_whose_clips_created=%{x}<br>total_event=%{y}<br>game_name=%{customdata[0]}<extra></extra>",
         "legendgroup": "premium",
         "marker": {
          "color": "#EF553B",
          "symbol": "circle"
         },
         "mode": "markers",
         "name": "premium",
         "orientation": "v",
         "showlegend": true,
         "type": "scatter",
         "x": [
          252,
          158,
          116,
          90,
          43,
          40,
          27,
          24,
          21,
          21,
          17,
          14,
          13,
          11,
          11,
          10,
          10,
          9,
          9,
          9,
          8,
          7,
          7,
          7,
          6,
          6,
          5,
          5,
          4,
          4,
          4,
          3,
          3,
          3,
          3,
          3,
          2,
          2,
          2,
          2,
          2,
          2,
          1,
          1,
          1,
          1,
          1,
          1,
          1,
          1,
          1,
          1,
          1,
          1
         ],
         "xaxis": "x",
         "y": [
          10,
          0,
          17,
          9,
          10,
          8,
          2,
          4,
          7,
          4,
          5,
          4,
          4,
          2,
          2,
          2,
          4,
          5,
          2,
          2,
          4,
          1,
          3,
          1,
          1,
          6,
          2,
          2,
          4,
          2,
          2,
          1,
          2,
          1,
          2,
          2,
          1,
          2,
          3,
          2,
          4,
          2,
          3,
          2,
          1,
          1,
          4,
          1,
          2,
          2,
          3,
          4,
          2,
          1
         ],
         "yaxis": "y"
        },
        {
         "hovertemplate": "<b>OLS trendline</b><br>total_event = 0.0376155 * total_users_whose_clips_created + 2.61336<br>R<sup>2</sup>=0.302455<br><br>user_type=premium<br>total_users_whose_clips_created=%{x}<br>total_event=%{y} <b>(trend)</b><extra></extra>",
         "legendgroup": "premium",
         "marker": {
          "color": "#EF553B",
          "symbol": "circle"
         },
         "mode": "lines",
         "name": "premium",
         "showlegend": false,
         "type": "scatter",
         "x": [
          1,
          1,
          1,
          1,
          1,
          1,
          1,
          1,
          1,
          1,
          1,
          1,
          2,
          2,
          2,
          2,
          2,
          2,
          3,
          3,
          3,
          3,
          3,
          4,
          4,
          4,
          5,
          5,
          6,
          6,
          7,
          7,
          7,
          8,
          9,
          9,
          9,
          10,
          10,
          11,
          11,
          13,
          14,
          17,
          21,
          21,
          24,
          27,
          40,
          43,
          90,
          116,
          158,
          252
         ],
         "xaxis": "x",
         "y": [
          2.650971458167763,
          2.650971458167763,
          2.650971458167763,
          2.650971458167763,
          2.650971458167763,
          2.650971458167763,
          2.650971458167763,
          2.650971458167763,
          2.650971458167763,
          2.650971458167763,
          2.650971458167763,
          2.650971458167763,
          2.688586926435277,
          2.688586926435277,
          2.688586926435277,
          2.688586926435277,
          2.688586926435277,
          2.688586926435277,
          2.7262023947027907,
          2.7262023947027907,
          2.7262023947027907,
          2.7262023947027907,
          2.7262023947027907,
          2.7638178629703045,
          2.7638178629703045,
          2.7638178629703045,
          2.801433331237819,
          2.801433331237819,
          2.8390487995053326,
          2.8390487995053326,
          2.8766642677728465,
          2.8766642677728465,
          2.8766642677728465,
          2.9142797360403603,
          2.951895204307874,
          2.951895204307874,
          2.951895204307874,
          2.989510672575388,
          2.989510672575388,
          3.0271261408429018,
          3.0271261408429018,
          3.1023570773779294,
          3.1399725456454433,
          3.2528189504479847,
          3.4032808235180405,
          3.4032808235180405,
          3.516127228320582,
          3.628973633123124,
          4.117974720600804,
          4.230821125403345,
          5.998748133976497,
          6.976750308931858,
          8.55659997616744,
          12.092453993313745
         ],
         "yaxis": "y"
        }
       ],
       "layout": {
        "legend": {
         "title": {
          "text": "user_type"
         },
         "tracegroupgap": 0
        },
        "template": {
         "data": {
          "bar": [
           {
            "error_x": {
             "color": "#2a3f5f"
            },
            "error_y": {
             "color": "#2a3f5f"
            },
            "marker": {
             "line": {
              "color": "#E5ECF6",
              "width": 0.5
             },
             "pattern": {
              "fillmode": "overlay",
              "size": 10,
              "solidity": 0.2
             }
            },
            "type": "bar"
           }
          ],
          "barpolar": [
           {
            "marker": {
             "line": {
              "color": "#E5ECF6",
              "width": 0.5
             },
             "pattern": {
              "fillmode": "overlay",
              "size": 10,
              "solidity": 0.2
             }
            },
            "type": "barpolar"
           }
          ],
          "carpet": [
           {
            "aaxis": {
             "endlinecolor": "#2a3f5f",
             "gridcolor": "white",
             "linecolor": "white",
             "minorgridcolor": "white",
             "startlinecolor": "#2a3f5f"
            },
            "baxis": {
             "endlinecolor": "#2a3f5f",
             "gridcolor": "white",
             "linecolor": "white",
             "minorgridcolor": "white",
             "startlinecolor": "#2a3f5f"
            },
            "type": "carpet"
           }
          ],
          "choropleth": [
           {
            "colorbar": {
             "outlinewidth": 0,
             "ticks": ""
            },
            "type": "choropleth"
           }
          ],
          "contour": [
           {
            "colorbar": {
             "outlinewidth": 0,
             "ticks": ""
            },
            "colorscale": [
             [
              0,
              "#0d0887"
             ],
             [
              0.1111111111111111,
              "#46039f"
             ],
             [
              0.2222222222222222,
              "#7201a8"
             ],
             [
              0.3333333333333333,
              "#9c179e"
             ],
             [
              0.4444444444444444,
              "#bd3786"
             ],
             [
              0.5555555555555556,
              "#d8576b"
             ],
             [
              0.6666666666666666,
              "#ed7953"
             ],
             [
              0.7777777777777778,
              "#fb9f3a"
             ],
             [
              0.8888888888888888,
              "#fdca26"
             ],
             [
              1,
              "#f0f921"
             ]
            ],
            "type": "contour"
           }
          ],
          "contourcarpet": [
           {
            "colorbar": {
             "outlinewidth": 0,
             "ticks": ""
            },
            "type": "contourcarpet"
           }
          ],
          "heatmap": [
           {
            "colorbar": {
             "outlinewidth": 0,
             "ticks": ""
            },
            "colorscale": [
             [
              0,
              "#0d0887"
             ],
             [
              0.1111111111111111,
              "#46039f"
             ],
             [
              0.2222222222222222,
              "#7201a8"
             ],
             [
              0.3333333333333333,
              "#9c179e"
             ],
             [
              0.4444444444444444,
              "#bd3786"
             ],
             [
              0.5555555555555556,
              "#d8576b"
             ],
             [
              0.6666666666666666,
              "#ed7953"
             ],
             [
              0.7777777777777778,
              "#fb9f3a"
             ],
             [
              0.8888888888888888,
              "#fdca26"
             ],
             [
              1,
              "#f0f921"
             ]
            ],
            "type": "heatmap"
           }
          ],
          "heatmapgl": [
           {
            "colorbar": {
             "outlinewidth": 0,
             "ticks": ""
            },
            "colorscale": [
             [
              0,
              "#0d0887"
             ],
             [
              0.1111111111111111,
              "#46039f"
             ],
             [
              0.2222222222222222,
              "#7201a8"
             ],
             [
              0.3333333333333333,
              "#9c179e"
             ],
             [
              0.4444444444444444,
              "#bd3786"
             ],
             [
              0.5555555555555556,
              "#d8576b"
             ],
             [
              0.6666666666666666,
              "#ed7953"
             ],
             [
              0.7777777777777778,
              "#fb9f3a"
             ],
             [
              0.8888888888888888,
              "#fdca26"
             ],
             [
              1,
              "#f0f921"
             ]
            ],
            "type": "heatmapgl"
           }
          ],
          "histogram": [
           {
            "marker": {
             "pattern": {
              "fillmode": "overlay",
              "size": 10,
              "solidity": 0.2
             }
            },
            "type": "histogram"
           }
          ],
          "histogram2d": [
           {
            "colorbar": {
             "outlinewidth": 0,
             "ticks": ""
            },
            "colorscale": [
             [
              0,
              "#0d0887"
             ],
             [
              0.1111111111111111,
              "#46039f"
             ],
             [
              0.2222222222222222,
              "#7201a8"
             ],
             [
              0.3333333333333333,
              "#9c179e"
             ],
             [
              0.4444444444444444,
              "#bd3786"
             ],
             [
              0.5555555555555556,
              "#d8576b"
             ],
             [
              0.6666666666666666,
              "#ed7953"
             ],
             [
              0.7777777777777778,
              "#fb9f3a"
             ],
             [
              0.8888888888888888,
              "#fdca26"
             ],
             [
              1,
              "#f0f921"
             ]
            ],
            "type": "histogram2d"
           }
          ],
          "histogram2dcontour": [
           {
            "colorbar": {
             "outlinewidth": 0,
             "ticks": ""
            },
            "colorscale": [
             [
              0,
              "#0d0887"
             ],
             [
              0.1111111111111111,
              "#46039f"
             ],
             [
              0.2222222222222222,
              "#7201a8"
             ],
             [
              0.3333333333333333,
              "#9c179e"
             ],
             [
              0.4444444444444444,
              "#bd3786"
             ],
             [
              0.5555555555555556,
              "#d8576b"
             ],
             [
              0.6666666666666666,
              "#ed7953"
             ],
             [
              0.7777777777777778,
              "#fb9f3a"
             ],
             [
              0.8888888888888888,
              "#fdca26"
             ],
             [
              1,
              "#f0f921"
             ]
            ],
            "type": "histogram2dcontour"
           }
          ],
          "mesh3d": [
           {
            "colorbar": {
             "outlinewidth": 0,
             "ticks": ""
            },
            "type": "mesh3d"
           }
          ],
          "parcoords": [
           {
            "line": {
             "colorbar": {
              "outlinewidth": 0,
              "ticks": ""
             }
            },
            "type": "parcoords"
           }
          ],
          "pie": [
           {
            "automargin": true,
            "type": "pie"
           }
          ],
          "scatter": [
           {
            "fillpattern": {
             "fillmode": "overlay",
             "size": 10,
             "solidity": 0.2
            },
            "type": "scatter"
           }
          ],
          "scatter3d": [
           {
            "line": {
             "colorbar": {
              "outlinewidth": 0,
              "ticks": ""
             }
            },
            "marker": {
             "colorbar": {
              "outlinewidth": 0,
              "ticks": ""
             }
            },
            "type": "scatter3d"
           }
          ],
          "scattercarpet": [
           {
            "marker": {
             "colorbar": {
              "outlinewidth": 0,
              "ticks": ""
             }
            },
            "type": "scattercarpet"
           }
          ],
          "scattergeo": [
           {
            "marker": {
             "colorbar": {
              "outlinewidth": 0,
              "ticks": ""
             }
            },
            "type": "scattergeo"
           }
          ],
          "scattergl": [
           {
            "marker": {
             "colorbar": {
              "outlinewidth": 0,
              "ticks": ""
             }
            },
            "type": "scattergl"
           }
          ],
          "scattermapbox": [
           {
            "marker": {
             "colorbar": {
              "outlinewidth": 0,
              "ticks": ""
             }
            },
            "type": "scattermapbox"
           }
          ],
          "scatterpolar": [
           {
            "marker": {
             "colorbar": {
              "outlinewidth": 0,
              "ticks": ""
             }
            },
            "type": "scatterpolar"
           }
          ],
          "scatterpolargl": [
           {
            "marker": {
             "colorbar": {
              "outlinewidth": 0,
              "ticks": ""
             }
            },
            "type": "scatterpolargl"
           }
          ],
          "scatterternary": [
           {
            "marker": {
             "colorbar": {
              "outlinewidth": 0,
              "ticks": ""
             }
            },
            "type": "scatterternary"
           }
          ],
          "surface": [
           {
            "colorbar": {
             "outlinewidth": 0,
             "ticks": ""
            },
            "colorscale": [
             [
              0,
              "#0d0887"
             ],
             [
              0.1111111111111111,
              "#46039f"
             ],
             [
              0.2222222222222222,
              "#7201a8"
             ],
             [
              0.3333333333333333,
              "#9c179e"
             ],
             [
              0.4444444444444444,
              "#bd3786"
             ],
             [
              0.5555555555555556,
              "#d8576b"
             ],
             [
              0.6666666666666666,
              "#ed7953"
             ],
             [
              0.7777777777777778,
              "#fb9f3a"
             ],
             [
              0.8888888888888888,
              "#fdca26"
             ],
             [
              1,
              "#f0f921"
             ]
            ],
            "type": "surface"
           }
          ],
          "table": [
           {
            "cells": {
             "fill": {
              "color": "#EBF0F8"
             },
             "line": {
              "color": "white"
             }
            },
            "header": {
             "fill": {
              "color": "#C8D4E3"
             },
             "line": {
              "color": "white"
             }
            },
            "type": "table"
           }
          ]
         },
         "layout": {
          "annotationdefaults": {
           "arrowcolor": "#2a3f5f",
           "arrowhead": 0,
           "arrowwidth": 1
          },
          "autotypenumbers": "strict",
          "coloraxis": {
           "colorbar": {
            "outlinewidth": 0,
            "ticks": ""
           }
          },
          "colorscale": {
           "diverging": [
            [
             0,
             "#8e0152"
            ],
            [
             0.1,
             "#c51b7d"
            ],
            [
             0.2,
             "#de77ae"
            ],
            [
             0.3,
             "#f1b6da"
            ],
            [
             0.4,
             "#fde0ef"
            ],
            [
             0.5,
             "#f7f7f7"
            ],
            [
             0.6,
             "#e6f5d0"
            ],
            [
             0.7,
             "#b8e186"
            ],
            [
             0.8,
             "#7fbc41"
            ],
            [
             0.9,
             "#4d9221"
            ],
            [
             1,
             "#276419"
            ]
           ],
           "sequential": [
            [
             0,
             "#0d0887"
            ],
            [
             0.1111111111111111,
             "#46039f"
            ],
            [
             0.2222222222222222,
             "#7201a8"
            ],
            [
             0.3333333333333333,
             "#9c179e"
            ],
            [
             0.4444444444444444,
             "#bd3786"
            ],
            [
             0.5555555555555556,
             "#d8576b"
            ],
            [
             0.6666666666666666,
             "#ed7953"
            ],
            [
             0.7777777777777778,
             "#fb9f3a"
            ],
            [
             0.8888888888888888,
             "#fdca26"
            ],
            [
             1,
             "#f0f921"
            ]
           ],
           "sequentialminus": [
            [
             0,
             "#0d0887"
            ],
            [
             0.1111111111111111,
             "#46039f"
            ],
            [
             0.2222222222222222,
             "#7201a8"
            ],
            [
             0.3333333333333333,
             "#9c179e"
            ],
            [
             0.4444444444444444,
             "#bd3786"
            ],
            [
             0.5555555555555556,
             "#d8576b"
            ],
            [
             0.6666666666666666,
             "#ed7953"
            ],
            [
             0.7777777777777778,
             "#fb9f3a"
            ],
            [
             0.8888888888888888,
             "#fdca26"
            ],
            [
             1,
             "#f0f921"
            ]
           ]
          },
          "colorway": [
           "#636efa",
           "#EF553B",
           "#00cc96",
           "#ab63fa",
           "#FFA15A",
           "#19d3f3",
           "#FF6692",
           "#B6E880",
           "#FF97FF",
           "#FECB52"
          ],
          "font": {
           "color": "#2a3f5f"
          },
          "geo": {
           "bgcolor": "white",
           "lakecolor": "white",
           "landcolor": "#E5ECF6",
           "showlakes": true,
           "showland": true,
           "subunitcolor": "white"
          },
          "hoverlabel": {
           "align": "left"
          },
          "hovermode": "closest",
          "mapbox": {
           "style": "light"
          },
          "paper_bgcolor": "white",
          "plot_bgcolor": "#E5ECF6",
          "polar": {
           "angularaxis": {
            "gridcolor": "white",
            "linecolor": "white",
            "ticks": ""
           },
           "bgcolor": "#E5ECF6",
           "radialaxis": {
            "gridcolor": "white",
            "linecolor": "white",
            "ticks": ""
           }
          },
          "scene": {
           "xaxis": {
            "backgroundcolor": "#E5ECF6",
            "gridcolor": "white",
            "gridwidth": 2,
            "linecolor": "white",
            "showbackground": true,
            "ticks": "",
            "zerolinecolor": "white"
           },
           "yaxis": {
            "backgroundcolor": "#E5ECF6",
            "gridcolor": "white",
            "gridwidth": 2,
            "linecolor": "white",
            "showbackground": true,
            "ticks": "",
            "zerolinecolor": "white"
           },
           "zaxis": {
            "backgroundcolor": "#E5ECF6",
            "gridcolor": "white",
            "gridwidth": 2,
            "linecolor": "white",
            "showbackground": true,
            "ticks": "",
            "zerolinecolor": "white"
           }
          },
          "shapedefaults": {
           "line": {
            "color": "#2a3f5f"
           }
          },
          "ternary": {
           "aaxis": {
            "gridcolor": "white",
            "linecolor": "white",
            "ticks": ""
           },
           "baxis": {
            "gridcolor": "white",
            "linecolor": "white",
            "ticks": ""
           },
           "bgcolor": "#E5ECF6",
           "caxis": {
            "gridcolor": "white",
            "linecolor": "white",
            "ticks": ""
           }
          },
          "title": {
           "x": 0.05
          },
          "xaxis": {
           "automargin": true,
           "gridcolor": "white",
           "linecolor": "white",
           "ticks": "",
           "title": {
            "standoff": 15
           },
           "zerolinecolor": "white",
           "zerolinewidth": 2
          },
          "yaxis": {
           "automargin": true,
           "gridcolor": "white",
           "linecolor": "white",
           "ticks": "",
           "title": {
            "standoff": 15
           },
           "zerolinecolor": "white",
           "zerolinewidth": 2
          }
         }
        },
        "title": {
         "text": "Scatter Plot: total_users_whose_clips_created vs total_event per Game"
        },
        "xaxis": {
         "anchor": "y",
         "domain": [
          0,
          1
         ],
         "title": {
          "text": "total_users_whose_clips_created"
         }
        },
        "yaxis": {
         "anchor": "x",
         "domain": [
          0,
          1
         ],
         "title": {
          "text": "total_event"
         }
        }
       }
      }
     },
     "metadata": {},
     "output_type": "display_data"
    },
    {
     "data": {
      "application/vnd.plotly.v1+json": {
       "config": {
        "plotlyServerURL": "https://plot.ly"
       },
       "data": [
        {
         "customdata": [
          [
           "Other Games"
          ],
          [
           null
          ],
          [
           "COD: Warzone3-2 & MW3-2"
          ],
          [
           "Fortnite"
          ],
          [
           "Podcast"
          ],
          [
           "Valorant"
          ],
          [
           "Apex Legends"
          ],
          [
           "Overwatch 2"
          ],
          [
           "Tom Clancy's Rainbow Six: Siege"
          ],
          [
           "League of Legends"
          ],
          [
           "NBA: 2K24"
          ],
          [
           "chatting"
          ],
          [
           "Rocket League"
          ],
          [
           "Dead by Daylight"
          ],
          [
           "Fall Guys"
          ],
          [
           "Counter Strike2"
          ],
          [
           "Madden NFL 24"
          ],
          [
           "Grand Theft Auto V"
          ],
          [
           "ROBLOX"
          ],
          [
           "FIFA 23-24 & EA Sports FC 24"
          ],
          [
           "Destiny "
          ],
          [
           "Mortal Kombat 1"
          ],
          [
           "COD: Black Ops Coldwar"
          ],
          [
           "The Texas Chain Saw Massacre"
          ],
          [
           "starfield"
          ],
          [
           "Halo Infinite"
          ],
          [
           "Farlight84"
          ],
          [
           "PlayerUnknown's Battlegrounds\n"
          ],
          [
           "Among Us"
          ],
          [
           "Party Animals"
          ],
          [
           "Elden Ring"
          ],
          [
           "Phasmophobia"
          ],
          [
           "THE FINALS"
          ],
          [
           "Naraka"
          ],
          [
           "Lies of P"
          ],
          [
           "My Hero Ultra Rumble"
          ],
          [
           "PAYDAY 3"
          ],
          [
           "COD: Mobile"
          ],
          [
           "Rogue Company"
          ],
          [
           "Marvel's Spider-Man 2"
          ],
          [
           "Street Fighter"
          ],
          [
           "Remnant 2"
          ],
          [
           "SMITE"
          ],
          [
           "Mobile Legend"
          ],
          [
           "Honkai: Star Rail"
          ],
          [
           "Fifa fc 2024"
          ],
          [
           "COD: Vanguard"
          ],
          [
           "Team Fight Tatics"
          ],
          [
           "Worlds of Tanks"
          ],
          [
           "Hearthstone"
          ],
          [
           "Freefire"
          ],
          [
           "MLB The Show 22&23"
          ],
          [
           "battlefield2042"
          ],
          [
           "SuperSmash Bros Ultimate"
          ]
         ],
         "hovertemplate": "user_type=free<br>total_users_whose_clips_created=%{x}<br>average_clips_per_user=%{y}<br>game_name=%{customdata[0]}<extra></extra>",
         "legendgroup": "free",
         "marker": {
          "color": "#636efa",
          "symbol": "circle"
         },
         "mode": "markers",
         "name": "free",
         "orientation": "v",
         "showlegend": true,
         "type": "scatter",
         "x": [
          2177,
          1299,
          971,
          802,
          448,
          384,
          304,
          175,
          144,
          122,
          119,
          111,
          108,
          99,
          82,
          71,
          66,
          55,
          54,
          52,
          37,
          27,
          24,
          23,
          18,
          18,
          18,
          17,
          17,
          17,
          16,
          15,
          15,
          12,
          11,
          7,
          7,
          7,
          7,
          6,
          5,
          5,
          4,
          3,
          3,
          3,
          3,
          2,
          2,
          1,
          1,
          1,
          1,
          1
         ],
         "xaxis": "x",
         "y": [
          45,
          8,
          82,
          58,
          23,
          87,
          55,
          88,
          32,
          96,
          40,
          19,
          49,
          36,
          20,
          40,
          45,
          25,
          19,
          30,
          34,
          39,
          28,
          17,
          29,
          22,
          21,
          37,
          12,
          16,
          23,
          17,
          40,
          27,
          18,
          24,
          11,
          18,
          22,
          11,
          50,
          8,
          20,
          46,
          15,
          11,
          10,
          10,
          45,
          3,
          16,
          15,
          55,
          11
         ],
         "yaxis": "y"
        },
        {
         "hovertemplate": "<b>OLS trendline</b><br>average_clips_per_user = 0.0154053 * total_users_whose_clips_created + 28.7927<br>R<sup>2</sup>=0.072175<br><br>user_type=free<br>total_users_whose_clips_created=%{x}<br>average_clips_per_user=%{y} <b>(trend)</b><extra></extra>",
         "legendgroup": "free",
         "marker": {
          "color": "#636efa",
          "symbol": "circle"
         },
         "mode": "lines",
         "name": "free",
         "showlegend": false,
         "type": "scatter",
         "x": [
          1,
          1,
          1,
          1,
          1,
          2,
          2,
          3,
          3,
          3,
          3,
          4,
          5,
          5,
          6,
          7,
          7,
          7,
          7,
          11,
          12,
          15,
          15,
          16,
          17,
          17,
          17,
          18,
          18,
          18,
          23,
          24,
          27,
          37,
          52,
          54,
          55,
          66,
          71,
          82,
          99,
          108,
          111,
          119,
          122,
          144,
          175,
          304,
          384,
          448,
          802,
          971,
          1299,
          2177
         ],
         "xaxis": "x",
         "y": [
          28.808068629128545,
          28.808068629128545,
          28.808068629128545,
          28.808068629128545,
          28.808068629128545,
          28.823473928640954,
          28.823473928640954,
          28.83887922815336,
          28.83887922815336,
          28.83887922815336,
          28.83887922815336,
          28.85428452766577,
          28.869689827178178,
          28.869689827178178,
          28.885095126690587,
          28.900500426202996,
          28.900500426202996,
          28.900500426202996,
          28.900500426202996,
          28.962121624252628,
          28.977526923765037,
          29.02374282230226,
          29.02374282230226,
          29.03914812181467,
          29.054553421327075,
          29.054553421327075,
          29.054553421327075,
          29.069958720839484,
          29.069958720839484,
          29.069958720839484,
          29.146985218401525,
          29.162390517913934,
          29.208606416451158,
          29.36265941157524,
          29.593738904261365,
          29.624549503286183,
          29.63995480279859,
          29.80941309743508,
          29.88643959499712,
          30.055897889633613,
          30.31778798134455,
          30.45643567695623,
          30.502651575493452,
          30.625893971592717,
          30.672109870129944,
          31.011026459402924,
          31.48859074428758,
          33.475874381388245,
          34.70829834238091,
          35.69423751117503,
          41.14771353856756,
          43.75120915616455,
          48.804147396234455,
          62.33000036812891
         ],
         "yaxis": "y"
        },
        {
         "customdata": [
          [
           "Other Games"
          ],
          [
           null
          ],
          [
           "COD: Warzone3-2 & MW3-2"
          ],
          [
           "Fortnite"
          ],
          [
           "Apex Legends"
          ],
          [
           "Valorant"
          ],
          [
           "chatting"
          ],
          [
           "Overwatch 2"
          ],
          [
           "League of Legends"
          ],
          [
           "Dead by Daylight"
          ],
          [
           "Tom Clancy's Rainbow Six: Siege"
          ],
          [
           "Fall Guys"
          ],
          [
           "Rocket League"
          ],
          [
           "Party Animals"
          ],
          [
           "Counter Strike2"
          ],
          [
           "Phasmophobia"
          ],
          [
           "THE FINALS"
          ],
          [
           "NBA: 2K24"
          ],
          [
           "Farlight84"
          ],
          [
           "Grand Theft Auto V"
          ],
          [
           "Halo Infinite"
          ],
          [
           "FIFA 23-24 & EA Sports FC 24"
          ],
          [
           "starfield"
          ],
          [
           "Podcast"
          ],
          [
           "The Texas Chain Saw Massacre"
          ],
          [
           "Madden NFL 24"
          ],
          [
           "ROBLOX"
          ],
          [
           "Destiny "
          ],
          [
           "Among Us"
          ],
          [
           "Honkai: Star Rail"
          ],
          [
           "Forza Motorsport"
          ],
          [
           "Team Fight Tatics"
          ],
          [
           "Marvel's Spider-Man 2"
          ],
          [
           "Game Detector"
          ],
          [
           "Lies of P"
          ],
          [
           "Elden Ring"
          ],
          [
           "Naraka"
          ],
          [
           "My Hero Ultra Rumble"
          ],
          [
           "PlayerUnknown's Battlegrounds\n"
          ],
          [
           "SMITE"
          ],
          [
           "Hearthstone"
          ],
          [
           "Remnant 2"
          ],
          [
           "Freefire"
          ],
          [
           "MLB The Show 22&23"
          ],
          [
           "SuperSmash Bros Ultimate"
          ],
          [
           "Fifa fc 2024"
          ],
          [
           "Rogue Company"
          ],
          [
           "COD: Mobile"
          ],
          [
           "COD: Vanguard"
          ],
          [
           "Street Fighter"
          ],
          [
           "Mortal Kombat 1"
          ],
          [
           "Mobile Legend"
          ],
          [
           "NHL 23"
          ],
          [
           "COD: Black Ops Coldwar"
          ]
         ],
         "hovertemplate": "user_type=premium<br>total_users_whose_clips_created=%{x}<br>average_clips_per_user=%{y}<br>game_name=%{customdata[0]}<extra></extra>",
         "legendgroup": "premium",
         "marker": {
          "color": "#EF553B",
          "symbol": "circle"
         },
         "mode": "markers",
         "name": "premium",
         "orientation": "v",
         "showlegend": true,
         "type": "scatter",
         "x": [
          252,
          158,
          116,
          90,
          43,
          40,
          27,
          24,
          21,
          21,
          17,
          14,
          13,
          11,
          11,
          10,
          10,
          9,
          9,
          9,
          8,
          7,
          7,
          7,
          6,
          6,
          5,
          5,
          4,
          4,
          4,
          3,
          3,
          3,
          3,
          3,
          2,
          2,
          2,
          2,
          2,
          2,
          1,
          1,
          1,
          1,
          1,
          1,
          1,
          1,
          1,
          1,
          1,
          1
         ],
         "xaxis": "x",
         "y": [
          130,
          17,
          525,
          211,
          284,
          378,
          53,
          282,
          624,
          126,
          182,
          17,
          528,
          23,
          302,
          29,
          62,
          193,
          52,
          61,
          203,
          224,
          24,
          42,
          44,
          62,
          24,
          47,
          8,
          77,
          52,
          15,
          4,
          5,
          87,
          37,
          73,
          14,
          28,
          107,
          17,
          21,
          19,
          28,
          3,
          21,
          45,
          10,
          7,
          8,
          105,
          94,
          66,
          24
         ],
         "yaxis": "y"
        },
        {
         "hovertemplate": "<b>OLS trendline</b><br>average_clips_per_user = 0.850173 * total_users_whose_clips_created + 90.1459<br>R<sup>2</sup>=0.067206<br><br>user_type=premium<br>total_users_whose_clips_created=%{x}<br>average_clips_per_user=%{y} <b>(trend)</b><extra></extra>",
         "legendgroup": "premium",
         "marker": {
          "color": "#EF553B",
          "symbol": "circle"
         },
         "mode": "lines",
         "name": "premium",
         "showlegend": false,
         "type": "scatter",
         "x": [
          1,
          1,
          1,
          1,
          1,
          1,
          1,
          1,
          1,
          1,
          1,
          1,
          2,
          2,
          2,
          2,
          2,
          2,
          3,
          3,
          3,
          3,
          3,
          4,
          4,
          4,
          5,
          5,
          6,
          6,
          7,
          7,
          7,
          8,
          9,
          9,
          9,
          10,
          10,
          11,
          11,
          13,
          14,
          17,
          21,
          21,
          24,
          27,
          40,
          43,
          90,
          116,
          158,
          252
         ],
         "xaxis": "x",
         "y": [
          90.99602803234094,
          90.99602803234094,
          90.99602803234094,
          90.99602803234094,
          90.99602803234094,
          90.99602803234094,
          90.99602803234094,
          90.99602803234094,
          90.99602803234094,
          90.99602803234094,
          90.99602803234094,
          90.99602803234094,
          91.84620063071826,
          91.84620063071826,
          91.84620063071826,
          91.84620063071826,
          91.84620063071826,
          91.84620063071826,
          92.69637322909558,
          92.69637322909558,
          92.69637322909558,
          92.69637322909558,
          92.69637322909558,
          93.54654582747291,
          93.54654582747291,
          93.54654582747291,
          94.39671842585022,
          94.39671842585022,
          95.24689102422755,
          95.24689102422755,
          96.09706362260488,
          96.09706362260488,
          96.09706362260488,
          96.94723622098219,
          97.79740881935952,
          97.79740881935952,
          97.79740881935952,
          98.64758141773683,
          98.64758141773683,
          99.49775401611416,
          99.49775401611416,
          101.1980992128688,
          102.04827181124612,
          104.59878960637809,
          107.99947999988737,
          107.99947999988737,
          110.54999779501935,
          113.1005155901513,
          124.1527593690565,
          126.70327716418846,
          166.6613892879226,
          188.76587684573298,
          224.47312597758048,
          304.38935022504876
         ],
         "yaxis": "y"
        }
       ],
       "layout": {
        "legend": {
         "title": {
          "text": "user_type"
         },
         "tracegroupgap": 0
        },
        "template": {
         "data": {
          "bar": [
           {
            "error_x": {
             "color": "#2a3f5f"
            },
            "error_y": {
             "color": "#2a3f5f"
            },
            "marker": {
             "line": {
              "color": "#E5ECF6",
              "width": 0.5
             },
             "pattern": {
              "fillmode": "overlay",
              "size": 10,
              "solidity": 0.2
             }
            },
            "type": "bar"
           }
          ],
          "barpolar": [
           {
            "marker": {
             "line": {
              "color": "#E5ECF6",
              "width": 0.5
             },
             "pattern": {
              "fillmode": "overlay",
              "size": 10,
              "solidity": 0.2
             }
            },
            "type": "barpolar"
           }
          ],
          "carpet": [
           {
            "aaxis": {
             "endlinecolor": "#2a3f5f",
             "gridcolor": "white",
             "linecolor": "white",
             "minorgridcolor": "white",
             "startlinecolor": "#2a3f5f"
            },
            "baxis": {
             "endlinecolor": "#2a3f5f",
             "gridcolor": "white",
             "linecolor": "white",
             "minorgridcolor": "white",
             "startlinecolor": "#2a3f5f"
            },
            "type": "carpet"
           }
          ],
          "choropleth": [
           {
            "colorbar": {
             "outlinewidth": 0,
             "ticks": ""
            },
            "type": "choropleth"
           }
          ],
          "contour": [
           {
            "colorbar": {
             "outlinewidth": 0,
             "ticks": ""
            },
            "colorscale": [
             [
              0,
              "#0d0887"
             ],
             [
              0.1111111111111111,
              "#46039f"
             ],
             [
              0.2222222222222222,
              "#7201a8"
             ],
             [
              0.3333333333333333,
              "#9c179e"
             ],
             [
              0.4444444444444444,
              "#bd3786"
             ],
             [
              0.5555555555555556,
              "#d8576b"
             ],
             [
              0.6666666666666666,
              "#ed7953"
             ],
             [
              0.7777777777777778,
              "#fb9f3a"
             ],
             [
              0.8888888888888888,
              "#fdca26"
             ],
             [
              1,
              "#f0f921"
             ]
            ],
            "type": "contour"
           }
          ],
          "contourcarpet": [
           {
            "colorbar": {
             "outlinewidth": 0,
             "ticks": ""
            },
            "type": "contourcarpet"
           }
          ],
          "heatmap": [
           {
            "colorbar": {
             "outlinewidth": 0,
             "ticks": ""
            },
            "colorscale": [
             [
              0,
              "#0d0887"
             ],
             [
              0.1111111111111111,
              "#46039f"
             ],
             [
              0.2222222222222222,
              "#7201a8"
             ],
             [
              0.3333333333333333,
              "#9c179e"
             ],
             [
              0.4444444444444444,
              "#bd3786"
             ],
             [
              0.5555555555555556,
              "#d8576b"
             ],
             [
              0.6666666666666666,
              "#ed7953"
             ],
             [
              0.7777777777777778,
              "#fb9f3a"
             ],
             [
              0.8888888888888888,
              "#fdca26"
             ],
             [
              1,
              "#f0f921"
             ]
            ],
            "type": "heatmap"
           }
          ],
          "heatmapgl": [
           {
            "colorbar": {
             "outlinewidth": 0,
             "ticks": ""
            },
            "colorscale": [
             [
              0,
              "#0d0887"
             ],
             [
              0.1111111111111111,
              "#46039f"
             ],
             [
              0.2222222222222222,
              "#7201a8"
             ],
             [
              0.3333333333333333,
              "#9c179e"
             ],
             [
              0.4444444444444444,
              "#bd3786"
             ],
             [
              0.5555555555555556,
              "#d8576b"
             ],
             [
              0.6666666666666666,
              "#ed7953"
             ],
             [
              0.7777777777777778,
              "#fb9f3a"
             ],
             [
              0.8888888888888888,
              "#fdca26"
             ],
             [
              1,
              "#f0f921"
             ]
            ],
            "type": "heatmapgl"
           }
          ],
          "histogram": [
           {
            "marker": {
             "pattern": {
              "fillmode": "overlay",
              "size": 10,
              "solidity": 0.2
             }
            },
            "type": "histogram"
           }
          ],
          "histogram2d": [
           {
            "colorbar": {
             "outlinewidth": 0,
             "ticks": ""
            },
            "colorscale": [
             [
              0,
              "#0d0887"
             ],
             [
              0.1111111111111111,
              "#46039f"
             ],
             [
              0.2222222222222222,
              "#7201a8"
             ],
             [
              0.3333333333333333,
              "#9c179e"
             ],
             [
              0.4444444444444444,
              "#bd3786"
             ],
             [
              0.5555555555555556,
              "#d8576b"
             ],
             [
              0.6666666666666666,
              "#ed7953"
             ],
             [
              0.7777777777777778,
              "#fb9f3a"
             ],
             [
              0.8888888888888888,
              "#fdca26"
             ],
             [
              1,
              "#f0f921"
             ]
            ],
            "type": "histogram2d"
           }
          ],
          "histogram2dcontour": [
           {
            "colorbar": {
             "outlinewidth": 0,
             "ticks": ""
            },
            "colorscale": [
             [
              0,
              "#0d0887"
             ],
             [
              0.1111111111111111,
              "#46039f"
             ],
             [
              0.2222222222222222,
              "#7201a8"
             ],
             [
              0.3333333333333333,
              "#9c179e"
             ],
             [
              0.4444444444444444,
              "#bd3786"
             ],
             [
              0.5555555555555556,
              "#d8576b"
             ],
             [
              0.6666666666666666,
              "#ed7953"
             ],
             [
              0.7777777777777778,
              "#fb9f3a"
             ],
             [
              0.8888888888888888,
              "#fdca26"
             ],
             [
              1,
              "#f0f921"
             ]
            ],
            "type": "histogram2dcontour"
           }
          ],
          "mesh3d": [
           {
            "colorbar": {
             "outlinewidth": 0,
             "ticks": ""
            },
            "type": "mesh3d"
           }
          ],
          "parcoords": [
           {
            "line": {
             "colorbar": {
              "outlinewidth": 0,
              "ticks": ""
             }
            },
            "type": "parcoords"
           }
          ],
          "pie": [
           {
            "automargin": true,
            "type": "pie"
           }
          ],
          "scatter": [
           {
            "fillpattern": {
             "fillmode": "overlay",
             "size": 10,
             "solidity": 0.2
            },
            "type": "scatter"
           }
          ],
          "scatter3d": [
           {
            "line": {
             "colorbar": {
              "outlinewidth": 0,
              "ticks": ""
             }
            },
            "marker": {
             "colorbar": {
              "outlinewidth": 0,
              "ticks": ""
             }
            },
            "type": "scatter3d"
           }
          ],
          "scattercarpet": [
           {
            "marker": {
             "colorbar": {
              "outlinewidth": 0,
              "ticks": ""
             }
            },
            "type": "scattercarpet"
           }
          ],
          "scattergeo": [
           {
            "marker": {
             "colorbar": {
              "outlinewidth": 0,
              "ticks": ""
             }
            },
            "type": "scattergeo"
           }
          ],
          "scattergl": [
           {
            "marker": {
             "colorbar": {
              "outlinewidth": 0,
              "ticks": ""
             }
            },
            "type": "scattergl"
           }
          ],
          "scattermapbox": [
           {
            "marker": {
             "colorbar": {
              "outlinewidth": 0,
              "ticks": ""
             }
            },
            "type": "scattermapbox"
           }
          ],
          "scatterpolar": [
           {
            "marker": {
             "colorbar": {
              "outlinewidth": 0,
              "ticks": ""
             }
            },
            "type": "scatterpolar"
           }
          ],
          "scatterpolargl": [
           {
            "marker": {
             "colorbar": {
              "outlinewidth": 0,
              "ticks": ""
             }
            },
            "type": "scatterpolargl"
           }
          ],
          "scatterternary": [
           {
            "marker": {
             "colorbar": {
              "outlinewidth": 0,
              "ticks": ""
             }
            },
            "type": "scatterternary"
           }
          ],
          "surface": [
           {
            "colorbar": {
             "outlinewidth": 0,
             "ticks": ""
            },
            "colorscale": [
             [
              0,
              "#0d0887"
             ],
             [
              0.1111111111111111,
              "#46039f"
             ],
             [
              0.2222222222222222,
              "#7201a8"
             ],
             [
              0.3333333333333333,
              "#9c179e"
             ],
             [
              0.4444444444444444,
              "#bd3786"
             ],
             [
              0.5555555555555556,
              "#d8576b"
             ],
             [
              0.6666666666666666,
              "#ed7953"
             ],
             [
              0.7777777777777778,
              "#fb9f3a"
             ],
             [
              0.8888888888888888,
              "#fdca26"
             ],
             [
              1,
              "#f0f921"
             ]
            ],
            "type": "surface"
           }
          ],
          "table": [
           {
            "cells": {
             "fill": {
              "color": "#EBF0F8"
             },
             "line": {
              "color": "white"
             }
            },
            "header": {
             "fill": {
              "color": "#C8D4E3"
             },
             "line": {
              "color": "white"
             }
            },
            "type": "table"
           }
          ]
         },
         "layout": {
          "annotationdefaults": {
           "arrowcolor": "#2a3f5f",
           "arrowhead": 0,
           "arrowwidth": 1
          },
          "autotypenumbers": "strict",
          "coloraxis": {
           "colorbar": {
            "outlinewidth": 0,
            "ticks": ""
           }
          },
          "colorscale": {
           "diverging": [
            [
             0,
             "#8e0152"
            ],
            [
             0.1,
             "#c51b7d"
            ],
            [
             0.2,
             "#de77ae"
            ],
            [
             0.3,
             "#f1b6da"
            ],
            [
             0.4,
             "#fde0ef"
            ],
            [
             0.5,
             "#f7f7f7"
            ],
            [
             0.6,
             "#e6f5d0"
            ],
            [
             0.7,
             "#b8e186"
            ],
            [
             0.8,
             "#7fbc41"
            ],
            [
             0.9,
             "#4d9221"
            ],
            [
             1,
             "#276419"
            ]
           ],
           "sequential": [
            [
             0,
             "#0d0887"
            ],
            [
             0.1111111111111111,
             "#46039f"
            ],
            [
             0.2222222222222222,
             "#7201a8"
            ],
            [
             0.3333333333333333,
             "#9c179e"
            ],
            [
             0.4444444444444444,
             "#bd3786"
            ],
            [
             0.5555555555555556,
             "#d8576b"
            ],
            [
             0.6666666666666666,
             "#ed7953"
            ],
            [
             0.7777777777777778,
             "#fb9f3a"
            ],
            [
             0.8888888888888888,
             "#fdca26"
            ],
            [
             1,
             "#f0f921"
            ]
           ],
           "sequentialminus": [
            [
             0,
             "#0d0887"
            ],
            [
             0.1111111111111111,
             "#46039f"
            ],
            [
             0.2222222222222222,
             "#7201a8"
            ],
            [
             0.3333333333333333,
             "#9c179e"
            ],
            [
             0.4444444444444444,
             "#bd3786"
            ],
            [
             0.5555555555555556,
             "#d8576b"
            ],
            [
             0.6666666666666666,
             "#ed7953"
            ],
            [
             0.7777777777777778,
             "#fb9f3a"
            ],
            [
             0.8888888888888888,
             "#fdca26"
            ],
            [
             1,
             "#f0f921"
            ]
           ]
          },
          "colorway": [
           "#636efa",
           "#EF553B",
           "#00cc96",
           "#ab63fa",
           "#FFA15A",
           "#19d3f3",
           "#FF6692",
           "#B6E880",
           "#FF97FF",
           "#FECB52"
          ],
          "font": {
           "color": "#2a3f5f"
          },
          "geo": {
           "bgcolor": "white",
           "lakecolor": "white",
           "landcolor": "#E5ECF6",
           "showlakes": true,
           "showland": true,
           "subunitcolor": "white"
          },
          "hoverlabel": {
           "align": "left"
          },
          "hovermode": "closest",
          "mapbox": {
           "style": "light"
          },
          "paper_bgcolor": "white",
          "plot_bgcolor": "#E5ECF6",
          "polar": {
           "angularaxis": {
            "gridcolor": "white",
            "linecolor": "white",
            "ticks": ""
           },
           "bgcolor": "#E5ECF6",
           "radialaxis": {
            "gridcolor": "white",
            "linecolor": "white",
            "ticks": ""
           }
          },
          "scene": {
           "xaxis": {
            "backgroundcolor": "#E5ECF6",
            "gridcolor": "white",
            "gridwidth": 2,
            "linecolor": "white",
            "showbackground": true,
            "ticks": "",
            "zerolinecolor": "white"
           },
           "yaxis": {
            "backgroundcolor": "#E5ECF6",
            "gridcolor": "white",
            "gridwidth": 2,
            "linecolor": "white",
            "showbackground": true,
            "ticks": "",
            "zerolinecolor": "white"
           },
           "zaxis": {
            "backgroundcolor": "#E5ECF6",
            "gridcolor": "white",
            "gridwidth": 2,
            "linecolor": "white",
            "showbackground": true,
            "ticks": "",
            "zerolinecolor": "white"
           }
          },
          "shapedefaults": {
           "line": {
            "color": "#2a3f5f"
           }
          },
          "ternary": {
           "aaxis": {
            "gridcolor": "white",
            "linecolor": "white",
            "ticks": ""
           },
           "baxis": {
            "gridcolor": "white",
            "linecolor": "white",
            "ticks": ""
           },
           "bgcolor": "#E5ECF6",
           "caxis": {
            "gridcolor": "white",
            "linecolor": "white",
            "ticks": ""
           }
          },
          "title": {
           "x": 0.05
          },
          "xaxis": {
           "automargin": true,
           "gridcolor": "white",
           "linecolor": "white",
           "ticks": "",
           "title": {
            "standoff": 15
           },
           "zerolinecolor": "white",
           "zerolinewidth": 2
          },
          "yaxis": {
           "automargin": true,
           "gridcolor": "white",
           "linecolor": "white",
           "ticks": "",
           "title": {
            "standoff": 15
           },
           "zerolinecolor": "white",
           "zerolinewidth": 2
          }
         }
        },
        "title": {
         "text": "Scatter Plot: total_users_whose_clips_created vs average_clips_per_user per Game"
        },
        "xaxis": {
         "anchor": "y",
         "domain": [
          0,
          1
         ],
         "title": {
          "text": "total_users_whose_clips_created"
         }
        },
        "yaxis": {
         "anchor": "x",
         "domain": [
          0,
          1
         ],
         "title": {
          "text": "average_clips_per_user"
         }
        }
       }
      }
     },
     "metadata": {},
     "output_type": "display_data"
    },
    {
     "data": {
      "application/vnd.plotly.v1+json": {
       "config": {
        "plotlyServerURL": "https://plot.ly"
       },
       "data": [
        {
         "customdata": [
          [
           "Other Games"
          ],
          [
           null
          ],
          [
           "COD: Warzone3-2 & MW3-2"
          ],
          [
           "Fortnite"
          ],
          [
           "Podcast"
          ],
          [
           "Valorant"
          ],
          [
           "Apex Legends"
          ],
          [
           "Overwatch 2"
          ],
          [
           "Tom Clancy's Rainbow Six: Siege"
          ],
          [
           "League of Legends"
          ],
          [
           "NBA: 2K24"
          ],
          [
           "chatting"
          ],
          [
           "Rocket League"
          ],
          [
           "Dead by Daylight"
          ],
          [
           "Fall Guys"
          ],
          [
           "Counter Strike2"
          ],
          [
           "Madden NFL 24"
          ],
          [
           "Grand Theft Auto V"
          ],
          [
           "ROBLOX"
          ],
          [
           "FIFA 23-24 & EA Sports FC 24"
          ],
          [
           "Destiny "
          ],
          [
           "Mortal Kombat 1"
          ],
          [
           "COD: Black Ops Coldwar"
          ],
          [
           "The Texas Chain Saw Massacre"
          ],
          [
           "starfield"
          ],
          [
           "Halo Infinite"
          ],
          [
           "Farlight84"
          ],
          [
           "PlayerUnknown's Battlegrounds\n"
          ],
          [
           "Among Us"
          ],
          [
           "Party Animals"
          ],
          [
           "Elden Ring"
          ],
          [
           "Phasmophobia"
          ],
          [
           "THE FINALS"
          ],
          [
           "Naraka"
          ],
          [
           "Lies of P"
          ],
          [
           "My Hero Ultra Rumble"
          ],
          [
           "PAYDAY 3"
          ],
          [
           "COD: Mobile"
          ],
          [
           "Rogue Company"
          ],
          [
           "Marvel's Spider-Man 2"
          ],
          [
           "Street Fighter"
          ],
          [
           "Remnant 2"
          ],
          [
           "SMITE"
          ],
          [
           "Mobile Legend"
          ],
          [
           "Honkai: Star Rail"
          ],
          [
           "Fifa fc 2024"
          ],
          [
           "COD: Vanguard"
          ],
          [
           "Team Fight Tatics"
          ],
          [
           "Worlds of Tanks"
          ],
          [
           "Hearthstone"
          ],
          [
           "Freefire"
          ],
          [
           "MLB The Show 22&23"
          ],
          [
           "battlefield2042"
          ],
          [
           "SuperSmash Bros Ultimate"
          ]
         ],
         "hovertemplate": "user_type=free<br>average_duration_clips=%{x}<br>total_event=%{y}<br>game_name=%{customdata[0]}<extra></extra>",
         "legendgroup": "free",
         "marker": {
          "color": "#636efa",
          "symbol": "circle"
         },
         "mode": "markers",
         "name": "free",
         "orientation": "v",
         "showlegend": true,
         "type": "scatter",
         "x": [
          104,
          34,
          49,
          37,
          61,
          44,
          42,
          83,
          18,
          32,
          26,
          55,
          48,
          38,
          85,
          30,
          36,
          46,
          48,
          62,
          40,
          29,
          29,
          54,
          29,
          40,
          28,
          23,
          30,
          59,
          17,
          49,
          29,
          29,
          29,
          29,
          63,
          29,
          29,
          29,
          29,
          29,
          29,
          45,
          47,
          57,
          29,
          39,
          36,
          19,
          262,
          24,
          28,
          29
         ],
         "xaxis": "x",
         "y": [
          8,
          0,
          17,
          9,
          1,
          8,
          10,
          4,
          4,
          7,
          4,
          2,
          3,
          4,
          3,
          2,
          6,
          2,
          2,
          1,
          4,
          2,
          5,
          2,
          4,
          3,
          3,
          8,
          3,
          2,
          4,
          2,
          4,
          1,
          2,
          2,
          1,
          4,
          4,
          2,
          3,
          2,
          2,
          5,
          1,
          1,
          2,
          1,
          1,
          2,
          3,
          2,
          1,
          1
         ],
         "yaxis": "y"
        },
        {
         "hovertemplate": "<b>OLS trendline</b><br>total_event = 0.00208324 * average_duration_clips + 3.3529<br>R<sup>2</sup>=0.000613<br><br>user_type=free<br>average_duration_clips=%{x}<br>total_event=%{y} <b>(trend)</b><extra></extra>",
         "legendgroup": "free",
         "marker": {
          "color": "#636efa",
          "symbol": "circle"
         },
         "mode": "lines",
         "name": "free",
         "showlegend": false,
         "type": "scatter",
         "x": [
          17,
          18,
          19,
          23,
          24,
          26,
          28,
          28,
          29,
          29,
          29,
          29,
          29,
          29,
          29,
          29,
          29,
          29,
          29,
          29,
          29,
          29,
          29,
          30,
          30,
          32,
          34,
          36,
          36,
          37,
          38,
          39,
          40,
          40,
          42,
          44,
          45,
          46,
          47,
          48,
          48,
          49,
          49,
          54,
          55,
          57,
          59,
          61,
          62,
          63,
          83,
          85,
          104,
          262
         ],
         "xaxis": "x",
         "y": [
          3.3883126701856083,
          3.390395911292122,
          3.3924791523986357,
          3.4008121168246896,
          3.402895357931203,
          3.40706184014423,
          3.4112283223572573,
          3.4112283223572573,
          3.4133115634637705,
          3.4133115634637705,
          3.4133115634637705,
          3.4133115634637705,
          3.4133115634637705,
          3.4133115634637705,
          3.4133115634637705,
          3.4133115634637705,
          3.4133115634637705,
          3.4133115634637705,
          3.4133115634637705,
          3.4133115634637705,
          3.4133115634637705,
          3.4133115634637705,
          3.4133115634637705,
          3.415394804570284,
          3.415394804570284,
          3.419561286783311,
          3.423727768996338,
          3.427894251209365,
          3.427894251209365,
          3.429977492315879,
          3.432060733422392,
          3.4341439745289057,
          3.436227215635419,
          3.436227215635419,
          3.440393697848446,
          3.444560180061473,
          3.4466434211679866,
          3.4487266622745,
          3.4508099033810136,
          3.4528931444875273,
          3.4528931444875273,
          3.4549763855940405,
          3.4549763855940405,
          3.465392591126608,
          3.467475832233122,
          3.471642314446149,
          3.4758087966591757,
          3.4799752788722027,
          3.482058519978716,
          3.4841417610852297,
          3.5258065832154997,
          3.5299730654285266,
          3.5695546464522834,
          3.8987067412814165
         ],
         "yaxis": "y"
        },
        {
         "customdata": [
          [
           "Other Games"
          ],
          [
           null
          ],
          [
           "COD: Warzone3-2 & MW3-2"
          ],
          [
           "Fortnite"
          ],
          [
           "Apex Legends"
          ],
          [
           "Valorant"
          ],
          [
           "chatting"
          ],
          [
           "Overwatch 2"
          ],
          [
           "League of Legends"
          ],
          [
           "Dead by Daylight"
          ],
          [
           "Tom Clancy's Rainbow Six: Siege"
          ],
          [
           "Fall Guys"
          ],
          [
           "Rocket League"
          ],
          [
           "Party Animals"
          ],
          [
           "Counter Strike2"
          ],
          [
           "Phasmophobia"
          ],
          [
           "THE FINALS"
          ],
          [
           "NBA: 2K24"
          ],
          [
           "Farlight84"
          ],
          [
           "Grand Theft Auto V"
          ],
          [
           "Halo Infinite"
          ],
          [
           "FIFA 23-24 & EA Sports FC 24"
          ],
          [
           "starfield"
          ],
          [
           "Podcast"
          ],
          [
           "The Texas Chain Saw Massacre"
          ],
          [
           "Madden NFL 24"
          ],
          [
           "ROBLOX"
          ],
          [
           "Destiny "
          ],
          [
           "Among Us"
          ],
          [
           "Honkai: Star Rail"
          ],
          [
           "Forza Motorsport"
          ],
          [
           "Team Fight Tatics"
          ],
          [
           "Marvel's Spider-Man 2"
          ],
          [
           "Game Detector"
          ],
          [
           "Lies of P"
          ],
          [
           "Elden Ring"
          ],
          [
           "Naraka"
          ],
          [
           "My Hero Ultra Rumble"
          ],
          [
           "PlayerUnknown's Battlegrounds\n"
          ],
          [
           "SMITE"
          ],
          [
           "Hearthstone"
          ],
          [
           "Remnant 2"
          ],
          [
           "Freefire"
          ],
          [
           "MLB The Show 22&23"
          ],
          [
           "SuperSmash Bros Ultimate"
          ],
          [
           "Fifa fc 2024"
          ],
          [
           "Rogue Company"
          ],
          [
           "COD: Mobile"
          ],
          [
           "COD: Vanguard"
          ],
          [
           "Street Fighter"
          ],
          [
           "Mortal Kombat 1"
          ],
          [
           "Mobile Legend"
          ],
          [
           "NHL 23"
          ],
          [
           "COD: Black Ops Coldwar"
          ]
         ],
         "hovertemplate": "user_type=premium<br>average_duration_clips=%{x}<br>total_event=%{y}<br>game_name=%{customdata[0]}<extra></extra>",
         "legendgroup": "premium",
         "marker": {
          "color": "#EF553B",
          "symbol": "circle"
         },
         "mode": "markers",
         "name": "premium",
         "orientation": "v",
         "showlegend": true,
         "type": "scatter",
         "x": [
          92,
          26,
          42,
          30,
          37,
          34,
          52,
          78,
          32,
          39,
          21,
          87,
          41,
          54,
          26,
          52,
          29,
          27,
          29,
          49,
          32,
          63,
          29,
          63,
          60,
          37,
          57,
          38,
          36,
          50,
          29,
          46,
          33,
          78,
          29,
          14,
          29,
          29,
          24,
          29,
          29,
          29,
          257,
          24,
          29,
          58,
          29,
          29,
          14,
          29,
          29,
          51,
          28,
          29
         ],
         "xaxis": "x",
         "y": [
          10,
          0,
          17,
          9,
          10,
          8,
          2,
          4,
          7,
          4,
          5,
          4,
          4,
          2,
          2,
          2,
          4,
          5,
          2,
          2,
          4,
          1,
          3,
          1,
          1,
          6,
          2,
          2,
          4,
          2,
          2,
          1,
          2,
          1,
          2,
          2,
          1,
          2,
          3,
          2,
          4,
          2,
          3,
          2,
          1,
          1,
          4,
          1,
          2,
          2,
          3,
          4,
          2,
          1
         ],
         "yaxis": "y"
        },
        {
         "hovertemplate": "<b>OLS trendline</b><br>total_event = 0.00238024 * average_duration_clips + 3.21141<br>R<sup>2</sup>=0.000765<br><br>user_type=premium<br>average_duration_clips=%{x}<br>total_event=%{y} <b>(trend)</b><extra></extra>",
         "legendgroup": "premium",
         "marker": {
          "color": "#EF553B",
          "symbol": "circle"
         },
         "mode": "lines",
         "name": "premium",
         "showlegend": false,
         "type": "scatter",
         "x": [
          14,
          14,
          21,
          24,
          24,
          26,
          26,
          27,
          28,
          29,
          29,
          29,
          29,
          29,
          29,
          29,
          29,
          29,
          29,
          29,
          29,
          29,
          29,
          29,
          29,
          30,
          32,
          32,
          33,
          34,
          36,
          37,
          37,
          38,
          39,
          41,
          42,
          46,
          49,
          50,
          51,
          52,
          52,
          54,
          57,
          58,
          60,
          63,
          63,
          78,
          78,
          87,
          92,
          257
         ],
         "xaxis": "x",
         "y": [
          3.2447299781930123,
          3.2447299781930123,
          3.2613916563332896,
          3.2685323755362656,
          3.2685323755362656,
          3.2732928550049163,
          3.2732928550049163,
          3.2756730947392416,
          3.278053334473567,
          3.2804335742078923,
          3.2804335742078923,
          3.2804335742078923,
          3.2804335742078923,
          3.2804335742078923,
          3.2804335742078923,
          3.2804335742078923,
          3.2804335742078923,
          3.2804335742078923,
          3.2804335742078923,
          3.2804335742078923,
          3.2804335742078923,
          3.2804335742078923,
          3.2804335742078923,
          3.2804335742078923,
          3.2804335742078923,
          3.2828138139422176,
          3.2875742934108683,
          3.2875742934108683,
          3.2899545331451936,
          3.2923347728795194,
          3.29709525234817,
          3.2994754920824954,
          3.2994754920824954,
          3.3018557318168207,
          3.304235971551146,
          3.3089964510197967,
          3.311376690754122,
          3.3208976496914233,
          3.3280383688943993,
          3.3304186086287246,
          3.33279884836305,
          3.3351790880973753,
          3.3351790880973753,
          3.339939567566026,
          3.347080286769002,
          3.3494605265033273,
          3.354221005971978,
          3.361361725174954,
          3.361361725174954,
          3.397065321189834,
          3.397065321189834,
          3.418487478798762,
          3.4303886774703884,
          3.823128233634069
         ],
         "yaxis": "y"
        }
       ],
       "layout": {
        "legend": {
         "title": {
          "text": "user_type"
         },
         "tracegroupgap": 0
        },
        "template": {
         "data": {
          "bar": [
           {
            "error_x": {
             "color": "#2a3f5f"
            },
            "error_y": {
             "color": "#2a3f5f"
            },
            "marker": {
             "line": {
              "color": "#E5ECF6",
              "width": 0.5
             },
             "pattern": {
              "fillmode": "overlay",
              "size": 10,
              "solidity": 0.2
             }
            },
            "type": "bar"
           }
          ],
          "barpolar": [
           {
            "marker": {
             "line": {
              "color": "#E5ECF6",
              "width": 0.5
             },
             "pattern": {
              "fillmode": "overlay",
              "size": 10,
              "solidity": 0.2
             }
            },
            "type": "barpolar"
           }
          ],
          "carpet": [
           {
            "aaxis": {
             "endlinecolor": "#2a3f5f",
             "gridcolor": "white",
             "linecolor": "white",
             "minorgridcolor": "white",
             "startlinecolor": "#2a3f5f"
            },
            "baxis": {
             "endlinecolor": "#2a3f5f",
             "gridcolor": "white",
             "linecolor": "white",
             "minorgridcolor": "white",
             "startlinecolor": "#2a3f5f"
            },
            "type": "carpet"
           }
          ],
          "choropleth": [
           {
            "colorbar": {
             "outlinewidth": 0,
             "ticks": ""
            },
            "type": "choropleth"
           }
          ],
          "contour": [
           {
            "colorbar": {
             "outlinewidth": 0,
             "ticks": ""
            },
            "colorscale": [
             [
              0,
              "#0d0887"
             ],
             [
              0.1111111111111111,
              "#46039f"
             ],
             [
              0.2222222222222222,
              "#7201a8"
             ],
             [
              0.3333333333333333,
              "#9c179e"
             ],
             [
              0.4444444444444444,
              "#bd3786"
             ],
             [
              0.5555555555555556,
              "#d8576b"
             ],
             [
              0.6666666666666666,
              "#ed7953"
             ],
             [
              0.7777777777777778,
              "#fb9f3a"
             ],
             [
              0.8888888888888888,
              "#fdca26"
             ],
             [
              1,
              "#f0f921"
             ]
            ],
            "type": "contour"
           }
          ],
          "contourcarpet": [
           {
            "colorbar": {
             "outlinewidth": 0,
             "ticks": ""
            },
            "type": "contourcarpet"
           }
          ],
          "heatmap": [
           {
            "colorbar": {
             "outlinewidth": 0,
             "ticks": ""
            },
            "colorscale": [
             [
              0,
              "#0d0887"
             ],
             [
              0.1111111111111111,
              "#46039f"
             ],
             [
              0.2222222222222222,
              "#7201a8"
             ],
             [
              0.3333333333333333,
              "#9c179e"
             ],
             [
              0.4444444444444444,
              "#bd3786"
             ],
             [
              0.5555555555555556,
              "#d8576b"
             ],
             [
              0.6666666666666666,
              "#ed7953"
             ],
             [
              0.7777777777777778,
              "#fb9f3a"
             ],
             [
              0.8888888888888888,
              "#fdca26"
             ],
             [
              1,
              "#f0f921"
             ]
            ],
            "type": "heatmap"
           }
          ],
          "heatmapgl": [
           {
            "colorbar": {
             "outlinewidth": 0,
             "ticks": ""
            },
            "colorscale": [
             [
              0,
              "#0d0887"
             ],
             [
              0.1111111111111111,
              "#46039f"
             ],
             [
              0.2222222222222222,
              "#7201a8"
             ],
             [
              0.3333333333333333,
              "#9c179e"
             ],
             [
              0.4444444444444444,
              "#bd3786"
             ],
             [
              0.5555555555555556,
              "#d8576b"
             ],
             [
              0.6666666666666666,
              "#ed7953"
             ],
             [
              0.7777777777777778,
              "#fb9f3a"
             ],
             [
              0.8888888888888888,
              "#fdca26"
             ],
             [
              1,
              "#f0f921"
             ]
            ],
            "type": "heatmapgl"
           }
          ],
          "histogram": [
           {
            "marker": {
             "pattern": {
              "fillmode": "overlay",
              "size": 10,
              "solidity": 0.2
             }
            },
            "type": "histogram"
           }
          ],
          "histogram2d": [
           {
            "colorbar": {
             "outlinewidth": 0,
             "ticks": ""
            },
            "colorscale": [
             [
              0,
              "#0d0887"
             ],
             [
              0.1111111111111111,
              "#46039f"
             ],
             [
              0.2222222222222222,
              "#7201a8"
             ],
             [
              0.3333333333333333,
              "#9c179e"
             ],
             [
              0.4444444444444444,
              "#bd3786"
             ],
             [
              0.5555555555555556,
              "#d8576b"
             ],
             [
              0.6666666666666666,
              "#ed7953"
             ],
             [
              0.7777777777777778,
              "#fb9f3a"
             ],
             [
              0.8888888888888888,
              "#fdca26"
             ],
             [
              1,
              "#f0f921"
             ]
            ],
            "type": "histogram2d"
           }
          ],
          "histogram2dcontour": [
           {
            "colorbar": {
             "outlinewidth": 0,
             "ticks": ""
            },
            "colorscale": [
             [
              0,
              "#0d0887"
             ],
             [
              0.1111111111111111,
              "#46039f"
             ],
             [
              0.2222222222222222,
              "#7201a8"
             ],
             [
              0.3333333333333333,
              "#9c179e"
             ],
             [
              0.4444444444444444,
              "#bd3786"
             ],
             [
              0.5555555555555556,
              "#d8576b"
             ],
             [
              0.6666666666666666,
              "#ed7953"
             ],
             [
              0.7777777777777778,
              "#fb9f3a"
             ],
             [
              0.8888888888888888,
              "#fdca26"
             ],
             [
              1,
              "#f0f921"
             ]
            ],
            "type": "histogram2dcontour"
           }
          ],
          "mesh3d": [
           {
            "colorbar": {
             "outlinewidth": 0,
             "ticks": ""
            },
            "type": "mesh3d"
           }
          ],
          "parcoords": [
           {
            "line": {
             "colorbar": {
              "outlinewidth": 0,
              "ticks": ""
             }
            },
            "type": "parcoords"
           }
          ],
          "pie": [
           {
            "automargin": true,
            "type": "pie"
           }
          ],
          "scatter": [
           {
            "fillpattern": {
             "fillmode": "overlay",
             "size": 10,
             "solidity": 0.2
            },
            "type": "scatter"
           }
          ],
          "scatter3d": [
           {
            "line": {
             "colorbar": {
              "outlinewidth": 0,
              "ticks": ""
             }
            },
            "marker": {
             "colorbar": {
              "outlinewidth": 0,
              "ticks": ""
             }
            },
            "type": "scatter3d"
           }
          ],
          "scattercarpet": [
           {
            "marker": {
             "colorbar": {
              "outlinewidth": 0,
              "ticks": ""
             }
            },
            "type": "scattercarpet"
           }
          ],
          "scattergeo": [
           {
            "marker": {
             "colorbar": {
              "outlinewidth": 0,
              "ticks": ""
             }
            },
            "type": "scattergeo"
           }
          ],
          "scattergl": [
           {
            "marker": {
             "colorbar": {
              "outlinewidth": 0,
              "ticks": ""
             }
            },
            "type": "scattergl"
           }
          ],
          "scattermapbox": [
           {
            "marker": {
             "colorbar": {
              "outlinewidth": 0,
              "ticks": ""
             }
            },
            "type": "scattermapbox"
           }
          ],
          "scatterpolar": [
           {
            "marker": {
             "colorbar": {
              "outlinewidth": 0,
              "ticks": ""
             }
            },
            "type": "scatterpolar"
           }
          ],
          "scatterpolargl": [
           {
            "marker": {
             "colorbar": {
              "outlinewidth": 0,
              "ticks": ""
             }
            },
            "type": "scatterpolargl"
           }
          ],
          "scatterternary": [
           {
            "marker": {
             "colorbar": {
              "outlinewidth": 0,
              "ticks": ""
             }
            },
            "type": "scatterternary"
           }
          ],
          "surface": [
           {
            "colorbar": {
             "outlinewidth": 0,
             "ticks": ""
            },
            "colorscale": [
             [
              0,
              "#0d0887"
             ],
             [
              0.1111111111111111,
              "#46039f"
             ],
             [
              0.2222222222222222,
              "#7201a8"
             ],
             [
              0.3333333333333333,
              "#9c179e"
             ],
             [
              0.4444444444444444,
              "#bd3786"
             ],
             [
              0.5555555555555556,
              "#d8576b"
             ],
             [
              0.6666666666666666,
              "#ed7953"
             ],
             [
              0.7777777777777778,
              "#fb9f3a"
             ],
             [
              0.8888888888888888,
              "#fdca26"
             ],
             [
              1,
              "#f0f921"
             ]
            ],
            "type": "surface"
           }
          ],
          "table": [
           {
            "cells": {
             "fill": {
              "color": "#EBF0F8"
             },
             "line": {
              "color": "white"
             }
            },
            "header": {
             "fill": {
              "color": "#C8D4E3"
             },
             "line": {
              "color": "white"
             }
            },
            "type": "table"
           }
          ]
         },
         "layout": {
          "annotationdefaults": {
           "arrowcolor": "#2a3f5f",
           "arrowhead": 0,
           "arrowwidth": 1
          },
          "autotypenumbers": "strict",
          "coloraxis": {
           "colorbar": {
            "outlinewidth": 0,
            "ticks": ""
           }
          },
          "colorscale": {
           "diverging": [
            [
             0,
             "#8e0152"
            ],
            [
             0.1,
             "#c51b7d"
            ],
            [
             0.2,
             "#de77ae"
            ],
            [
             0.3,
             "#f1b6da"
            ],
            [
             0.4,
             "#fde0ef"
            ],
            [
             0.5,
             "#f7f7f7"
            ],
            [
             0.6,
             "#e6f5d0"
            ],
            [
             0.7,
             "#b8e186"
            ],
            [
             0.8,
             "#7fbc41"
            ],
            [
             0.9,
             "#4d9221"
            ],
            [
             1,
             "#276419"
            ]
           ],
           "sequential": [
            [
             0,
             "#0d0887"
            ],
            [
             0.1111111111111111,
             "#46039f"
            ],
            [
             0.2222222222222222,
             "#7201a8"
            ],
            [
             0.3333333333333333,
             "#9c179e"
            ],
            [
             0.4444444444444444,
             "#bd3786"
            ],
            [
             0.5555555555555556,
             "#d8576b"
            ],
            [
             0.6666666666666666,
             "#ed7953"
            ],
            [
             0.7777777777777778,
             "#fb9f3a"
            ],
            [
             0.8888888888888888,
             "#fdca26"
            ],
            [
             1,
             "#f0f921"
            ]
           ],
           "sequentialminus": [
            [
             0,
             "#0d0887"
            ],
            [
             0.1111111111111111,
             "#46039f"
            ],
            [
             0.2222222222222222,
             "#7201a8"
            ],
            [
             0.3333333333333333,
             "#9c179e"
            ],
            [
             0.4444444444444444,
             "#bd3786"
            ],
            [
             0.5555555555555556,
             "#d8576b"
            ],
            [
             0.6666666666666666,
             "#ed7953"
            ],
            [
             0.7777777777777778,
             "#fb9f3a"
            ],
            [
             0.8888888888888888,
             "#fdca26"
            ],
            [
             1,
             "#f0f921"
            ]
           ]
          },
          "colorway": [
           "#636efa",
           "#EF553B",
           "#00cc96",
           "#ab63fa",
           "#FFA15A",
           "#19d3f3",
           "#FF6692",
           "#B6E880",
           "#FF97FF",
           "#FECB52"
          ],
          "font": {
           "color": "#2a3f5f"
          },
          "geo": {
           "bgcolor": "white",
           "lakecolor": "white",
           "landcolor": "#E5ECF6",
           "showlakes": true,
           "showland": true,
           "subunitcolor": "white"
          },
          "hoverlabel": {
           "align": "left"
          },
          "hovermode": "closest",
          "mapbox": {
           "style": "light"
          },
          "paper_bgcolor": "white",
          "plot_bgcolor": "#E5ECF6",
          "polar": {
           "angularaxis": {
            "gridcolor": "white",
            "linecolor": "white",
            "ticks": ""
           },
           "bgcolor": "#E5ECF6",
           "radialaxis": {
            "gridcolor": "white",
            "linecolor": "white",
            "ticks": ""
           }
          },
          "scene": {
           "xaxis": {
            "backgroundcolor": "#E5ECF6",
            "gridcolor": "white",
            "gridwidth": 2,
            "linecolor": "white",
            "showbackground": true,
            "ticks": "",
            "zerolinecolor": "white"
           },
           "yaxis": {
            "backgroundcolor": "#E5ECF6",
            "gridcolor": "white",
            "gridwidth": 2,
            "linecolor": "white",
            "showbackground": true,
            "ticks": "",
            "zerolinecolor": "white"
           },
           "zaxis": {
            "backgroundcolor": "#E5ECF6",
            "gridcolor": "white",
            "gridwidth": 2,
            "linecolor": "white",
            "showbackground": true,
            "ticks": "",
            "zerolinecolor": "white"
           }
          },
          "shapedefaults": {
           "line": {
            "color": "#2a3f5f"
           }
          },
          "ternary": {
           "aaxis": {
            "gridcolor": "white",
            "linecolor": "white",
            "ticks": ""
           },
           "baxis": {
            "gridcolor": "white",
            "linecolor": "white",
            "ticks": ""
           },
           "bgcolor": "#E5ECF6",
           "caxis": {
            "gridcolor": "white",
            "linecolor": "white",
            "ticks": ""
           }
          },
          "title": {
           "x": 0.05
          },
          "xaxis": {
           "automargin": true,
           "gridcolor": "white",
           "linecolor": "white",
           "ticks": "",
           "title": {
            "standoff": 15
           },
           "zerolinecolor": "white",
           "zerolinewidth": 2
          },
          "yaxis": {
           "automargin": true,
           "gridcolor": "white",
           "linecolor": "white",
           "ticks": "",
           "title": {
            "standoff": 15
           },
           "zerolinecolor": "white",
           "zerolinewidth": 2
          }
         }
        },
        "title": {
         "text": "Scatter Plot: average_duration_clips vs total_event per Game"
        },
        "xaxis": {
         "anchor": "y",
         "domain": [
          0,
          1
         ],
         "title": {
          "text": "average_duration_clips"
         }
        },
        "yaxis": {
         "anchor": "x",
         "domain": [
          0,
          1
         ],
         "title": {
          "text": "total_event"
         }
        }
       }
      }
     },
     "metadata": {},
     "output_type": "display_data"
    },
    {
     "data": {
      "application/vnd.plotly.v1+json": {
       "config": {
        "plotlyServerURL": "https://plot.ly"
       },
       "data": [
        {
         "customdata": [
          [
           "Other Games"
          ],
          [
           null
          ],
          [
           "COD: Warzone3-2 & MW3-2"
          ],
          [
           "Fortnite"
          ],
          [
           "Podcast"
          ],
          [
           "Valorant"
          ],
          [
           "Apex Legends"
          ],
          [
           "Overwatch 2"
          ],
          [
           "Tom Clancy's Rainbow Six: Siege"
          ],
          [
           "League of Legends"
          ],
          [
           "NBA: 2K24"
          ],
          [
           "chatting"
          ],
          [
           "Rocket League"
          ],
          [
           "Dead by Daylight"
          ],
          [
           "Fall Guys"
          ],
          [
           "Counter Strike2"
          ],
          [
           "Madden NFL 24"
          ],
          [
           "Grand Theft Auto V"
          ],
          [
           "ROBLOX"
          ],
          [
           "FIFA 23-24 & EA Sports FC 24"
          ],
          [
           "Destiny "
          ],
          [
           "Mortal Kombat 1"
          ],
          [
           "COD: Black Ops Coldwar"
          ],
          [
           "The Texas Chain Saw Massacre"
          ],
          [
           "starfield"
          ],
          [
           "Halo Infinite"
          ],
          [
           "Farlight84"
          ],
          [
           "PlayerUnknown's Battlegrounds\n"
          ],
          [
           "Among Us"
          ],
          [
           "Party Animals"
          ],
          [
           "Elden Ring"
          ],
          [
           "Phasmophobia"
          ],
          [
           "THE FINALS"
          ],
          [
           "Naraka"
          ],
          [
           "Lies of P"
          ],
          [
           "My Hero Ultra Rumble"
          ],
          [
           "PAYDAY 3"
          ],
          [
           "COD: Mobile"
          ],
          [
           "Rogue Company"
          ],
          [
           "Marvel's Spider-Man 2"
          ],
          [
           "Street Fighter"
          ],
          [
           "Remnant 2"
          ],
          [
           "SMITE"
          ],
          [
           "Mobile Legend"
          ],
          [
           "Honkai: Star Rail"
          ],
          [
           "Fifa fc 2024"
          ],
          [
           "COD: Vanguard"
          ],
          [
           "Team Fight Tatics"
          ],
          [
           "Worlds of Tanks"
          ],
          [
           "Hearthstone"
          ],
          [
           "Freefire"
          ],
          [
           "MLB The Show 22&23"
          ],
          [
           "battlefield2042"
          ],
          [
           "SuperSmash Bros Ultimate"
          ]
         ],
         "hovertemplate": "user_type=free<br>average_duration_clips=%{x}<br>average_clips_per_user=%{y}<br>game_name=%{customdata[0]}<extra></extra>",
         "legendgroup": "free",
         "marker": {
          "color": "#636efa",
          "symbol": "circle"
         },
         "mode": "markers",
         "name": "free",
         "orientation": "v",
         "showlegend": true,
         "type": "scatter",
         "x": [
          104,
          34,
          49,
          37,
          61,
          44,
          42,
          83,
          18,
          32,
          26,
          55,
          48,
          38,
          85,
          30,
          36,
          46,
          48,
          62,
          40,
          29,
          29,
          54,
          29,
          40,
          28,
          23,
          30,
          59,
          17,
          49,
          29,
          29,
          29,
          29,
          63,
          29,
          29,
          29,
          29,
          29,
          29,
          45,
          47,
          57,
          29,
          39,
          36,
          19,
          262,
          24,
          28,
          29
         ],
         "xaxis": "x",
         "y": [
          45,
          8,
          82,
          58,
          23,
          87,
          55,
          88,
          32,
          96,
          40,
          19,
          49,
          36,
          20,
          40,
          45,
          25,
          19,
          30,
          34,
          39,
          28,
          17,
          29,
          22,
          21,
          37,
          12,
          16,
          23,
          17,
          40,
          27,
          18,
          24,
          11,
          18,
          22,
          11,
          50,
          8,
          20,
          46,
          15,
          11,
          10,
          10,
          45,
          3,
          16,
          15,
          55,
          11
         ],
         "yaxis": "y"
        },
        {
         "hovertemplate": "<b>OLS trendline</b><br>average_clips_per_user = -0.00326201 * average_duration_clips + 31.2174<br>R<sup>2</sup>=0.000028<br><br>user_type=free<br>average_duration_clips=%{x}<br>average_clips_per_user=%{y} <b>(trend)</b><extra></extra>",
         "legendgroup": "free",
         "marker": {
          "color": "#636efa",
          "symbol": "circle"
         },
         "mode": "lines",
         "name": "free",
         "showlegend": false,
         "type": "scatter",
         "x": [
          17,
          18,
          19,
          23,
          24,
          26,
          28,
          28,
          29,
          29,
          29,
          29,
          29,
          29,
          29,
          29,
          29,
          29,
          29,
          29,
          29,
          29,
          29,
          30,
          30,
          32,
          34,
          36,
          36,
          37,
          38,
          39,
          40,
          40,
          42,
          44,
          45,
          46,
          47,
          48,
          48,
          49,
          49,
          54,
          55,
          57,
          59,
          61,
          62,
          63,
          83,
          85,
          104,
          262
         ],
         "xaxis": "x",
         "y": [
          31.16196707726771,
          31.158705068901764,
          31.155443060535813,
          31.142395027072016,
          31.13913301870607,
          31.13260900197417,
          31.126084985242272,
          31.126084985242272,
          31.12282297687632,
          31.12282297687632,
          31.12282297687632,
          31.12282297687632,
          31.12282297687632,
          31.12282297687632,
          31.12282297687632,
          31.12282297687632,
          31.12282297687632,
          31.12282297687632,
          31.12282297687632,
          31.12282297687632,
          31.12282297687632,
          31.12282297687632,
          31.12282297687632,
          31.119560968510374,
          31.119560968510374,
          31.113036951778476,
          31.106512935046577,
          31.09998891831468,
          31.09998891831468,
          31.09672690994873,
          31.09346490158278,
          31.09020289321683,
          31.086940884850883,
          31.086940884850883,
          31.080416868118984,
          31.073892851387082,
          31.070630843021135,
          31.067368834655184,
          31.064106826289237,
          31.060844817923286,
          31.060844817923286,
          31.05758280955734,
          31.05758280955734,
          31.04127276772759,
          31.038010759361644,
          31.031486742629745,
          31.024962725897847,
          31.01843870916595,
          31.015176700799998,
          31.01191469243405,
          30.946674525115068,
          30.94015050838317,
          30.878172349430134,
          30.362775027610162
         ],
         "yaxis": "y"
        },
        {
         "customdata": [
          [
           "Other Games"
          ],
          [
           null
          ],
          [
           "COD: Warzone3-2 & MW3-2"
          ],
          [
           "Fortnite"
          ],
          [
           "Apex Legends"
          ],
          [
           "Valorant"
          ],
          [
           "chatting"
          ],
          [
           "Overwatch 2"
          ],
          [
           "League of Legends"
          ],
          [
           "Dead by Daylight"
          ],
          [
           "Tom Clancy's Rainbow Six: Siege"
          ],
          [
           "Fall Guys"
          ],
          [
           "Rocket League"
          ],
          [
           "Party Animals"
          ],
          [
           "Counter Strike2"
          ],
          [
           "Phasmophobia"
          ],
          [
           "THE FINALS"
          ],
          [
           "NBA: 2K24"
          ],
          [
           "Farlight84"
          ],
          [
           "Grand Theft Auto V"
          ],
          [
           "Halo Infinite"
          ],
          [
           "FIFA 23-24 & EA Sports FC 24"
          ],
          [
           "starfield"
          ],
          [
           "Podcast"
          ],
          [
           "The Texas Chain Saw Massacre"
          ],
          [
           "Madden NFL 24"
          ],
          [
           "ROBLOX"
          ],
          [
           "Destiny "
          ],
          [
           "Among Us"
          ],
          [
           "Honkai: Star Rail"
          ],
          [
           "Forza Motorsport"
          ],
          [
           "Team Fight Tatics"
          ],
          [
           "Marvel's Spider-Man 2"
          ],
          [
           "Game Detector"
          ],
          [
           "Lies of P"
          ],
          [
           "Elden Ring"
          ],
          [
           "Naraka"
          ],
          [
           "My Hero Ultra Rumble"
          ],
          [
           "PlayerUnknown's Battlegrounds\n"
          ],
          [
           "SMITE"
          ],
          [
           "Hearthstone"
          ],
          [
           "Remnant 2"
          ],
          [
           "Freefire"
          ],
          [
           "MLB The Show 22&23"
          ],
          [
           "SuperSmash Bros Ultimate"
          ],
          [
           "Fifa fc 2024"
          ],
          [
           "Rogue Company"
          ],
          [
           "COD: Mobile"
          ],
          [
           "COD: Vanguard"
          ],
          [
           "Street Fighter"
          ],
          [
           "Mortal Kombat 1"
          ],
          [
           "Mobile Legend"
          ],
          [
           "NHL 23"
          ],
          [
           "COD: Black Ops Coldwar"
          ]
         ],
         "hovertemplate": "user_type=premium<br>average_duration_clips=%{x}<br>average_clips_per_user=%{y}<br>game_name=%{customdata[0]}<extra></extra>",
         "legendgroup": "premium",
         "marker": {
          "color": "#EF553B",
          "symbol": "circle"
         },
         "mode": "markers",
         "name": "premium",
         "orientation": "v",
         "showlegend": true,
         "type": "scatter",
         "x": [
          92,
          26,
          42,
          30,
          37,
          34,
          52,
          78,
          32,
          39,
          21,
          87,
          41,
          54,
          26,
          52,
          29,
          27,
          29,
          49,
          32,
          63,
          29,
          63,
          60,
          37,
          57,
          38,
          36,
          50,
          29,
          46,
          33,
          78,
          29,
          14,
          29,
          29,
          24,
          29,
          29,
          29,
          257,
          24,
          29,
          58,
          29,
          29,
          14,
          29,
          29,
          51,
          28,
          29
         ],
         "xaxis": "x",
         "y": [
          130,
          17,
          525,
          211,
          284,
          378,
          53,
          282,
          624,
          126,
          182,
          17,
          528,
          23,
          302,
          29,
          62,
          193,
          52,
          61,
          203,
          224,
          24,
          42,
          44,
          62,
          24,
          47,
          8,
          77,
          52,
          15,
          4,
          5,
          87,
          37,
          73,
          14,
          28,
          107,
          17,
          21,
          19,
          28,
          3,
          21,
          45,
          10,
          7,
          8,
          105,
          94,
          66,
          24
         ],
         "yaxis": "y"
        },
        {
         "hovertemplate": "<b>OLS trendline</b><br>average_clips_per_user = -0.278007 * average_duration_clips + 118.078<br>R<sup>2</sup>=0.004542<br><br>user_type=premium<br>average_duration_clips=%{x}<br>average_clips_per_user=%{y} <b>(trend)</b><extra></extra>",
         "legendgroup": "premium",
         "marker": {
          "color": "#EF553B",
          "symbol": "circle"
         },
         "mode": "lines",
         "name": "premium",
         "showlegend": false,
         "type": "scatter",
         "x": [
          14,
          14,
          21,
          24,
          24,
          26,
          26,
          27,
          28,
          29,
          29,
          29,
          29,
          29,
          29,
          29,
          29,
          29,
          29,
          29,
          29,
          29,
          29,
          29,
          29,
          30,
          32,
          32,
          33,
          34,
          36,
          37,
          37,
          38,
          39,
          41,
          42,
          46,
          49,
          50,
          51,
          52,
          52,
          54,
          57,
          58,
          60,
          63,
          63,
          78,
          78,
          87,
          92,
          257
         ],
         "xaxis": "x",
         "y": [
          114.1857620330383,
          114.1857620330383,
          112.23971294593863,
          111.4056919086102,
          111.4056919086102,
          110.84967788372458,
          110.84967788372458,
          110.57167087128177,
          110.29366385883895,
          110.01565684639615,
          110.01565684639615,
          110.01565684639615,
          110.01565684639615,
          110.01565684639615,
          110.01565684639615,
          110.01565684639615,
          110.01565684639615,
          110.01565684639615,
          110.01565684639615,
          110.01565684639615,
          110.01565684639615,
          110.01565684639615,
          110.01565684639615,
          110.01565684639615,
          110.01565684639615,
          109.73764983395334,
          109.18163580906771,
          109.18163580906771,
          108.9036287966249,
          108.6256217841821,
          108.06960775929647,
          107.79160074685366,
          107.79160074685366,
          107.51359373441086,
          107.23558672196805,
          106.67957269708242,
          106.40156568463962,
          105.28953763486837,
          104.45551659753994,
          104.17750958509713,
          103.89950257265431,
          103.62149556021151,
          103.62149556021151,
          103.06548153532589,
          102.23146049799746,
          101.95345348555465,
          101.39743946066903,
          100.5634184233406,
          100.5634184233406,
          96.39331323669845,
          96.39331323669845,
          93.89125012471315,
          92.5012150624991,
          46.63005800943539
         ],
         "yaxis": "y"
        }
       ],
       "layout": {
        "legend": {
         "title": {
          "text": "user_type"
         },
         "tracegroupgap": 0
        },
        "template": {
         "data": {
          "bar": [
           {
            "error_x": {
             "color": "#2a3f5f"
            },
            "error_y": {
             "color": "#2a3f5f"
            },
            "marker": {
             "line": {
              "color": "#E5ECF6",
              "width": 0.5
             },
             "pattern": {
              "fillmode": "overlay",
              "size": 10,
              "solidity": 0.2
             }
            },
            "type": "bar"
           }
          ],
          "barpolar": [
           {
            "marker": {
             "line": {
              "color": "#E5ECF6",
              "width": 0.5
             },
             "pattern": {
              "fillmode": "overlay",
              "size": 10,
              "solidity": 0.2
             }
            },
            "type": "barpolar"
           }
          ],
          "carpet": [
           {
            "aaxis": {
             "endlinecolor": "#2a3f5f",
             "gridcolor": "white",
             "linecolor": "white",
             "minorgridcolor": "white",
             "startlinecolor": "#2a3f5f"
            },
            "baxis": {
             "endlinecolor": "#2a3f5f",
             "gridcolor": "white",
             "linecolor": "white",
             "minorgridcolor": "white",
             "startlinecolor": "#2a3f5f"
            },
            "type": "carpet"
           }
          ],
          "choropleth": [
           {
            "colorbar": {
             "outlinewidth": 0,
             "ticks": ""
            },
            "type": "choropleth"
           }
          ],
          "contour": [
           {
            "colorbar": {
             "outlinewidth": 0,
             "ticks": ""
            },
            "colorscale": [
             [
              0,
              "#0d0887"
             ],
             [
              0.1111111111111111,
              "#46039f"
             ],
             [
              0.2222222222222222,
              "#7201a8"
             ],
             [
              0.3333333333333333,
              "#9c179e"
             ],
             [
              0.4444444444444444,
              "#bd3786"
             ],
             [
              0.5555555555555556,
              "#d8576b"
             ],
             [
              0.6666666666666666,
              "#ed7953"
             ],
             [
              0.7777777777777778,
              "#fb9f3a"
             ],
             [
              0.8888888888888888,
              "#fdca26"
             ],
             [
              1,
              "#f0f921"
             ]
            ],
            "type": "contour"
           }
          ],
          "contourcarpet": [
           {
            "colorbar": {
             "outlinewidth": 0,
             "ticks": ""
            },
            "type": "contourcarpet"
           }
          ],
          "heatmap": [
           {
            "colorbar": {
             "outlinewidth": 0,
             "ticks": ""
            },
            "colorscale": [
             [
              0,
              "#0d0887"
             ],
             [
              0.1111111111111111,
              "#46039f"
             ],
             [
              0.2222222222222222,
              "#7201a8"
             ],
             [
              0.3333333333333333,
              "#9c179e"
             ],
             [
              0.4444444444444444,
              "#bd3786"
             ],
             [
              0.5555555555555556,
              "#d8576b"
             ],
             [
              0.6666666666666666,
              "#ed7953"
             ],
             [
              0.7777777777777778,
              "#fb9f3a"
             ],
             [
              0.8888888888888888,
              "#fdca26"
             ],
             [
              1,
              "#f0f921"
             ]
            ],
            "type": "heatmap"
           }
          ],
          "heatmapgl": [
           {
            "colorbar": {
             "outlinewidth": 0,
             "ticks": ""
            },
            "colorscale": [
             [
              0,
              "#0d0887"
             ],
             [
              0.1111111111111111,
              "#46039f"
             ],
             [
              0.2222222222222222,
              "#7201a8"
             ],
             [
              0.3333333333333333,
              "#9c179e"
             ],
             [
              0.4444444444444444,
              "#bd3786"
             ],
             [
              0.5555555555555556,
              "#d8576b"
             ],
             [
              0.6666666666666666,
              "#ed7953"
             ],
             [
              0.7777777777777778,
              "#fb9f3a"
             ],
             [
              0.8888888888888888,
              "#fdca26"
             ],
             [
              1,
              "#f0f921"
             ]
            ],
            "type": "heatmapgl"
           }
          ],
          "histogram": [
           {
            "marker": {
             "pattern": {
              "fillmode": "overlay",
              "size": 10,
              "solidity": 0.2
             }
            },
            "type": "histogram"
           }
          ],
          "histogram2d": [
           {
            "colorbar": {
             "outlinewidth": 0,
             "ticks": ""
            },
            "colorscale": [
             [
              0,
              "#0d0887"
             ],
             [
              0.1111111111111111,
              "#46039f"
             ],
             [
              0.2222222222222222,
              "#7201a8"
             ],
             [
              0.3333333333333333,
              "#9c179e"
             ],
             [
              0.4444444444444444,
              "#bd3786"
             ],
             [
              0.5555555555555556,
              "#d8576b"
             ],
             [
              0.6666666666666666,
              "#ed7953"
             ],
             [
              0.7777777777777778,
              "#fb9f3a"
             ],
             [
              0.8888888888888888,
              "#fdca26"
             ],
             [
              1,
              "#f0f921"
             ]
            ],
            "type": "histogram2d"
           }
          ],
          "histogram2dcontour": [
           {
            "colorbar": {
             "outlinewidth": 0,
             "ticks": ""
            },
            "colorscale": [
             [
              0,
              "#0d0887"
             ],
             [
              0.1111111111111111,
              "#46039f"
             ],
             [
              0.2222222222222222,
              "#7201a8"
             ],
             [
              0.3333333333333333,
              "#9c179e"
             ],
             [
              0.4444444444444444,
              "#bd3786"
             ],
             [
              0.5555555555555556,
              "#d8576b"
             ],
             [
              0.6666666666666666,
              "#ed7953"
             ],
             [
              0.7777777777777778,
              "#fb9f3a"
             ],
             [
              0.8888888888888888,
              "#fdca26"
             ],
             [
              1,
              "#f0f921"
             ]
            ],
            "type": "histogram2dcontour"
           }
          ],
          "mesh3d": [
           {
            "colorbar": {
             "outlinewidth": 0,
             "ticks": ""
            },
            "type": "mesh3d"
           }
          ],
          "parcoords": [
           {
            "line": {
             "colorbar": {
              "outlinewidth": 0,
              "ticks": ""
             }
            },
            "type": "parcoords"
           }
          ],
          "pie": [
           {
            "automargin": true,
            "type": "pie"
           }
          ],
          "scatter": [
           {
            "fillpattern": {
             "fillmode": "overlay",
             "size": 10,
             "solidity": 0.2
            },
            "type": "scatter"
           }
          ],
          "scatter3d": [
           {
            "line": {
             "colorbar": {
              "outlinewidth": 0,
              "ticks": ""
             }
            },
            "marker": {
             "colorbar": {
              "outlinewidth": 0,
              "ticks": ""
             }
            },
            "type": "scatter3d"
           }
          ],
          "scattercarpet": [
           {
            "marker": {
             "colorbar": {
              "outlinewidth": 0,
              "ticks": ""
             }
            },
            "type": "scattercarpet"
           }
          ],
          "scattergeo": [
           {
            "marker": {
             "colorbar": {
              "outlinewidth": 0,
              "ticks": ""
             }
            },
            "type": "scattergeo"
           }
          ],
          "scattergl": [
           {
            "marker": {
             "colorbar": {
              "outlinewidth": 0,
              "ticks": ""
             }
            },
            "type": "scattergl"
           }
          ],
          "scattermapbox": [
           {
            "marker": {
             "colorbar": {
              "outlinewidth": 0,
              "ticks": ""
             }
            },
            "type": "scattermapbox"
           }
          ],
          "scatterpolar": [
           {
            "marker": {
             "colorbar": {
              "outlinewidth": 0,
              "ticks": ""
             }
            },
            "type": "scatterpolar"
           }
          ],
          "scatterpolargl": [
           {
            "marker": {
             "colorbar": {
              "outlinewidth": 0,
              "ticks": ""
             }
            },
            "type": "scatterpolargl"
           }
          ],
          "scatterternary": [
           {
            "marker": {
             "colorbar": {
              "outlinewidth": 0,
              "ticks": ""
             }
            },
            "type": "scatterternary"
           }
          ],
          "surface": [
           {
            "colorbar": {
             "outlinewidth": 0,
             "ticks": ""
            },
            "colorscale": [
             [
              0,
              "#0d0887"
             ],
             [
              0.1111111111111111,
              "#46039f"
             ],
             [
              0.2222222222222222,
              "#7201a8"
             ],
             [
              0.3333333333333333,
              "#9c179e"
             ],
             [
              0.4444444444444444,
              "#bd3786"
             ],
             [
              0.5555555555555556,
              "#d8576b"
             ],
             [
              0.6666666666666666,
              "#ed7953"
             ],
             [
              0.7777777777777778,
              "#fb9f3a"
             ],
             [
              0.8888888888888888,
              "#fdca26"
             ],
             [
              1,
              "#f0f921"
             ]
            ],
            "type": "surface"
           }
          ],
          "table": [
           {
            "cells": {
             "fill": {
              "color": "#EBF0F8"
             },
             "line": {
              "color": "white"
             }
            },
            "header": {
             "fill": {
              "color": "#C8D4E3"
             },
             "line": {
              "color": "white"
             }
            },
            "type": "table"
           }
          ]
         },
         "layout": {
          "annotationdefaults": {
           "arrowcolor": "#2a3f5f",
           "arrowhead": 0,
           "arrowwidth": 1
          },
          "autotypenumbers": "strict",
          "coloraxis": {
           "colorbar": {
            "outlinewidth": 0,
            "ticks": ""
           }
          },
          "colorscale": {
           "diverging": [
            [
             0,
             "#8e0152"
            ],
            [
             0.1,
             "#c51b7d"
            ],
            [
             0.2,
             "#de77ae"
            ],
            [
             0.3,
             "#f1b6da"
            ],
            [
             0.4,
             "#fde0ef"
            ],
            [
             0.5,
             "#f7f7f7"
            ],
            [
             0.6,
             "#e6f5d0"
            ],
            [
             0.7,
             "#b8e186"
            ],
            [
             0.8,
             "#7fbc41"
            ],
            [
             0.9,
             "#4d9221"
            ],
            [
             1,
             "#276419"
            ]
           ],
           "sequential": [
            [
             0,
             "#0d0887"
            ],
            [
             0.1111111111111111,
             "#46039f"
            ],
            [
             0.2222222222222222,
             "#7201a8"
            ],
            [
             0.3333333333333333,
             "#9c179e"
            ],
            [
             0.4444444444444444,
             "#bd3786"
            ],
            [
             0.5555555555555556,
             "#d8576b"
            ],
            [
             0.6666666666666666,
             "#ed7953"
            ],
            [
             0.7777777777777778,
             "#fb9f3a"
            ],
            [
             0.8888888888888888,
             "#fdca26"
            ],
            [
             1,
             "#f0f921"
            ]
           ],
           "sequentialminus": [
            [
             0,
             "#0d0887"
            ],
            [
             0.1111111111111111,
             "#46039f"
            ],
            [
             0.2222222222222222,
             "#7201a8"
            ],
            [
             0.3333333333333333,
             "#9c179e"
            ],
            [
             0.4444444444444444,
             "#bd3786"
            ],
            [
             0.5555555555555556,
             "#d8576b"
            ],
            [
             0.6666666666666666,
             "#ed7953"
            ],
            [
             0.7777777777777778,
             "#fb9f3a"
            ],
            [
             0.8888888888888888,
             "#fdca26"
            ],
            [
             1,
             "#f0f921"
            ]
           ]
          },
          "colorway": [
           "#636efa",
           "#EF553B",
           "#00cc96",
           "#ab63fa",
           "#FFA15A",
           "#19d3f3",
           "#FF6692",
           "#B6E880",
           "#FF97FF",
           "#FECB52"
          ],
          "font": {
           "color": "#2a3f5f"
          },
          "geo": {
           "bgcolor": "white",
           "lakecolor": "white",
           "landcolor": "#E5ECF6",
           "showlakes": true,
           "showland": true,
           "subunitcolor": "white"
          },
          "hoverlabel": {
           "align": "left"
          },
          "hovermode": "closest",
          "mapbox": {
           "style": "light"
          },
          "paper_bgcolor": "white",
          "plot_bgcolor": "#E5ECF6",
          "polar": {
           "angularaxis": {
            "gridcolor": "white",
            "linecolor": "white",
            "ticks": ""
           },
           "bgcolor": "#E5ECF6",
           "radialaxis": {
            "gridcolor": "white",
            "linecolor": "white",
            "ticks": ""
           }
          },
          "scene": {
           "xaxis": {
            "backgroundcolor": "#E5ECF6",
            "gridcolor": "white",
            "gridwidth": 2,
            "linecolor": "white",
            "showbackground": true,
            "ticks": "",
            "zerolinecolor": "white"
           },
           "yaxis": {
            "backgroundcolor": "#E5ECF6",
            "gridcolor": "white",
            "gridwidth": 2,
            "linecolor": "white",
            "showbackground": true,
            "ticks": "",
            "zerolinecolor": "white"
           },
           "zaxis": {
            "backgroundcolor": "#E5ECF6",
            "gridcolor": "white",
            "gridwidth": 2,
            "linecolor": "white",
            "showbackground": true,
            "ticks": "",
            "zerolinecolor": "white"
           }
          },
          "shapedefaults": {
           "line": {
            "color": "#2a3f5f"
           }
          },
          "ternary": {
           "aaxis": {
            "gridcolor": "white",
            "linecolor": "white",
            "ticks": ""
           },
           "baxis": {
            "gridcolor": "white",
            "linecolor": "white",
            "ticks": ""
           },
           "bgcolor": "#E5ECF6",
           "caxis": {
            "gridcolor": "white",
            "linecolor": "white",
            "ticks": ""
           }
          },
          "title": {
           "x": 0.05
          },
          "xaxis": {
           "automargin": true,
           "gridcolor": "white",
           "linecolor": "white",
           "ticks": "",
           "title": {
            "standoff": 15
           },
           "zerolinecolor": "white",
           "zerolinewidth": 2
          },
          "yaxis": {
           "automargin": true,
           "gridcolor": "white",
           "linecolor": "white",
           "ticks": "",
           "title": {
            "standoff": 15
           },
           "zerolinecolor": "white",
           "zerolinewidth": 2
          }
         }
        },
        "title": {
         "text": "Scatter Plot: average_duration_clips vs average_clips_per_user per Game"
        },
        "xaxis": {
         "anchor": "y",
         "domain": [
          0,
          1
         ],
         "title": {
          "text": "average_duration_clips"
         }
        },
        "yaxis": {
         "anchor": "x",
         "domain": [
          0,
          1
         ],
         "title": {
          "text": "average_clips_per_user"
         }
        }
       }
      }
     },
     "metadata": {},
     "output_type": "display_data"
    },
    {
     "data": {
      "application/vnd.plotly.v1+json": {
       "config": {
        "plotlyServerURL": "https://plot.ly"
       },
       "data": [
        {
         "customdata": [
          [
           "Other Games"
          ],
          [
           null
          ],
          [
           "COD: Warzone3-2 & MW3-2"
          ],
          [
           "Fortnite"
          ],
          [
           "Podcast"
          ],
          [
           "Valorant"
          ],
          [
           "Apex Legends"
          ],
          [
           "Overwatch 2"
          ],
          [
           "Tom Clancy's Rainbow Six: Siege"
          ],
          [
           "League of Legends"
          ],
          [
           "NBA: 2K24"
          ],
          [
           "chatting"
          ],
          [
           "Rocket League"
          ],
          [
           "Dead by Daylight"
          ],
          [
           "Fall Guys"
          ],
          [
           "Counter Strike2"
          ],
          [
           "Madden NFL 24"
          ],
          [
           "Grand Theft Auto V"
          ],
          [
           "ROBLOX"
          ],
          [
           "FIFA 23-24 & EA Sports FC 24"
          ],
          [
           "Destiny "
          ],
          [
           "Mortal Kombat 1"
          ],
          [
           "COD: Black Ops Coldwar"
          ],
          [
           "The Texas Chain Saw Massacre"
          ],
          [
           "starfield"
          ],
          [
           "Halo Infinite"
          ],
          [
           "Farlight84"
          ],
          [
           "PlayerUnknown's Battlegrounds\n"
          ],
          [
           "Among Us"
          ],
          [
           "Party Animals"
          ],
          [
           "Elden Ring"
          ],
          [
           "Phasmophobia"
          ],
          [
           "THE FINALS"
          ],
          [
           "Naraka"
          ],
          [
           "Lies of P"
          ],
          [
           "My Hero Ultra Rumble"
          ],
          [
           "PAYDAY 3"
          ],
          [
           "COD: Mobile"
          ],
          [
           "Rogue Company"
          ],
          [
           "Marvel's Spider-Man 2"
          ],
          [
           "Street Fighter"
          ],
          [
           "Remnant 2"
          ],
          [
           "SMITE"
          ],
          [
           "Mobile Legend"
          ],
          [
           "Honkai: Star Rail"
          ],
          [
           "Fifa fc 2024"
          ],
          [
           "COD: Vanguard"
          ],
          [
           "Team Fight Tatics"
          ],
          [
           "Worlds of Tanks"
          ],
          [
           "Hearthstone"
          ],
          [
           "Freefire"
          ],
          [
           "MLB The Show 22&23"
          ],
          [
           "battlefield2042"
          ],
          [
           "SuperSmash Bros Ultimate"
          ]
         ],
         "hovertemplate": "user_type=free<br>total_event=%{x}<br>average_clips_per_user=%{y}<br>game_name=%{customdata[0]}<extra></extra>",
         "legendgroup": "free",
         "marker": {
          "color": "#636efa",
          "symbol": "circle"
         },
         "mode": "markers",
         "name": "free",
         "orientation": "v",
         "showlegend": true,
         "type": "scatter",
         "x": [
          8,
          0,
          17,
          9,
          1,
          8,
          10,
          4,
          4,
          7,
          4,
          2,
          3,
          4,
          3,
          2,
          6,
          2,
          2,
          1,
          4,
          2,
          5,
          2,
          4,
          3,
          3,
          8,
          3,
          2,
          4,
          2,
          4,
          1,
          2,
          2,
          1,
          4,
          4,
          2,
          3,
          2,
          2,
          5,
          1,
          1,
          2,
          1,
          1,
          2,
          3,
          2,
          1,
          1
         ],
         "xaxis": "x",
         "y": [
          45,
          8,
          82,
          58,
          23,
          87,
          55,
          88,
          32,
          96,
          40,
          19,
          49,
          36,
          20,
          40,
          45,
          25,
          19,
          30,
          34,
          39,
          28,
          17,
          29,
          22,
          21,
          37,
          12,
          16,
          23,
          17,
          40,
          27,
          18,
          24,
          11,
          18,
          22,
          11,
          50,
          8,
          20,
          46,
          15,
          11,
          10,
          10,
          45,
          3,
          16,
          15,
          55,
          11
         ],
         "yaxis": "y"
        },
        {
         "hovertemplate": "<b>OLS trendline</b><br>average_clips_per_user = 4.87108 * total_event + 14.2959<br>R<sup>2</sup>=0.441204<br><br>user_type=free<br>total_event=%{x}<br>average_clips_per_user=%{y} <b>(trend)</b><extra></extra>",
         "legendgroup": "free",
         "marker": {
          "color": "#636efa",
          "symbol": "circle"
         },
         "mode": "lines",
         "name": "free",
         "showlegend": false,
         "type": "scatter",
         "x": [
          0,
          1,
          1,
          1,
          1,
          1,
          1,
          1,
          1,
          1,
          1,
          2,
          2,
          2,
          2,
          2,
          2,
          2,
          2,
          2,
          2,
          2,
          2,
          2,
          2,
          2,
          2,
          3,
          3,
          3,
          3,
          3,
          3,
          3,
          4,
          4,
          4,
          4,
          4,
          4,
          4,
          4,
          4,
          4,
          5,
          5,
          6,
          7,
          8,
          8,
          8,
          9,
          10,
          17
         ],
         "xaxis": "x",
         "y": [
          14.295915032679732,
          19.16699346405228,
          19.16699346405228,
          19.16699346405228,
          19.16699346405228,
          19.16699346405228,
          19.16699346405228,
          19.16699346405228,
          19.16699346405228,
          19.16699346405228,
          19.16699346405228,
          24.038071895424824,
          24.038071895424824,
          24.038071895424824,
          24.038071895424824,
          24.038071895424824,
          24.038071895424824,
          24.038071895424824,
          24.038071895424824,
          24.038071895424824,
          24.038071895424824,
          24.038071895424824,
          24.038071895424824,
          24.038071895424824,
          24.038071895424824,
          24.038071895424824,
          24.038071895424824,
          28.909150326797374,
          28.909150326797374,
          28.909150326797374,
          28.909150326797374,
          28.909150326797374,
          28.909150326797374,
          28.909150326797374,
          33.78022875816992,
          33.78022875816992,
          33.78022875816992,
          33.78022875816992,
          33.78022875816992,
          33.78022875816992,
          33.78022875816992,
          33.78022875816992,
          33.78022875816992,
          33.78022875816992,
          38.651307189542464,
          38.651307189542464,
          43.52238562091501,
          48.393464052287555,
          53.2645424836601,
          53.2645424836601,
          53.2645424836601,
          58.135620915032646,
          63.00669934640519,
          97.10424836601302
         ],
         "yaxis": "y"
        },
        {
         "customdata": [
          [
           "Other Games"
          ],
          [
           null
          ],
          [
           "COD: Warzone3-2 & MW3-2"
          ],
          [
           "Fortnite"
          ],
          [
           "Apex Legends"
          ],
          [
           "Valorant"
          ],
          [
           "chatting"
          ],
          [
           "Overwatch 2"
          ],
          [
           "League of Legends"
          ],
          [
           "Dead by Daylight"
          ],
          [
           "Tom Clancy's Rainbow Six: Siege"
          ],
          [
           "Fall Guys"
          ],
          [
           "Rocket League"
          ],
          [
           "Party Animals"
          ],
          [
           "Counter Strike2"
          ],
          [
           "Phasmophobia"
          ],
          [
           "THE FINALS"
          ],
          [
           "NBA: 2K24"
          ],
          [
           "Farlight84"
          ],
          [
           "Grand Theft Auto V"
          ],
          [
           "Halo Infinite"
          ],
          [
           "FIFA 23-24 & EA Sports FC 24"
          ],
          [
           "starfield"
          ],
          [
           "Podcast"
          ],
          [
           "The Texas Chain Saw Massacre"
          ],
          [
           "Madden NFL 24"
          ],
          [
           "ROBLOX"
          ],
          [
           "Destiny "
          ],
          [
           "Among Us"
          ],
          [
           "Honkai: Star Rail"
          ],
          [
           "Forza Motorsport"
          ],
          [
           "Team Fight Tatics"
          ],
          [
           "Marvel's Spider-Man 2"
          ],
          [
           "Game Detector"
          ],
          [
           "Lies of P"
          ],
          [
           "Elden Ring"
          ],
          [
           "Naraka"
          ],
          [
           "My Hero Ultra Rumble"
          ],
          [
           "PlayerUnknown's Battlegrounds\n"
          ],
          [
           "SMITE"
          ],
          [
           "Hearthstone"
          ],
          [
           "Remnant 2"
          ],
          [
           "Freefire"
          ],
          [
           "MLB The Show 22&23"
          ],
          [
           "SuperSmash Bros Ultimate"
          ],
          [
           "Fifa fc 2024"
          ],
          [
           "Rogue Company"
          ],
          [
           "COD: Mobile"
          ],
          [
           "COD: Vanguard"
          ],
          [
           "Street Fighter"
          ],
          [
           "Mortal Kombat 1"
          ],
          [
           "Mobile Legend"
          ],
          [
           "NHL 23"
          ],
          [
           "COD: Black Ops Coldwar"
          ]
         ],
         "hovertemplate": "user_type=premium<br>total_event=%{x}<br>average_clips_per_user=%{y}<br>game_name=%{customdata[0]}<extra></extra>",
         "legendgroup": "premium",
         "marker": {
          "color": "#EF553B",
          "symbol": "circle"
         },
         "mode": "markers",
         "name": "premium",
         "orientation": "v",
         "showlegend": true,
         "type": "scatter",
         "x": [
          10,
          0,
          17,
          9,
          10,
          8,
          2,
          4,
          7,
          4,
          5,
          4,
          4,
          2,
          2,
          2,
          4,
          5,
          2,
          2,
          4,
          1,
          3,
          1,
          1,
          6,
          2,
          2,
          4,
          2,
          2,
          1,
          2,
          1,
          2,
          2,
          1,
          2,
          3,
          2,
          4,
          2,
          3,
          2,
          1,
          1,
          4,
          1,
          2,
          2,
          3,
          4,
          2,
          1
         ],
         "xaxis": "x",
         "y": [
          130,
          17,
          525,
          211,
          284,
          378,
          53,
          282,
          624,
          126,
          182,
          17,
          528,
          23,
          302,
          29,
          62,
          193,
          52,
          61,
          203,
          224,
          24,
          42,
          44,
          62,
          24,
          47,
          8,
          77,
          52,
          15,
          4,
          5,
          87,
          37,
          73,
          14,
          28,
          107,
          17,
          21,
          19,
          28,
          3,
          21,
          45,
          10,
          7,
          8,
          105,
          94,
          66,
          24
         ],
         "yaxis": "y"
        },
        {
         "hovertemplate": "<b>OLS trendline</b><br>average_clips_per_user = 31.0713 * total_event + 3.00445<br>R<sup>2</sup>=0.419940<br><br>user_type=premium<br>total_event=%{x}<br>average_clips_per_user=%{y} <b>(trend)</b><extra></extra>",
         "legendgroup": "premium",
         "marker": {
          "color": "#EF553B",
          "symbol": "circle"
         },
         "mode": "lines",
         "name": "premium",
         "showlegend": false,
         "type": "scatter",
         "x": [
          0,
          1,
          1,
          1,
          1,
          1,
          1,
          1,
          1,
          1,
          1,
          2,
          2,
          2,
          2,
          2,
          2,
          2,
          2,
          2,
          2,
          2,
          2,
          2,
          2,
          2,
          2,
          2,
          2,
          2,
          2,
          3,
          3,
          3,
          3,
          4,
          4,
          4,
          4,
          4,
          4,
          4,
          4,
          4,
          4,
          5,
          5,
          6,
          7,
          8,
          9,
          10,
          10,
          17
         ],
         "xaxis": "x",
         "y": [
          3.0044526455132328,
          34.0757350876489,
          34.0757350876489,
          34.0757350876489,
          34.0757350876489,
          34.0757350876489,
          34.0757350876489,
          34.0757350876489,
          34.0757350876489,
          34.0757350876489,
          34.0757350876489,
          65.14701752978456,
          65.14701752978456,
          65.14701752978456,
          65.14701752978456,
          65.14701752978456,
          65.14701752978456,
          65.14701752978456,
          65.14701752978456,
          65.14701752978456,
          65.14701752978456,
          65.14701752978456,
          65.14701752978456,
          65.14701752978456,
          65.14701752978456,
          65.14701752978456,
          65.14701752978456,
          65.14701752978456,
          65.14701752978456,
          65.14701752978456,
          65.14701752978456,
          96.21829997192023,
          96.21829997192023,
          96.21829997192023,
          96.21829997192023,
          127.2895824140559,
          127.2895824140559,
          127.2895824140559,
          127.2895824140559,
          127.2895824140559,
          127.2895824140559,
          127.2895824140559,
          127.2895824140559,
          127.2895824140559,
          127.2895824140559,
          158.36086485619157,
          158.36086485619157,
          189.43214729832724,
          220.5034297404629,
          251.57471218259857,
          282.64599462473427,
          313.71727706686994,
          313.71727706686994,
          531.2162541618196
         ],
         "yaxis": "y"
        }
       ],
       "layout": {
        "legend": {
         "title": {
          "text": "user_type"
         },
         "tracegroupgap": 0
        },
        "template": {
         "data": {
          "bar": [
           {
            "error_x": {
             "color": "#2a3f5f"
            },
            "error_y": {
             "color": "#2a3f5f"
            },
            "marker": {
             "line": {
              "color": "#E5ECF6",
              "width": 0.5
             },
             "pattern": {
              "fillmode": "overlay",
              "size": 10,
              "solidity": 0.2
             }
            },
            "type": "bar"
           }
          ],
          "barpolar": [
           {
            "marker": {
             "line": {
              "color": "#E5ECF6",
              "width": 0.5
             },
             "pattern": {
              "fillmode": "overlay",
              "size": 10,
              "solidity": 0.2
             }
            },
            "type": "barpolar"
           }
          ],
          "carpet": [
           {
            "aaxis": {
             "endlinecolor": "#2a3f5f",
             "gridcolor": "white",
             "linecolor": "white",
             "minorgridcolor": "white",
             "startlinecolor": "#2a3f5f"
            },
            "baxis": {
             "endlinecolor": "#2a3f5f",
             "gridcolor": "white",
             "linecolor": "white",
             "minorgridcolor": "white",
             "startlinecolor": "#2a3f5f"
            },
            "type": "carpet"
           }
          ],
          "choropleth": [
           {
            "colorbar": {
             "outlinewidth": 0,
             "ticks": ""
            },
            "type": "choropleth"
           }
          ],
          "contour": [
           {
            "colorbar": {
             "outlinewidth": 0,
             "ticks": ""
            },
            "colorscale": [
             [
              0,
              "#0d0887"
             ],
             [
              0.1111111111111111,
              "#46039f"
             ],
             [
              0.2222222222222222,
              "#7201a8"
             ],
             [
              0.3333333333333333,
              "#9c179e"
             ],
             [
              0.4444444444444444,
              "#bd3786"
             ],
             [
              0.5555555555555556,
              "#d8576b"
             ],
             [
              0.6666666666666666,
              "#ed7953"
             ],
             [
              0.7777777777777778,
              "#fb9f3a"
             ],
             [
              0.8888888888888888,
              "#fdca26"
             ],
             [
              1,
              "#f0f921"
             ]
            ],
            "type": "contour"
           }
          ],
          "contourcarpet": [
           {
            "colorbar": {
             "outlinewidth": 0,
             "ticks": ""
            },
            "type": "contourcarpet"
           }
          ],
          "heatmap": [
           {
            "colorbar": {
             "outlinewidth": 0,
             "ticks": ""
            },
            "colorscale": [
             [
              0,
              "#0d0887"
             ],
             [
              0.1111111111111111,
              "#46039f"
             ],
             [
              0.2222222222222222,
              "#7201a8"
             ],
             [
              0.3333333333333333,
              "#9c179e"
             ],
             [
              0.4444444444444444,
              "#bd3786"
             ],
             [
              0.5555555555555556,
              "#d8576b"
             ],
             [
              0.6666666666666666,
              "#ed7953"
             ],
             [
              0.7777777777777778,
              "#fb9f3a"
             ],
             [
              0.8888888888888888,
              "#fdca26"
             ],
             [
              1,
              "#f0f921"
             ]
            ],
            "type": "heatmap"
           }
          ],
          "heatmapgl": [
           {
            "colorbar": {
             "outlinewidth": 0,
             "ticks": ""
            },
            "colorscale": [
             [
              0,
              "#0d0887"
             ],
             [
              0.1111111111111111,
              "#46039f"
             ],
             [
              0.2222222222222222,
              "#7201a8"
             ],
             [
              0.3333333333333333,
              "#9c179e"
             ],
             [
              0.4444444444444444,
              "#bd3786"
             ],
             [
              0.5555555555555556,
              "#d8576b"
             ],
             [
              0.6666666666666666,
              "#ed7953"
             ],
             [
              0.7777777777777778,
              "#fb9f3a"
             ],
             [
              0.8888888888888888,
              "#fdca26"
             ],
             [
              1,
              "#f0f921"
             ]
            ],
            "type": "heatmapgl"
           }
          ],
          "histogram": [
           {
            "marker": {
             "pattern": {
              "fillmode": "overlay",
              "size": 10,
              "solidity": 0.2
             }
            },
            "type": "histogram"
           }
          ],
          "histogram2d": [
           {
            "colorbar": {
             "outlinewidth": 0,
             "ticks": ""
            },
            "colorscale": [
             [
              0,
              "#0d0887"
             ],
             [
              0.1111111111111111,
              "#46039f"
             ],
             [
              0.2222222222222222,
              "#7201a8"
             ],
             [
              0.3333333333333333,
              "#9c179e"
             ],
             [
              0.4444444444444444,
              "#bd3786"
             ],
             [
              0.5555555555555556,
              "#d8576b"
             ],
             [
              0.6666666666666666,
              "#ed7953"
             ],
             [
              0.7777777777777778,
              "#fb9f3a"
             ],
             [
              0.8888888888888888,
              "#fdca26"
             ],
             [
              1,
              "#f0f921"
             ]
            ],
            "type": "histogram2d"
           }
          ],
          "histogram2dcontour": [
           {
            "colorbar": {
             "outlinewidth": 0,
             "ticks": ""
            },
            "colorscale": [
             [
              0,
              "#0d0887"
             ],
             [
              0.1111111111111111,
              "#46039f"
             ],
             [
              0.2222222222222222,
              "#7201a8"
             ],
             [
              0.3333333333333333,
              "#9c179e"
             ],
             [
              0.4444444444444444,
              "#bd3786"
             ],
             [
              0.5555555555555556,
              "#d8576b"
             ],
             [
              0.6666666666666666,
              "#ed7953"
             ],
             [
              0.7777777777777778,
              "#fb9f3a"
             ],
             [
              0.8888888888888888,
              "#fdca26"
             ],
             [
              1,
              "#f0f921"
             ]
            ],
            "type": "histogram2dcontour"
           }
          ],
          "mesh3d": [
           {
            "colorbar": {
             "outlinewidth": 0,
             "ticks": ""
            },
            "type": "mesh3d"
           }
          ],
          "parcoords": [
           {
            "line": {
             "colorbar": {
              "outlinewidth": 0,
              "ticks": ""
             }
            },
            "type": "parcoords"
           }
          ],
          "pie": [
           {
            "automargin": true,
            "type": "pie"
           }
          ],
          "scatter": [
           {
            "fillpattern": {
             "fillmode": "overlay",
             "size": 10,
             "solidity": 0.2
            },
            "type": "scatter"
           }
          ],
          "scatter3d": [
           {
            "line": {
             "colorbar": {
              "outlinewidth": 0,
              "ticks": ""
             }
            },
            "marker": {
             "colorbar": {
              "outlinewidth": 0,
              "ticks": ""
             }
            },
            "type": "scatter3d"
           }
          ],
          "scattercarpet": [
           {
            "marker": {
             "colorbar": {
              "outlinewidth": 0,
              "ticks": ""
             }
            },
            "type": "scattercarpet"
           }
          ],
          "scattergeo": [
           {
            "marker": {
             "colorbar": {
              "outlinewidth": 0,
              "ticks": ""
             }
            },
            "type": "scattergeo"
           }
          ],
          "scattergl": [
           {
            "marker": {
             "colorbar": {
              "outlinewidth": 0,
              "ticks": ""
             }
            },
            "type": "scattergl"
           }
          ],
          "scattermapbox": [
           {
            "marker": {
             "colorbar": {
              "outlinewidth": 0,
              "ticks": ""
             }
            },
            "type": "scattermapbox"
           }
          ],
          "scatterpolar": [
           {
            "marker": {
             "colorbar": {
              "outlinewidth": 0,
              "ticks": ""
             }
            },
            "type": "scatterpolar"
           }
          ],
          "scatterpolargl": [
           {
            "marker": {
             "colorbar": {
              "outlinewidth": 0,
              "ticks": ""
             }
            },
            "type": "scatterpolargl"
           }
          ],
          "scatterternary": [
           {
            "marker": {
             "colorbar": {
              "outlinewidth": 0,
              "ticks": ""
             }
            },
            "type": "scatterternary"
           }
          ],
          "surface": [
           {
            "colorbar": {
             "outlinewidth": 0,
             "ticks": ""
            },
            "colorscale": [
             [
              0,
              "#0d0887"
             ],
             [
              0.1111111111111111,
              "#46039f"
             ],
             [
              0.2222222222222222,
              "#7201a8"
             ],
             [
              0.3333333333333333,
              "#9c179e"
             ],
             [
              0.4444444444444444,
              "#bd3786"
             ],
             [
              0.5555555555555556,
              "#d8576b"
             ],
             [
              0.6666666666666666,
              "#ed7953"
             ],
             [
              0.7777777777777778,
              "#fb9f3a"
             ],
             [
              0.8888888888888888,
              "#fdca26"
             ],
             [
              1,
              "#f0f921"
             ]
            ],
            "type": "surface"
           }
          ],
          "table": [
           {
            "cells": {
             "fill": {
              "color": "#EBF0F8"
             },
             "line": {
              "color": "white"
             }
            },
            "header": {
             "fill": {
              "color": "#C8D4E3"
             },
             "line": {
              "color": "white"
             }
            },
            "type": "table"
           }
          ]
         },
         "layout": {
          "annotationdefaults": {
           "arrowcolor": "#2a3f5f",
           "arrowhead": 0,
           "arrowwidth": 1
          },
          "autotypenumbers": "strict",
          "coloraxis": {
           "colorbar": {
            "outlinewidth": 0,
            "ticks": ""
           }
          },
          "colorscale": {
           "diverging": [
            [
             0,
             "#8e0152"
            ],
            [
             0.1,
             "#c51b7d"
            ],
            [
             0.2,
             "#de77ae"
            ],
            [
             0.3,
             "#f1b6da"
            ],
            [
             0.4,
             "#fde0ef"
            ],
            [
             0.5,
             "#f7f7f7"
            ],
            [
             0.6,
             "#e6f5d0"
            ],
            [
             0.7,
             "#b8e186"
            ],
            [
             0.8,
             "#7fbc41"
            ],
            [
             0.9,
             "#4d9221"
            ],
            [
             1,
             "#276419"
            ]
           ],
           "sequential": [
            [
             0,
             "#0d0887"
            ],
            [
             0.1111111111111111,
             "#46039f"
            ],
            [
             0.2222222222222222,
             "#7201a8"
            ],
            [
             0.3333333333333333,
             "#9c179e"
            ],
            [
             0.4444444444444444,
             "#bd3786"
            ],
            [
             0.5555555555555556,
             "#d8576b"
            ],
            [
             0.6666666666666666,
             "#ed7953"
            ],
            [
             0.7777777777777778,
             "#fb9f3a"
            ],
            [
             0.8888888888888888,
             "#fdca26"
            ],
            [
             1,
             "#f0f921"
            ]
           ],
           "sequentialminus": [
            [
             0,
             "#0d0887"
            ],
            [
             0.1111111111111111,
             "#46039f"
            ],
            [
             0.2222222222222222,
             "#7201a8"
            ],
            [
             0.3333333333333333,
             "#9c179e"
            ],
            [
             0.4444444444444444,
             "#bd3786"
            ],
            [
             0.5555555555555556,
             "#d8576b"
            ],
            [
             0.6666666666666666,
             "#ed7953"
            ],
            [
             0.7777777777777778,
             "#fb9f3a"
            ],
            [
             0.8888888888888888,
             "#fdca26"
            ],
            [
             1,
             "#f0f921"
            ]
           ]
          },
          "colorway": [
           "#636efa",
           "#EF553B",
           "#00cc96",
           "#ab63fa",
           "#FFA15A",
           "#19d3f3",
           "#FF6692",
           "#B6E880",
           "#FF97FF",
           "#FECB52"
          ],
          "font": {
           "color": "#2a3f5f"
          },
          "geo": {
           "bgcolor": "white",
           "lakecolor": "white",
           "landcolor": "#E5ECF6",
           "showlakes": true,
           "showland": true,
           "subunitcolor": "white"
          },
          "hoverlabel": {
           "align": "left"
          },
          "hovermode": "closest",
          "mapbox": {
           "style": "light"
          },
          "paper_bgcolor": "white",
          "plot_bgcolor": "#E5ECF6",
          "polar": {
           "angularaxis": {
            "gridcolor": "white",
            "linecolor": "white",
            "ticks": ""
           },
           "bgcolor": "#E5ECF6",
           "radialaxis": {
            "gridcolor": "white",
            "linecolor": "white",
            "ticks": ""
           }
          },
          "scene": {
           "xaxis": {
            "backgroundcolor": "#E5ECF6",
            "gridcolor": "white",
            "gridwidth": 2,
            "linecolor": "white",
            "showbackground": true,
            "ticks": "",
            "zerolinecolor": "white"
           },
           "yaxis": {
            "backgroundcolor": "#E5ECF6",
            "gridcolor": "white",
            "gridwidth": 2,
            "linecolor": "white",
            "showbackground": true,
            "ticks": "",
            "zerolinecolor": "white"
           },
           "zaxis": {
            "backgroundcolor": "#E5ECF6",
            "gridcolor": "white",
            "gridwidth": 2,
            "linecolor": "white",
            "showbackground": true,
            "ticks": "",
            "zerolinecolor": "white"
           }
          },
          "shapedefaults": {
           "line": {
            "color": "#2a3f5f"
           }
          },
          "ternary": {
           "aaxis": {
            "gridcolor": "white",
            "linecolor": "white",
            "ticks": ""
           },
           "baxis": {
            "gridcolor": "white",
            "linecolor": "white",
            "ticks": ""
           },
           "bgcolor": "#E5ECF6",
           "caxis": {
            "gridcolor": "white",
            "linecolor": "white",
            "ticks": ""
           }
          },
          "title": {
           "x": 0.05
          },
          "xaxis": {
           "automargin": true,
           "gridcolor": "white",
           "linecolor": "white",
           "ticks": "",
           "title": {
            "standoff": 15
           },
           "zerolinecolor": "white",
           "zerolinewidth": 2
          },
          "yaxis": {
           "automargin": true,
           "gridcolor": "white",
           "linecolor": "white",
           "ticks": "",
           "title": {
            "standoff": 15
           },
           "zerolinecolor": "white",
           "zerolinewidth": 2
          }
         }
        },
        "title": {
         "text": "Scatter Plot: total_event vs average_clips_per_user per Game"
        },
        "xaxis": {
         "anchor": "y",
         "domain": [
          0,
          1
         ],
         "title": {
          "text": "total_event"
         }
        },
        "yaxis": {
         "anchor": "x",
         "domain": [
          0,
          1
         ],
         "title": {
          "text": "average_clips_per_user"
         }
        }
       }
      }
     },
     "metadata": {},
     "output_type": "display_data"
    }
   ],
   "source": [
    "import plotly.express as px\n",
    "import itertools\n",
    "\n",
    "columns_corr = [\n",
    "    'total_clips_created',\n",
    "    'total_users_whose_clips_created',\n",
    "    'average_duration_clips',\n",
    "    'total_event',\n",
    "    'average_clips_per_user'\n",
    "]\n",
    "\n",
    "# Buat semua pasangan kolom unik (tanpa duplikat dan kolom sama)\n",
    "pairs = list(itertools.combinations(columns_corr, 2))\n",
    "\n",
    "# Loop untuk buat scatter plot semua pasangan\n",
    "for x_col, y_col in pairs:\n",
    "    fig = px.scatter(\n",
    "        df_agg_clip_by_user_type_per_game,\n",
    "        x=x_col,\n",
    "        y=y_col,\n",
    "        color=\"user_type\",\n",
    "        trendline=\"ols\",\n",
    "        trendline_scope=\"trace\",\n",
    "        hover_data=[\"game_name\"],\n",
    "        title=f\"Scatter Plot: {x_col} vs {y_col} per Game\"\n",
    "    )\n",
    "\n",
    "    fig.show()\n"
   ]
  },
  {
   "cell_type": "code",
   "execution_count": 93,
   "id": "4fde2d02",
   "metadata": {},
   "outputs": [
    {
     "data": {
      "image/png": "[encoded data removed]",
      "text/plain": [
       "<Figure size 1400x600 with 4 Axes>"
      ]
     },
     "metadata": {},
     "output_type": "display_data"
    }
   ],
   "source": [
    "import numpy as np\n",
    "import plotly.graph_objects as go\n",
    "\n",
    "columns_corr = [\n",
    "    'total_clips_created',\n",
    "    'total_users_whose_clips_created',\n",
    "    'average_duration_clips',\n",
    "    'total_event',\n",
    "    'average_clips_per_user'\n",
    "]\n",
    "\n",
    "# Buat subset data\n",
    "df_free = df_agg_clip_by_user_type_per_game[df_agg_clip_by_user_type_per_game['user_type'] == 'free']\n",
    "df_premium = df_agg_clip_by_user_type_per_game[df_agg_clip_by_user_type_per_game['user_type'] == 'premium']\n",
    "\n",
    "# Fungsi bantu: ambil korelasi dan masking segitiga atas\n",
    "def get_lower_triangle_corr(df, columns):\n",
    "    corr = df[columns].corr()\n",
    "    mask = np.triu(np.ones_like(corr, dtype=bool))\n",
    "    return corr, mask\n",
    "\n",
    "# Hitung korelasi dan mask\n",
    "corr_free, mask_free = get_lower_triangle_corr(df_free, columns_corr)\n",
    "corr_premium, mask_premium = get_lower_triangle_corr(df_premium, columns_corr)\n",
    "\n",
    "# Buat subplot 1 baris 2 kolom\n",
    "fig, axes = plt.subplots(1, 2, figsize=(14, 6))\n",
    "\n",
    "# Plot Free\n",
    "sns.heatmap(corr_free, mask=mask_free, annot=True, fmt=\".2f\", cmap=\"YlGnBu\",\n",
    "            vmin=-1, vmax=1, ax=axes[0])\n",
    "axes[0].set_title(\"Free Users\")\n",
    "\n",
    "# Plot Premium\n",
    "sns.heatmap(corr_premium, mask=mask_premium, annot=True, fmt=\".2f\", cmap=\"YlGnBu\",\n",
    "            vmin=-1, vmax=1, ax=axes[1])\n",
    "axes[1].set_title(\"Premium Users\")\n",
    "\n",
    "plt.suptitle(\"Lower Triangle Correlation Matrix: Free vs Premium Users\", fontsize=16)\n",
    "plt.tight_layout()\n",
    "plt.show()\n"
   ]
  },
  {
   "cell_type": "code",
   "execution_count": 85,
   "id": "016c9a9e",
   "metadata": {},
   "outputs": [
    {
     "data": {
      "application/vnd.plotly.v1+json": {
       "config": {
        "plotlyServerURL": "https://plot.ly"
       },
       "data": [
        {
         "alignmentgroup": "True",
         "hovertemplate": "User Type=free<br>Percent of Total Clips=%{text}<br>Game=%{y}<extra></extra>",
         "legendgroup": "free",
         "marker": {
          "color": "#636efa",
          "pattern": {
           "shape": ""
          }
         },
         "name": "free",
         "offsetgroup": "free",
         "orientation": "h",
         "showlegend": true,
         "text": [
          26.84,
          21.98,
          12.94,
          2.85,
          9.26,
          4.63,
          4.24,
          1.28,
          3.23,
          1.32,
          0.59,
          1.45,
          0.98,
          0.44,
          0.78,
          0.83,
          0.38,
          0.29,
          0.43,
          0.35,
          0.29,
          0.18,
          0.11,
          0.15,
          0.11,
          0.1,
          0.17,
          0.06,
          0.07,
          0.1,
          0.07,
          0.17,
          0.09,
          0.05,
          0.05,
          0.02,
          0.04,
          0.04,
          0.02,
          0.07,
          0.01,
          0.02,
          0.04,
          0.01,
          0.01,
          0.01,
          0.01,
          0.02,
          0,
          0,
          0,
          0.02,
          0
         ],
         "textposition": "outside",
         "type": "bar",
         "x": [
          26.84,
          21.98,
          12.94,
          2.85,
          9.26,
          4.63,
          4.24,
          1.28,
          3.23,
          1.32,
          0.59,
          1.45,
          0.98,
          0.44,
          0.78,
          0.83,
          0.38,
          0.29,
          0.43,
          0.35,
          0.29,
          0.18,
          0.11,
          0.15,
          0.11,
          0.1,
          0.17,
          0.06,
          0.07,
          0.1,
          0.07,
          0.17,
          0.09,
          0.05,
          0.05,
          0.02,
          0.04,
          0.04,
          0.02,
          0.07,
          0.01,
          0.02,
          0.04,
          0.01,
          0.01,
          0.01,
          0.01,
          0.02,
          0,
          0,
          0,
          0.02,
          0
         ],
         "xaxis": "x",
         "y": [
          "Other Games",
          "COD: Warzone3-2 & MW3-2",
          "Fortnite",
          "Podcast",
          "Valorant",
          "Apex Legends",
          "Overwatch 2",
          "Tom Clancy's Rainbow Six: Siege",
          "League of Legends",
          "NBA: 2K24",
          "chatting",
          "Rocket League",
          "Dead by Daylight",
          "Fall Guys",
          "Counter Strike2",
          "Madden NFL 24",
          "Grand Theft Auto V",
          "ROBLOX",
          "FIFA 23-24 & EA Sports FC 24",
          "Destiny ",
          "Mortal Kombat 1",
          "COD: Black Ops Coldwar",
          "The Texas Chain Saw Massacre",
          "starfield",
          "Halo Infinite",
          "Farlight84",
          "PlayerUnknown's Battlegrounds\n",
          "Among Us",
          "Party Animals",
          "Elden Ring",
          "Phasmophobia",
          "THE FINALS",
          "Naraka",
          "Lies of P",
          "My Hero Ultra Rumble",
          "PAYDAY 3",
          "COD: Mobile",
          "Rogue Company",
          "Marvel's Spider-Man 2",
          "Street Fighter",
          "Remnant 2",
          "SMITE",
          "Mobile Legend",
          "Honkai: Star Rail",
          "Fifa fc 2024",
          "COD: Vanguard",
          "Team Fight Tatics",
          "Worlds of Tanks",
          "Hearthstone",
          "Freefire",
          "MLB The Show 22&23",
          "battlefield2042",
          "SuperSmash Bros Ultimate"
         ],
         "yaxis": "y"
        },
        {
         "alignmentgroup": "True",
         "hovertemplate": "User Type=premium<br>Percent of Total Clips=%{text}<br>Game=%{y}<extra></extra>",
         "legendgroup": "premium",
         "marker": {
          "color": "#EF553B",
          "pattern": {
           "shape": ""
          }
         },
         "name": "premium",
         "offsetgroup": "premium",
         "orientation": "h",
         "showlegend": true,
         "text": [
          17.19,
          31.94,
          9.97,
          6.4,
          7.93,
          0.76,
          3.55,
          6.88,
          1.39,
          1.62,
          0.12,
          3.6,
          0.13,
          1.74,
          0.15,
          0.32,
          0.91,
          0.25,
          0.29,
          0.85,
          0.82,
          0.09,
          0.15,
          0.14,
          0.19,
          0.06,
          0.12,
          0.02,
          0.16,
          0.11,
          0.02,
          0.01,
          0.01,
          0.14,
          0.06,
          0.08,
          0.01,
          0.03,
          0.11,
          0.02,
          0.02,
          0.01,
          0.01,
          0,
          0.01,
          0.02,
          0.01,
          0,
          0,
          0.06,
          0.05,
          0.03,
          0.01
         ],
         "textposition": "outside",
         "type": "bar",
         "x": [
          17.19,
          31.94,
          9.97,
          6.4,
          7.93,
          0.76,
          3.55,
          6.88,
          1.39,
          1.62,
          0.12,
          3.6,
          0.13,
          1.74,
          0.15,
          0.32,
          0.91,
          0.25,
          0.29,
          0.85,
          0.82,
          0.09,
          0.15,
          0.14,
          0.19,
          0.06,
          0.12,
          0.02,
          0.16,
          0.11,
          0.02,
          0.01,
          0.01,
          0.14,
          0.06,
          0.08,
          0.01,
          0.03,
          0.11,
          0.02,
          0.02,
          0.01,
          0.01,
          0,
          0.01,
          0.02,
          0.01,
          0,
          0,
          0.06,
          0.05,
          0.03,
          0.01
         ],
         "xaxis": "x",
         "y": [
          "Other Games",
          "COD: Warzone3-2 & MW3-2",
          "Fortnite",
          "Apex Legends",
          "Valorant",
          "chatting",
          "Overwatch 2",
          "League of Legends",
          "Dead by Daylight",
          "Tom Clancy's Rainbow Six: Siege",
          "Fall Guys",
          "Rocket League",
          "Party Animals",
          "Counter Strike2",
          "Phasmophobia",
          "THE FINALS",
          "NBA: 2K24",
          "Farlight84",
          "Grand Theft Auto V",
          "Halo Infinite",
          "FIFA 23-24 & EA Sports FC 24",
          "starfield",
          "Podcast",
          "The Texas Chain Saw Massacre",
          "Madden NFL 24",
          "ROBLOX",
          "Destiny ",
          "Among Us",
          "Honkai: Star Rail",
          "Forza Motorsport",
          "Team Fight Tatics",
          "Marvel's Spider-Man 2",
          "Game Detector",
          "Lies of P",
          "Elden Ring",
          "Naraka",
          "My Hero Ultra Rumble",
          "PlayerUnknown's Battlegrounds\n",
          "SMITE",
          "Hearthstone",
          "Remnant 2",
          "Freefire",
          "MLB The Show 22&23",
          "SuperSmash Bros Ultimate",
          "Fifa fc 2024",
          "Rogue Company",
          "COD: Mobile",
          "COD: Vanguard",
          "Street Fighter",
          "Mortal Kombat 1",
          "Mobile Legend",
          "NHL 23",
          "COD: Black Ops Coldwar"
         ],
         "yaxis": "y"
        }
       ],
       "layout": {
        "barmode": "group",
        "height": 800,
        "legend": {
         "title": {
          "text": "User Type"
         },
         "tracegroupgap": 0
        },
        "margin": {
         "l": 150,
         "t": 80
        },
        "template": {
         "data": {
          "bar": [
           {
            "error_x": {
             "color": "#2a3f5f"
            },
            "error_y": {
             "color": "#2a3f5f"
            },
            "marker": {
             "line": {
              "color": "#E5ECF6",
              "width": 0.5
             },
             "pattern": {
              "fillmode": "overlay",
              "size": 10,
              "solidity": 0.2
             }
            },
            "type": "bar"
           }
          ],
          "barpolar": [
           {
            "marker": {
             "line": {
              "color": "#E5ECF6",
              "width": 0.5
             },
             "pattern": {
              "fillmode": "overlay",
              "size": 10,
              "solidity": 0.2
             }
            },
            "type": "barpolar"
           }
          ],
          "carpet": [
           {
            "aaxis": {
             "endlinecolor": "#2a3f5f",
             "gridcolor": "white",
             "linecolor": "white",
             "minorgridcolor": "white",
             "startlinecolor": "#2a3f5f"
            },
            "baxis": {
             "endlinecolor": "#2a3f5f",
             "gridcolor": "white",
             "linecolor": "white",
             "minorgridcolor": "white",
             "startlinecolor": "#2a3f5f"
            },
            "type": "carpet"
           }
          ],
          "choropleth": [
           {
            "colorbar": {
             "outlinewidth": 0,
             "ticks": ""
            },
            "type": "choropleth"
           }
          ],
          "contour": [
           {
            "colorbar": {
             "outlinewidth": 0,
             "ticks": ""
            },
            "colorscale": [
             [
              0,
              "#0d0887"
             ],
             [
              0.1111111111111111,
              "#46039f"
             ],
             [
              0.2222222222222222,
              "#7201a8"
             ],
             [
              0.3333333333333333,
              "#9c179e"
             ],
             [
              0.4444444444444444,
              "#bd3786"
             ],
             [
              0.5555555555555556,
              "#d8576b"
             ],
             [
              0.6666666666666666,
              "#ed7953"
             ],
             [
              0.7777777777777778,
              "#fb9f3a"
             ],
             [
              0.8888888888888888,
              "#fdca26"
             ],
             [
              1,
              "#f0f921"
             ]
            ],
            "type": "contour"
           }
          ],
          "contourcarpet": [
           {
            "colorbar": {
             "outlinewidth": 0,
             "ticks": ""
            },
            "type": "contourcarpet"
           }
          ],
          "heatmap": [
           {
            "colorbar": {
             "outlinewidth": 0,
             "ticks": ""
            },
            "colorscale": [
             [
              0,
              "#0d0887"
             ],
             [
              0.1111111111111111,
              "#46039f"
             ],
             [
              0.2222222222222222,
              "#7201a8"
             ],
             [
              0.3333333333333333,
              "#9c179e"
             ],
             [
              0.4444444444444444,
              "#bd3786"
             ],
             [
              0.5555555555555556,
              "#d8576b"
             ],
             [
              0.6666666666666666,
              "#ed7953"
             ],
             [
              0.7777777777777778,
              "#fb9f3a"
             ],
             [
              0.8888888888888888,
              "#fdca26"
             ],
             [
              1,
              "#f0f921"
             ]
            ],
            "type": "heatmap"
           }
          ],
          "heatmapgl": [
           {
            "colorbar": {
             "outlinewidth": 0,
             "ticks": ""
            },
            "colorscale": [
             [
              0,
              "#0d0887"
             ],
             [
              0.1111111111111111,
              "#46039f"
             ],
             [
              0.2222222222222222,
              "#7201a8"
             ],
             [
              0.3333333333333333,
              "#9c179e"
             ],
             [
              0.4444444444444444,
              "#bd3786"
             ],
             [
              0.5555555555555556,
              "#d8576b"
             ],
             [
              0.6666666666666666,
              "#ed7953"
             ],
             [
              0.7777777777777778,
              "#fb9f3a"
             ],
             [
              0.8888888888888888,
              "#fdca26"
             ],
             [
              1,
              "#f0f921"
             ]
            ],
            "type": "heatmapgl"
           }
          ],
          "histogram": [
           {
            "marker": {
             "pattern": {
              "fillmode": "overlay",
              "size": 10,
              "solidity": 0.2
             }
            },
            "type": "histogram"
           }
          ],
          "histogram2d": [
           {
            "colorbar": {
             "outlinewidth": 0,
             "ticks": ""
            },
            "colorscale": [
             [
              0,
              "#0d0887"
             ],
             [
              0.1111111111111111,
              "#46039f"
             ],
             [
              0.2222222222222222,
              "#7201a8"
             ],
             [
              0.3333333333333333,
              "#9c179e"
             ],
             [
              0.4444444444444444,
              "#bd3786"
             ],
             [
              0.5555555555555556,
              "#d8576b"
             ],
             [
              0.6666666666666666,
              "#ed7953"
             ],
             [
              0.7777777777777778,
              "#fb9f3a"
             ],
             [
              0.8888888888888888,
              "#fdca26"
             ],
             [
              1,
              "#f0f921"
             ]
            ],
            "type": "histogram2d"
           }
          ],
          "histogram2dcontour": [
           {
            "colorbar": {
             "outlinewidth": 0,
             "ticks": ""
            },
            "colorscale": [
             [
              0,
              "#0d0887"
             ],
             [
              0.1111111111111111,
              "#46039f"
             ],
             [
              0.2222222222222222,
              "#7201a8"
             ],
             [
              0.3333333333333333,
              "#9c179e"
             ],
             [
              0.4444444444444444,
              "#bd3786"
             ],
             [
              0.5555555555555556,
              "#d8576b"
             ],
             [
              0.6666666666666666,
              "#ed7953"
             ],
             [
              0.7777777777777778,
              "#fb9f3a"
             ],
             [
              0.8888888888888888,
              "#fdca26"
             ],
             [
              1,
              "#f0f921"
             ]
            ],
            "type": "histogram2dcontour"
           }
          ],
          "mesh3d": [
           {
            "colorbar": {
             "outlinewidth": 0,
             "ticks": ""
            },
            "type": "mesh3d"
           }
          ],
          "parcoords": [
           {
            "line": {
             "colorbar": {
              "outlinewidth": 0,
              "ticks": ""
             }
            },
            "type": "parcoords"
           }
          ],
          "pie": [
           {
            "automargin": true,
            "type": "pie"
           }
          ],
          "scatter": [
           {
            "fillpattern": {
             "fillmode": "overlay",
             "size": 10,
             "solidity": 0.2
            },
            "type": "scatter"
           }
          ],
          "scatter3d": [
           {
            "line": {
             "colorbar": {
              "outlinewidth": 0,
              "ticks": ""
             }
            },
            "marker": {
             "colorbar": {
              "outlinewidth": 0,
              "ticks": ""
             }
            },
            "type": "scatter3d"
           }
          ],
          "scattercarpet": [
           {
            "marker": {
             "colorbar": {
              "outlinewidth": 0,
              "ticks": ""
             }
            },
            "type": "scattercarpet"
           }
          ],
          "scattergeo": [
           {
            "marker": {
             "colorbar": {
              "outlinewidth": 0,
              "ticks": ""
             }
            },
            "type": "scattergeo"
           }
          ],
          "scattergl": [
           {
            "marker": {
             "colorbar": {
              "outlinewidth": 0,
              "ticks": ""
             }
            },
            "type": "scattergl"
           }
          ],
          "scattermapbox": [
           {
            "marker": {
             "colorbar": {
              "outlinewidth": 0,
              "ticks": ""
             }
            },
            "type": "scattermapbox"
           }
          ],
          "scatterpolar": [
           {
            "marker": {
             "colorbar": {
              "outlinewidth": 0,
              "ticks": ""
             }
            },
            "type": "scatterpolar"
           }
          ],
          "scatterpolargl": [
           {
            "marker": {
             "colorbar": {
              "outlinewidth": 0,
              "ticks": ""
             }
            },
            "type": "scatterpolargl"
           }
          ],
          "scatterternary": [
           {
            "marker": {
             "colorbar": {
              "outlinewidth": 0,
              "ticks": ""
             }
            },
            "type": "scatterternary"
           }
          ],
          "surface": [
           {
            "colorbar": {
             "outlinewidth": 0,
             "ticks": ""
            },
            "colorscale": [
             [
              0,
              "#0d0887"
             ],
             [
              0.1111111111111111,
              "#46039f"
             ],
             [
              0.2222222222222222,
              "#7201a8"
             ],
             [
              0.3333333333333333,
              "#9c179e"
             ],
             [
              0.4444444444444444,
              "#bd3786"
             ],
             [
              0.5555555555555556,
              "#d8576b"
             ],
             [
              0.6666666666666666,
              "#ed7953"
             ],
             [
              0.7777777777777778,
              "#fb9f3a"
             ],
             [
              0.8888888888888888,
              "#fdca26"
             ],
             [
              1,
              "#f0f921"
             ]
            ],
            "type": "surface"
           }
          ],
          "table": [
           {
            "cells": {
             "fill": {
              "color": "#EBF0F8"
             },
             "line": {
              "color": "white"
             }
            },
            "header": {
             "fill": {
              "color": "#C8D4E3"
             },
             "line": {
              "color": "white"
             }
            },
            "type": "table"
           }
          ]
         },
         "layout": {
          "annotationdefaults": {
           "arrowcolor": "#2a3f5f",
           "arrowhead": 0,
           "arrowwidth": 1
          },
          "autotypenumbers": "strict",
          "coloraxis": {
           "colorbar": {
            "outlinewidth": 0,
            "ticks": ""
           }
          },
          "colorscale": {
           "diverging": [
            [
             0,
             "#8e0152"
            ],
            [
             0.1,
             "#c51b7d"
            ],
            [
             0.2,
             "#de77ae"
            ],
            [
             0.3,
             "#f1b6da"
            ],
            [
             0.4,
             "#fde0ef"
            ],
            [
             0.5,
             "#f7f7f7"
            ],
            [
             0.6,
             "#e6f5d0"
            ],
            [
             0.7,
             "#b8e186"
            ],
            [
             0.8,
             "#7fbc41"
            ],
            [
             0.9,
             "#4d9221"
            ],
            [
             1,
             "#276419"
            ]
           ],
           "sequential": [
            [
             0,
             "#0d0887"
            ],
            [
             0.1111111111111111,
             "#46039f"
            ],
            [
             0.2222222222222222,
             "#7201a8"
            ],
            [
             0.3333333333333333,
             "#9c179e"
            ],
            [
             0.4444444444444444,
             "#bd3786"
            ],
            [
             0.5555555555555556,
             "#d8576b"
            ],
            [
             0.6666666666666666,
             "#ed7953"
            ],
            [
             0.7777777777777778,
             "#fb9f3a"
            ],
            [
             0.8888888888888888,
             "#fdca26"
            ],
            [
             1,
             "#f0f921"
            ]
           ],
           "sequentialminus": [
            [
             0,
             "#0d0887"
            ],
            [
             0.1111111111111111,
             "#46039f"
            ],
            [
             0.2222222222222222,
             "#7201a8"
            ],
            [
             0.3333333333333333,
             "#9c179e"
            ],
            [
             0.4444444444444444,
             "#bd3786"
            ],
            [
             0.5555555555555556,
             "#d8576b"
            ],
            [
             0.6666666666666666,
             "#ed7953"
            ],
            [
             0.7777777777777778,
             "#fb9f3a"
            ],
            [
             0.8888888888888888,
             "#fdca26"
            ],
            [
             1,
             "#f0f921"
            ]
           ]
          },
          "colorway": [
           "#636efa",
           "#EF553B",
           "#00cc96",
           "#ab63fa",
           "#FFA15A",
           "#19d3f3",
           "#FF6692",
           "#B6E880",
           "#FF97FF",
           "#FECB52"
          ],
          "font": {
           "color": "#2a3f5f"
          },
          "geo": {
           "bgcolor": "white",
           "lakecolor": "white",
           "landcolor": "#E5ECF6",
           "showlakes": true,
           "showland": true,
           "subunitcolor": "white"
          },
          "hoverlabel": {
           "align": "left"
          },
          "hovermode": "closest",
          "mapbox": {
           "style": "light"
          },
          "paper_bgcolor": "white",
          "plot_bgcolor": "#E5ECF6",
          "polar": {
           "angularaxis": {
            "gridcolor": "white",
            "linecolor": "white",
            "ticks": ""
           },
           "bgcolor": "#E5ECF6",
           "radialaxis": {
            "gridcolor": "white",
            "linecolor": "white",
            "ticks": ""
           }
          },
          "scene": {
           "xaxis": {
            "backgroundcolor": "#E5ECF6",
            "gridcolor": "white",
            "gridwidth": 2,
            "linecolor": "white",
            "showbackground": true,
            "ticks": "",
            "zerolinecolor": "white"
           },
           "yaxis": {
            "backgroundcolor": "#E5ECF6",
            "gridcolor": "white",
            "gridwidth": 2,
            "linecolor": "white",
            "showbackground": true,
            "ticks": "",
            "zerolinecolor": "white"
           },
           "zaxis": {
            "backgroundcolor": "#E5ECF6",
            "gridcolor": "white",
            "gridwidth": 2,
            "linecolor": "white",
            "showbackground": true,
            "ticks": "",
            "zerolinecolor": "white"
           }
          },
          "shapedefaults": {
           "line": {
            "color": "#2a3f5f"
           }
          },
          "ternary": {
           "aaxis": {
            "gridcolor": "white",
            "linecolor": "white",
            "ticks": ""
           },
           "baxis": {
            "gridcolor": "white",
            "linecolor": "white",
            "ticks": ""
           },
           "bgcolor": "#E5ECF6",
           "caxis": {
            "gridcolor": "white",
            "linecolor": "white",
            "ticks": ""
           }
          },
          "title": {
           "x": 0.05
          },
          "xaxis": {
           "automargin": true,
           "gridcolor": "white",
           "linecolor": "white",
           "ticks": "",
           "title": {
            "standoff": 15
           },
           "zerolinecolor": "white",
           "zerolinewidth": 2
          },
          "yaxis": {
           "automargin": true,
           "gridcolor": "white",
           "linecolor": "white",
           "ticks": "",
           "title": {
            "standoff": 15
           },
           "zerolinecolor": "white",
           "zerolinewidth": 2
          }
         }
        },
        "title": {
         "text": "Percent of Total Clips per Game (Free vs Premium) - Horizontal"
        },
        "width": 1000,
        "xaxis": {
         "anchor": "y",
         "domain": [
          0,
          1
         ],
         "title": {
          "text": "Percent of Total Clips"
         }
        },
        "yaxis": {
         "anchor": "x",
         "categoryorder": "total ascending",
         "domain": [
          0,
          1
         ],
         "title": {
          "text": "Game"
         }
        }
       }
      }
     },
     "metadata": {},
     "output_type": "display_data"
    },
    {
     "data": {
      "application/vnd.plotly.v1+json": {
       "config": {
        "plotlyServerURL": "https://plot.ly"
       },
       "data": [
        {
         "alignmentgroup": "True",
         "hovertemplate": "User Type=free<br>Percent of Total Users=%{text}<br>Game=%{y}<extra></extra>",
         "legendgroup": "free",
         "marker": {
          "color": "#636efa",
          "pattern": {
           "shape": ""
          }
         },
         "name": "free",
         "offsetgroup": "free",
         "orientation": "h",
         "showlegend": true,
         "text": [
          27.22,
          12.14,
          10.03,
          5.6,
          4.8,
          3.8,
          2.19,
          1.8,
          1.53,
          1.49,
          1.39,
          1.35,
          1.24,
          1.03,
          0.89,
          0.83,
          0.69,
          0.68,
          0.65,
          0.46,
          0.34,
          0.3,
          0.29,
          0.23,
          0.23,
          0.23,
          0.21,
          0.21,
          0.21,
          0.2,
          0.19,
          0.19,
          0.15,
          0.14,
          0.09,
          0.09,
          0.09,
          0.09,
          0.08,
          0.06,
          0.06,
          0.05,
          0.04,
          0.04,
          0.04,
          0.04,
          0.03,
          0.03,
          0.01,
          0.01,
          0.01,
          0.01,
          0.01
         ],
         "textposition": "outside",
         "type": "bar",
         "x": [
          27.22,
          12.14,
          10.03,
          5.6,
          4.8,
          3.8,
          2.19,
          1.8,
          1.53,
          1.49,
          1.39,
          1.35,
          1.24,
          1.03,
          0.89,
          0.83,
          0.69,
          0.68,
          0.65,
          0.46,
          0.34,
          0.3,
          0.29,
          0.23,
          0.23,
          0.23,
          0.21,
          0.21,
          0.21,
          0.2,
          0.19,
          0.19,
          0.15,
          0.14,
          0.09,
          0.09,
          0.09,
          0.09,
          0.08,
          0.06,
          0.06,
          0.05,
          0.04,
          0.04,
          0.04,
          0.04,
          0.03,
          0.03,
          0.01,
          0.01,
          0.01,
          0.01,
          0.01
         ],
         "xaxis": "x",
         "y": [
          "Other Games",
          "COD: Warzone3-2 & MW3-2",
          "Fortnite",
          "Podcast",
          "Valorant",
          "Apex Legends",
          "Overwatch 2",
          "Tom Clancy's Rainbow Six: Siege",
          "League of Legends",
          "NBA: 2K24",
          "chatting",
          "Rocket League",
          "Dead by Daylight",
          "Fall Guys",
          "Counter Strike2",
          "Madden NFL 24",
          "Grand Theft Auto V",
          "ROBLOX",
          "FIFA 23-24 & EA Sports FC 24",
          "Destiny ",
          "Mortal Kombat 1",
          "COD: Black Ops Coldwar",
          "The Texas Chain Saw Massacre",
          "starfield",
          "Halo Infinite",
          "Farlight84",
          "PlayerUnknown's Battlegrounds\n",
          "Among Us",
          "Party Animals",
          "Elden Ring",
          "Phasmophobia",
          "THE FINALS",
          "Naraka",
          "Lies of P",
          "My Hero Ultra Rumble",
          "PAYDAY 3",
          "COD: Mobile",
          "Rogue Company",
          "Marvel's Spider-Man 2",
          "Street Fighter",
          "Remnant 2",
          "SMITE",
          "Mobile Legend",
          "Honkai: Star Rail",
          "Fifa fc 2024",
          "COD: Vanguard",
          "Team Fight Tatics",
          "Worlds of Tanks",
          "Hearthstone",
          "Freefire",
          "MLB The Show 22&23",
          "battlefield2042",
          "SuperSmash Bros Ultimate"
         ],
         "yaxis": "y"
        },
        {
         "alignmentgroup": "True",
         "hovertemplate": "User Type=premium<br>Percent of Total Users=%{text}<br>Game=%{y}<extra></extra>",
         "legendgroup": "premium",
         "marker": {
          "color": "#EF553B",
          "pattern": {
           "shape": ""
          }
         },
         "name": "premium",
         "offsetgroup": "premium",
         "orientation": "h",
         "showlegend": true,
         "text": [
          25.02,
          11.52,
          8.94,
          4.27,
          3.97,
          2.68,
          2.38,
          2.09,
          2.09,
          1.69,
          1.39,
          1.29,
          1.09,
          1.09,
          0.99,
          0.99,
          0.89,
          0.89,
          0.89,
          0.79,
          0.7,
          0.7,
          0.7,
          0.6,
          0.6,
          0.5,
          0.5,
          0.4,
          0.4,
          0.4,
          0.3,
          0.3,
          0.3,
          0.3,
          0.3,
          0.2,
          0.2,
          0.2,
          0.2,
          0.2,
          0.2,
          0.1,
          0.1,
          0.1,
          0.1,
          0.1,
          0.1,
          0.1,
          0.1,
          0.1,
          0.1,
          0.1,
          0.1
         ],
         "textposition": "outside",
         "type": "bar",
         "x": [
          25.02,
          11.52,
          8.94,
          4.27,
          3.97,
          2.68,
          2.38,
          2.09,
          2.09,
          1.69,
          1.39,
          1.29,
          1.09,
          1.09,
          0.99,
          0.99,
          0.89,
          0.89,
          0.89,
          0.79,
          0.7,
          0.7,
          0.7,
          0.6,
          0.6,
          0.5,
          0.5,
          0.4,
          0.4,
          0.4,
          0.3,
          0.3,
          0.3,
          0.3,
          0.3,
          0.2,
          0.2,
          0.2,
          0.2,
          0.2,
          0.2,
          0.1,
          0.1,
          0.1,
          0.1,
          0.1,
          0.1,
          0.1,
          0.1,
          0.1,
          0.1,
          0.1,
          0.1
         ],
         "xaxis": "x",
         "y": [
          "Other Games",
          "COD: Warzone3-2 & MW3-2",
          "Fortnite",
          "Apex Legends",
          "Valorant",
          "chatting",
          "Overwatch 2",
          "League of Legends",
          "Dead by Daylight",
          "Tom Clancy's Rainbow Six: Siege",
          "Fall Guys",
          "Rocket League",
          "Party Animals",
          "Counter Strike2",
          "Phasmophobia",
          "THE FINALS",
          "NBA: 2K24",
          "Farlight84",
          "Grand Theft Auto V",
          "Halo Infinite",
          "FIFA 23-24 & EA Sports FC 24",
          "starfield",
          "Podcast",
          "The Texas Chain Saw Massacre",
          "Madden NFL 24",
          "ROBLOX",
          "Destiny ",
          "Among Us",
          "Honkai: Star Rail",
          "Forza Motorsport",
          "Team Fight Tatics",
          "Marvel's Spider-Man 2",
          "Game Detector",
          "Lies of P",
          "Elden Ring",
          "Naraka",
          "My Hero Ultra Rumble",
          "PlayerUnknown's Battlegrounds\n",
          "SMITE",
          "Hearthstone",
          "Remnant 2",
          "Freefire",
          "MLB The Show 22&23",
          "SuperSmash Bros Ultimate",
          "Fifa fc 2024",
          "Rogue Company",
          "COD: Mobile",
          "COD: Vanguard",
          "Street Fighter",
          "Mortal Kombat 1",
          "Mobile Legend",
          "NHL 23",
          "COD: Black Ops Coldwar"
         ],
         "yaxis": "y"
        }
       ],
       "layout": {
        "barmode": "group",
        "height": 800,
        "legend": {
         "title": {
          "text": "User Type"
         },
         "tracegroupgap": 0
        },
        "margin": {
         "l": 150,
         "t": 80
        },
        "template": {
         "data": {
          "bar": [
           {
            "error_x": {
             "color": "#2a3f5f"
            },
            "error_y": {
             "color": "#2a3f5f"
            },
            "marker": {
             "line": {
              "color": "#E5ECF6",
              "width": 0.5
             },
             "pattern": {
              "fillmode": "overlay",
              "size": 10,
              "solidity": 0.2
             }
            },
            "type": "bar"
           }
          ],
          "barpolar": [
           {
            "marker": {
             "line": {
              "color": "#E5ECF6",
              "width": 0.5
             },
             "pattern": {
              "fillmode": "overlay",
              "size": 10,
              "solidity": 0.2
             }
            },
            "type": "barpolar"
           }
          ],
          "carpet": [
           {
            "aaxis": {
             "endlinecolor": "#2a3f5f",
             "gridcolor": "white",
             "linecolor": "white",
             "minorgridcolor": "white",
             "startlinecolor": "#2a3f5f"
            },
            "baxis": {
             "endlinecolor": "#2a3f5f",
             "gridcolor": "white",
             "linecolor": "white",
             "minorgridcolor": "white",
             "startlinecolor": "#2a3f5f"
            },
            "type": "carpet"
           }
          ],
          "choropleth": [
           {
            "colorbar": {
             "outlinewidth": 0,
             "ticks": ""
            },
            "type": "choropleth"
           }
          ],
          "contour": [
           {
            "colorbar": {
             "outlinewidth": 0,
             "ticks": ""
            },
            "colorscale": [
             [
              0,
              "#0d0887"
             ],
             [
              0.1111111111111111,
              "#46039f"
             ],
             [
              0.2222222222222222,
              "#7201a8"
             ],
             [
              0.3333333333333333,
              "#9c179e"
             ],
             [
              0.4444444444444444,
              "#bd3786"
             ],
             [
              0.5555555555555556,
              "#d8576b"
             ],
             [
              0.6666666666666666,
              "#ed7953"
             ],
             [
              0.7777777777777778,
              "#fb9f3a"
             ],
             [
              0.8888888888888888,
              "#fdca26"
             ],
             [
              1,
              "#f0f921"
             ]
            ],
            "type": "contour"
           }
          ],
          "contourcarpet": [
           {
            "colorbar": {
             "outlinewidth": 0,
             "ticks": ""
            },
            "type": "contourcarpet"
           }
          ],
          "heatmap": [
           {
            "colorbar": {
             "outlinewidth": 0,
             "ticks": ""
            },
            "colorscale": [
             [
              0,
              "#0d0887"
             ],
             [
              0.1111111111111111,
              "#46039f"
             ],
             [
              0.2222222222222222,
              "#7201a8"
             ],
             [
              0.3333333333333333,
              "#9c179e"
             ],
             [
              0.4444444444444444,
              "#bd3786"
             ],
             [
              0.5555555555555556,
              "#d8576b"
             ],
             [
              0.6666666666666666,
              "#ed7953"
             ],
             [
              0.7777777777777778,
              "#fb9f3a"
             ],
             [
              0.8888888888888888,
              "#fdca26"
             ],
             [
              1,
              "#f0f921"
             ]
            ],
            "type": "heatmap"
           }
          ],
          "heatmapgl": [
           {
            "colorbar": {
             "outlinewidth": 0,
             "ticks": ""
            },
            "colorscale": [
             [
              0,
              "#0d0887"
             ],
             [
              0.1111111111111111,
              "#46039f"
             ],
             [
              0.2222222222222222,
              "#7201a8"
             ],
             [
              0.3333333333333333,
              "#9c179e"
             ],
             [
              0.4444444444444444,
              "#bd3786"
             ],
             [
              0.5555555555555556,
              "#d8576b"
             ],
             [
              0.6666666666666666,
              "#ed7953"
             ],
             [
              0.7777777777777778,
              "#fb9f3a"
             ],
             [
              0.8888888888888888,
              "#fdca26"
             ],
             [
              1,
              "#f0f921"
             ]
            ],
            "type": "heatmapgl"
           }
          ],
          "histogram": [
           {
            "marker": {
             "pattern": {
              "fillmode": "overlay",
              "size": 10,
              "solidity": 0.2
             }
            },
            "type": "histogram"
           }
          ],
          "histogram2d": [
           {
            "colorbar": {
             "outlinewidth": 0,
             "ticks": ""
            },
            "colorscale": [
             [
              0,
              "#0d0887"
             ],
             [
              0.1111111111111111,
              "#46039f"
             ],
             [
              0.2222222222222222,
              "#7201a8"
             ],
             [
              0.3333333333333333,
              "#9c179e"
             ],
             [
              0.4444444444444444,
              "#bd3786"
             ],
             [
              0.5555555555555556,
              "#d8576b"
             ],
             [
              0.6666666666666666,
              "#ed7953"
             ],
             [
              0.7777777777777778,
              "#fb9f3a"
             ],
             [
              0.8888888888888888,
              "#fdca26"
             ],
             [
              1,
              "#f0f921"
             ]
            ],
            "type": "histogram2d"
           }
          ],
          "histogram2dcontour": [
           {
            "colorbar": {
             "outlinewidth": 0,
             "ticks": ""
            },
            "colorscale": [
             [
              0,
              "#0d0887"
             ],
             [
              0.1111111111111111,
              "#46039f"
             ],
             [
              0.2222222222222222,
              "#7201a8"
             ],
             [
              0.3333333333333333,
              "#9c179e"
             ],
             [
              0.4444444444444444,
              "#bd3786"
             ],
             [
              0.5555555555555556,
              "#d8576b"
             ],
             [
              0.6666666666666666,
              "#ed7953"
             ],
             [
              0.7777777777777778,
              "#fb9f3a"
             ],
             [
              0.8888888888888888,
              "#fdca26"
             ],
             [
              1,
              "#f0f921"
             ]
            ],
            "type": "histogram2dcontour"
           }
          ],
          "mesh3d": [
           {
            "colorbar": {
             "outlinewidth": 0,
             "ticks": ""
            },
            "type": "mesh3d"
           }
          ],
          "parcoords": [
           {
            "line": {
             "colorbar": {
              "outlinewidth": 0,
              "ticks": ""
             }
            },
            "type": "parcoords"
           }
          ],
          "pie": [
           {
            "automargin": true,
            "type": "pie"
           }
          ],
          "scatter": [
           {
            "fillpattern": {
             "fillmode": "overlay",
             "size": 10,
             "solidity": 0.2
            },
            "type": "scatter"
           }
          ],
          "scatter3d": [
           {
            "line": {
             "colorbar": {
              "outlinewidth": 0,
              "ticks": ""
             }
            },
            "marker": {
             "colorbar": {
              "outlinewidth": 0,
              "ticks": ""
             }
            },
            "type": "scatter3d"
           }
          ],
          "scattercarpet": [
           {
            "marker": {
             "colorbar": {
              "outlinewidth": 0,
              "ticks": ""
             }
            },
            "type": "scattercarpet"
           }
          ],
          "scattergeo": [
           {
            "marker": {
             "colorbar": {
              "outlinewidth": 0,
              "ticks": ""
             }
            },
            "type": "scattergeo"
           }
          ],
          "scattergl": [
           {
            "marker": {
             "colorbar": {
              "outlinewidth": 0,
              "ticks": ""
             }
            },
            "type": "scattergl"
           }
          ],
          "scattermapbox": [
           {
            "marker": {
             "colorbar": {
              "outlinewidth": 0,
              "ticks": ""
             }
            },
            "type": "scattermapbox"
           }
          ],
          "scatterpolar": [
           {
            "marker": {
             "colorbar": {
              "outlinewidth": 0,
              "ticks": ""
             }
            },
            "type": "scatterpolar"
           }
          ],
          "scatterpolargl": [
           {
            "marker": {
             "colorbar": {
              "outlinewidth": 0,
              "ticks": ""
             }
            },
            "type": "scatterpolargl"
           }
          ],
          "scatterternary": [
           {
            "marker": {
             "colorbar": {
              "outlinewidth": 0,
              "ticks": ""
             }
            },
            "type": "scatterternary"
           }
          ],
          "surface": [
           {
            "colorbar": {
             "outlinewidth": 0,
             "ticks": ""
            },
            "colorscale": [
             [
              0,
              "#0d0887"
             ],
             [
              0.1111111111111111,
              "#46039f"
             ],
             [
              0.2222222222222222,
              "#7201a8"
             ],
             [
              0.3333333333333333,
              "#9c179e"
             ],
             [
              0.4444444444444444,
              "#bd3786"
             ],
             [
              0.5555555555555556,
              "#d8576b"
             ],
             [
              0.6666666666666666,
              "#ed7953"
             ],
             [
              0.7777777777777778,
              "#fb9f3a"
             ],
             [
              0.8888888888888888,
              "#fdca26"
             ],
             [
              1,
              "#f0f921"
             ]
            ],
            "type": "surface"
           }
          ],
          "table": [
           {
            "cells": {
             "fill": {
              "color": "#EBF0F8"
             },
             "line": {
              "color": "white"
             }
            },
            "header": {
             "fill": {
              "color": "#C8D4E3"
             },
             "line": {
              "color": "white"
             }
            },
            "type": "table"
           }
          ]
         },
         "layout": {
          "annotationdefaults": {
           "arrowcolor": "#2a3f5f",
           "arrowhead": 0,
           "arrowwidth": 1
          },
          "autotypenumbers": "strict",
          "coloraxis": {
           "colorbar": {
            "outlinewidth": 0,
            "ticks": ""
           }
          },
          "colorscale": {
           "diverging": [
            [
             0,
             "#8e0152"
            ],
            [
             0.1,
             "#c51b7d"
            ],
            [
             0.2,
             "#de77ae"
            ],
            [
             0.3,
             "#f1b6da"
            ],
            [
             0.4,
             "#fde0ef"
            ],
            [
             0.5,
             "#f7f7f7"
            ],
            [
             0.6,
             "#e6f5d0"
            ],
            [
             0.7,
             "#b8e186"
            ],
            [
             0.8,
             "#7fbc41"
            ],
            [
             0.9,
             "#4d9221"
            ],
            [
             1,
             "#276419"
            ]
           ],
           "sequential": [
            [
             0,
             "#0d0887"
            ],
            [
             0.1111111111111111,
             "#46039f"
            ],
            [
             0.2222222222222222,
             "#7201a8"
            ],
            [
             0.3333333333333333,
             "#9c179e"
            ],
            [
             0.4444444444444444,
             "#bd3786"
            ],
            [
             0.5555555555555556,
             "#d8576b"
            ],
            [
             0.6666666666666666,
             "#ed7953"
            ],
            [
             0.7777777777777778,
             "#fb9f3a"
            ],
            [
             0.8888888888888888,
             "#fdca26"
            ],
            [
             1,
             "#f0f921"
            ]
           ],
           "sequentialminus": [
            [
             0,
             "#0d0887"
            ],
            [
             0.1111111111111111,
             "#46039f"
            ],
            [
             0.2222222222222222,
             "#7201a8"
            ],
            [
             0.3333333333333333,
             "#9c179e"
            ],
            [
             0.4444444444444444,
             "#bd3786"
            ],
            [
             0.5555555555555556,
             "#d8576b"
            ],
            [
             0.6666666666666666,
             "#ed7953"
            ],
            [
             0.7777777777777778,
             "#fb9f3a"
            ],
            [
             0.8888888888888888,
             "#fdca26"
            ],
            [
             1,
             "#f0f921"
            ]
           ]
          },
          "colorway": [
           "#636efa",
           "#EF553B",
           "#00cc96",
           "#ab63fa",
           "#FFA15A",
           "#19d3f3",
           "#FF6692",
           "#B6E880",
           "#FF97FF",
           "#FECB52"
          ],
          "font": {
           "color": "#2a3f5f"
          },
          "geo": {
           "bgcolor": "white",
           "lakecolor": "white",
           "landcolor": "#E5ECF6",
           "showlakes": true,
           "showland": true,
           "subunitcolor": "white"
          },
          "hoverlabel": {
           "align": "left"
          },
          "hovermode": "closest",
          "mapbox": {
           "style": "light"
          },
          "paper_bgcolor": "white",
          "plot_bgcolor": "#E5ECF6",
          "polar": {
           "angularaxis": {
            "gridcolor": "white",
            "linecolor": "white",
            "ticks": ""
           },
           "bgcolor": "#E5ECF6",
           "radialaxis": {
            "gridcolor": "white",
            "linecolor": "white",
            "ticks": ""
           }
          },
          "scene": {
           "xaxis": {
            "backgroundcolor": "#E5ECF6",
            "gridcolor": "white",
            "gridwidth": 2,
            "linecolor": "white",
            "showbackground": true,
            "ticks": "",
            "zerolinecolor": "white"
           },
           "yaxis": {
            "backgroundcolor": "#E5ECF6",
            "gridcolor": "white",
            "gridwidth": 2,
            "linecolor": "white",
            "showbackground": true,
            "ticks": "",
            "zerolinecolor": "white"
           },
           "zaxis": {
            "backgroundcolor": "#E5ECF6",
            "gridcolor": "white",
            "gridwidth": 2,
            "linecolor": "white",
            "showbackground": true,
            "ticks": "",
            "zerolinecolor": "white"
           }
          },
          "shapedefaults": {
           "line": {
            "color": "#2a3f5f"
           }
          },
          "ternary": {
           "aaxis": {
            "gridcolor": "white",
            "linecolor": "white",
            "ticks": ""
           },
           "baxis": {
            "gridcolor": "white",
            "linecolor": "white",
            "ticks": ""
           },
           "bgcolor": "#E5ECF6",
           "caxis": {
            "gridcolor": "white",
            "linecolor": "white",
            "ticks": ""
           }
          },
          "title": {
           "x": 0.05
          },
          "xaxis": {
           "automargin": true,
           "gridcolor": "white",
           "linecolor": "white",
           "ticks": "",
           "title": {
            "standoff": 15
           },
           "zerolinecolor": "white",
           "zerolinewidth": 2
          },
          "yaxis": {
           "automargin": true,
           "gridcolor": "white",
           "linecolor": "white",
           "ticks": "",
           "title": {
            "standoff": 15
           },
           "zerolinecolor": "white",
           "zerolinewidth": 2
          }
         }
        },
        "title": {
         "text": "Percent of Total Users whose Clips Generated per Game (Free vs Premium) - Horizontal"
        },
        "width": 1000,
        "xaxis": {
         "anchor": "y",
         "domain": [
          0,
          1
         ],
         "title": {
          "text": "Percent of Total Users"
         }
        },
        "yaxis": {
         "anchor": "x",
         "categoryorder": "total ascending",
         "domain": [
          0,
          1
         ],
         "title": {
          "text": "Game"
         }
        }
       }
      }
     },
     "metadata": {},
     "output_type": "display_data"
    },
    {
     "data": {
      "application/vnd.plotly.v1+json": {
       "config": {
        "plotlyServerURL": "https://plot.ly"
       },
       "data": [
        {
         "alignmentgroup": "True",
         "hovertemplate": "User Type=free<br>Percent of Total Event=%{text}<br>Game=%{y}<extra></extra>",
         "legendgroup": "free",
         "marker": {
          "color": "#636efa",
          "pattern": {
           "shape": ""
          }
         },
         "name": "free",
         "offsetgroup": "free",
         "orientation": "h",
         "showlegend": true,
         "text": [
          4.3,
          9.14,
          4.84,
          0.54,
          4.3,
          5.38,
          2.15,
          2.15,
          3.76,
          2.15,
          1.08,
          1.61,
          2.15,
          1.61,
          1.08,
          3.23,
          1.08,
          1.08,
          0.54,
          2.15,
          1.08,
          2.69,
          1.08,
          2.15,
          1.61,
          1.61,
          4.3,
          1.61,
          1.08,
          2.15,
          1.08,
          2.15,
          0.54,
          1.08,
          1.08,
          0.54,
          2.15,
          2.15,
          1.08,
          1.61,
          1.08,
          1.08,
          2.69,
          0.54,
          0.54,
          1.08,
          0.54,
          0.54,
          1.08,
          1.61,
          1.08,
          0.54,
          0.54
         ],
         "textposition": "outside",
         "type": "bar",
         "x": [
          4.3,
          9.14,
          4.84,
          0.54,
          4.3,
          5.38,
          2.15,
          2.15,
          3.76,
          2.15,
          1.08,
          1.61,
          2.15,
          1.61,
          1.08,
          3.23,
          1.08,
          1.08,
          0.54,
          2.15,
          1.08,
          2.69,
          1.08,
          2.15,
          1.61,
          1.61,
          4.3,
          1.61,
          1.08,
          2.15,
          1.08,
          2.15,
          0.54,
          1.08,
          1.08,
          0.54,
          2.15,
          2.15,
          1.08,
          1.61,
          1.08,
          1.08,
          2.69,
          0.54,
          0.54,
          1.08,
          0.54,
          0.54,
          1.08,
          1.61,
          1.08,
          0.54,
          0.54
         ],
         "xaxis": "x",
         "y": [
          "Other Games",
          "COD: Warzone3-2 & MW3-2",
          "Fortnite",
          "Podcast",
          "Valorant",
          "Apex Legends",
          "Overwatch 2",
          "Tom Clancy's Rainbow Six: Siege",
          "League of Legends",
          "NBA: 2K24",
          "chatting",
          "Rocket League",
          "Dead by Daylight",
          "Fall Guys",
          "Counter Strike2",
          "Madden NFL 24",
          "Grand Theft Auto V",
          "ROBLOX",
          "FIFA 23-24 & EA Sports FC 24",
          "Destiny ",
          "Mortal Kombat 1",
          "COD: Black Ops Coldwar",
          "The Texas Chain Saw Massacre",
          "starfield",
          "Halo Infinite",
          "Farlight84",
          "PlayerUnknown's Battlegrounds\n",
          "Among Us",
          "Party Animals",
          "Elden Ring",
          "Phasmophobia",
          "THE FINALS",
          "Naraka",
          "Lies of P",
          "My Hero Ultra Rumble",
          "PAYDAY 3",
          "COD: Mobile",
          "Rogue Company",
          "Marvel's Spider-Man 2",
          "Street Fighter",
          "Remnant 2",
          "SMITE",
          "Mobile Legend",
          "Honkai: Star Rail",
          "Fifa fc 2024",
          "COD: Vanguard",
          "Team Fight Tatics",
          "Worlds of Tanks",
          "Hearthstone",
          "Freefire",
          "MLB The Show 22&23",
          "battlefield2042",
          "SuperSmash Bros Ultimate"
         ],
         "yaxis": "y"
        },
        {
         "alignmentgroup": "True",
         "hovertemplate": "User Type=premium<br>Percent of Total Event=%{text}<br>Game=%{y}<extra></extra>",
         "legendgroup": "premium",
         "marker": {
          "color": "#EF553B",
          "pattern": {
           "shape": ""
          }
         },
         "name": "premium",
         "offsetgroup": "premium",
         "orientation": "h",
         "showlegend": true,
         "text": [
          5.59,
          9.5,
          5.03,
          5.59,
          4.47,
          1.12,
          2.23,
          3.91,
          2.23,
          2.79,
          2.23,
          2.23,
          1.12,
          1.12,
          1.12,
          2.23,
          2.79,
          1.12,
          1.12,
          2.23,
          0.56,
          1.68,
          0.56,
          0.56,
          3.35,
          1.12,
          1.12,
          2.23,
          1.12,
          1.12,
          0.56,
          1.12,
          0.56,
          1.12,
          1.12,
          0.56,
          1.12,
          1.68,
          1.12,
          2.23,
          1.12,
          1.68,
          1.12,
          0.56,
          0.56,
          2.23,
          0.56,
          1.12,
          1.12,
          1.68,
          2.23,
          1.12,
          0.56
         ],
         "textposition": "outside",
         "type": "bar",
         "x": [
          5.59,
          9.5,
          5.03,
          5.59,
          4.47,
          1.12,
          2.23,
          3.91,
          2.23,
          2.79,
          2.23,
          2.23,
          1.12,
          1.12,
          1.12,
          2.23,
          2.79,
          1.12,
          1.12,
          2.23,
          0.56,
          1.68,
          0.56,
          0.56,
          3.35,
          1.12,
          1.12,
          2.23,
          1.12,
          1.12,
          0.56,
          1.12,
          0.56,
          1.12,
          1.12,
          0.56,
          1.12,
          1.68,
          1.12,
          2.23,
          1.12,
          1.68,
          1.12,
          0.56,
          0.56,
          2.23,
          0.56,
          1.12,
          1.12,
          1.68,
          2.23,
          1.12,
          0.56
         ],
         "xaxis": "x",
         "y": [
          "Other Games",
          "COD: Warzone3-2 & MW3-2",
          "Fortnite",
          "Apex Legends",
          "Valorant",
          "chatting",
          "Overwatch 2",
          "League of Legends",
          "Dead by Daylight",
          "Tom Clancy's Rainbow Six: Siege",
          "Fall Guys",
          "Rocket League",
          "Party Animals",
          "Counter Strike2",
          "Phasmophobia",
          "THE FINALS",
          "NBA: 2K24",
          "Farlight84",
          "Grand Theft Auto V",
          "Halo Infinite",
          "FIFA 23-24 & EA Sports FC 24",
          "starfield",
          "Podcast",
          "The Texas Chain Saw Massacre",
          "Madden NFL 24",
          "ROBLOX",
          "Destiny ",
          "Among Us",
          "Honkai: Star Rail",
          "Forza Motorsport",
          "Team Fight Tatics",
          "Marvel's Spider-Man 2",
          "Game Detector",
          "Lies of P",
          "Elden Ring",
          "Naraka",
          "My Hero Ultra Rumble",
          "PlayerUnknown's Battlegrounds\n",
          "SMITE",
          "Hearthstone",
          "Remnant 2",
          "Freefire",
          "MLB The Show 22&23",
          "SuperSmash Bros Ultimate",
          "Fifa fc 2024",
          "Rogue Company",
          "COD: Mobile",
          "COD: Vanguard",
          "Street Fighter",
          "Mortal Kombat 1",
          "Mobile Legend",
          "NHL 23",
          "COD: Black Ops Coldwar"
         ],
         "yaxis": "y"
        }
       ],
       "layout": {
        "barmode": "group",
        "height": 800,
        "legend": {
         "title": {
          "text": "User Type"
         },
         "tracegroupgap": 0
        },
        "margin": {
         "l": 150,
         "t": 80
        },
        "template": {
         "data": {
          "bar": [
           {
            "error_x": {
             "color": "#2a3f5f"
            },
            "error_y": {
             "color": "#2a3f5f"
            },
            "marker": {
             "line": {
              "color": "#E5ECF6",
              "width": 0.5
             },
             "pattern": {
              "fillmode": "overlay",
              "size": 10,
              "solidity": 0.2
             }
            },
            "type": "bar"
           }
          ],
          "barpolar": [
           {
            "marker": {
             "line": {
              "color": "#E5ECF6",
              "width": 0.5
             },
             "pattern": {
              "fillmode": "overlay",
              "size": 10,
              "solidity": 0.2
             }
            },
            "type": "barpolar"
           }
          ],
          "carpet": [
           {
            "aaxis": {
             "endlinecolor": "#2a3f5f",
             "gridcolor": "white",
             "linecolor": "white",
             "minorgridcolor": "white",
             "startlinecolor": "#2a3f5f"
            },
            "baxis": {
             "endlinecolor": "#2a3f5f",
             "gridcolor": "white",
             "linecolor": "white",
             "minorgridcolor": "white",
             "startlinecolor": "#2a3f5f"
            },
            "type": "carpet"
           }
          ],
          "choropleth": [
           {
            "colorbar": {
             "outlinewidth": 0,
             "ticks": ""
            },
            "type": "choropleth"
           }
          ],
          "contour": [
           {
            "colorbar": {
             "outlinewidth": 0,
             "ticks": ""
            },
            "colorscale": [
             [
              0,
              "#0d0887"
             ],
             [
              0.1111111111111111,
              "#46039f"
             ],
             [
              0.2222222222222222,
              "#7201a8"
             ],
             [
              0.3333333333333333,
              "#9c179e"
             ],
             [
              0.4444444444444444,
              "#bd3786"
             ],
             [
              0.5555555555555556,
              "#d8576b"
             ],
             [
              0.6666666666666666,
              "#ed7953"
             ],
             [
              0.7777777777777778,
              "#fb9f3a"
             ],
             [
              0.8888888888888888,
              "#fdca26"
             ],
             [
              1,
              "#f0f921"
             ]
            ],
            "type": "contour"
           }
          ],
          "contourcarpet": [
           {
            "colorbar": {
             "outlinewidth": 0,
             "ticks": ""
            },
            "type": "contourcarpet"
           }
          ],
          "heatmap": [
           {
            "colorbar": {
             "outlinewidth": 0,
             "ticks": ""
            },
            "colorscale": [
             [
              0,
              "#0d0887"
             ],
             [
              0.1111111111111111,
              "#46039f"
             ],
             [
              0.2222222222222222,
              "#7201a8"
             ],
             [
              0.3333333333333333,
              "#9c179e"
             ],
             [
              0.4444444444444444,
              "#bd3786"
             ],
             [
              0.5555555555555556,
              "#d8576b"
             ],
             [
              0.6666666666666666,
              "#ed7953"
             ],
             [
              0.7777777777777778,
              "#fb9f3a"
             ],
             [
              0.8888888888888888,
              "#fdca26"
             ],
             [
              1,
              "#f0f921"
             ]
            ],
            "type": "heatmap"
           }
          ],
          "heatmapgl": [
           {
            "colorbar": {
             "outlinewidth": 0,
             "ticks": ""
            },
            "colorscale": [
             [
              0,
              "#0d0887"
             ],
             [
              0.1111111111111111,
              "#46039f"
             ],
             [
              0.2222222222222222,
              "#7201a8"
             ],
             [
              0.3333333333333333,
              "#9c179e"
             ],
             [
              0.4444444444444444,
              "#bd3786"
             ],
             [
              0.5555555555555556,
              "#d8576b"
             ],
             [
              0.6666666666666666,
              "#ed7953"
             ],
             [
              0.7777777777777778,
              "#fb9f3a"
             ],
             [
              0.8888888888888888,
              "#fdca26"
             ],
             [
              1,
              "#f0f921"
             ]
            ],
            "type": "heatmapgl"
           }
          ],
          "histogram": [
           {
            "marker": {
             "pattern": {
              "fillmode": "overlay",
              "size": 10,
              "solidity": 0.2
             }
            },
            "type": "histogram"
           }
          ],
          "histogram2d": [
           {
            "colorbar": {
             "outlinewidth": 0,
             "ticks": ""
            },
            "colorscale": [
             [
              0,
              "#0d0887"
             ],
             [
              0.1111111111111111,
              "#46039f"
             ],
             [
              0.2222222222222222,
              "#7201a8"
             ],
             [
              0.3333333333333333,
              "#9c179e"
             ],
             [
              0.4444444444444444,
              "#bd3786"
             ],
             [
              0.5555555555555556,
              "#d8576b"
             ],
             [
              0.6666666666666666,
              "#ed7953"
             ],
             [
              0.7777777777777778,
              "#fb9f3a"
             ],
             [
              0.8888888888888888,
              "#fdca26"
             ],
             [
              1,
              "#f0f921"
             ]
            ],
            "type": "histogram2d"
           }
          ],
          "histogram2dcontour": [
           {
            "colorbar": {
             "outlinewidth": 0,
             "ticks": ""
            },
            "colorscale": [
             [
              0,
              "#0d0887"
             ],
             [
              0.1111111111111111,
              "#46039f"
             ],
             [
              0.2222222222222222,
              "#7201a8"
             ],
             [
              0.3333333333333333,
              "#9c179e"
             ],
             [
              0.4444444444444444,
              "#bd3786"
             ],
             [
              0.5555555555555556,
              "#d8576b"
             ],
             [
              0.6666666666666666,
              "#ed7953"
             ],
             [
              0.7777777777777778,
              "#fb9f3a"
             ],
             [
              0.8888888888888888,
              "#fdca26"
             ],
             [
              1,
              "#f0f921"
             ]
            ],
            "type": "histogram2dcontour"
           }
          ],
          "mesh3d": [
           {
            "colorbar": {
             "outlinewidth": 0,
             "ticks": ""
            },
            "type": "mesh3d"
           }
          ],
          "parcoords": [
           {
            "line": {
             "colorbar": {
              "outlinewidth": 0,
              "ticks": ""
             }
            },
            "type": "parcoords"
           }
          ],
          "pie": [
           {
            "automargin": true,
            "type": "pie"
           }
          ],
          "scatter": [
           {
            "fillpattern": {
             "fillmode": "overlay",
             "size": 10,
             "solidity": 0.2
            },
            "type": "scatter"
           }
          ],
          "scatter3d": [
           {
            "line": {
             "colorbar": {
              "outlinewidth": 0,
              "ticks": ""
             }
            },
            "marker": {
             "colorbar": {
              "outlinewidth": 0,
              "ticks": ""
             }
            },
            "type": "scatter3d"
           }
          ],
          "scattercarpet": [
           {
            "marker": {
             "colorbar": {
              "outlinewidth": 0,
              "ticks": ""
             }
            },
            "type": "scattercarpet"
           }
          ],
          "scattergeo": [
           {
            "marker": {
             "colorbar": {
              "outlinewidth": 0,
              "ticks": ""
             }
            },
            "type": "scattergeo"
           }
          ],
          "scattergl": [
           {
            "marker": {
             "colorbar": {
              "outlinewidth": 0,
              "ticks": ""
             }
            },
            "type": "scattergl"
           }
          ],
          "scattermapbox": [
           {
            "marker": {
             "colorbar": {
              "outlinewidth": 0,
              "ticks": ""
             }
            },
            "type": "scattermapbox"
           }
          ],
          "scatterpolar": [
           {
            "marker": {
             "colorbar": {
              "outlinewidth": 0,
              "ticks": ""
             }
            },
            "type": "scatterpolar"
           }
          ],
          "scatterpolargl": [
           {
            "marker": {
             "colorbar": {
              "outlinewidth": 0,
              "ticks": ""
             }
            },
            "type": "scatterpolargl"
           }
          ],
          "scatterternary": [
           {
            "marker": {
             "colorbar": {
              "outlinewidth": 0,
              "ticks": ""
             }
            },
            "type": "scatterternary"
           }
          ],
          "surface": [
           {
            "colorbar": {
             "outlinewidth": 0,
             "ticks": ""
            },
            "colorscale": [
             [
              0,
              "#0d0887"
             ],
             [
              0.1111111111111111,
              "#46039f"
             ],
             [
              0.2222222222222222,
              "#7201a8"
             ],
             [
              0.3333333333333333,
              "#9c179e"
             ],
             [
              0.4444444444444444,
              "#bd3786"
             ],
             [
              0.5555555555555556,
              "#d8576b"
             ],
             [
              0.6666666666666666,
              "#ed7953"
             ],
             [
              0.7777777777777778,
              "#fb9f3a"
             ],
             [
              0.8888888888888888,
              "#fdca26"
             ],
             [
              1,
              "#f0f921"
             ]
            ],
            "type": "surface"
           }
          ],
          "table": [
           {
            "cells": {
             "fill": {
              "color": "#EBF0F8"
             },
             "line": {
              "color": "white"
             }
            },
            "header": {
             "fill": {
              "color": "#C8D4E3"
             },
             "line": {
              "color": "white"
             }
            },
            "type": "table"
           }
          ]
         },
         "layout": {
          "annotationdefaults": {
           "arrowcolor": "#2a3f5f",
           "arrowhead": 0,
           "arrowwidth": 1
          },
          "autotypenumbers": "strict",
          "coloraxis": {
           "colorbar": {
            "outlinewidth": 0,
            "ticks": ""
           }
          },
          "colorscale": {
           "diverging": [
            [
             0,
             "#8e0152"
            ],
            [
             0.1,
             "#c51b7d"
            ],
            [
             0.2,
             "#de77ae"
            ],
            [
             0.3,
             "#f1b6da"
            ],
            [
             0.4,
             "#fde0ef"
            ],
            [
             0.5,
             "#f7f7f7"
            ],
            [
             0.6,
             "#e6f5d0"
            ],
            [
             0.7,
             "#b8e186"
            ],
            [
             0.8,
             "#7fbc41"
            ],
            [
             0.9,
             "#4d9221"
            ],
            [
             1,
             "#276419"
            ]
           ],
           "sequential": [
            [
             0,
             "#0d0887"
            ],
            [
             0.1111111111111111,
             "#46039f"
            ],
            [
             0.2222222222222222,
             "#7201a8"
            ],
            [
             0.3333333333333333,
             "#9c179e"
            ],
            [
             0.4444444444444444,
             "#bd3786"
            ],
            [
             0.5555555555555556,
             "#d8576b"
            ],
            [
             0.6666666666666666,
             "#ed7953"
            ],
            [
             0.7777777777777778,
             "#fb9f3a"
            ],
            [
             0.8888888888888888,
             "#fdca26"
            ],
            [
             1,
             "#f0f921"
            ]
           ],
           "sequentialminus": [
            [
             0,
             "#0d0887"
            ],
            [
             0.1111111111111111,
             "#46039f"
            ],
            [
             0.2222222222222222,
             "#7201a8"
            ],
            [
             0.3333333333333333,
             "#9c179e"
            ],
            [
             0.4444444444444444,
             "#bd3786"
            ],
            [
             0.5555555555555556,
             "#d8576b"
            ],
            [
             0.6666666666666666,
             "#ed7953"
            ],
            [
             0.7777777777777778,
             "#fb9f3a"
            ],
            [
             0.8888888888888888,
             "#fdca26"
            ],
            [
             1,
             "#f0f921"
            ]
           ]
          },
          "colorway": [
           "#636efa",
           "#EF553B",
           "#00cc96",
           "#ab63fa",
           "#FFA15A",
           "#19d3f3",
           "#FF6692",
           "#B6E880",
           "#FF97FF",
           "#FECB52"
          ],
          "font": {
           "color": "#2a3f5f"
          },
          "geo": {
           "bgcolor": "white",
           "lakecolor": "white",
           "landcolor": "#E5ECF6",
           "showlakes": true,
           "showland": true,
           "subunitcolor": "white"
          },
          "hoverlabel": {
           "align": "left"
          },
          "hovermode": "closest",
          "mapbox": {
           "style": "light"
          },
          "paper_bgcolor": "white",
          "plot_bgcolor": "#E5ECF6",
          "polar": {
           "angularaxis": {
            "gridcolor": "white",
            "linecolor": "white",
            "ticks": ""
           },
           "bgcolor": "#E5ECF6",
           "radialaxis": {
            "gridcolor": "white",
            "linecolor": "white",
            "ticks": ""
           }
          },
          "scene": {
           "xaxis": {
            "backgroundcolor": "#E5ECF6",
            "gridcolor": "white",
            "gridwidth": 2,
            "linecolor": "white",
            "showbackground": true,
            "ticks": "",
            "zerolinecolor": "white"
           },
           "yaxis": {
            "backgroundcolor": "#E5ECF6",
            "gridcolor": "white",
            "gridwidth": 2,
            "linecolor": "white",
            "showbackground": true,
            "ticks": "",
            "zerolinecolor": "white"
           },
           "zaxis": {
            "backgroundcolor": "#E5ECF6",
            "gridcolor": "white",
            "gridwidth": 2,
            "linecolor": "white",
            "showbackground": true,
            "ticks": "",
            "zerolinecolor": "white"
           }
          },
          "shapedefaults": {
           "line": {
            "color": "#2a3f5f"
           }
          },
          "ternary": {
           "aaxis": {
            "gridcolor": "white",
            "linecolor": "white",
            "ticks": ""
           },
           "baxis": {
            "gridcolor": "white",
            "linecolor": "white",
            "ticks": ""
           },
           "bgcolor": "#E5ECF6",
           "caxis": {
            "gridcolor": "white",
            "linecolor": "white",
            "ticks": ""
           }
          },
          "title": {
           "x": 0.05
          },
          "xaxis": {
           "automargin": true,
           "gridcolor": "white",
           "linecolor": "white",
           "ticks": "",
           "title": {
            "standoff": 15
           },
           "zerolinecolor": "white",
           "zerolinewidth": 2
          },
          "yaxis": {
           "automargin": true,
           "gridcolor": "white",
           "linecolor": "white",
           "ticks": "",
           "title": {
            "standoff": 15
           },
           "zerolinecolor": "white",
           "zerolinewidth": 2
          }
         }
        },
        "title": {
         "text": "Percent of Total Event whose Clips Generated per Game (Free vs Premium) - Horizontal"
        },
        "width": 1000,
        "xaxis": {
         "anchor": "y",
         "domain": [
          0,
          1
         ],
         "title": {
          "text": "Percent of Total Event"
         }
        },
        "yaxis": {
         "anchor": "x",
         "categoryorder": "total ascending",
         "domain": [
          0,
          1
         ],
         "title": {
          "text": "Game"
         }
        }
       }
      }
     },
     "metadata": {},
     "output_type": "display_data"
    },
    {
     "data": {
      "application/vnd.plotly.v1+json": {
       "config": {
        "plotlyServerURL": "https://plot.ly"
       },
       "data": [
        {
         "alignmentgroup": "True",
         "hovertemplate": "User Type=free<br>Duration (in seconds)=%{text}<br>Game=%{y}<extra></extra>",
         "legendgroup": "free",
         "marker": {
          "color": "#636efa",
          "pattern": {
           "shape": ""
          }
         },
         "name": "free",
         "offsetgroup": "free",
         "orientation": "h",
         "showlegend": true,
         "text": [
          45,
          82,
          58,
          23,
          87,
          55,
          88,
          32,
          96,
          40,
          19,
          49,
          36,
          20,
          40,
          45,
          25,
          19,
          30,
          34,
          39,
          28,
          17,
          29,
          22,
          21,
          37,
          12,
          16,
          23,
          17,
          40,
          27,
          18,
          24,
          11,
          18,
          22,
          11,
          50,
          8,
          20,
          46,
          15,
          11,
          10,
          10,
          45,
          3,
          16,
          15,
          55,
          11
         ],
         "textposition": "outside",
         "type": "bar",
         "x": [
          45,
          82,
          58,
          23,
          87,
          55,
          88,
          32,
          96,
          40,
          19,
          49,
          36,
          20,
          40,
          45,
          25,
          19,
          30,
          34,
          39,
          28,
          17,
          29,
          22,
          21,
          37,
          12,
          16,
          23,
          17,
          40,
          27,
          18,
          24,
          11,
          18,
          22,
          11,
          50,
          8,
          20,
          46,
          15,
          11,
          10,
          10,
          45,
          3,
          16,
          15,
          55,
          11
         ],
         "xaxis": "x",
         "y": [
          "Other Games",
          "COD: Warzone3-2 & MW3-2",
          "Fortnite",
          "Podcast",
          "Valorant",
          "Apex Legends",
          "Overwatch 2",
          "Tom Clancy's Rainbow Six: Siege",
          "League of Legends",
          "NBA: 2K24",
          "chatting",
          "Rocket League",
          "Dead by Daylight",
          "Fall Guys",
          "Counter Strike2",
          "Madden NFL 24",
          "Grand Theft Auto V",
          "ROBLOX",
          "FIFA 23-24 & EA Sports FC 24",
          "Destiny ",
          "Mortal Kombat 1",
          "COD: Black Ops Coldwar",
          "The Texas Chain Saw Massacre",
          "starfield",
          "Halo Infinite",
          "Farlight84",
          "PlayerUnknown's Battlegrounds\n",
          "Among Us",
          "Party Animals",
          "Elden Ring",
          "Phasmophobia",
          "THE FINALS",
          "Naraka",
          "Lies of P",
          "My Hero Ultra Rumble",
          "PAYDAY 3",
          "COD: Mobile",
          "Rogue Company",
          "Marvel's Spider-Man 2",
          "Street Fighter",
          "Remnant 2",
          "SMITE",
          "Mobile Legend",
          "Honkai: Star Rail",
          "Fifa fc 2024",
          "COD: Vanguard",
          "Team Fight Tatics",
          "Worlds of Tanks",
          "Hearthstone",
          "Freefire",
          "MLB The Show 22&23",
          "battlefield2042",
          "SuperSmash Bros Ultimate"
         ],
         "yaxis": "y"
        },
        {
         "alignmentgroup": "True",
         "hovertemplate": "User Type=premium<br>Duration (in seconds)=%{text}<br>Game=%{y}<extra></extra>",
         "legendgroup": "premium",
         "marker": {
          "color": "#EF553B",
          "pattern": {
           "shape": ""
          }
         },
         "name": "premium",
         "offsetgroup": "premium",
         "orientation": "h",
         "showlegend": true,
         "text": [
          130,
          525,
          211,
          284,
          378,
          53,
          282,
          624,
          126,
          182,
          17,
          528,
          23,
          302,
          29,
          62,
          193,
          52,
          61,
          203,
          224,
          24,
          42,
          44,
          62,
          24,
          47,
          8,
          77,
          52,
          15,
          4,
          5,
          87,
          37,
          73,
          14,
          28,
          107,
          17,
          21,
          19,
          28,
          3,
          21,
          45,
          10,
          7,
          8,
          105,
          94,
          66,
          24
         ],
         "textposition": "outside",
         "type": "bar",
         "x": [
          130,
          525,
          211,
          284,
          378,
          53,
          282,
          624,
          126,
          182,
          17,
          528,
          23,
          302,
          29,
          62,
          193,
          52,
          61,
          203,
          224,
          24,
          42,
          44,
          62,
          24,
          47,
          8,
          77,
          52,
          15,
          4,
          5,
          87,
          37,
          73,
          14,
          28,
          107,
          17,
          21,
          19,
          28,
          3,
          21,
          45,
          10,
          7,
          8,
          105,
          94,
          66,
          24
         ],
         "xaxis": "x",
         "y": [
          "Other Games",
          "COD: Warzone3-2 & MW3-2",
          "Fortnite",
          "Apex Legends",
          "Valorant",
          "chatting",
          "Overwatch 2",
          "League of Legends",
          "Dead by Daylight",
          "Tom Clancy's Rainbow Six: Siege",
          "Fall Guys",
          "Rocket League",
          "Party Animals",
          "Counter Strike2",
          "Phasmophobia",
          "THE FINALS",
          "NBA: 2K24",
          "Farlight84",
          "Grand Theft Auto V",
          "Halo Infinite",
          "FIFA 23-24 & EA Sports FC 24",
          "starfield",
          "Podcast",
          "The Texas Chain Saw Massacre",
          "Madden NFL 24",
          "ROBLOX",
          "Destiny ",
          "Among Us",
          "Honkai: Star Rail",
          "Forza Motorsport",
          "Team Fight Tatics",
          "Marvel's Spider-Man 2",
          "Game Detector",
          "Lies of P",
          "Elden Ring",
          "Naraka",
          "My Hero Ultra Rumble",
          "PlayerUnknown's Battlegrounds\n",
          "SMITE",
          "Hearthstone",
          "Remnant 2",
          "Freefire",
          "MLB The Show 22&23",
          "SuperSmash Bros Ultimate",
          "Fifa fc 2024",
          "Rogue Company",
          "COD: Mobile",
          "COD: Vanguard",
          "Street Fighter",
          "Mortal Kombat 1",
          "Mobile Legend",
          "NHL 23",
          "COD: Black Ops Coldwar"
         ],
         "yaxis": "y"
        }
       ],
       "layout": {
        "barmode": "group",
        "height": 800,
        "legend": {
         "title": {
          "text": "User Type"
         },
         "tracegroupgap": 0
        },
        "margin": {
         "l": 150,
         "t": 80
        },
        "template": {
         "data": {
          "bar": [
           {
            "error_x": {
             "color": "#2a3f5f"
            },
            "error_y": {
             "color": "#2a3f5f"
            },
            "marker": {
             "line": {
              "color": "#E5ECF6",
              "width": 0.5
             },
             "pattern": {
              "fillmode": "overlay",
              "size": 10,
              "solidity": 0.2
             }
            },
            "type": "bar"
           }
          ],
          "barpolar": [
           {
            "marker": {
             "line": {
              "color": "#E5ECF6",
              "width": 0.5
             },
             "pattern": {
              "fillmode": "overlay",
              "size": 10,
              "solidity": 0.2
             }
            },
            "type": "barpolar"
           }
          ],
          "carpet": [
           {
            "aaxis": {
             "endlinecolor": "#2a3f5f",
             "gridcolor": "white",
             "linecolor": "white",
             "minorgridcolor": "white",
             "startlinecolor": "#2a3f5f"
            },
            "baxis": {
             "endlinecolor": "#2a3f5f",
             "gridcolor": "white",
             "linecolor": "white",
             "minorgridcolor": "white",
             "startlinecolor": "#2a3f5f"
            },
            "type": "carpet"
           }
          ],
          "choropleth": [
           {
            "colorbar": {
             "outlinewidth": 0,
             "ticks": ""
            },
            "type": "choropleth"
           }
          ],
          "contour": [
           {
            "colorbar": {
             "outlinewidth": 0,
             "ticks": ""
            },
            "colorscale": [
             [
              0,
              "#0d0887"
             ],
             [
              0.1111111111111111,
              "#46039f"
             ],
             [
              0.2222222222222222,
              "#7201a8"
             ],
             [
              0.3333333333333333,
              "#9c179e"
             ],
             [
              0.4444444444444444,
              "#bd3786"
             ],
             [
              0.5555555555555556,
              "#d8576b"
             ],
             [
              0.6666666666666666,
              "#ed7953"
             ],
             [
              0.7777777777777778,
              "#fb9f3a"
             ],
             [
              0.8888888888888888,
              "#fdca26"
             ],
             [
              1,
              "#f0f921"
             ]
            ],
            "type": "contour"
           }
          ],
          "contourcarpet": [
           {
            "colorbar": {
             "outlinewidth": 0,
             "ticks": ""
            },
            "type": "contourcarpet"
           }
          ],
          "heatmap": [
           {
            "colorbar": {
             "outlinewidth": 0,
             "ticks": ""
            },
            "colorscale": [
             [
              0,
              "#0d0887"
             ],
             [
              0.1111111111111111,
              "#46039f"
             ],
             [
              0.2222222222222222,
              "#7201a8"
             ],
             [
              0.3333333333333333,
              "#9c179e"
             ],
             [
              0.4444444444444444,
              "#bd3786"
             ],
             [
              0.5555555555555556,
              "#d8576b"
             ],
             [
              0.6666666666666666,
              "#ed7953"
             ],
             [
              0.7777777777777778,
              "#fb9f3a"
             ],
             [
              0.8888888888888888,
              "#fdca26"
             ],
             [
              1,
              "#f0f921"
             ]
            ],
            "type": "heatmap"
           }
          ],
          "heatmapgl": [
           {
            "colorbar": {
             "outlinewidth": 0,
             "ticks": ""
            },
            "colorscale": [
             [
              0,
              "#0d0887"
             ],
             [
              0.1111111111111111,
              "#46039f"
             ],
             [
              0.2222222222222222,
              "#7201a8"
             ],
             [
              0.3333333333333333,
              "#9c179e"
             ],
             [
              0.4444444444444444,
              "#bd3786"
             ],
             [
              0.5555555555555556,
              "#d8576b"
             ],
             [
              0.6666666666666666,
              "#ed7953"
             ],
             [
              0.7777777777777778,
              "#fb9f3a"
             ],
             [
              0.8888888888888888,
              "#fdca26"
             ],
             [
              1,
              "#f0f921"
             ]
            ],
            "type": "heatmapgl"
           }
          ],
          "histogram": [
           {
            "marker": {
             "pattern": {
              "fillmode": "overlay",
              "size": 10,
              "solidity": 0.2
             }
            },
            "type": "histogram"
           }
          ],
          "histogram2d": [
           {
            "colorbar": {
             "outlinewidth": 0,
             "ticks": ""
            },
            "colorscale": [
             [
              0,
              "#0d0887"
             ],
             [
              0.1111111111111111,
              "#46039f"
             ],
             [
              0.2222222222222222,
              "#7201a8"
             ],
             [
              0.3333333333333333,
              "#9c179e"
             ],
             [
              0.4444444444444444,
              "#bd3786"
             ],
             [
              0.5555555555555556,
              "#d8576b"
             ],
             [
              0.6666666666666666,
              "#ed7953"
             ],
             [
              0.7777777777777778,
              "#fb9f3a"
             ],
             [
              0.8888888888888888,
              "#fdca26"
             ],
             [
              1,
              "#f0f921"
             ]
            ],
            "type": "histogram2d"
           }
          ],
          "histogram2dcontour": [
           {
            "colorbar": {
             "outlinewidth": 0,
             "ticks": ""
            },
            "colorscale": [
             [
              0,
              "#0d0887"
             ],
             [
              0.1111111111111111,
              "#46039f"
             ],
             [
              0.2222222222222222,
              "#7201a8"
             ],
             [
              0.3333333333333333,
              "#9c179e"
             ],
             [
              0.4444444444444444,
              "#bd3786"
             ],
             [
              0.5555555555555556,
              "#d8576b"
             ],
             [
              0.6666666666666666,
              "#ed7953"
             ],
             [
              0.7777777777777778,
              "#fb9f3a"
             ],
             [
              0.8888888888888888,
              "#fdca26"
             ],
             [
              1,
              "#f0f921"
             ]
            ],
            "type": "histogram2dcontour"
           }
          ],
          "mesh3d": [
           {
            "colorbar": {
             "outlinewidth": 0,
             "ticks": ""
            },
            "type": "mesh3d"
           }
          ],
          "parcoords": [
           {
            "line": {
             "colorbar": {
              "outlinewidth": 0,
              "ticks": ""
             }
            },
            "type": "parcoords"
           }
          ],
          "pie": [
           {
            "automargin": true,
            "type": "pie"
           }
          ],
          "scatter": [
           {
            "fillpattern": {
             "fillmode": "overlay",
             "size": 10,
             "solidity": 0.2
            },
            "type": "scatter"
           }
          ],
          "scatter3d": [
           {
            "line": {
             "colorbar": {
              "outlinewidth": 0,
              "ticks": ""
             }
            },
            "marker": {
             "colorbar": {
              "outlinewidth": 0,
              "ticks": ""
             }
            },
            "type": "scatter3d"
           }
          ],
          "scattercarpet": [
           {
            "marker": {
             "colorbar": {
              "outlinewidth": 0,
              "ticks": ""
             }
            },
            "type": "scattercarpet"
           }
          ],
          "scattergeo": [
           {
            "marker": {
             "colorbar": {
              "outlinewidth": 0,
              "ticks": ""
             }
            },
            "type": "scattergeo"
           }
          ],
          "scattergl": [
           {
            "marker": {
             "colorbar": {
              "outlinewidth": 0,
              "ticks": ""
             }
            },
            "type": "scattergl"
           }
          ],
          "scattermapbox": [
           {
            "marker": {
             "colorbar": {
              "outlinewidth": 0,
              "ticks": ""
             }
            },
            "type": "scattermapbox"
           }
          ],
          "scatterpolar": [
           {
            "marker": {
             "colorbar": {
              "outlinewidth": 0,
              "ticks": ""
             }
            },
            "type": "scatterpolar"
           }
          ],
          "scatterpolargl": [
           {
            "marker": {
             "colorbar": {
              "outlinewidth": 0,
              "ticks": ""
             }
            },
            "type": "scatterpolargl"
           }
          ],
          "scatterternary": [
           {
            "marker": {
             "colorbar": {
              "outlinewidth": 0,
              "ticks": ""
             }
            },
            "type": "scatterternary"
           }
          ],
          "surface": [
           {
            "colorbar": {
             "outlinewidth": 0,
             "ticks": ""
            },
            "colorscale": [
             [
              0,
              "#0d0887"
             ],
             [
              0.1111111111111111,
              "#46039f"
             ],
             [
              0.2222222222222222,
              "#7201a8"
             ],
             [
              0.3333333333333333,
              "#9c179e"
             ],
             [
              0.4444444444444444,
              "#bd3786"
             ],
             [
              0.5555555555555556,
              "#d8576b"
             ],
             [
              0.6666666666666666,
              "#ed7953"
             ],
             [
              0.7777777777777778,
              "#fb9f3a"
             ],
             [
              0.8888888888888888,
              "#fdca26"
             ],
             [
              1,
              "#f0f921"
             ]
            ],
            "type": "surface"
           }
          ],
          "table": [
           {
            "cells": {
             "fill": {
              "color": "#EBF0F8"
             },
             "line": {
              "color": "white"
             }
            },
            "header": {
             "fill": {
              "color": "#C8D4E3"
             },
             "line": {
              "color": "white"
             }
            },
            "type": "table"
           }
          ]
         },
         "layout": {
          "annotationdefaults": {
           "arrowcolor": "#2a3f5f",
           "arrowhead": 0,
           "arrowwidth": 1
          },
          "autotypenumbers": "strict",
          "coloraxis": {
           "colorbar": {
            "outlinewidth": 0,
            "ticks": ""
           }
          },
          "colorscale": {
           "diverging": [
            [
             0,
             "#8e0152"
            ],
            [
             0.1,
             "#c51b7d"
            ],
            [
             0.2,
             "#de77ae"
            ],
            [
             0.3,
             "#f1b6da"
            ],
            [
             0.4,
             "#fde0ef"
            ],
            [
             0.5,
             "#f7f7f7"
            ],
            [
             0.6,
             "#e6f5d0"
            ],
            [
             0.7,
             "#b8e186"
            ],
            [
             0.8,
             "#7fbc41"
            ],
            [
             0.9,
             "#4d9221"
            ],
            [
             1,
             "#276419"
            ]
           ],
           "sequential": [
            [
             0,
             "#0d0887"
            ],
            [
             0.1111111111111111,
             "#46039f"
            ],
            [
             0.2222222222222222,
             "#7201a8"
            ],
            [
             0.3333333333333333,
             "#9c179e"
            ],
            [
             0.4444444444444444,
             "#bd3786"
            ],
            [
             0.5555555555555556,
             "#d8576b"
            ],
            [
             0.6666666666666666,
             "#ed7953"
            ],
            [
             0.7777777777777778,
             "#fb9f3a"
            ],
            [
             0.8888888888888888,
             "#fdca26"
            ],
            [
             1,
             "#f0f921"
            ]
           ],
           "sequentialminus": [
            [
             0,
             "#0d0887"
            ],
            [
             0.1111111111111111,
             "#46039f"
            ],
            [
             0.2222222222222222,
             "#7201a8"
            ],
            [
             0.3333333333333333,
             "#9c179e"
            ],
            [
             0.4444444444444444,
             "#bd3786"
            ],
            [
             0.5555555555555556,
             "#d8576b"
            ],
            [
             0.6666666666666666,
             "#ed7953"
            ],
            [
             0.7777777777777778,
             "#fb9f3a"
            ],
            [
             0.8888888888888888,
             "#fdca26"
            ],
            [
             1,
             "#f0f921"
            ]
           ]
          },
          "colorway": [
           "#636efa",
           "#EF553B",
           "#00cc96",
           "#ab63fa",
           "#FFA15A",
           "#19d3f3",
           "#FF6692",
           "#B6E880",
           "#FF97FF",
           "#FECB52"
          ],
          "font": {
           "color": "#2a3f5f"
          },
          "geo": {
           "bgcolor": "white",
           "lakecolor": "white",
           "landcolor": "#E5ECF6",
           "showlakes": true,
           "showland": true,
           "subunitcolor": "white"
          },
          "hoverlabel": {
           "align": "left"
          },
          "hovermode": "closest",
          "mapbox": {
           "style": "light"
          },
          "paper_bgcolor": "white",
          "plot_bgcolor": "#E5ECF6",
          "polar": {
           "angularaxis": {
            "gridcolor": "white",
            "linecolor": "white",
            "ticks": ""
           },
           "bgcolor": "#E5ECF6",
           "radialaxis": {
            "gridcolor": "white",
            "linecolor": "white",
            "ticks": ""
           }
          },
          "scene": {
           "xaxis": {
            "backgroundcolor": "#E5ECF6",
            "gridcolor": "white",
            "gridwidth": 2,
            "linecolor": "white",
            "showbackground": true,
            "ticks": "",
            "zerolinecolor": "white"
           },
           "yaxis": {
            "backgroundcolor": "#E5ECF6",
            "gridcolor": "white",
            "gridwidth": 2,
            "linecolor": "white",
            "showbackground": true,
            "ticks": "",
            "zerolinecolor": "white"
           },
           "zaxis": {
            "backgroundcolor": "#E5ECF6",
            "gridcolor": "white",
            "gridwidth": 2,
            "linecolor": "white",
            "showbackground": true,
            "ticks": "",
            "zerolinecolor": "white"
           }
          },
          "shapedefaults": {
           "line": {
            "color": "#2a3f5f"
           }
          },
          "ternary": {
           "aaxis": {
            "gridcolor": "white",
            "linecolor": "white",
            "ticks": ""
           },
           "baxis": {
            "gridcolor": "white",
            "linecolor": "white",
            "ticks": ""
           },
           "bgcolor": "#E5ECF6",
           "caxis": {
            "gridcolor": "white",
            "linecolor": "white",
            "ticks": ""
           }
          },
          "title": {
           "x": 0.05
          },
          "xaxis": {
           "automargin": true,
           "gridcolor": "white",
           "linecolor": "white",
           "ticks": "",
           "title": {
            "standoff": 15
           },
           "zerolinecolor": "white",
           "zerolinewidth": 2
          },
          "yaxis": {
           "automargin": true,
           "gridcolor": "white",
           "linecolor": "white",
           "ticks": "",
           "title": {
            "standoff": 15
           },
           "zerolinecolor": "white",
           "zerolinewidth": 2
          }
         }
        },
        "title": {
         "text": "Average Duration of Clips per Game (Free vs Premium) - Horizontal"
        },
        "width": 1000,
        "xaxis": {
         "anchor": "y",
         "domain": [
          0,
          1
         ],
         "title": {
          "text": "Duration (in seconds)"
         }
        },
        "yaxis": {
         "anchor": "x",
         "categoryorder": "total ascending",
         "domain": [
          0,
          1
         ],
         "title": {
          "text": "Game"
         }
        }
       }
      }
     },
     "metadata": {},
     "output_type": "display_data"
    }
   ],
   "source": [
    "import plotly.express as px\n",
    "\n",
    "df_filtered = df_agg_clip_by_user_type_per_game[~df_agg_clip_by_user_type_per_game['game_name'].isnull()]\n",
    "\n",
    "\n",
    "fig = px.bar(\n",
    "    df_filtered,\n",
    "    x='percentage_clips',\n",
    "    y='game_name',\n",
    "    color='user_type',\n",
    "    orientation='h',\n",
    "    text='percentage_clips',\n",
    "    barmode='group',\n",
    "    title='Percent of Total Clips per Game (Free vs Premium) - Horizontal',\n",
    "    labels={\n",
    "        \"percentage_clips\": \"Percent of Total Clips\",\n",
    "        \"game_name\": \"Game\",\n",
    "        \"user_type\": \"User Type\"\n",
    "    }\n",
    ")\n",
    "\n",
    "fig.update_traces(textposition='outside')\n",
    "fig.update_layout(\n",
    "    height=800,\n",
    "    width=1000,\n",
    "    margin=dict(l=150, t=80),\n",
    "    yaxis=dict(categoryorder='total ascending') \n",
    ")\n",
    "\n",
    "fig.show()\n",
    "\n",
    "######################################################################################\n",
    "fig = px.bar(\n",
    "    df_filtered,\n",
    "    x='percentage_users_whose_clips_created',\n",
    "    y='game_name',\n",
    "    color='user_type',\n",
    "    orientation='h',\n",
    "    text='percentage_users_whose_clips_created',\n",
    "    barmode='group',\n",
    "    title='Percent of Total Users whose Clips Generated per Game (Free vs Premium) - Horizontal',\n",
    "    labels={\n",
    "        \"percentage_users_whose_clips_created\": \"Percent of Total Users\",\n",
    "        \"game_name\": \"Game\",\n",
    "        \"user_type\": \"User Type\"\n",
    "    }\n",
    ")\n",
    "\n",
    "fig.update_traces(textposition='outside')\n",
    "fig.update_layout(\n",
    "    height=800,\n",
    "    width=1000,\n",
    "    margin=dict(l=150, t=80),\n",
    "    yaxis=dict(categoryorder='total ascending') \n",
    ")\n",
    "\n",
    "fig.show()\n",
    "\n",
    "######################################################################################\n",
    "fig = px.bar(\n",
    "    df_filtered,\n",
    "    x='percentage_event',\n",
    "    y='game_name',\n",
    "    color='user_type',\n",
    "    orientation='h',\n",
    "    text='percentage_event',\n",
    "    barmode='group',\n",
    "    title='Percent of Total Event whose Clips Generated per Game (Free vs Premium) - Horizontal',\n",
    "    labels={\n",
    "        \"percentage_event\": \"Percent of Total Event\",\n",
    "        \"game_name\": \"Game\",\n",
    "        \"user_type\": \"User Type\"\n",
    "    }\n",
    ")\n",
    "\n",
    "fig.update_traces(textposition='outside')\n",
    "fig.update_layout(\n",
    "    height=800,\n",
    "    width=1000,\n",
    "    margin=dict(l=150, t=80),\n",
    "    yaxis=dict(categoryorder='total ascending') \n",
    ")\n",
    "\n",
    "fig.show()\n",
    "######################################################################################\n",
    "fig = px.bar(\n",
    "    df_filtered,\n",
    "    x='average_clips_per_user',\n",
    "    y='game_name',\n",
    "    color='user_type',\n",
    "    orientation='h',\n",
    "    text='average_clips_per_user',\n",
    "    barmode='group',\n",
    "    title='Average Duration of Clips per Game (Free vs Premium) - Horizontal',\n",
    "    labels={\n",
    "        \"average_clips_per_user\": \"Duration (in seconds)\",\n",
    "        \"game_name\": \"Game\",\n",
    "        \"user_type\": \"User Type\"\n",
    "    }\n",
    ")\n",
    "\n",
    "fig.update_traces(textposition='outside')\n",
    "fig.update_layout(\n",
    "    height=800,\n",
    "    width=1000,\n",
    "    margin=dict(l=150, t=80),\n",
    "    yaxis=dict(categoryorder='total ascending') \n",
    ")\n",
    "\n",
    "fig.show()\n",
    "\n",
    "######################################################################################"
   ]
  },
  {
   "cell_type": "code",
   "execution_count": null,
   "id": "47c9a878",
   "metadata": {},
   "outputs": [],
   "source": []
  },
  {
   "cell_type": "code",
   "execution_count": null,
   "id": "a86c6323",
   "metadata": {},
   "outputs": [],
   "source": []
  },
  {
   "cell_type": "code",
   "execution_count": null,
   "id": "d63a3727",
   "metadata": {},
   "outputs": [],
   "source": []
  }
 ],
 "metadata": {
  "kernelspec": {
   "display_name": "Python 3",
   "language": "python",
   "name": "python3"
  },
  "language_info": {
   "codemirror_mode": {
    "name": "ipython",
    "version": 3
   },
   "file_extension": ".py",
   "mimetype": "text/x-python",
   "name": "python",
   "nbconvert_exporter": "python",
   "pygments_lexer": "ipython3",
   "version": "3.10.10"
  }
 },
 "nbformat": 4,
 "nbformat_minor": 5
}
