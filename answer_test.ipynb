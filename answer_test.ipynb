{
 "cells": [
  {
   "cell_type": "markdown",
   "id": "aacf0ec2",
   "metadata": {},
   "source": [
    "# Import Library"
   ]
  },
  {
   "cell_type": "code",
   "execution_count": 27,
   "id": "d368eaab",
   "metadata": {},
   "outputs": [],
   "source": [
    "import pandas as pd\n",
    "import duckdb\n",
    "import os"
   ]
  },
  {
   "cell_type": "markdown",
   "id": "554dba8a",
   "metadata": {},
   "source": [
    "# Make eklipse_data.db"
   ]
  },
  {
   "cell_type": "code",
   "execution_count": 43,
   "id": "50276359",
   "metadata": {},
   "outputs": [
    {
     "data": {
      "text/plain": [
       "<duckdb.duckdb.DuckDBPyConnection at 0x173533979b0>"
      ]
     },
     "execution_count": 43,
     "metadata": {},
     "output_type": "execute_result"
    }
   ],
   "source": [
    "# Inisialisasi koneksi DuckDB (in-memory atau file)\n",
    "con = duckdb.connect(database=':memory:')  # Atau ganti dengan 'database.duckdb' kalau ingin persist\n",
    "\n",
    "# Load semua CSV sebagai view (DuckDB bisa baca langsung dari disk!)\n",
    "con.execute(\"\"\"\n",
    "    CREATE VIEW downloaded_clips AS SELECT * FROM read_csv_auto('da_test/downloaded_clips.csv');\n",
    "    CREATE VIEW shared_clips AS SELECT * FROM read_csv_auto('da_test/shared_clips.csv');\n",
    "    CREATE VIEW clips AS SELECT * FROM read_csv_auto('da_test/clips.csv');\n",
    "    CREATE VIEW premium_users AS SELECT * FROM read_csv_auto('da_test/premium_users.csv');\n",
    "    CREATE VIEW gamesession AS SELECT * FROM read_csv_auto('da_test/gamesession.csv');\n",
    "\"\"\")"
   ]
  },
  {
   "cell_type": "markdown",
   "id": "bf4ce6d4",
   "metadata": {},
   "source": [
    "## SQL"
   ]
  },
  {
   "cell_type": "markdown",
   "id": "0a03332e",
   "metadata": {},
   "source": [
    "## Question SQL 1\n",
    "The total number of users who have downloaded any clips. total number of clips downloaded. The total number of game sessions from which the downloaded clips were generated. "
   ]
  },
  {
   "cell_type": "code",
   "execution_count": 44,
   "id": "f4f9ba36",
   "metadata": {},
   "outputs": [
    {
     "data": {
      "text/html": [
       "<div>\n",
       "<style scoped>\n",
       "    .dataframe tbody tr th:only-of-type {\n",
       "        vertical-align: middle;\n",
       "    }\n",
       "\n",
       "    .dataframe tbody tr th {\n",
       "        vertical-align: top;\n",
       "    }\n",
       "\n",
       "    .dataframe thead th {\n",
       "        text-align: right;\n",
       "    }\n",
       "</style>\n",
       "<table border=\"1\" class=\"dataframe\">\n",
       "  <thead>\n",
       "    <tr style=\"text-align: right;\">\n",
       "      <th></th>\n",
       "      <th>total_user_who_download_clips</th>\n",
       "      <th>total_clips_downloaded</th>\n",
       "      <th>total_gamesession_generated</th>\n",
       "    </tr>\n",
       "  </thead>\n",
       "  <tbody>\n",
       "    <tr>\n",
       "      <th>0</th>\n",
       "      <td>1454</td>\n",
       "      <td>12935</td>\n",
       "      <td>4338</td>\n",
       "    </tr>\n",
       "  </tbody>\n",
       "</table>\n",
       "</div>"
      ],
      "text/plain": [
       "   total_user_who_download_clips  total_clips_downloaded  \\\n",
       "0                           1454                   12935   \n",
       "\n",
       "   total_gamesession_generated  \n",
       "0                         4338  "
      ]
     },
     "execution_count": 44,
     "metadata": {},
     "output_type": "execute_result"
    }
   ],
   "source": [
    "query = \"\"\"--sql \n",
    "SELECT\n",
    "    COUNT(DISTINCT user_id) AS total_user_who_download_clips,\n",
    "    COUNT(DISTINCT clip_id) AS total_clips_downloaded,\n",
    "    COUNT(DISTINCT gamesession_id) AS total_gamesession_generated\n",
    "FROM downloaded_clips dc;\"\"\"\n",
    "\n",
    "df = con.execute(query).fetchdf()\n",
    "df\n"
   ]
  },
  {
   "cell_type": "markdown",
   "id": "dd0058e2",
   "metadata": {},
   "source": [
    "## Question SQL 2\n",
    "For users who purchased premium in the last 3 months: Get the number of \n",
    "users who purchased premium, the number of users who shared any clips, \n",
    "the total number of clips shared, and the total number of gamesessions from \n",
    "which the shared clips were generated. "
   ]
  },
  {
   "cell_type": "code",
   "execution_count": 45,
   "id": "5358d5c9",
   "metadata": {},
   "outputs": [
    {
     "data": {
      "text/html": [
       "<div>\n",
       "<style scoped>\n",
       "    .dataframe tbody tr th:only-of-type {\n",
       "        vertical-align: middle;\n",
       "    }\n",
       "\n",
       "    .dataframe tbody tr th {\n",
       "        vertical-align: top;\n",
       "    }\n",
       "\n",
       "    .dataframe thead th {\n",
       "        text-align: right;\n",
       "    }\n",
       "</style>\n",
       "<table border=\"1\" class=\"dataframe\">\n",
       "  <thead>\n",
       "    <tr style=\"text-align: right;\">\n",
       "      <th></th>\n",
       "      <th>total_user_who_purchased_premium_last_3_months</th>\n",
       "      <th>number_of_user_premium_last_3_month_who_shared_clips</th>\n",
       "      <th>number_of_clip_shared</th>\n",
       "      <th>number_of_gamesession_generated_from_shared_clips</th>\n",
       "    </tr>\n",
       "  </thead>\n",
       "  <tbody>\n",
       "    <tr>\n",
       "      <th>0</th>\n",
       "      <td>164</td>\n",
       "      <td>59</td>\n",
       "      <td>1144</td>\n",
       "      <td>359</td>\n",
       "    </tr>\n",
       "  </tbody>\n",
       "</table>\n",
       "</div>"
      ],
      "text/plain": [
       "   total_user_who_purchased_premium_last_3_months  \\\n",
       "0                                             164   \n",
       "\n",
       "   number_of_user_premium_last_3_month_who_shared_clips  \\\n",
       "0                                                 59      \n",
       "\n",
       "   number_of_clip_shared  number_of_gamesession_generated_from_shared_clips  \n",
       "0                   1144                                                359  "
      ]
     },
     "execution_count": 45,
     "metadata": {},
     "output_type": "execute_result"
    }
   ],
   "source": [
    "query = \"\"\"--sql \n",
    "WITH premiums_users_last_3_month AS (\n",
    "    SELECT user_id\n",
    "    FROM premium_users\n",
    "    WHERE CAST(starts_at AS TIMESTAMP) >= (\n",
    "        SELECT MAX(CAST(starts_at AS TIMESTAMP)) - INTERVAL '3 MONTH'\n",
    "        FROM premium_users\n",
    "    )\n",
    "),\n",
    "premium_summary AS (\n",
    "    SELECT \n",
    "        COUNT(DISTINCT user_id) AS total_user_who_purchased_premium_last_3_months\n",
    "    FROM premiums_users_last_3_month\n",
    "),\n",
    "shared_clips_summary AS (\n",
    "    SELECT \n",
    "        COUNT(DISTINCT sc.user_id) AS number_of_user_premium_last_3_month_who_shared_clips,\n",
    "        COUNT(DISTINCT sc.clip_id) AS number_of_clip_shared,\n",
    "        COUNT(DISTINCT sc.gamesession_id) AS number_of_gamesession_generated_from_shared_clips\n",
    "    FROM shared_clips sc\n",
    "    JOIN premiums_users_last_3_month pul3m ON sc.user_id = pul3m.user_id\n",
    ")\n",
    "\n",
    "SELECT \n",
    "    ps.total_user_who_purchased_premium_last_3_months,\n",
    "    scs.number_of_user_premium_last_3_month_who_shared_clips,\n",
    "    scs.number_of_clip_shared,\n",
    "    scs.number_of_gamesession_generated_from_shared_clips\n",
    "FROM premium_summary ps\n",
    "CROSS JOIN shared_clips_summary scs;\n",
    "\n",
    "\"\"\"\n",
    "\n",
    "df = con.execute(query).fetchdf()\n",
    "df\n"
   ]
  },
  {
   "cell_type": "markdown",
   "id": "9024346d",
   "metadata": {},
   "source": [
    "## Question SQL 3\n",
    "Calculate, on a weekly basis: The number of users engaged. The number of \n",
    "clips engaged. The total number of gamesessions from which the engaged \n",
    "clips were generated."
   ]
  },
  {
   "cell_type": "code",
   "execution_count": 46,
   "id": "c6c1cae6",
   "metadata": {},
   "outputs": [
    {
     "data": {
      "text/html": [
       "<div>\n",
       "<style scoped>\n",
       "    .dataframe tbody tr th:only-of-type {\n",
       "        vertical-align: middle;\n",
       "    }\n",
       "\n",
       "    .dataframe tbody tr th {\n",
       "        vertical-align: top;\n",
       "    }\n",
       "\n",
       "    .dataframe thead th {\n",
       "        text-align: right;\n",
       "    }\n",
       "</style>\n",
       "<table border=\"1\" class=\"dataframe\">\n",
       "  <thead>\n",
       "    <tr style=\"text-align: right;\">\n",
       "      <th></th>\n",
       "      <th>total_user_who_purchased_premium_last_3_months</th>\n",
       "      <th>number_of_user_premium_last_3_month_who_shared_clips</th>\n",
       "      <th>number_of_clip_shared</th>\n",
       "      <th>number_of_gamesession_generated_from_shared_clips</th>\n",
       "    </tr>\n",
       "  </thead>\n",
       "  <tbody>\n",
       "    <tr>\n",
       "      <th>0</th>\n",
       "      <td>164</td>\n",
       "      <td>59</td>\n",
       "      <td>1144</td>\n",
       "      <td>359</td>\n",
       "    </tr>\n",
       "  </tbody>\n",
       "</table>\n",
       "</div>"
      ],
      "text/plain": [
       "   total_user_who_purchased_premium_last_3_months  \\\n",
       "0                                             164   \n",
       "\n",
       "   number_of_user_premium_last_3_month_who_shared_clips  \\\n",
       "0                                                 59      \n",
       "\n",
       "   number_of_clip_shared  number_of_gamesession_generated_from_shared_clips  \n",
       "0                   1144                                                359  "
      ]
     },
     "execution_count": 46,
     "metadata": {},
     "output_type": "execute_result"
    }
   ],
   "source": [
    "query = \"\"\"--sql \n",
    "WITH premiums_users_last_3_month AS (\n",
    "    SELECT user_id\n",
    "    FROM premium_users\n",
    "    WHERE starts_at >= (\n",
    "        SELECT MAX(starts_at) - INTERVAL '3 MONTH'\n",
    "        FROM premium_users\n",
    "    )\n",
    "),\n",
    "premium_summary AS (\n",
    "    SELECT \n",
    "        COUNT(DISTINCT user_id) AS total_user_who_purchased_premium_last_3_months\n",
    "    FROM premiums_users_last_3_month\n",
    "),\n",
    "shared_clips_summary AS (\n",
    "    SELECT \n",
    "        COUNT(DISTINCT sc.user_id) AS number_of_user_premium_last_3_month_who_shared_clips,\n",
    "        COUNT(DISTINCT sc.clip_id) AS number_of_clip_shared,\n",
    "        COUNT(DISTINCT sc.gamesession_id) AS number_of_gamesession_generated_from_shared_clips\n",
    "    FROM shared_clips sc\n",
    "    JOIN premiums_users_last_3_month pul3m ON sc.user_id = pul3m.user_id\n",
    ")\n",
    "\n",
    "SELECT \n",
    "    ps.total_user_who_purchased_premium_last_3_months,\n",
    "    scs.number_of_user_premium_last_3_month_who_shared_clips,\n",
    "    scs.number_of_clip_shared,\n",
    "    scs.number_of_gamesession_generated_from_shared_clips\n",
    "FROM premium_summary ps\n",
    "CROSS JOIN shared_clips_summary scs;\n",
    "\"\"\"\n",
    "\n",
    "df = con.execute(query).fetchdf()\n",
    "df\n"
   ]
  },
  {
   "cell_type": "markdown",
   "id": "906373ff",
   "metadata": {},
   "source": [
    "# B. Data Analysis"
   ]
  },
  {
   "cell_type": "code",
   "execution_count": 63,
   "id": "1d03b9ae",
   "metadata": {},
   "outputs": [
    {
     "data": {
      "text/html": [
       "<div>\n",
       "<style scoped>\n",
       "    .dataframe tbody tr th:only-of-type {\n",
       "        vertical-align: middle;\n",
       "    }\n",
       "\n",
       "    .dataframe tbody tr th {\n",
       "        vertical-align: top;\n",
       "    }\n",
       "\n",
       "    .dataframe thead th {\n",
       "        text-align: right;\n",
       "    }\n",
       "</style>\n",
       "<table border=\"1\" class=\"dataframe\">\n",
       "  <thead>\n",
       "    <tr style=\"text-align: right;\">\n",
       "      <th></th>\n",
       "      <th>total_gamesession_generated_by_free_users</th>\n",
       "      <th>total_free_users_who_generated_gamesession</th>\n",
       "    </tr>\n",
       "  </thead>\n",
       "  <tbody>\n",
       "    <tr>\n",
       "      <th>0</th>\n",
       "      <td>28524</td>\n",
       "      <td>4002</td>\n",
       "    </tr>\n",
       "  </tbody>\n",
       "</table>\n",
       "</div>"
      ],
      "text/plain": [
       "   total_gamesession_generated_by_free_users  \\\n",
       "0                                      28524   \n",
       "\n",
       "   total_free_users_who_generated_gamesession  \n",
       "0                                        4002  "
      ]
     },
     "execution_count": 63,
     "metadata": {},
     "output_type": "execute_result"
    }
   ],
   "source": [
    "query_gamesession_premium_users = \"\"\"--sql\n",
    "-- query premium user ids\n",
    "with gamession_with_premium_users as (\n",
    "-- query gamesession who the user_id is premium\n",
    "SELECT \n",
    "    *\n",
    "FROM\n",
    "    gamesession\n",
    "WHERE\n",
    "    user_id IN (SELECT DISTINCT user_id from premium_users)\n",
    ")\n",
    "\n",
    "select \n",
    "    count(distinct id) as total_gamesession_generated_by_premium_users,\n",
    "    count(distinct user_id) as total_premium_users_who_generated_gamesession \n",
    "from \n",
    "    gamession_with_premium_users\n",
    "\n",
    "\"\"\"\n",
    "\n",
    "query_gamesession_free_users = \"\"\"--sql\n",
    "-- query free user ids\n",
    "with gamession_with_free_users as (\n",
    "-- query gamesession who the user_id is free\n",
    "SELECT \n",
    "    *\n",
    "FROM\n",
    "    gamesession\n",
    "WHERE\n",
    "    user_id NOT IN (SELECT DISTINCT user_id from premium_users)\n",
    ")\n",
    "\n",
    "select \n",
    "    count(distinct id) as total_gamesession_generated_by_free_users,\n",
    "    count(distinct user_id) as total_free_users_who_generated_gamesession \n",
    "from \n",
    "    gamession_with_free_users\n",
    "\n",
    "\"\"\"\n",
    "\n",
    "df_premium_users = con.execute(query_gamesession_premium_users).fetchdf()\n",
    "df_free_users = con.execute(query_gamesession_free_users).fetchdf()\n",
    "\n",
    "df_free_users"
   ]
  },
  {
   "cell_type": "code",
   "execution_count": 64,
   "id": "4dd43cdd",
   "metadata": {},
   "outputs": [
    {
     "data": {
      "text/html": [
       "<div>\n",
       "<style scoped>\n",
       "    .dataframe tbody tr th:only-of-type {\n",
       "        vertical-align: middle;\n",
       "    }\n",
       "\n",
       "    .dataframe tbody tr th {\n",
       "        vertical-align: top;\n",
       "    }\n",
       "\n",
       "    .dataframe thead th {\n",
       "        text-align: right;\n",
       "    }\n",
       "</style>\n",
       "<table border=\"1\" class=\"dataframe\">\n",
       "  <thead>\n",
       "    <tr style=\"text-align: right;\">\n",
       "      <th></th>\n",
       "      <th>total_gamesession_generated_by_premium_users</th>\n",
       "      <th>total_premium_users_who_generated_gamesession</th>\n",
       "    </tr>\n",
       "  </thead>\n",
       "  <tbody>\n",
       "    <tr>\n",
       "      <th>0</th>\n",
       "      <td>9055</td>\n",
       "      <td>320</td>\n",
       "    </tr>\n",
       "  </tbody>\n",
       "</table>\n",
       "</div>"
      ],
      "text/plain": [
       "   total_gamesession_generated_by_premium_users  \\\n",
       "0                                          9055   \n",
       "\n",
       "   total_premium_users_who_generated_gamesession  \n",
       "0                                            320  "
      ]
     },
     "execution_count": 64,
     "metadata": {},
     "output_type": "execute_result"
    }
   ],
   "source": [
    "df_premium_users"
   ]
  }
 ],
 "metadata": {
  "kernelspec": {
   "display_name": "Python 3",
   "language": "python",
   "name": "python3"
  },
  "language_info": {
   "codemirror_mode": {
    "name": "ipython",
    "version": 3
   },
   "file_extension": ".py",
   "mimetype": "text/x-python",
   "name": "python",
   "nbconvert_exporter": "python",
   "pygments_lexer": "ipython3",
   "version": "3.10.10"
  }
 },
 "nbformat": 4,
 "nbformat_minor": 5
}
