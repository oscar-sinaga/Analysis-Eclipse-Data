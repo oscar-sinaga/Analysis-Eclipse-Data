{
 "cells": [
  {
   "cell_type": "markdown",
   "id": "aacf0ec2",
   "metadata": {},
   "source": [
    "# Import Library"
   ]
  },
  {
   "cell_type": "code",
   "execution_count": 1,
   "id": "d368eaab",
   "metadata": {},
   "outputs": [],
   "source": [
    "import pandas as pd\n",
    "import duckdb\n",
    "import os"
   ]
  },
  {
   "cell_type": "code",
   "execution_count": 2,
   "id": "d890ad61",
   "metadata": {},
   "outputs": [
    {
     "name": "stdout",
     "output_type": "stream",
     "text": [
      "1.0.0\n"
     ]
    }
   ],
   "source": [
    "import duckdb\n",
    "print(duckdb.__version__)\n"
   ]
  },
  {
   "cell_type": "markdown",
   "id": "554dba8a",
   "metadata": {},
   "source": [
    "# Make eklipse_data.db"
   ]
  },
  {
   "cell_type": "code",
   "execution_count": 3,
   "id": "50276359",
   "metadata": {},
   "outputs": [
    {
     "data": {
      "text/plain": [
       "<duckdb.duckdb.DuckDBPyConnection at 0x15cccb68170>"
      ]
     },
     "execution_count": 3,
     "metadata": {},
     "output_type": "execute_result"
    }
   ],
   "source": [
    "# Inisialisasi koneksi DuckDB (in-memory atau file)\n",
    "con = duckdb.connect(database=':memory:')  # Atau ganti dengan 'database.duckdb' kalau ingin persist\n",
    "\n",
    "# Load semua CSV sebagai view (DuckDB bisa baca langsung dari disk!)\n",
    "con.execute(\"\"\"\n",
    "    CREATE VIEW downloaded_clips AS SELECT * FROM read_csv_auto('da_test/downloaded_clips.csv');\n",
    "    CREATE VIEW shared_clips AS SELECT * FROM read_csv_auto('da_test/shared_clips.csv');\n",
    "    CREATE VIEW clips AS SELECT * FROM read_csv_auto('da_test/clips.csv');\n",
    "    CREATE VIEW premium_users AS SELECT * FROM read_csv_auto('da_test/premium_users.csv');\n",
    "    CREATE VIEW gamesession AS SELECT * FROM read_csv_auto('da_test/gamesession.csv');\n",
    "\"\"\")"
   ]
  },
  {
   "cell_type": "markdown",
   "id": "bf4ce6d4",
   "metadata": {},
   "source": [
    "## SQL"
   ]
  },
  {
   "cell_type": "markdown",
   "id": "0a03332e",
   "metadata": {},
   "source": [
    "## Question SQL 1\n",
    "The total number of users who have downloaded any clips. total number of clips downloaded. The total number of game sessions from which the downloaded clips were generated. "
   ]
  },
  {
   "cell_type": "code",
   "execution_count": 4,
   "id": "f4f9ba36",
   "metadata": {},
   "outputs": [
    {
     "data": {
      "text/html": [
       "<div>\n",
       "<style scoped>\n",
       "    .dataframe tbody tr th:only-of-type {\n",
       "        vertical-align: middle;\n",
       "    }\n",
       "\n",
       "    .dataframe tbody tr th {\n",
       "        vertical-align: top;\n",
       "    }\n",
       "\n",
       "    .dataframe thead th {\n",
       "        text-align: right;\n",
       "    }\n",
       "</style>\n",
       "<table border=\"1\" class=\"dataframe\">\n",
       "  <thead>\n",
       "    <tr style=\"text-align: right;\">\n",
       "      <th></th>\n",
       "      <th>total_user_who_download_clips</th>\n",
       "      <th>total_clips_downloaded</th>\n",
       "      <th>total_gamesession_generated</th>\n",
       "    </tr>\n",
       "  </thead>\n",
       "  <tbody>\n",
       "    <tr>\n",
       "      <th>0</th>\n",
       "      <td>1454</td>\n",
       "      <td>12935</td>\n",
       "      <td>4338</td>\n",
       "    </tr>\n",
       "  </tbody>\n",
       "</table>\n",
       "</div>"
      ],
      "text/plain": [
       "   total_user_who_download_clips  total_clips_downloaded  \\\n",
       "0                           1454                   12935   \n",
       "\n",
       "   total_gamesession_generated  \n",
       "0                         4338  "
      ]
     },
     "execution_count": 4,
     "metadata": {},
     "output_type": "execute_result"
    }
   ],
   "source": [
    "query = \"\"\"--sql \n",
    "SELECT\n",
    "    COUNT(DISTINCT user_id) AS total_user_who_download_clips,\n",
    "    COUNT(DISTINCT clip_id) AS total_clips_downloaded,\n",
    "    COUNT(DISTINCT gamesession_id) AS total_gamesession_generated\n",
    "FROM downloaded_clips dc;\"\"\"\n",
    "\n",
    "df = con.execute(query).fetchdf()\n",
    "df\n"
   ]
  },
  {
   "cell_type": "markdown",
   "id": "dd0058e2",
   "metadata": {},
   "source": [
    "## Question SQL 2\n",
    "For users who purchased premium in the last 3 months: Get the number of \n",
    "users who purchased premium, the number of users who shared any clips, \n",
    "the total number of clips shared, and the total number of gamesessions from \n",
    "which the shared clips were generated. "
   ]
  },
  {
   "cell_type": "code",
   "execution_count": 5,
   "id": "5358d5c9",
   "metadata": {},
   "outputs": [
    {
     "data": {
      "text/html": [
       "<div>\n",
       "<style scoped>\n",
       "    .dataframe tbody tr th:only-of-type {\n",
       "        vertical-align: middle;\n",
       "    }\n",
       "\n",
       "    .dataframe tbody tr th {\n",
       "        vertical-align: top;\n",
       "    }\n",
       "\n",
       "    .dataframe thead th {\n",
       "        text-align: right;\n",
       "    }\n",
       "</style>\n",
       "<table border=\"1\" class=\"dataframe\">\n",
       "  <thead>\n",
       "    <tr style=\"text-align: right;\">\n",
       "      <th></th>\n",
       "      <th>total_user_who_purchased_premium_last_3_months</th>\n",
       "      <th>number_of_user_premium_last_3_month_who_shared_clips</th>\n",
       "      <th>number_of_clip_shared</th>\n",
       "      <th>number_of_gamesession_generated_from_shared_clips</th>\n",
       "    </tr>\n",
       "  </thead>\n",
       "  <tbody>\n",
       "    <tr>\n",
       "      <th>0</th>\n",
       "      <td>164</td>\n",
       "      <td>59</td>\n",
       "      <td>1144</td>\n",
       "      <td>359</td>\n",
       "    </tr>\n",
       "  </tbody>\n",
       "</table>\n",
       "</div>"
      ],
      "text/plain": [
       "   total_user_who_purchased_premium_last_3_months  \\\n",
       "0                                             164   \n",
       "\n",
       "   number_of_user_premium_last_3_month_who_shared_clips  \\\n",
       "0                                                 59      \n",
       "\n",
       "   number_of_clip_shared  number_of_gamesession_generated_from_shared_clips  \n",
       "0                   1144                                                359  "
      ]
     },
     "execution_count": 5,
     "metadata": {},
     "output_type": "execute_result"
    }
   ],
   "source": [
    "query = \"\"\"--sql \n",
    "WITH premiums_users_last_3_month AS (\n",
    "    SELECT user_id\n",
    "    FROM premium_users\n",
    "    WHERE CAST(starts_at AS TIMESTAMP) >= (\n",
    "        SELECT MAX(CAST(starts_at AS TIMESTAMP)) - INTERVAL '3 MONTH'\n",
    "        FROM premium_users\n",
    "    )\n",
    "),\n",
    "premium_summary AS (\n",
    "    SELECT \n",
    "        COUNT(DISTINCT user_id) AS total_user_who_purchased_premium_last_3_months\n",
    "    FROM premiums_users_last_3_month\n",
    "),\n",
    "shared_clips_summary AS (\n",
    "    SELECT \n",
    "        COUNT(DISTINCT sc.user_id) AS number_of_user_premium_last_3_month_who_shared_clips,\n",
    "        COUNT(DISTINCT sc.clip_id) AS number_of_clip_shared,\n",
    "        COUNT(DISTINCT sc.gamesession_id) AS number_of_gamesession_generated_from_shared_clips\n",
    "    FROM shared_clips sc\n",
    "    JOIN premiums_users_last_3_month pul3m ON sc.user_id = pul3m.user_id\n",
    ")\n",
    "\n",
    "SELECT \n",
    "    ps.total_user_who_purchased_premium_last_3_months,\n",
    "    scs.number_of_user_premium_last_3_month_who_shared_clips,\n",
    "    scs.number_of_clip_shared,\n",
    "    scs.number_of_gamesession_generated_from_shared_clips\n",
    "FROM premium_summary ps\n",
    "CROSS JOIN shared_clips_summary scs;\n",
    "\n",
    "\"\"\"\n",
    "\n",
    "df = con.execute(query).fetchdf()\n",
    "df\n"
   ]
  },
  {
   "cell_type": "markdown",
   "id": "9024346d",
   "metadata": {},
   "source": [
    "## Question SQL 3\n",
    "Calculate, on a weekly basis: The number of users engaged. The number of \n",
    "clips engaged. The total number of gamesessions from which the engaged \n",
    "clips were generated."
   ]
  },
  {
   "cell_type": "code",
   "execution_count": 6,
   "id": "c6c1cae6",
   "metadata": {},
   "outputs": [
    {
     "data": {
      "text/html": [
       "<div>\n",
       "<style scoped>\n",
       "    .dataframe tbody tr th:only-of-type {\n",
       "        vertical-align: middle;\n",
       "    }\n",
       "\n",
       "    .dataframe tbody tr th {\n",
       "        vertical-align: top;\n",
       "    }\n",
       "\n",
       "    .dataframe thead th {\n",
       "        text-align: right;\n",
       "    }\n",
       "</style>\n",
       "<table border=\"1\" class=\"dataframe\">\n",
       "  <thead>\n",
       "    <tr style=\"text-align: right;\">\n",
       "      <th></th>\n",
       "      <th>total_user_who_purchased_premium_last_3_months</th>\n",
       "      <th>number_of_user_premium_last_3_month_who_shared_clips</th>\n",
       "      <th>number_of_clip_shared</th>\n",
       "      <th>number_of_gamesession_generated_from_shared_clips</th>\n",
       "    </tr>\n",
       "  </thead>\n",
       "  <tbody>\n",
       "    <tr>\n",
       "      <th>0</th>\n",
       "      <td>164</td>\n",
       "      <td>59</td>\n",
       "      <td>1144</td>\n",
       "      <td>359</td>\n",
       "    </tr>\n",
       "  </tbody>\n",
       "</table>\n",
       "</div>"
      ],
      "text/plain": [
       "   total_user_who_purchased_premium_last_3_months  \\\n",
       "0                                             164   \n",
       "\n",
       "   number_of_user_premium_last_3_month_who_shared_clips  \\\n",
       "0                                                 59      \n",
       "\n",
       "   number_of_clip_shared  number_of_gamesession_generated_from_shared_clips  \n",
       "0                   1144                                                359  "
      ]
     },
     "execution_count": 6,
     "metadata": {},
     "output_type": "execute_result"
    }
   ],
   "source": [
    "query = \"\"\"--sql \n",
    "WITH premiums_users_last_3_month AS (\n",
    "    SELECT user_id\n",
    "    FROM premium_users\n",
    "    WHERE starts_at >= (\n",
    "        SELECT MAX(starts_at) - INTERVAL '3 MONTH'\n",
    "        FROM premium_users\n",
    "    )\n",
    "),\n",
    "premium_summary AS (\n",
    "    SELECT \n",
    "        COUNT(DISTINCT user_id) AS total_user_who_purchased_premium_last_3_months\n",
    "    FROM premiums_users_last_3_month\n",
    "),\n",
    "shared_clips_summary AS (\n",
    "    SELECT \n",
    "        COUNT(DISTINCT sc.user_id) AS number_of_user_premium_last_3_month_who_shared_clips,\n",
    "        COUNT(DISTINCT sc.clip_id) AS number_of_clip_shared,\n",
    "        COUNT(DISTINCT sc.gamesession_id) AS number_of_gamesession_generated_from_shared_clips\n",
    "    FROM shared_clips sc\n",
    "    JOIN premiums_users_last_3_month pul3m ON sc.user_id = pul3m.user_id\n",
    ")\n",
    "\n",
    "SELECT \n",
    "    ps.total_user_who_purchased_premium_last_3_months,\n",
    "    scs.number_of_user_premium_last_3_month_who_shared_clips,\n",
    "    scs.number_of_clip_shared,\n",
    "    scs.number_of_gamesession_generated_from_shared_clips\n",
    "FROM premium_summary ps\n",
    "CROSS JOIN shared_clips_summary scs;\n",
    "\"\"\"\n",
    "\n",
    "df = con.execute(query).fetchdf()\n",
    "df\n"
   ]
  },
  {
   "cell_type": "markdown",
   "id": "906373ff",
   "metadata": {},
   "source": [
    "# B. Data Analysis"
   ]
  },
  {
   "cell_type": "code",
   "execution_count": 7,
   "id": "1d03b9ae",
   "metadata": {},
   "outputs": [
    {
     "data": {
      "text/html": [
       "<div>\n",
       "<style scoped>\n",
       "    .dataframe tbody tr th:only-of-type {\n",
       "        vertical-align: middle;\n",
       "    }\n",
       "\n",
       "    .dataframe tbody tr th {\n",
       "        vertical-align: top;\n",
       "    }\n",
       "\n",
       "    .dataframe thead th {\n",
       "        text-align: right;\n",
       "    }\n",
       "</style>\n",
       "<table border=\"1\" class=\"dataframe\">\n",
       "  <thead>\n",
       "    <tr style=\"text-align: right;\">\n",
       "      <th></th>\n",
       "      <th>total_gamesession_generated_by_free_users</th>\n",
       "      <th>total_free_users_who_generated_gamesession</th>\n",
       "      <th>average_duration_gamesession_per_free_users</th>\n",
       "      <th>total_games_used_by_free_users_to_process_gamesession</th>\n",
       "    </tr>\n",
       "  </thead>\n",
       "  <tbody>\n",
       "    <tr>\n",
       "      <th>0</th>\n",
       "      <td>28524</td>\n",
       "      <td>4002</td>\n",
       "      <td>6959.48</td>\n",
       "      <td>57</td>\n",
       "    </tr>\n",
       "  </tbody>\n",
       "</table>\n",
       "</div>"
      ],
      "text/plain": [
       "   total_gamesession_generated_by_free_users  \\\n",
       "0                                      28524   \n",
       "\n",
       "   total_free_users_who_generated_gamesession  \\\n",
       "0                                        4002   \n",
       "\n",
       "   average_duration_gamesession_per_free_users  \\\n",
       "0                                      6959.48   \n",
       "\n",
       "   total_games_used_by_free_users_to_process_gamesession  \n",
       "0                                                 57      "
      ]
     },
     "execution_count": 7,
     "metadata": {},
     "output_type": "execute_result"
    }
   ],
   "source": [
    "query_gamesession_premium_users = \"\"\"--sql\n",
    "-----------------------------------------------------------\n",
    "-- query premium user ids\n",
    "with gamession_with_premium_users as (\n",
    "-- query gamesession who the user_id is premium\n",
    "SELECT \n",
    "    *\n",
    "FROM\n",
    "    gamesession\n",
    "WHERE\n",
    "    user_id IN (SELECT DISTINCT user_id from premium_users)\n",
    ")\n",
    "\n",
    "select \n",
    "    count(distinct id) as total_gamesession_generated_by_premium_users,\n",
    "    count(distinct user_id) as total_premium_users_who_generated_gamesession,\n",
    "    round(avg(duration)/1000,2) as average_duration_gamesession_per_premium_users,\n",
    "    count(distinct game_name) as total_games_used_by_premium_users_to_process_gamesession  \n",
    "\n",
    "from \n",
    "    gamession_with_premium_users\n",
    "-----------------------------------------------------------\n",
    "\"\"\"\n",
    "\n",
    "query_gamesession_free_users = \"\"\"--sql\n",
    "-----------------------------------------------------------\n",
    "-- query free user ids\n",
    "with gamession_with_free_users as (\n",
    "-- query gamesession who the user_id is free\n",
    "SELECT \n",
    "    *\n",
    "FROM\n",
    "    gamesession\n",
    "WHERE\n",
    "    user_id NOT IN (SELECT DISTINCT user_id from premium_users)\n",
    ")\n",
    "\n",
    "select \n",
    "    count(distinct id) as total_gamesession_generated_by_free_users,\n",
    "    count(distinct user_id) as total_free_users_who_generated_gamesession,\n",
    "    round(avg(duration)/1000,2) as average_duration_gamesession_per_free_users,\n",
    "    count(distinct game_name) as total_games_used_by_free_users_to_process_gamesession\n",
    "from \n",
    "    gamession_with_free_users\n",
    "-----------------------------------------------------------\n",
    "\"\"\"\n",
    "\n",
    "df_premium_users = con.execute(query_gamesession_premium_users).fetchdf()\n",
    "df_free_users = con.execute(query_gamesession_free_users).fetchdf()\n",
    "\n",
    "df_free_users"
   ]
  },
  {
   "cell_type": "markdown",
   "id": "d4754f3e",
   "metadata": {},
   "source": [
    "## Gamessesion"
   ]
  },
  {
   "cell_type": "markdown",
   "id": "f024d813",
   "metadata": {},
   "source": [
    "### Compare free and premium users based on the gamesessions created by users\n"
   ]
  },
  {
   "cell_type": "code",
   "execution_count": 8,
   "id": "2859cbc5",
   "metadata": {},
   "outputs": [
    {
     "data": {
      "text/html": [
       "<div>\n",
       "<style scoped>\n",
       "    .dataframe tbody tr th:only-of-type {\n",
       "        vertical-align: middle;\n",
       "    }\n",
       "\n",
       "    .dataframe tbody tr th {\n",
       "        vertical-align: top;\n",
       "    }\n",
       "\n",
       "    .dataframe thead th {\n",
       "        text-align: right;\n",
       "    }\n",
       "</style>\n",
       "<table border=\"1\" class=\"dataframe\">\n",
       "  <thead>\n",
       "    <tr style=\"text-align: right;\">\n",
       "      <th></th>\n",
       "      <th>user_type</th>\n",
       "      <th>total_gamesession_generated</th>\n",
       "      <th>total_users_who_generated_gamesession</th>\n",
       "      <th>average_duration_gamesession</th>\n",
       "      <th>total_games_used_to_process_gamesession</th>\n",
       "    </tr>\n",
       "  </thead>\n",
       "  <tbody>\n",
       "    <tr>\n",
       "      <th>0</th>\n",
       "      <td>premium</td>\n",
       "      <td>9055</td>\n",
       "      <td>320</td>\n",
       "      <td>10506121.0</td>\n",
       "      <td>53</td>\n",
       "    </tr>\n",
       "    <tr>\n",
       "      <th>1</th>\n",
       "      <td>free</td>\n",
       "      <td>28524</td>\n",
       "      <td>4002</td>\n",
       "      <td>6959485.0</td>\n",
       "      <td>57</td>\n",
       "    </tr>\n",
       "  </tbody>\n",
       "</table>\n",
       "</div>"
      ],
      "text/plain": [
       "  user_type  total_gamesession_generated  \\\n",
       "0   premium                         9055   \n",
       "1      free                        28524   \n",
       "\n",
       "   total_users_who_generated_gamesession  average_duration_gamesession  \\\n",
       "0                                    320                    10506121.0   \n",
       "1                                   4002                     6959485.0   \n",
       "\n",
       "   total_games_used_to_process_gamesession  \n",
       "0                                       53  \n",
       "1                                       57  "
      ]
     },
     "execution_count": 8,
     "metadata": {},
     "output_type": "execute_result"
    }
   ],
   "source": [
    "query = \"\"\"--sql\n",
    "----------------------------------------------------------------------------------------------\n",
    "with gamesession_with_user_type as (\n",
    "SELECT \n",
    "    g.*,\n",
    "    CASE \n",
    "        WHEN g.user_id IN (SELECT DISTINCT user_id FROM premium_users) THEN 'premium'\n",
    "        ELSE 'free'\n",
    "    END AS user_type\n",
    "FROM \n",
    "    gamesession g\n",
    ")\n",
    "\n",
    "select\n",
    "    user_type, \n",
    "    count(distinct id) as total_gamesession_generated,\n",
    "    count(distinct user_id) as total_users_who_generated_gamesession,\n",
    "    round(avg(duration),0) as average_duration_gamesession,\n",
    "    count(distinct game_name) as total_games_used_to_process_gamesession,\n",
    "    \n",
    "from \n",
    "    gamesession_with_user_type\n",
    "group by user_type\n",
    "----------------------------------------------------------------------------------------------\n",
    "\"\"\"\n",
    "df_agg_gamession_by_user_type = con.execute(query).fetchdf()\n",
    "\n",
    "\n",
    "df_agg_gamession_by_user_type"
   ]
  },
  {
   "cell_type": "code",
   "execution_count": 9,
   "id": "cac866c8",
   "metadata": {},
   "outputs": [
    {
     "data": {
      "application/vnd.plotly.v1+json": {
       "config": {
        "plotlyServerURL": "https://plot.ly"
       },
       "data": [
        {
         "marker": {
          "color": "indianred"
         },
         "name": "Total GameSessions",
         "type": "bar",
         "x": [
          "premium",
          "free"
         ],
         "xaxis": "x",
         "y": {
          "bdata": "XyNsbw==",
          "dtype": "i2"
         },
         "yaxis": "y"
        },
        {
         "marker": {
          "color": "lightsalmon"
         },
         "name": "Total Users",
         "type": "bar",
         "x": [
          "premium",
          "free"
         ],
         "xaxis": "x2",
         "y": {
          "bdata": "QAGiDw==",
          "dtype": "i2"
         },
         "yaxis": "y2"
        },
        {
         "marker": {
          "color": "dodgerblue"
         },
         "name": "Avg Duration",
         "type": "bar",
         "x": [
          "premium",
          "free"
         ],
         "xaxis": "x3",
         "y": {
          "bdata": "AAAAIPEJZEEAAABAX4xaQQ==",
          "dtype": "f8"
         },
         "yaxis": "y3"
        },
        {
         "marker": {
          "color": "mediumseagreen"
         },
         "name": "Games Used",
         "type": "bar",
         "x": [
          "premium",
          "free"
         ],
         "xaxis": "x4",
         "y": {
          "bdata": "NTk=",
          "dtype": "i1"
         },
         "yaxis": "y4"
        }
       ],
       "layout": {
        "annotations": [
         {
          "font": {
           "size": 16
          },
          "showarrow": false,
          "text": "Total GameSessions",
          "x": 0.225,
          "xanchor": "center",
          "xref": "paper",
          "y": 1,
          "yanchor": "bottom",
          "yref": "paper"
         },
         {
          "font": {
           "size": 16
          },
          "showarrow": false,
          "text": "Total Users",
          "x": 0.775,
          "xanchor": "center",
          "xref": "paper",
          "y": 1,
          "yanchor": "bottom",
          "yref": "paper"
         },
         {
          "font": {
           "size": 16
          },
          "showarrow": false,
          "text": "Average Duration (sec)",
          "x": 0.225,
          "xanchor": "center",
          "xref": "paper",
          "y": 0.375,
          "yanchor": "bottom",
          "yref": "paper"
         },
         {
          "font": {
           "size": 16
          },
          "showarrow": false,
          "text": "Total Games Used",
          "x": 0.775,
          "xanchor": "center",
          "xref": "paper",
          "y": 0.375,
          "yanchor": "bottom",
          "yref": "paper"
         }
        ],
        "height": 600,
        "showlegend": false,
        "template": {
         "data": {
          "bar": [
           {
            "error_x": {
             "color": "#2a3f5f"
            },
            "error_y": {
             "color": "#2a3f5f"
            },
            "marker": {
             "line": {
              "color": "#E5ECF6",
              "width": 0.5
             },
             "pattern": {
              "fillmode": "overlay",
              "size": 10,
              "solidity": 0.2
             }
            },
            "type": "bar"
           }
          ],
          "barpolar": [
           {
            "marker": {
             "line": {
              "color": "#E5ECF6",
              "width": 0.5
             },
             "pattern": {
              "fillmode": "overlay",
              "size": 10,
              "solidity": 0.2
             }
            },
            "type": "barpolar"
           }
          ],
          "carpet": [
           {
            "aaxis": {
             "endlinecolor": "#2a3f5f",
             "gridcolor": "white",
             "linecolor": "white",
             "minorgridcolor": "white",
             "startlinecolor": "#2a3f5f"
            },
            "baxis": {
             "endlinecolor": "#2a3f5f",
             "gridcolor": "white",
             "linecolor": "white",
             "minorgridcolor": "white",
             "startlinecolor": "#2a3f5f"
            },
            "type": "carpet"
           }
          ],
          "choropleth": [
           {
            "colorbar": {
             "outlinewidth": 0,
             "ticks": ""
            },
            "type": "choropleth"
           }
          ],
          "contour": [
           {
            "colorbar": {
             "outlinewidth": 0,
             "ticks": ""
            },
            "colorscale": [
             [
              0,
              "#0d0887"
             ],
             [
              0.1111111111111111,
              "#46039f"
             ],
             [
              0.2222222222222222,
              "#7201a8"
             ],
             [
              0.3333333333333333,
              "#9c179e"
             ],
             [
              0.4444444444444444,
              "#bd3786"
             ],
             [
              0.5555555555555556,
              "#d8576b"
             ],
             [
              0.6666666666666666,
              "#ed7953"
             ],
             [
              0.7777777777777778,
              "#fb9f3a"
             ],
             [
              0.8888888888888888,
              "#fdca26"
             ],
             [
              1,
              "#f0f921"
             ]
            ],
            "type": "contour"
           }
          ],
          "contourcarpet": [
           {
            "colorbar": {
             "outlinewidth": 0,
             "ticks": ""
            },
            "type": "contourcarpet"
           }
          ],
          "heatmap": [
           {
            "colorbar": {
             "outlinewidth": 0,
             "ticks": ""
            },
            "colorscale": [
             [
              0,
              "#0d0887"
             ],
             [
              0.1111111111111111,
              "#46039f"
             ],
             [
              0.2222222222222222,
              "#7201a8"
             ],
             [
              0.3333333333333333,
              "#9c179e"
             ],
             [
              0.4444444444444444,
              "#bd3786"
             ],
             [
              0.5555555555555556,
              "#d8576b"
             ],
             [
              0.6666666666666666,
              "#ed7953"
             ],
             [
              0.7777777777777778,
              "#fb9f3a"
             ],
             [
              0.8888888888888888,
              "#fdca26"
             ],
             [
              1,
              "#f0f921"
             ]
            ],
            "type": "heatmap"
           }
          ],
          "histogram": [
           {
            "marker": {
             "pattern": {
              "fillmode": "overlay",
              "size": 10,
              "solidity": 0.2
             }
            },
            "type": "histogram"
           }
          ],
          "histogram2d": [
           {
            "colorbar": {
             "outlinewidth": 0,
             "ticks": ""
            },
            "colorscale": [
             [
              0,
              "#0d0887"
             ],
             [
              0.1111111111111111,
              "#46039f"
             ],
             [
              0.2222222222222222,
              "#7201a8"
             ],
             [
              0.3333333333333333,
              "#9c179e"
             ],
             [
              0.4444444444444444,
              "#bd3786"
             ],
             [
              0.5555555555555556,
              "#d8576b"
             ],
             [
              0.6666666666666666,
              "#ed7953"
             ],
             [
              0.7777777777777778,
              "#fb9f3a"
             ],
             [
              0.8888888888888888,
              "#fdca26"
             ],
             [
              1,
              "#f0f921"
             ]
            ],
            "type": "histogram2d"
           }
          ],
          "histogram2dcontour": [
           {
            "colorbar": {
             "outlinewidth": 0,
             "ticks": ""
            },
            "colorscale": [
             [
              0,
              "#0d0887"
             ],
             [
              0.1111111111111111,
              "#46039f"
             ],
             [
              0.2222222222222222,
              "#7201a8"
             ],
             [
              0.3333333333333333,
              "#9c179e"
             ],
             [
              0.4444444444444444,
              "#bd3786"
             ],
             [
              0.5555555555555556,
              "#d8576b"
             ],
             [
              0.6666666666666666,
              "#ed7953"
             ],
             [
              0.7777777777777778,
              "#fb9f3a"
             ],
             [
              0.8888888888888888,
              "#fdca26"
             ],
             [
              1,
              "#f0f921"
             ]
            ],
            "type": "histogram2dcontour"
           }
          ],
          "mesh3d": [
           {
            "colorbar": {
             "outlinewidth": 0,
             "ticks": ""
            },
            "type": "mesh3d"
           }
          ],
          "parcoords": [
           {
            "line": {
             "colorbar": {
              "outlinewidth": 0,
              "ticks": ""
             }
            },
            "type": "parcoords"
           }
          ],
          "pie": [
           {
            "automargin": true,
            "type": "pie"
           }
          ],
          "scatter": [
           {
            "fillpattern": {
             "fillmode": "overlay",
             "size": 10,
             "solidity": 0.2
            },
            "type": "scatter"
           }
          ],
          "scatter3d": [
           {
            "line": {
             "colorbar": {
              "outlinewidth": 0,
              "ticks": ""
             }
            },
            "marker": {
             "colorbar": {
              "outlinewidth": 0,
              "ticks": ""
             }
            },
            "type": "scatter3d"
           }
          ],
          "scattercarpet": [
           {
            "marker": {
             "colorbar": {
              "outlinewidth": 0,
              "ticks": ""
             }
            },
            "type": "scattercarpet"
           }
          ],
          "scattergeo": [
           {
            "marker": {
             "colorbar": {
              "outlinewidth": 0,
              "ticks": ""
             }
            },
            "type": "scattergeo"
           }
          ],
          "scattergl": [
           {
            "marker": {
             "colorbar": {
              "outlinewidth": 0,
              "ticks": ""
             }
            },
            "type": "scattergl"
           }
          ],
          "scattermap": [
           {
            "marker": {
             "colorbar": {
              "outlinewidth": 0,
              "ticks": ""
             }
            },
            "type": "scattermap"
           }
          ],
          "scattermapbox": [
           {
            "marker": {
             "colorbar": {
              "outlinewidth": 0,
              "ticks": ""
             }
            },
            "type": "scattermapbox"
           }
          ],
          "scatterpolar": [
           {
            "marker": {
             "colorbar": {
              "outlinewidth": 0,
              "ticks": ""
             }
            },
            "type": "scatterpolar"
           }
          ],
          "scatterpolargl": [
           {
            "marker": {
             "colorbar": {
              "outlinewidth": 0,
              "ticks": ""
             }
            },
            "type": "scatterpolargl"
           }
          ],
          "scatterternary": [
           {
            "marker": {
             "colorbar": {
              "outlinewidth": 0,
              "ticks": ""
             }
            },
            "type": "scatterternary"
           }
          ],
          "surface": [
           {
            "colorbar": {
             "outlinewidth": 0,
             "ticks": ""
            },
            "colorscale": [
             [
              0,
              "#0d0887"
             ],
             [
              0.1111111111111111,
              "#46039f"
             ],
             [
              0.2222222222222222,
              "#7201a8"
             ],
             [
              0.3333333333333333,
              "#9c179e"
             ],
             [
              0.4444444444444444,
              "#bd3786"
             ],
             [
              0.5555555555555556,
              "#d8576b"
             ],
             [
              0.6666666666666666,
              "#ed7953"
             ],
             [
              0.7777777777777778,
              "#fb9f3a"
             ],
             [
              0.8888888888888888,
              "#fdca26"
             ],
             [
              1,
              "#f0f921"
             ]
            ],
            "type": "surface"
           }
          ],
          "table": [
           {
            "cells": {
             "fill": {
              "color": "#EBF0F8"
             },
             "line": {
              "color": "white"
             }
            },
            "header": {
             "fill": {
              "color": "#C8D4E3"
             },
             "line": {
              "color": "white"
             }
            },
            "type": "table"
           }
          ]
         },
         "layout": {
          "annotationdefaults": {
           "arrowcolor": "#2a3f5f",
           "arrowhead": 0,
           "arrowwidth": 1
          },
          "autotypenumbers": "strict",
          "coloraxis": {
           "colorbar": {
            "outlinewidth": 0,
            "ticks": ""
           }
          },
          "colorscale": {
           "diverging": [
            [
             0,
             "#8e0152"
            ],
            [
             0.1,
             "#c51b7d"
            ],
            [
             0.2,
             "#de77ae"
            ],
            [
             0.3,
             "#f1b6da"
            ],
            [
             0.4,
             "#fde0ef"
            ],
            [
             0.5,
             "#f7f7f7"
            ],
            [
             0.6,
             "#e6f5d0"
            ],
            [
             0.7,
             "#b8e186"
            ],
            [
             0.8,
             "#7fbc41"
            ],
            [
             0.9,
             "#4d9221"
            ],
            [
             1,
             "#276419"
            ]
           ],
           "sequential": [
            [
             0,
             "#0d0887"
            ],
            [
             0.1111111111111111,
             "#46039f"
            ],
            [
             0.2222222222222222,
             "#7201a8"
            ],
            [
             0.3333333333333333,
             "#9c179e"
            ],
            [
             0.4444444444444444,
             "#bd3786"
            ],
            [
             0.5555555555555556,
             "#d8576b"
            ],
            [
             0.6666666666666666,
             "#ed7953"
            ],
            [
             0.7777777777777778,
             "#fb9f3a"
            ],
            [
             0.8888888888888888,
             "#fdca26"
            ],
            [
             1,
             "#f0f921"
            ]
           ],
           "sequentialminus": [
            [
             0,
             "#0d0887"
            ],
            [
             0.1111111111111111,
             "#46039f"
            ],
            [
             0.2222222222222222,
             "#7201a8"
            ],
            [
             0.3333333333333333,
             "#9c179e"
            ],
            [
             0.4444444444444444,
             "#bd3786"
            ],
            [
             0.5555555555555556,
             "#d8576b"
            ],
            [
             0.6666666666666666,
             "#ed7953"
            ],
            [
             0.7777777777777778,
             "#fb9f3a"
            ],
            [
             0.8888888888888888,
             "#fdca26"
            ],
            [
             1,
             "#f0f921"
            ]
           ]
          },
          "colorway": [
           "#636efa",
           "#EF553B",
           "#00cc96",
           "#ab63fa",
           "#FFA15A",
           "#19d3f3",
           "#FF6692",
           "#B6E880",
           "#FF97FF",
           "#FECB52"
          ],
          "font": {
           "color": "#2a3f5f"
          },
          "geo": {
           "bgcolor": "white",
           "lakecolor": "white",
           "landcolor": "#E5ECF6",
           "showlakes": true,
           "showland": true,
           "subunitcolor": "white"
          },
          "hoverlabel": {
           "align": "left"
          },
          "hovermode": "closest",
          "mapbox": {
           "style": "light"
          },
          "paper_bgcolor": "white",
          "plot_bgcolor": "#E5ECF6",
          "polar": {
           "angularaxis": {
            "gridcolor": "white",
            "linecolor": "white",
            "ticks": ""
           },
           "bgcolor": "#E5ECF6",
           "radialaxis": {
            "gridcolor": "white",
            "linecolor": "white",
            "ticks": ""
           }
          },
          "scene": {
           "xaxis": {
            "backgroundcolor": "#E5ECF6",
            "gridcolor": "white",
            "gridwidth": 2,
            "linecolor": "white",
            "showbackground": true,
            "ticks": "",
            "zerolinecolor": "white"
           },
           "yaxis": {
            "backgroundcolor": "#E5ECF6",
            "gridcolor": "white",
            "gridwidth": 2,
            "linecolor": "white",
            "showbackground": true,
            "ticks": "",
            "zerolinecolor": "white"
           },
           "zaxis": {
            "backgroundcolor": "#E5ECF6",
            "gridcolor": "white",
            "gridwidth": 2,
            "linecolor": "white",
            "showbackground": true,
            "ticks": "",
            "zerolinecolor": "white"
           }
          },
          "shapedefaults": {
           "line": {
            "color": "#2a3f5f"
           }
          },
          "ternary": {
           "aaxis": {
            "gridcolor": "white",
            "linecolor": "white",
            "ticks": ""
           },
           "baxis": {
            "gridcolor": "white",
            "linecolor": "white",
            "ticks": ""
           },
           "bgcolor": "#E5ECF6",
           "caxis": {
            "gridcolor": "white",
            "linecolor": "white",
            "ticks": ""
           }
          },
          "title": {
           "x": 0.05
          },
          "xaxis": {
           "automargin": true,
           "gridcolor": "white",
           "linecolor": "white",
           "ticks": "",
           "title": {
            "standoff": 15
           },
           "zerolinecolor": "white",
           "zerolinewidth": 2
          },
          "yaxis": {
           "automargin": true,
           "gridcolor": "white",
           "linecolor": "white",
           "ticks": "",
           "title": {
            "standoff": 15
           },
           "zerolinecolor": "white",
           "zerolinewidth": 2
          }
         }
        },
        "title": {
         "text": "Comparison Between Free vs Premium Users"
        },
        "width": 900,
        "xaxis": {
         "anchor": "y",
         "domain": [
          0,
          0.45
         ]
        },
        "xaxis2": {
         "anchor": "y2",
         "domain": [
          0.55,
          1
         ]
        },
        "xaxis3": {
         "anchor": "y3",
         "domain": [
          0,
          0.45
         ]
        },
        "xaxis4": {
         "anchor": "y4",
         "domain": [
          0.55,
          1
         ]
        },
        "yaxis": {
         "anchor": "x",
         "domain": [
          0.625,
          1
         ]
        },
        "yaxis2": {
         "anchor": "x2",
         "domain": [
          0.625,
          1
         ]
        },
        "yaxis3": {
         "anchor": "x3",
         "domain": [
          0,
          0.375
         ]
        },
        "yaxis4": {
         "anchor": "x4",
         "domain": [
          0,
          0.375
         ]
        }
       }
      }
     },
     "metadata": {},
     "output_type": "display_data"
    }
   ],
   "source": [
    "import plotly.graph_objects as go\n",
    "from plotly.subplots import make_subplots\n",
    "\n",
    "# Buat subplot 2x2\n",
    "fig = make_subplots(rows=2, cols=2, subplot_titles=[\n",
    "    \"Total GameSessions\",\n",
    "    \"Total Users\",\n",
    "    \"Average Duration (sec)\",\n",
    "    \"Total Games Used\"\n",
    "])\n",
    "\n",
    "# Bar chart 1: Total GameSessions\n",
    "fig.add_trace(go.Bar(\n",
    "    x=df_agg_gamession_by_user_type['user_type'],\n",
    "    y=df_agg_gamession_by_user_type['total_gamesession_generated'],\n",
    "    name='Total GameSessions',\n",
    "    marker_color='indianred'\n",
    "), row=1, col=1)\n",
    "\n",
    "# Bar chart 2: Total Users\n",
    "fig.add_trace(go.Bar(\n",
    "    x=df_agg_gamession_by_user_type['user_type'],\n",
    "    y=df_agg_gamession_by_user_type['total_users_who_generated_gamesession'],\n",
    "    name='Total Users',\n",
    "    marker_color='lightsalmon'\n",
    "), row=1, col=2)\n",
    "\n",
    "# Bar chart 3: Average Duration\n",
    "fig.add_trace(go.Bar(\n",
    "    x=df_agg_gamession_by_user_type['user_type'],\n",
    "    y=df_agg_gamession_by_user_type['average_duration_gamesession'],\n",
    "    name='Avg Duration',\n",
    "    marker_color='dodgerblue'\n",
    "), row=2, col=1)\n",
    "\n",
    "# Bar chart 4: Total Games Used\n",
    "fig.add_trace(go.Bar(\n",
    "    x=df_agg_gamession_by_user_type['user_type'],\n",
    "    y=df_agg_gamession_by_user_type['total_games_used_to_process_gamesession'],\n",
    "    name='Games Used',\n",
    "    marker_color='mediumseagreen'\n",
    "), row=2, col=2)\n",
    "\n",
    "# Update layout\n",
    "fig.update_layout(\n",
    "    title_text=\"Comparison Between Free vs Premium Users\",\n",
    "    showlegend=False,\n",
    "    height=600,\n",
    "    width=900\n",
    ")\n",
    "\n",
    "fig.show()\n"
   ]
  },
  {
   "cell_type": "markdown",
   "id": "5aa133ea",
   "metadata": {},
   "source": [
    "We can observe that the total number of gamesessions created and the number of games played are higher among free users compared to premium users. This is expected, as the number of free users who create gamesessions is significantly greater than that of premium users. However, an interesting insight is that premium users tend to create gamesessions with much longer durations compared to free users."
   ]
  },
  {
   "cell_type": "markdown",
   "id": "b0840550",
   "metadata": {},
   "source": [
    "## Compare free and premium users based on the gamesessions created by users for each game."
   ]
  },
  {
   "cell_type": "code",
   "execution_count": 10,
   "id": "fb0c7259",
   "metadata": {},
   "outputs": [
    {
     "data": {
      "text/html": [
       "<div>\n",
       "<style scoped>\n",
       "    .dataframe tbody tr th:only-of-type {\n",
       "        vertical-align: middle;\n",
       "    }\n",
       "\n",
       "    .dataframe tbody tr th {\n",
       "        vertical-align: top;\n",
       "    }\n",
       "\n",
       "    .dataframe thead th {\n",
       "        text-align: right;\n",
       "    }\n",
       "</style>\n",
       "<table border=\"1\" class=\"dataframe\">\n",
       "  <thead>\n",
       "    <tr style=\"text-align: right;\">\n",
       "      <th></th>\n",
       "      <th>user_type</th>\n",
       "      <th>game_name</th>\n",
       "      <th>total_gamesession_generated</th>\n",
       "      <th>total_users_who_generated_gamesession</th>\n",
       "      <th>average_duration_gamesession</th>\n",
       "      <th>pct_gamesession_within_user_type</th>\n",
       "      <th>pct_users_within_user_type</th>\n",
       "    </tr>\n",
       "  </thead>\n",
       "  <tbody>\n",
       "    <tr>\n",
       "      <th>0</th>\n",
       "      <td>free</td>\n",
       "      <td>Other Games</td>\n",
       "      <td>10938</td>\n",
       "      <td>2233</td>\n",
       "      <td>7562694.0</td>\n",
       "      <td>38.35</td>\n",
       "      <td>32.11</td>\n",
       "    </tr>\n",
       "    <tr>\n",
       "      <th>1</th>\n",
       "      <td>free</td>\n",
       "      <td>COD: Warzone3-2 &amp; MW3-2</td>\n",
       "      <td>5655</td>\n",
       "      <td>983</td>\n",
       "      <td>6154490.0</td>\n",
       "      <td>19.83</td>\n",
       "      <td>14.14</td>\n",
       "    </tr>\n",
       "    <tr>\n",
       "      <th>2</th>\n",
       "      <td>free</td>\n",
       "      <td>Fortnite</td>\n",
       "      <td>3213</td>\n",
       "      <td>807</td>\n",
       "      <td>6394120.0</td>\n",
       "      <td>11.26</td>\n",
       "      <td>11.60</td>\n",
       "    </tr>\n",
       "    <tr>\n",
       "      <th>3</th>\n",
       "      <td>free</td>\n",
       "      <td>Valorant</td>\n",
       "      <td>1977</td>\n",
       "      <td>388</td>\n",
       "      <td>8528200.0</td>\n",
       "      <td>6.93</td>\n",
       "      <td>5.58</td>\n",
       "    </tr>\n",
       "    <tr>\n",
       "      <th>4</th>\n",
       "      <td>free</td>\n",
       "      <td>Apex Legends</td>\n",
       "      <td>1413</td>\n",
       "      <td>303</td>\n",
       "      <td>7047973.0</td>\n",
       "      <td>4.95</td>\n",
       "      <td>4.36</td>\n",
       "    </tr>\n",
       "  </tbody>\n",
       "</table>\n",
       "</div>"
      ],
      "text/plain": [
       "  user_type                game_name  total_gamesession_generated  \\\n",
       "0      free              Other Games                        10938   \n",
       "1      free  COD: Warzone3-2 & MW3-2                         5655   \n",
       "2      free                 Fortnite                         3213   \n",
       "3      free                 Valorant                         1977   \n",
       "4      free             Apex Legends                         1413   \n",
       "\n",
       "   total_users_who_generated_gamesession  average_duration_gamesession  \\\n",
       "0                                   2233                     7562694.0   \n",
       "1                                    983                     6154490.0   \n",
       "2                                    807                     6394120.0   \n",
       "3                                    388                     8528200.0   \n",
       "4                                    303                     7047973.0   \n",
       "\n",
       "   pct_gamesession_within_user_type  pct_users_within_user_type  \n",
       "0                             38.35                       32.11  \n",
       "1                             19.83                       14.14  \n",
       "2                             11.26                       11.60  \n",
       "3                              6.93                        5.58  \n",
       "4                              4.95                        4.36  "
      ]
     },
     "execution_count": 10,
     "metadata": {},
     "output_type": "execute_result"
    }
   ],
   "source": [
    "query = \"\"\"--sql\n",
    "WITH gamesession_with_user_type AS (\n",
    "    SELECT \n",
    "        g.*,\n",
    "        CASE \n",
    "            WHEN g.user_id IN (SELECT DISTINCT user_id FROM premium_users) THEN 'premium'\n",
    "            ELSE 'free'\n",
    "        END AS user_type\n",
    "    FROM \n",
    "        gamesession g\n",
    "),\n",
    "agg AS (\n",
    "    SELECT \n",
    "        user_type, \n",
    "        game_name,\n",
    "        COUNT(DISTINCT id) AS total_gamesession_generated,\n",
    "        COUNT(DISTINCT user_id) AS total_users_who_generated_gamesession,\n",
    "        ROUND(AVG(duration), 0) AS average_duration_gamesession\n",
    "    FROM gamesession_with_user_type\n",
    "    GROUP BY user_type, game_name\n",
    ")\n",
    "\n",
    "SELECT \n",
    "    *,\n",
    "    ROUND(\n",
    "        total_gamesession_generated * 100.0 \n",
    "        / SUM(total_gamesession_generated) OVER (PARTITION BY user_type), \n",
    "        2\n",
    "    ) AS pct_gamesession_within_user_type,\n",
    "    ROUND(\n",
    "        total_users_who_generated_gamesession * 100.0 \n",
    "        / SUM(total_users_who_generated_gamesession) OVER (PARTITION BY user_type), \n",
    "        2\n",
    "    ) AS pct_users_within_user_type\n",
    "FROM agg\n",
    "ORDER BY user_type, pct_gamesession_within_user_type DESC\n",
    "\n",
    "\n",
    "---order by user_type, total_gamesession_generated DESC\n",
    "\"\"\"\n",
    "\n",
    "df_agg_gamession_by_user_type_per_game = con.execute(query).fetchdf()\n",
    "df_agg_gamession_by_user_type_per_game.head(5)"
   ]
  },
  {
   "cell_type": "code",
   "execution_count": 22,
   "id": "4dd43cdd",
   "metadata": {},
   "outputs": [
    {
     "data": {
      "application/vnd.plotly.v1+json": {
       "config": {
        "plotlyServerURL": "https://plot.ly"
       },
       "data": [
        {
         "alignmentgroup": "True",
         "hovertemplate": "User Type=free<br>Percent of Total GameSessions=%{text}<br>Game=%{y}<extra></extra>",
         "legendgroup": "free",
         "marker": {
          "color": "#636efa",
          "pattern": {
           "shape": ""
          }
         },
         "name": "free",
         "offsetgroup": "free",
         "orientation": "h",
         "showlegend": true,
         "text": {
          "bdata": "zczMzMwsQ0AUrkfhetQzQIXrUbgehSZAuB6F61G4G0DNzMzMzMwTQKRwPQrXowRAAAAAAAAABEDsUbgehesBQClcj8L1KPg/7FG4HoXr8T/NzMzMzMzwP4XrUbgehes/UrgehetR6D+4HoXrUbjmP83MzMzMzOQ/pHA9Ctej4D9SuB6F61HgPxSuR+F6FN4/w/UoXI/C1T8fhetRuB7VP0jhehSuR9E/KVyPwvUozD8K16NwPQrHP3sUrkfhesQ/pHA9CtejwD+kcD0K16PAP7gehetRuL4/uB6F61G4vj8pXI/C9Si8P5qZmZmZmbk/mpmZmZmZuT8K16NwPQq3PwrXo3A9Crc/7FG4HoXrsT/sUbgeheuxP7gehetRuK4/uB6F61G4rj+amZmZmZmpP3sUrkfheqQ/uB6F61G4nj+4HoXrUbieP7gehetRuJ4/uB6F61G4nj97FK5H4XqUP3sUrkfhepQ/exSuR+F6lD97FK5H4XqUP3sUrkfheoQ/exSuR+F6hD97FK5H4XqEP3sUrkfheoQ/exSuR+F6hD97FK5H4XqEPwAAAAAAAAAAAAAAAAAAAAAAAAAAAAAAAAAAAAAAAAAA",
          "dtype": "f8"
         },
         "textposition": "outside",
         "type": "bar",
         "x": {
          "bdata": "zczMzMwsQ0AUrkfhetQzQIXrUbgehSZAuB6F61G4G0DNzMzMzMwTQKRwPQrXowRAAAAAAAAABEDsUbgehesBQClcj8L1KPg/7FG4HoXr8T/NzMzMzMzwP4XrUbgehes/UrgehetR6D+4HoXrUbjmP83MzMzMzOQ/pHA9Ctej4D9SuB6F61HgPxSuR+F6FN4/w/UoXI/C1T8fhetRuB7VP0jhehSuR9E/KVyPwvUozD8K16NwPQrHP3sUrkfhesQ/pHA9CtejwD+kcD0K16PAP7gehetRuL4/uB6F61G4vj8pXI/C9Si8P5qZmZmZmbk/mpmZmZmZuT8K16NwPQq3PwrXo3A9Crc/7FG4HoXrsT/sUbgeheuxP7gehetRuK4/uB6F61G4rj+amZmZmZmpP3sUrkfheqQ/uB6F61G4nj+4HoXrUbieP7gehetRuJ4/uB6F61G4nj97FK5H4XqUP3sUrkfhepQ/exSuR+F6lD97FK5H4XqUP3sUrkfheoQ/exSuR+F6hD97FK5H4XqEP3sUrkfheoQ/exSuR+F6hD97FK5H4XqEPwAAAAAAAAAAAAAAAAAAAAAAAAAAAAAAAAAAAAAAAAAA",
          "dtype": "f8"
         },
         "xaxis": "x",
         "y": [
          "Other Games",
          "COD: Warzone3-2 & MW3-2",
          "Fortnite",
          "Valorant",
          "Apex Legends",
          "Podcast",
          "Overwatch 2",
          "League of Legends",
          "Tom Clancy's Rainbow Six: Siege",
          "NBA: 2K24",
          "Rocket League",
          "Dead by Daylight",
          "Madden NFL 24",
          "chatting",
          "Fall Guys",
          "FIFA 23-24 & EA Sports FC 24",
          "Counter Strike2",
          "Grand Theft Auto V",
          "ROBLOX",
          "Destiny ",
          "PlayerUnknown's Battlegrounds\n",
          "Mortal Kombat 1",
          "starfield",
          "COD: Black Ops Coldwar",
          "Halo Infinite",
          "The Texas Chain Saw Massacre",
          "Farlight84",
          "Elden Ring",
          "THE FINALS",
          "Party Animals",
          "Mobile Legend",
          "Among Us",
          "Naraka",
          "Phasmophobia",
          "Lies of P",
          "My Hero Ultra Rumble",
          "Street Fighter",
          "Game Detector",
          "COD: Mobile",
          "Marvel's Spider-Man 2",
          "Freefire",
          "Rogue Company",
          "PAYDAY 3",
          "SMITE",
          "COD: Vanguard",
          "Worlds of Tanks",
          "Remnant 2",
          "battlefield2042",
          "Call of Duty",
          "Fifa fc 2024",
          "Honkai: Star Rail",
          "Team Fight Tatics",
          "Battlebit",
          "Hearthstone",
          "Yu-Gi-Oh! Master Duel",
          "MLB The Show 22&23",
          "SuperSmash Bros Ultimate"
         ],
         "yaxis": "y"
        },
        {
         "alignmentgroup": "True",
         "hovertemplate": "User Type=premium<br>Percent of Total GameSessions=%{text}<br>Game=%{y}<extra></extra>",
         "legendgroup": "premium",
         "marker": {
          "color": "#EF553B",
          "pattern": {
           "shape": ""
          }
         },
         "name": "premium",
         "offsetgroup": "premium",
         "orientation": "h",
         "showlegend": true,
         "text": {
          "bdata": "exSuR+FaQUBcj8L1KBw5QLgehetRuB5A7FG4HoXrGUBI4XoUrkcUQM3MzMzMzBBAw/UoXI/CA0CkcD0K16MCQKRwPQrXowJA4XoUrkfh8j8AAAAAAADwPwrXo3A9Cu8/16NwPQrX6z8fhetRuB7lP3sUrkfheuQ/UrgehetR2D/D9Shcj8LVPzMzMzMzM9M/7FG4HoXr0T+4HoXrUbjOP7gehetRuM4/cT0K16NwzT8pXI/C9SjMP1K4HoXrUcg/UrgehetRyD/D9Shcj8LFP8P1KFyPwsU/7FG4HoXrwT+4HoXrUbi+P7gehetRuL4/uB6F61G4vj8K16NwPQq3P3sUrkfherQ/exSuR+F6tD/sUbgeheuxP+xRuB6F67E/uB6F61G4rj+4HoXrUbiuP3sUrkfheqQ/exSuR+F6pD+4HoXrUbieP7gehetRuJ4/exSuR+F6lD97FK5H4XqUP3sUrkfhepQ/exSuR+F6lD97FK5H4XqEP3sUrkfheoQ/exSuR+F6hD97FK5H4XqEP3sUrkfheoQ/exSuR+F6hD97FK5H4XqEPw==",
          "dtype": "f8"
         },
         "textposition": "outside",
         "type": "bar",
         "x": {
          "bdata": "exSuR+FaQUBcj8L1KBw5QLgehetRuB5A7FG4HoXrGUBI4XoUrkcUQM3MzMzMzBBAw/UoXI/CA0CkcD0K16MCQKRwPQrXowJA4XoUrkfh8j8AAAAAAADwPwrXo3A9Cu8/16NwPQrX6z8fhetRuB7lP3sUrkfheuQ/UrgehetR2D/D9Shcj8LVPzMzMzMzM9M/7FG4HoXr0T+4HoXrUbjOP7gehetRuM4/cT0K16NwzT8pXI/C9SjMP1K4HoXrUcg/UrgehetRyD/D9Shcj8LFP8P1KFyPwsU/7FG4HoXrwT+4HoXrUbi+P7gehetRuL4/uB6F61G4vj8K16NwPQq3P3sUrkfherQ/exSuR+F6tD/sUbgeheuxP+xRuB6F67E/uB6F61G4rj+4HoXrUbiuP3sUrkfheqQ/exSuR+F6pD+4HoXrUbieP7gehetRuJ4/exSuR+F6lD97FK5H4XqUP3sUrkfhepQ/exSuR+F6lD97FK5H4XqEP3sUrkfheoQ/exSuR+F6hD97FK5H4XqEP3sUrkfheoQ/exSuR+F6hD97FK5H4XqEPw==",
          "dtype": "f8"
         },
         "xaxis": "x",
         "y": [
          "Other Games",
          "COD: Warzone3-2 & MW3-2",
          "Fortnite",
          "Apex Legends",
          "Valorant",
          "League of Legends",
          "Rocket League",
          "Overwatch 2",
          "Tom Clancy's Rainbow Six: Siege",
          "chatting",
          "Dead by Daylight",
          "FIFA 23-24 & EA Sports FC 24",
          "Counter Strike2",
          "Halo Infinite",
          "NBA: 2K24",
          "Farlight84",
          "Grand Theft Auto V",
          "Fall Guys",
          "Party Animals",
          "Podcast",
          "The Texas Chain Saw Massacre",
          "Madden NFL 24",
          "Phasmophobia",
          "starfield",
          "Mobile Legend",
          "Honkai: Star Rail",
          "THE FINALS",
          "Destiny ",
          "Elden Ring",
          "Lies of P",
          "Game Detector",
          "ROBLOX",
          "SMITE",
          "Naraka",
          "My Hero Ultra Rumble",
          "Forza Motorsport",
          "PlayerUnknown's Battlegrounds\n",
          "Hearthstone",
          "Team Fight Tatics",
          "Among Us",
          "Mortal Kombat 1",
          "Remnant 2",
          "SuperSmash Bros Ultimate",
          "NHL 23",
          "Marvel's Spider-Man 2",
          "Fifa fc 2024",
          "COD: Black Ops Coldwar",
          "MLB The Show 22&23",
          "Freefire",
          "Street Fighter",
          "Rogue Company",
          "COD: Mobile",
          "COD: Vanguard"
         ],
         "yaxis": "y"
        }
       ],
       "layout": {
        "barmode": "group",
        "height": 800,
        "legend": {
         "title": {
          "text": "User Type"
         },
         "tracegroupgap": 0
        },
        "margin": {
         "l": 150,
         "t": 80
        },
        "template": {
         "data": {
          "bar": [
           {
            "error_x": {
             "color": "#2a3f5f"
            },
            "error_y": {
             "color": "#2a3f5f"
            },
            "marker": {
             "line": {
              "color": "#E5ECF6",
              "width": 0.5
             },
             "pattern": {
              "fillmode": "overlay",
              "size": 10,
              "solidity": 0.2
             }
            },
            "type": "bar"
           }
          ],
          "barpolar": [
           {
            "marker": {
             "line": {
              "color": "#E5ECF6",
              "width": 0.5
             },
             "pattern": {
              "fillmode": "overlay",
              "size": 10,
              "solidity": 0.2
             }
            },
            "type": "barpolar"
           }
          ],
          "carpet": [
           {
            "aaxis": {
             "endlinecolor": "#2a3f5f",
             "gridcolor": "white",
             "linecolor": "white",
             "minorgridcolor": "white",
             "startlinecolor": "#2a3f5f"
            },
            "baxis": {
             "endlinecolor": "#2a3f5f",
             "gridcolor": "white",
             "linecolor": "white",
             "minorgridcolor": "white",
             "startlinecolor": "#2a3f5f"
            },
            "type": "carpet"
           }
          ],
          "choropleth": [
           {
            "colorbar": {
             "outlinewidth": 0,
             "ticks": ""
            },
            "type": "choropleth"
           }
          ],
          "contour": [
           {
            "colorbar": {
             "outlinewidth": 0,
             "ticks": ""
            },
            "colorscale": [
             [
              0,
              "#0d0887"
             ],
             [
              0.1111111111111111,
              "#46039f"
             ],
             [
              0.2222222222222222,
              "#7201a8"
             ],
             [
              0.3333333333333333,
              "#9c179e"
             ],
             [
              0.4444444444444444,
              "#bd3786"
             ],
             [
              0.5555555555555556,
              "#d8576b"
             ],
             [
              0.6666666666666666,
              "#ed7953"
             ],
             [
              0.7777777777777778,
              "#fb9f3a"
             ],
             [
              0.8888888888888888,
              "#fdca26"
             ],
             [
              1,
              "#f0f921"
             ]
            ],
            "type": "contour"
           }
          ],
          "contourcarpet": [
           {
            "colorbar": {
             "outlinewidth": 0,
             "ticks": ""
            },
            "type": "contourcarpet"
           }
          ],
          "heatmap": [
           {
            "colorbar": {
             "outlinewidth": 0,
             "ticks": ""
            },
            "colorscale": [
             [
              0,
              "#0d0887"
             ],
             [
              0.1111111111111111,
              "#46039f"
             ],
             [
              0.2222222222222222,
              "#7201a8"
             ],
             [
              0.3333333333333333,
              "#9c179e"
             ],
             [
              0.4444444444444444,
              "#bd3786"
             ],
             [
              0.5555555555555556,
              "#d8576b"
             ],
             [
              0.6666666666666666,
              "#ed7953"
             ],
             [
              0.7777777777777778,
              "#fb9f3a"
             ],
             [
              0.8888888888888888,
              "#fdca26"
             ],
             [
              1,
              "#f0f921"
             ]
            ],
            "type": "heatmap"
           }
          ],
          "histogram": [
           {
            "marker": {
             "pattern": {
              "fillmode": "overlay",
              "size": 10,
              "solidity": 0.2
             }
            },
            "type": "histogram"
           }
          ],
          "histogram2d": [
           {
            "colorbar": {
             "outlinewidth": 0,
             "ticks": ""
            },
            "colorscale": [
             [
              0,
              "#0d0887"
             ],
             [
              0.1111111111111111,
              "#46039f"
             ],
             [
              0.2222222222222222,
              "#7201a8"
             ],
             [
              0.3333333333333333,
              "#9c179e"
             ],
             [
              0.4444444444444444,
              "#bd3786"
             ],
             [
              0.5555555555555556,
              "#d8576b"
             ],
             [
              0.6666666666666666,
              "#ed7953"
             ],
             [
              0.7777777777777778,
              "#fb9f3a"
             ],
             [
              0.8888888888888888,
              "#fdca26"
             ],
             [
              1,
              "#f0f921"
             ]
            ],
            "type": "histogram2d"
           }
          ],
          "histogram2dcontour": [
           {
            "colorbar": {
             "outlinewidth": 0,
             "ticks": ""
            },
            "colorscale": [
             [
              0,
              "#0d0887"
             ],
             [
              0.1111111111111111,
              "#46039f"
             ],
             [
              0.2222222222222222,
              "#7201a8"
             ],
             [
              0.3333333333333333,
              "#9c179e"
             ],
             [
              0.4444444444444444,
              "#bd3786"
             ],
             [
              0.5555555555555556,
              "#d8576b"
             ],
             [
              0.6666666666666666,
              "#ed7953"
             ],
             [
              0.7777777777777778,
              "#fb9f3a"
             ],
             [
              0.8888888888888888,
              "#fdca26"
             ],
             [
              1,
              "#f0f921"
             ]
            ],
            "type": "histogram2dcontour"
           }
          ],
          "mesh3d": [
           {
            "colorbar": {
             "outlinewidth": 0,
             "ticks": ""
            },
            "type": "mesh3d"
           }
          ],
          "parcoords": [
           {
            "line": {
             "colorbar": {
              "outlinewidth": 0,
              "ticks": ""
             }
            },
            "type": "parcoords"
           }
          ],
          "pie": [
           {
            "automargin": true,
            "type": "pie"
           }
          ],
          "scatter": [
           {
            "fillpattern": {
             "fillmode": "overlay",
             "size": 10,
             "solidity": 0.2
            },
            "type": "scatter"
           }
          ],
          "scatter3d": [
           {
            "line": {
             "colorbar": {
              "outlinewidth": 0,
              "ticks": ""
             }
            },
            "marker": {
             "colorbar": {
              "outlinewidth": 0,
              "ticks": ""
             }
            },
            "type": "scatter3d"
           }
          ],
          "scattercarpet": [
           {
            "marker": {
             "colorbar": {
              "outlinewidth": 0,
              "ticks": ""
             }
            },
            "type": "scattercarpet"
           }
          ],
          "scattergeo": [
           {
            "marker": {
             "colorbar": {
              "outlinewidth": 0,
              "ticks": ""
             }
            },
            "type": "scattergeo"
           }
          ],
          "scattergl": [
           {
            "marker": {
             "colorbar": {
              "outlinewidth": 0,
              "ticks": ""
             }
            },
            "type": "scattergl"
           }
          ],
          "scattermap": [
           {
            "marker": {
             "colorbar": {
              "outlinewidth": 0,
              "ticks": ""
             }
            },
            "type": "scattermap"
           }
          ],
          "scattermapbox": [
           {
            "marker": {
             "colorbar": {
              "outlinewidth": 0,
              "ticks": ""
             }
            },
            "type": "scattermapbox"
           }
          ],
          "scatterpolar": [
           {
            "marker": {
             "colorbar": {
              "outlinewidth": 0,
              "ticks": ""
             }
            },
            "type": "scatterpolar"
           }
          ],
          "scatterpolargl": [
           {
            "marker": {
             "colorbar": {
              "outlinewidth": 0,
              "ticks": ""
             }
            },
            "type": "scatterpolargl"
           }
          ],
          "scatterternary": [
           {
            "marker": {
             "colorbar": {
              "outlinewidth": 0,
              "ticks": ""
             }
            },
            "type": "scatterternary"
           }
          ],
          "surface": [
           {
            "colorbar": {
             "outlinewidth": 0,
             "ticks": ""
            },
            "colorscale": [
             [
              0,
              "#0d0887"
             ],
             [
              0.1111111111111111,
              "#46039f"
             ],
             [
              0.2222222222222222,
              "#7201a8"
             ],
             [
              0.3333333333333333,
              "#9c179e"
             ],
             [
              0.4444444444444444,
              "#bd3786"
             ],
             [
              0.5555555555555556,
              "#d8576b"
             ],
             [
              0.6666666666666666,
              "#ed7953"
             ],
             [
              0.7777777777777778,
              "#fb9f3a"
             ],
             [
              0.8888888888888888,
              "#fdca26"
             ],
             [
              1,
              "#f0f921"
             ]
            ],
            "type": "surface"
           }
          ],
          "table": [
           {
            "cells": {
             "fill": {
              "color": "#EBF0F8"
             },
             "line": {
              "color": "white"
             }
            },
            "header": {
             "fill": {
              "color": "#C8D4E3"
             },
             "line": {
              "color": "white"
             }
            },
            "type": "table"
           }
          ]
         },
         "layout": {
          "annotationdefaults": {
           "arrowcolor": "#2a3f5f",
           "arrowhead": 0,
           "arrowwidth": 1
          },
          "autotypenumbers": "strict",
          "coloraxis": {
           "colorbar": {
            "outlinewidth": 0,
            "ticks": ""
           }
          },
          "colorscale": {
           "diverging": [
            [
             0,
             "#8e0152"
            ],
            [
             0.1,
             "#c51b7d"
            ],
            [
             0.2,
             "#de77ae"
            ],
            [
             0.3,
             "#f1b6da"
            ],
            [
             0.4,
             "#fde0ef"
            ],
            [
             0.5,
             "#f7f7f7"
            ],
            [
             0.6,
             "#e6f5d0"
            ],
            [
             0.7,
             "#b8e186"
            ],
            [
             0.8,
             "#7fbc41"
            ],
            [
             0.9,
             "#4d9221"
            ],
            [
             1,
             "#276419"
            ]
           ],
           "sequential": [
            [
             0,
             "#0d0887"
            ],
            [
             0.1111111111111111,
             "#46039f"
            ],
            [
             0.2222222222222222,
             "#7201a8"
            ],
            [
             0.3333333333333333,
             "#9c179e"
            ],
            [
             0.4444444444444444,
             "#bd3786"
            ],
            [
             0.5555555555555556,
             "#d8576b"
            ],
            [
             0.6666666666666666,
             "#ed7953"
            ],
            [
             0.7777777777777778,
             "#fb9f3a"
            ],
            [
             0.8888888888888888,
             "#fdca26"
            ],
            [
             1,
             "#f0f921"
            ]
           ],
           "sequentialminus": [
            [
             0,
             "#0d0887"
            ],
            [
             0.1111111111111111,
             "#46039f"
            ],
            [
             0.2222222222222222,
             "#7201a8"
            ],
            [
             0.3333333333333333,
             "#9c179e"
            ],
            [
             0.4444444444444444,
             "#bd3786"
            ],
            [
             0.5555555555555556,
             "#d8576b"
            ],
            [
             0.6666666666666666,
             "#ed7953"
            ],
            [
             0.7777777777777778,
             "#fb9f3a"
            ],
            [
             0.8888888888888888,
             "#fdca26"
            ],
            [
             1,
             "#f0f921"
            ]
           ]
          },
          "colorway": [
           "#636efa",
           "#EF553B",
           "#00cc96",
           "#ab63fa",
           "#FFA15A",
           "#19d3f3",
           "#FF6692",
           "#B6E880",
           "#FF97FF",
           "#FECB52"
          ],
          "font": {
           "color": "#2a3f5f"
          },
          "geo": {
           "bgcolor": "white",
           "lakecolor": "white",
           "landcolor": "#E5ECF6",
           "showlakes": true,
           "showland": true,
           "subunitcolor": "white"
          },
          "hoverlabel": {
           "align": "left"
          },
          "hovermode": "closest",
          "mapbox": {
           "style": "light"
          },
          "paper_bgcolor": "white",
          "plot_bgcolor": "#E5ECF6",
          "polar": {
           "angularaxis": {
            "gridcolor": "white",
            "linecolor": "white",
            "ticks": ""
           },
           "bgcolor": "#E5ECF6",
           "radialaxis": {
            "gridcolor": "white",
            "linecolor": "white",
            "ticks": ""
           }
          },
          "scene": {
           "xaxis": {
            "backgroundcolor": "#E5ECF6",
            "gridcolor": "white",
            "gridwidth": 2,
            "linecolor": "white",
            "showbackground": true,
            "ticks": "",
            "zerolinecolor": "white"
           },
           "yaxis": {
            "backgroundcolor": "#E5ECF6",
            "gridcolor": "white",
            "gridwidth": 2,
            "linecolor": "white",
            "showbackground": true,
            "ticks": "",
            "zerolinecolor": "white"
           },
           "zaxis": {
            "backgroundcolor": "#E5ECF6",
            "gridcolor": "white",
            "gridwidth": 2,
            "linecolor": "white",
            "showbackground": true,
            "ticks": "",
            "zerolinecolor": "white"
           }
          },
          "shapedefaults": {
           "line": {
            "color": "#2a3f5f"
           }
          },
          "ternary": {
           "aaxis": {
            "gridcolor": "white",
            "linecolor": "white",
            "ticks": ""
           },
           "baxis": {
            "gridcolor": "white",
            "linecolor": "white",
            "ticks": ""
           },
           "bgcolor": "#E5ECF6",
           "caxis": {
            "gridcolor": "white",
            "linecolor": "white",
            "ticks": ""
           }
          },
          "title": {
           "x": 0.05
          },
          "xaxis": {
           "automargin": true,
           "gridcolor": "white",
           "linecolor": "white",
           "ticks": "",
           "title": {
            "standoff": 15
           },
           "zerolinecolor": "white",
           "zerolinewidth": 2
          },
          "yaxis": {
           "automargin": true,
           "gridcolor": "white",
           "linecolor": "white",
           "ticks": "",
           "title": {
            "standoff": 15
           },
           "zerolinecolor": "white",
           "zerolinewidth": 2
          }
         }
        },
        "title": {
         "text": "Percent of Total GameSessions per Game (Free vs Premium) - Horizontal"
        },
        "width": 1000,
        "xaxis": {
         "anchor": "y",
         "domain": [
          0,
          1
         ],
         "title": {
          "text": "Percent of Total GameSessions"
         }
        },
        "yaxis": {
         "anchor": "x",
         "categoryorder": "total ascending",
         "domain": [
          0,
          1
         ],
         "title": {
          "text": "Game"
         }
        }
       }
      }
     },
     "metadata": {},
     "output_type": "display_data"
    },
    {
     "data": {
      "application/vnd.plotly.v1+json": {
       "config": {
        "plotlyServerURL": "https://plot.ly"
       },
       "data": [
        {
         "alignmentgroup": "True",
         "hovertemplate": "User Type=free<br>Percent of Total Users=%{text}<br>Game=%{y}<extra></extra>",
         "legendgroup": "free",
         "marker": {
          "color": "#636efa",
          "pattern": {
           "shape": ""
          }
         },
         "name": "free",
         "offsetgroup": "free",
         "orientation": "h",
         "showlegend": true,
         "text": {
          "bdata": "rkfhehQOQEBI4XoUrkcsQDMzMzMzMydAUrgehetRFkBxPQrXo3ARQJqZmZmZGSBAAAAAAAAABEDXo3A9Ctf7P7gehetRuABAexSuR+F6/D8fhetRuB75PwAAAAAAAPg/ZmZmZmZm7j+amZmZmZn5P4/C9Shcj/I/AAAAAAAA6D8pXI/C9SjwP/YoXI/C9eg/9ihcj8L16D+amZmZmZnhP0jhehSuR9E/mpmZmZmZ2T+PwvUoXI/SP65H4XoUrtc/SOF6FK5H0T8fhetRuB7VP6RwPQrXo9A/pHA9Ctej0D9xPQrXo3DNP6RwPQrXo9A/exSuR+F6pD+PwvUoXI/SP8P1KFyPwsU/KVyPwvUozD/D9Shcj8LFP5qZmZmZmbk/mpmZmZmZuT/sUbgehevBP7gehetRuL4/CtejcD0Ktz+4HoXrUbiuP5qZmZmZmbk/mpmZmZmZuT+4HoXrUbiuP3sUrkfheqQ/uB6F61G4nj/sUbgeheuxP3sUrkfheoQ/uB6F61G4nj97FK5H4XqkP3sUrkfheqQ/uB6F61G4nj97FK5H4XqEP3sUrkfheoQ/exSuR+F6hD97FK5H4XqEP3sUrkfheoQ/",
          "dtype": "f8"
         },
         "textposition": "outside",
         "type": "bar",
         "x": {
          "bdata": "rkfhehQOQEBI4XoUrkcsQDMzMzMzMydAUrgehetRFkBxPQrXo3ARQJqZmZmZGSBAAAAAAAAABEDXo3A9Ctf7P7gehetRuABAexSuR+F6/D8fhetRuB75PwAAAAAAAPg/ZmZmZmZm7j+amZmZmZn5P4/C9Shcj/I/AAAAAAAA6D8pXI/C9SjwP/YoXI/C9eg/9ihcj8L16D+amZmZmZnhP0jhehSuR9E/mpmZmZmZ2T+PwvUoXI/SP65H4XoUrtc/SOF6FK5H0T8fhetRuB7VP6RwPQrXo9A/pHA9Ctej0D9xPQrXo3DNP6RwPQrXo9A/exSuR+F6pD+PwvUoXI/SP8P1KFyPwsU/KVyPwvUozD/D9Shcj8LFP5qZmZmZmbk/mpmZmZmZuT/sUbgehevBP7gehetRuL4/CtejcD0Ktz+4HoXrUbiuP5qZmZmZmbk/mpmZmZmZuT+4HoXrUbiuP3sUrkfheqQ/uB6F61G4nj/sUbgeheuxP3sUrkfheoQ/uB6F61G4nj97FK5H4XqkP3sUrkfheqQ/uB6F61G4nj97FK5H4XqEP3sUrkfheoQ/exSuR+F6hD97FK5H4XqEP3sUrkfheoQ/",
          "dtype": "f8"
         },
         "xaxis": "x",
         "y": [
          "Other Games",
          "COD: Warzone3-2 & MW3-2",
          "Fortnite",
          "Valorant",
          "Apex Legends",
          "Podcast",
          "Overwatch 2",
          "League of Legends",
          "Tom Clancy's Rainbow Six: Siege",
          "NBA: 2K24",
          "Rocket League",
          "Dead by Daylight",
          "Madden NFL 24",
          "chatting",
          "Fall Guys",
          "FIFA 23-24 & EA Sports FC 24",
          "Counter Strike2",
          "Grand Theft Auto V",
          "ROBLOX",
          "Destiny ",
          "PlayerUnknown's Battlegrounds\n",
          "Mortal Kombat 1",
          "starfield",
          "COD: Black Ops Coldwar",
          "Halo Infinite",
          "The Texas Chain Saw Massacre",
          "Farlight84",
          "Elden Ring",
          "THE FINALS",
          "Party Animals",
          "Mobile Legend",
          "Among Us",
          "Naraka",
          "Phasmophobia",
          "Lies of P",
          "My Hero Ultra Rumble",
          "Street Fighter",
          "Game Detector",
          "COD: Mobile",
          "Marvel's Spider-Man 2",
          "Freefire",
          "Rogue Company",
          "PAYDAY 3",
          "SMITE",
          "COD: Vanguard",
          "Worlds of Tanks",
          "Remnant 2",
          "battlefield2042",
          "Call of Duty",
          "Fifa fc 2024",
          "Honkai: Star Rail",
          "Team Fight Tatics",
          "Battlebit",
          "Hearthstone",
          "Yu-Gi-Oh! Master Duel",
          "MLB The Show 22&23",
          "SuperSmash Bros Ultimate"
         ],
         "yaxis": "y"
        },
        {
         "alignmentgroup": "True",
         "hovertemplate": "User Type=premium<br>Percent of Total Users=%{text}<br>Game=%{y}<extra></extra>",
         "legendgroup": "premium",
         "marker": {
          "color": "#EF553B",
          "pattern": {
           "shape": ""
          }
         },
         "name": "premium",
         "offsetgroup": "premium",
         "orientation": "h",
         "showlegend": true,
         "text": {
          "bdata": "PQrXo3C9PUBxPQrXo/AqQNejcD0K1yRArkfhehSuE0C4HoXrUbgSQK5H4XoUrgNAUrgehetR+D97FK5H4XoGQNejcD0K1/8/SOF6FK5HCUC4HoXrUbgCQD0K16NwPeo/pHA9Ctej9D/NzMzMzMzwP7gehetRuPI/zczMzMzM8D89CtejcD3qP1K4HoXrUfg/pHA9Ctej9D/NzMzMzMzwP2ZmZmZmZuY/ZmZmZmZm5j/NzMzMzMzwPz0K16NwPeo/uB6F61G4vj8UrkfhehTePxSuR+F6FO4/4XoUrkfh4j9mZmZmZmbWP2ZmZmZmZtY/zczMzMzM8D/hehSuR+HiP3E9CtejcM0/cT0K16NwzT9xPQrXo3DNPxSuR+F6FN4/ZmZmZmZm1j9xPQrXo3DNP2ZmZmZmZtY/FK5H4XoU3j+4HoXrUbi+P3E9CtejcM0/uB6F61G4vj+4HoXrUbi+P3E9CtejcM0/uB6F61G4vj+4HoXrUbi+P7gehetRuL4/uB6F61G4vj+4HoXrUbi+P7gehetRuL4/uB6F61G4vj+4HoXrUbi+Pw==",
          "dtype": "f8"
         },
         "textposition": "outside",
         "type": "bar",
         "x": {
          "bdata": "PQrXo3C9PUBxPQrXo/AqQNejcD0K1yRArkfhehSuE0C4HoXrUbgSQK5H4XoUrgNAUrgehetR+D97FK5H4XoGQNejcD0K1/8/SOF6FK5HCUC4HoXrUbgCQD0K16NwPeo/pHA9Ctej9D/NzMzMzMzwP7gehetRuPI/zczMzMzM8D89CtejcD3qP1K4HoXrUfg/pHA9Ctej9D/NzMzMzMzwP2ZmZmZmZuY/ZmZmZmZm5j/NzMzMzMzwPz0K16NwPeo/uB6F61G4vj8UrkfhehTePxSuR+F6FO4/4XoUrkfh4j9mZmZmZmbWP2ZmZmZmZtY/zczMzMzM8D/hehSuR+HiP3E9CtejcM0/cT0K16NwzT9xPQrXo3DNPxSuR+F6FN4/ZmZmZmZm1j9xPQrXo3DNP2ZmZmZmZtY/FK5H4XoU3j+4HoXrUbi+P3E9CtejcM0/uB6F61G4vj+4HoXrUbi+P3E9CtejcM0/uB6F61G4vj+4HoXrUbi+P7gehetRuL4/uB6F61G4vj+4HoXrUbi+P7gehetRuL4/uB6F61G4vj+4HoXrUbi+Pw==",
          "dtype": "f8"
         },
         "xaxis": "x",
         "y": [
          "Other Games",
          "COD: Warzone3-2 & MW3-2",
          "Fortnite",
          "Apex Legends",
          "Valorant",
          "League of Legends",
          "Rocket League",
          "Overwatch 2",
          "Tom Clancy's Rainbow Six: Siege",
          "chatting",
          "Dead by Daylight",
          "FIFA 23-24 & EA Sports FC 24",
          "Counter Strike2",
          "Halo Infinite",
          "NBA: 2K24",
          "Farlight84",
          "Grand Theft Auto V",
          "Fall Guys",
          "Party Animals",
          "Podcast",
          "The Texas Chain Saw Massacre",
          "Madden NFL 24",
          "Phasmophobia",
          "starfield",
          "Mobile Legend",
          "Honkai: Star Rail",
          "THE FINALS",
          "Destiny ",
          "Elden Ring",
          "Lies of P",
          "Game Detector",
          "ROBLOX",
          "SMITE",
          "Naraka",
          "My Hero Ultra Rumble",
          "Forza Motorsport",
          "PlayerUnknown's Battlegrounds\n",
          "Hearthstone",
          "Team Fight Tatics",
          "Among Us",
          "Mortal Kombat 1",
          "Remnant 2",
          "SuperSmash Bros Ultimate",
          "NHL 23",
          "Marvel's Spider-Man 2",
          "Fifa fc 2024",
          "COD: Black Ops Coldwar",
          "MLB The Show 22&23",
          "Freefire",
          "Street Fighter",
          "Rogue Company",
          "COD: Mobile",
          "COD: Vanguard"
         ],
         "yaxis": "y"
        }
       ],
       "layout": {
        "barmode": "group",
        "height": 800,
        "legend": {
         "title": {
          "text": "User Type"
         },
         "tracegroupgap": 0
        },
        "margin": {
         "l": 150,
         "t": 80
        },
        "template": {
         "data": {
          "bar": [
           {
            "error_x": {
             "color": "#2a3f5f"
            },
            "error_y": {
             "color": "#2a3f5f"
            },
            "marker": {
             "line": {
              "color": "#E5ECF6",
              "width": 0.5
             },
             "pattern": {
              "fillmode": "overlay",
              "size": 10,
              "solidity": 0.2
             }
            },
            "type": "bar"
           }
          ],
          "barpolar": [
           {
            "marker": {
             "line": {
              "color": "#E5ECF6",
              "width": 0.5
             },
             "pattern": {
              "fillmode": "overlay",
              "size": 10,
              "solidity": 0.2
             }
            },
            "type": "barpolar"
           }
          ],
          "carpet": [
           {
            "aaxis": {
             "endlinecolor": "#2a3f5f",
             "gridcolor": "white",
             "linecolor": "white",
             "minorgridcolor": "white",
             "startlinecolor": "#2a3f5f"
            },
            "baxis": {
             "endlinecolor": "#2a3f5f",
             "gridcolor": "white",
             "linecolor": "white",
             "minorgridcolor": "white",
             "startlinecolor": "#2a3f5f"
            },
            "type": "carpet"
           }
          ],
          "choropleth": [
           {
            "colorbar": {
             "outlinewidth": 0,
             "ticks": ""
            },
            "type": "choropleth"
           }
          ],
          "contour": [
           {
            "colorbar": {
             "outlinewidth": 0,
             "ticks": ""
            },
            "colorscale": [
             [
              0,
              "#0d0887"
             ],
             [
              0.1111111111111111,
              "#46039f"
             ],
             [
              0.2222222222222222,
              "#7201a8"
             ],
             [
              0.3333333333333333,
              "#9c179e"
             ],
             [
              0.4444444444444444,
              "#bd3786"
             ],
             [
              0.5555555555555556,
              "#d8576b"
             ],
             [
              0.6666666666666666,
              "#ed7953"
             ],
             [
              0.7777777777777778,
              "#fb9f3a"
             ],
             [
              0.8888888888888888,
              "#fdca26"
             ],
             [
              1,
              "#f0f921"
             ]
            ],
            "type": "contour"
           }
          ],
          "contourcarpet": [
           {
            "colorbar": {
             "outlinewidth": 0,
             "ticks": ""
            },
            "type": "contourcarpet"
           }
          ],
          "heatmap": [
           {
            "colorbar": {
             "outlinewidth": 0,
             "ticks": ""
            },
            "colorscale": [
             [
              0,
              "#0d0887"
             ],
             [
              0.1111111111111111,
              "#46039f"
             ],
             [
              0.2222222222222222,
              "#7201a8"
             ],
             [
              0.3333333333333333,
              "#9c179e"
             ],
             [
              0.4444444444444444,
              "#bd3786"
             ],
             [
              0.5555555555555556,
              "#d8576b"
             ],
             [
              0.6666666666666666,
              "#ed7953"
             ],
             [
              0.7777777777777778,
              "#fb9f3a"
             ],
             [
              0.8888888888888888,
              "#fdca26"
             ],
             [
              1,
              "#f0f921"
             ]
            ],
            "type": "heatmap"
           }
          ],
          "histogram": [
           {
            "marker": {
             "pattern": {
              "fillmode": "overlay",
              "size": 10,
              "solidity": 0.2
             }
            },
            "type": "histogram"
           }
          ],
          "histogram2d": [
           {
            "colorbar": {
             "outlinewidth": 0,
             "ticks": ""
            },
            "colorscale": [
             [
              0,
              "#0d0887"
             ],
             [
              0.1111111111111111,
              "#46039f"
             ],
             [
              0.2222222222222222,
              "#7201a8"
             ],
             [
              0.3333333333333333,
              "#9c179e"
             ],
             [
              0.4444444444444444,
              "#bd3786"
             ],
             [
              0.5555555555555556,
              "#d8576b"
             ],
             [
              0.6666666666666666,
              "#ed7953"
             ],
             [
              0.7777777777777778,
              "#fb9f3a"
             ],
             [
              0.8888888888888888,
              "#fdca26"
             ],
             [
              1,
              "#f0f921"
             ]
            ],
            "type": "histogram2d"
           }
          ],
          "histogram2dcontour": [
           {
            "colorbar": {
             "outlinewidth": 0,
             "ticks": ""
            },
            "colorscale": [
             [
              0,
              "#0d0887"
             ],
             [
              0.1111111111111111,
              "#46039f"
             ],
             [
              0.2222222222222222,
              "#7201a8"
             ],
             [
              0.3333333333333333,
              "#9c179e"
             ],
             [
              0.4444444444444444,
              "#bd3786"
             ],
             [
              0.5555555555555556,
              "#d8576b"
             ],
             [
              0.6666666666666666,
              "#ed7953"
             ],
             [
              0.7777777777777778,
              "#fb9f3a"
             ],
             [
              0.8888888888888888,
              "#fdca26"
             ],
             [
              1,
              "#f0f921"
             ]
            ],
            "type": "histogram2dcontour"
           }
          ],
          "mesh3d": [
           {
            "colorbar": {
             "outlinewidth": 0,
             "ticks": ""
            },
            "type": "mesh3d"
           }
          ],
          "parcoords": [
           {
            "line": {
             "colorbar": {
              "outlinewidth": 0,
              "ticks": ""
             }
            },
            "type": "parcoords"
           }
          ],
          "pie": [
           {
            "automargin": true,
            "type": "pie"
           }
          ],
          "scatter": [
           {
            "fillpattern": {
             "fillmode": "overlay",
             "size": 10,
             "solidity": 0.2
            },
            "type": "scatter"
           }
          ],
          "scatter3d": [
           {
            "line": {
             "colorbar": {
              "outlinewidth": 0,
              "ticks": ""
             }
            },
            "marker": {
             "colorbar": {
              "outlinewidth": 0,
              "ticks": ""
             }
            },
            "type": "scatter3d"
           }
          ],
          "scattercarpet": [
           {
            "marker": {
             "colorbar": {
              "outlinewidth": 0,
              "ticks": ""
             }
            },
            "type": "scattercarpet"
           }
          ],
          "scattergeo": [
           {
            "marker": {
             "colorbar": {
              "outlinewidth": 0,
              "ticks": ""
             }
            },
            "type": "scattergeo"
           }
          ],
          "scattergl": [
           {
            "marker": {
             "colorbar": {
              "outlinewidth": 0,
              "ticks": ""
             }
            },
            "type": "scattergl"
           }
          ],
          "scattermap": [
           {
            "marker": {
             "colorbar": {
              "outlinewidth": 0,
              "ticks": ""
             }
            },
            "type": "scattermap"
           }
          ],
          "scattermapbox": [
           {
            "marker": {
             "colorbar": {
              "outlinewidth": 0,
              "ticks": ""
             }
            },
            "type": "scattermapbox"
           }
          ],
          "scatterpolar": [
           {
            "marker": {
             "colorbar": {
              "outlinewidth": 0,
              "ticks": ""
             }
            },
            "type": "scatterpolar"
           }
          ],
          "scatterpolargl": [
           {
            "marker": {
             "colorbar": {
              "outlinewidth": 0,
              "ticks": ""
             }
            },
            "type": "scatterpolargl"
           }
          ],
          "scatterternary": [
           {
            "marker": {
             "colorbar": {
              "outlinewidth": 0,
              "ticks": ""
             }
            },
            "type": "scatterternary"
           }
          ],
          "surface": [
           {
            "colorbar": {
             "outlinewidth": 0,
             "ticks": ""
            },
            "colorscale": [
             [
              0,
              "#0d0887"
             ],
             [
              0.1111111111111111,
              "#46039f"
             ],
             [
              0.2222222222222222,
              "#7201a8"
             ],
             [
              0.3333333333333333,
              "#9c179e"
             ],
             [
              0.4444444444444444,
              "#bd3786"
             ],
             [
              0.5555555555555556,
              "#d8576b"
             ],
             [
              0.6666666666666666,
              "#ed7953"
             ],
             [
              0.7777777777777778,
              "#fb9f3a"
             ],
             [
              0.8888888888888888,
              "#fdca26"
             ],
             [
              1,
              "#f0f921"
             ]
            ],
            "type": "surface"
           }
          ],
          "table": [
           {
            "cells": {
             "fill": {
              "color": "#EBF0F8"
             },
             "line": {
              "color": "white"
             }
            },
            "header": {
             "fill": {
              "color": "#C8D4E3"
             },
             "line": {
              "color": "white"
             }
            },
            "type": "table"
           }
          ]
         },
         "layout": {
          "annotationdefaults": {
           "arrowcolor": "#2a3f5f",
           "arrowhead": 0,
           "arrowwidth": 1
          },
          "autotypenumbers": "strict",
          "coloraxis": {
           "colorbar": {
            "outlinewidth": 0,
            "ticks": ""
           }
          },
          "colorscale": {
           "diverging": [
            [
             0,
             "#8e0152"
            ],
            [
             0.1,
             "#c51b7d"
            ],
            [
             0.2,
             "#de77ae"
            ],
            [
             0.3,
             "#f1b6da"
            ],
            [
             0.4,
             "#fde0ef"
            ],
            [
             0.5,
             "#f7f7f7"
            ],
            [
             0.6,
             "#e6f5d0"
            ],
            [
             0.7,
             "#b8e186"
            ],
            [
             0.8,
             "#7fbc41"
            ],
            [
             0.9,
             "#4d9221"
            ],
            [
             1,
             "#276419"
            ]
           ],
           "sequential": [
            [
             0,
             "#0d0887"
            ],
            [
             0.1111111111111111,
             "#46039f"
            ],
            [
             0.2222222222222222,
             "#7201a8"
            ],
            [
             0.3333333333333333,
             "#9c179e"
            ],
            [
             0.4444444444444444,
             "#bd3786"
            ],
            [
             0.5555555555555556,
             "#d8576b"
            ],
            [
             0.6666666666666666,
             "#ed7953"
            ],
            [
             0.7777777777777778,
             "#fb9f3a"
            ],
            [
             0.8888888888888888,
             "#fdca26"
            ],
            [
             1,
             "#f0f921"
            ]
           ],
           "sequentialminus": [
            [
             0,
             "#0d0887"
            ],
            [
             0.1111111111111111,
             "#46039f"
            ],
            [
             0.2222222222222222,
             "#7201a8"
            ],
            [
             0.3333333333333333,
             "#9c179e"
            ],
            [
             0.4444444444444444,
             "#bd3786"
            ],
            [
             0.5555555555555556,
             "#d8576b"
            ],
            [
             0.6666666666666666,
             "#ed7953"
            ],
            [
             0.7777777777777778,
             "#fb9f3a"
            ],
            [
             0.8888888888888888,
             "#fdca26"
            ],
            [
             1,
             "#f0f921"
            ]
           ]
          },
          "colorway": [
           "#636efa",
           "#EF553B",
           "#00cc96",
           "#ab63fa",
           "#FFA15A",
           "#19d3f3",
           "#FF6692",
           "#B6E880",
           "#FF97FF",
           "#FECB52"
          ],
          "font": {
           "color": "#2a3f5f"
          },
          "geo": {
           "bgcolor": "white",
           "lakecolor": "white",
           "landcolor": "#E5ECF6",
           "showlakes": true,
           "showland": true,
           "subunitcolor": "white"
          },
          "hoverlabel": {
           "align": "left"
          },
          "hovermode": "closest",
          "mapbox": {
           "style": "light"
          },
          "paper_bgcolor": "white",
          "plot_bgcolor": "#E5ECF6",
          "polar": {
           "angularaxis": {
            "gridcolor": "white",
            "linecolor": "white",
            "ticks": ""
           },
           "bgcolor": "#E5ECF6",
           "radialaxis": {
            "gridcolor": "white",
            "linecolor": "white",
            "ticks": ""
           }
          },
          "scene": {
           "xaxis": {
            "backgroundcolor": "#E5ECF6",
            "gridcolor": "white",
            "gridwidth": 2,
            "linecolor": "white",
            "showbackground": true,
            "ticks": "",
            "zerolinecolor": "white"
           },
           "yaxis": {
            "backgroundcolor": "#E5ECF6",
            "gridcolor": "white",
            "gridwidth": 2,
            "linecolor": "white",
            "showbackground": true,
            "ticks": "",
            "zerolinecolor": "white"
           },
           "zaxis": {
            "backgroundcolor": "#E5ECF6",
            "gridcolor": "white",
            "gridwidth": 2,
            "linecolor": "white",
            "showbackground": true,
            "ticks": "",
            "zerolinecolor": "white"
           }
          },
          "shapedefaults": {
           "line": {
            "color": "#2a3f5f"
           }
          },
          "ternary": {
           "aaxis": {
            "gridcolor": "white",
            "linecolor": "white",
            "ticks": ""
           },
           "baxis": {
            "gridcolor": "white",
            "linecolor": "white",
            "ticks": ""
           },
           "bgcolor": "#E5ECF6",
           "caxis": {
            "gridcolor": "white",
            "linecolor": "white",
            "ticks": ""
           }
          },
          "title": {
           "x": 0.05
          },
          "xaxis": {
           "automargin": true,
           "gridcolor": "white",
           "linecolor": "white",
           "ticks": "",
           "title": {
            "standoff": 15
           },
           "zerolinecolor": "white",
           "zerolinewidth": 2
          },
          "yaxis": {
           "automargin": true,
           "gridcolor": "white",
           "linecolor": "white",
           "ticks": "",
           "title": {
            "standoff": 15
           },
           "zerolinecolor": "white",
           "zerolinewidth": 2
          }
         }
        },
        "title": {
         "text": "Percent of Total Users who Generated GameSessions per Game (Free vs Premium) - Horizontal"
        },
        "width": 1000,
        "xaxis": {
         "anchor": "y",
         "domain": [
          0,
          1
         ],
         "title": {
          "text": "Percent of Total Users"
         }
        },
        "yaxis": {
         "anchor": "x",
         "categoryorder": "total ascending",
         "domain": [
          0,
          1
         ],
         "title": {
          "text": "Game"
         }
        }
       }
      }
     },
     "metadata": {},
     "output_type": "display_data"
    },
    {
     "data": {
      "application/vnd.plotly.v1+json": {
       "config": {
        "plotlyServerURL": "https://plot.ly"
       },
       "data": [
        {
         "alignmentgroup": "True",
         "hovertemplate": "User Type=free<br>Duration=%{text}<br>Game=%{y}<extra></extra>",
         "legendgroup": "free",
         "marker": {
          "color": "#636efa",
          "pattern": {
           "shape": ""
          }
         },
         "name": "free",
         "offsetgroup": "free",
         "orientation": "h",
         "showlegend": true,
         "text": {
          "bdata": "AAAAgHHZXEEAAACAPnpXQQAAAABCZFhBAAAAAClEYEEAAABAyeJaQQAAAADXYDJBAAAAwE3TX0EAAAAAKutfQQAAAIBRuVhBAAAAwHarVkEAAAAA/AdaQQAAAGAkAWBBAAAAgFMwUkEAAABAxRFYQQAAAIAIPVlBAAAAADobWEEAAACA53tfQQAAAMC/e1ZBAAAAwFGzUUEAAADAeXdeQQAAAABkk11BAAAAgEexU0EAAACAukRbQQAAAACpjlFBAAAAAL2oYUEAAABALP5VQQAAAIDhUF5BAAAAANISYEEAAADAjtJaQQAAAABfO1ZBAAAAgHbiWkEAAAAAzEphQQAAAADXHF5BAAAAgAOEVkEAAACA0R5ZQQAAAAD3LFhBAAAAQPe+YEEAAAAA/ENUQQAAAICZXk9BAAAAAKpOUUEAAAAAF/JZQQAAAIBUGVdBAAAAACL/WkEAAAAAo15iQQAAAACYk19BAAAAAKj7YEEAAABAm8lbQQAAAAC1kF5BAAAAwDoRVUEAAADArtpTQQAAAAAYlmBBAAAAAMV8Y0EAAAAA28VVQQAAAACslVNBAAAAAPCnLEEAAAAARjtwQQAAAAAeBmNB",
          "dtype": "f8"
         },
         "textposition": "outside",
         "type": "bar",
         "x": {
          "bdata": "AAAAgHHZXEEAAACAPnpXQQAAAABCZFhBAAAAAClEYEEAAABAyeJaQQAAAADXYDJBAAAAwE3TX0EAAAAAKutfQQAAAIBRuVhBAAAAwHarVkEAAAAA/AdaQQAAAGAkAWBBAAAAgFMwUkEAAABAxRFYQQAAAIAIPVlBAAAAADobWEEAAACA53tfQQAAAMC/e1ZBAAAAwFGzUUEAAADAeXdeQQAAAABkk11BAAAAgEexU0EAAACAukRbQQAAAACpjlFBAAAAAL2oYUEAAABALP5VQQAAAIDhUF5BAAAAANISYEEAAADAjtJaQQAAAABfO1ZBAAAAgHbiWkEAAAAAzEphQQAAAADXHF5BAAAAgAOEVkEAAACA0R5ZQQAAAAD3LFhBAAAAQPe+YEEAAAAA/ENUQQAAAICZXk9BAAAAAKpOUUEAAAAAF/JZQQAAAIBUGVdBAAAAACL/WkEAAAAAo15iQQAAAACYk19BAAAAAKj7YEEAAABAm8lbQQAAAAC1kF5BAAAAwDoRVUEAAADArtpTQQAAAAAYlmBBAAAAAMV8Y0EAAAAA28VVQQAAAACslVNBAAAAAPCnLEEAAAAARjtwQQAAAAAeBmNB",
          "dtype": "f8"
         },
         "xaxis": "x",
         "y": [
          "Other Games",
          "COD: Warzone3-2 & MW3-2",
          "Fortnite",
          "Valorant",
          "Apex Legends",
          "Podcast",
          "Overwatch 2",
          "League of Legends",
          "Tom Clancy's Rainbow Six: Siege",
          "NBA: 2K24",
          "Rocket League",
          "Dead by Daylight",
          "Madden NFL 24",
          "chatting",
          "Fall Guys",
          "FIFA 23-24 & EA Sports FC 24",
          "Counter Strike2",
          "Grand Theft Auto V",
          "ROBLOX",
          "Destiny ",
          "PlayerUnknown's Battlegrounds\n",
          "Mortal Kombat 1",
          "starfield",
          "COD: Black Ops Coldwar",
          "Halo Infinite",
          "The Texas Chain Saw Massacre",
          "Farlight84",
          "Elden Ring",
          "THE FINALS",
          "Party Animals",
          "Mobile Legend",
          "Among Us",
          "Naraka",
          "Phasmophobia",
          "Lies of P",
          "My Hero Ultra Rumble",
          "Street Fighter",
          "Game Detector",
          "COD: Mobile",
          "Marvel's Spider-Man 2",
          "Freefire",
          "Rogue Company",
          "PAYDAY 3",
          "SMITE",
          "COD: Vanguard",
          "Worlds of Tanks",
          "Remnant 2",
          "battlefield2042",
          "Call of Duty",
          "Fifa fc 2024",
          "Honkai: Star Rail",
          "Team Fight Tatics",
          "Battlebit",
          "Hearthstone",
          "Yu-Gi-Oh! Master Duel",
          "MLB The Show 22&23",
          "SuperSmash Bros Ultimate"
         ],
         "yaxis": "y"
        },
        {
         "alignmentgroup": "True",
         "hovertemplate": "User Type=premium<br>Duration=%{text}<br>Game=%{y}<extra></extra>",
         "legendgroup": "premium",
         "marker": {
          "color": "#EF553B",
          "pattern": {
           "shape": ""
          }
         },
         "name": "premium",
         "offsetgroup": "premium",
         "orientation": "h",
         "showlegend": true,
         "text": {
          "bdata": "AAAAABhBY0EAAACgmUpiQQAAAKAUimVBAAAAgL8ZZUEAAABgF1VmQQAAAODSoWpBAAAAIDE4ZUEAAAAAztZqQQAAAOBafGJBAAAAQIj+YUEAAAAgmdtjQQAAAMBoO11BAAAAwCQMbUEAAAAgWFVlQQAAACA502FBAAAAQJO7bkEAAAAgzuVqQQAAAADIeF5BAAAAAH4JXkEAAAAARJs/QQAAAGAWlWRBAAAAwJRpWEEAAABAD0hjQQAAAMDC9FlBAAAAoKrzaEEAAAAwvDVyQQAAAKClLWVBAAAAQCm8YkEAAAAgujNgQQAAAGBumGhBAAAAAEq3V0EAAABAq6xnQQAAAGCbMm9BAAAAgC4hU0EAAACAxcJLQQAAAGAnlWlBAAAAALA7ZEEAAAAAQextQQAAAMDDZWZBAAAAgBFdYUEAAABgCGhgQQAAAABm7mRBAAAAAEoia0EAAAAAjDVWQQAAAACNLFRBAAAAAJ1rUEEAAAAAzLNbQQAAAAAyr1lBAAAAAHJLWkEAAAAAwEQ5QQAAAADwVFVBAAAAgA8zf0EAAAAAG9RgQQ==",
          "dtype": "f8"
         },
         "textposition": "outside",
         "type": "bar",
         "x": {
          "bdata": "AAAAABhBY0EAAACgmUpiQQAAAKAUimVBAAAAgL8ZZUEAAABgF1VmQQAAAODSoWpBAAAAIDE4ZUEAAAAAztZqQQAAAOBafGJBAAAAQIj+YUEAAAAgmdtjQQAAAMBoO11BAAAAwCQMbUEAAAAgWFVlQQAAACA502FBAAAAQJO7bkEAAAAgzuVqQQAAAADIeF5BAAAAAH4JXkEAAAAARJs/QQAAAGAWlWRBAAAAwJRpWEEAAABAD0hjQQAAAMDC9FlBAAAAoKrzaEEAAAAwvDVyQQAAAKClLWVBAAAAQCm8YkEAAAAgujNgQQAAAGBumGhBAAAAAEq3V0EAAABAq6xnQQAAAGCbMm9BAAAAgC4hU0EAAACAxcJLQQAAAGAnlWlBAAAAALA7ZEEAAAAAQextQQAAAMDDZWZBAAAAgBFdYUEAAABgCGhgQQAAAABm7mRBAAAAAEoia0EAAAAAjDVWQQAAAACNLFRBAAAAAJ1rUEEAAAAAzLNbQQAAAAAyr1lBAAAAAHJLWkEAAAAAwEQ5QQAAAADwVFVBAAAAgA8zf0EAAAAAG9RgQQ==",
          "dtype": "f8"
         },
         "xaxis": "x",
         "y": [
          "Other Games",
          "COD: Warzone3-2 & MW3-2",
          "Fortnite",
          "Apex Legends",
          "Valorant",
          "League of Legends",
          "Rocket League",
          "Overwatch 2",
          "Tom Clancy's Rainbow Six: Siege",
          "chatting",
          "Dead by Daylight",
          "FIFA 23-24 & EA Sports FC 24",
          "Counter Strike2",
          "Halo Infinite",
          "NBA: 2K24",
          "Farlight84",
          "Grand Theft Auto V",
          "Fall Guys",
          "Party Animals",
          "Podcast",
          "The Texas Chain Saw Massacre",
          "Madden NFL 24",
          "Phasmophobia",
          "starfield",
          "Mobile Legend",
          "Honkai: Star Rail",
          "THE FINALS",
          "Destiny ",
          "Elden Ring",
          "Lies of P",
          "Game Detector",
          "ROBLOX",
          "SMITE",
          "Naraka",
          "My Hero Ultra Rumble",
          "Forza Motorsport",
          "PlayerUnknown's Battlegrounds\n",
          "Hearthstone",
          "Team Fight Tatics",
          "Among Us",
          "Mortal Kombat 1",
          "Remnant 2",
          "SuperSmash Bros Ultimate",
          "NHL 23",
          "Marvel's Spider-Man 2",
          "Fifa fc 2024",
          "COD: Black Ops Coldwar",
          "MLB The Show 22&23",
          "Freefire",
          "Street Fighter",
          "Rogue Company",
          "COD: Mobile",
          "COD: Vanguard"
         ],
         "yaxis": "y"
        }
       ],
       "layout": {
        "barmode": "group",
        "height": 800,
        "legend": {
         "title": {
          "text": "User Type"
         },
         "tracegroupgap": 0
        },
        "margin": {
         "l": 150,
         "t": 80
        },
        "template": {
         "data": {
          "bar": [
           {
            "error_x": {
             "color": "#2a3f5f"
            },
            "error_y": {
             "color": "#2a3f5f"
            },
            "marker": {
             "line": {
              "color": "#E5ECF6",
              "width": 0.5
             },
             "pattern": {
              "fillmode": "overlay",
              "size": 10,
              "solidity": 0.2
             }
            },
            "type": "bar"
           }
          ],
          "barpolar": [
           {
            "marker": {
             "line": {
              "color": "#E5ECF6",
              "width": 0.5
             },
             "pattern": {
              "fillmode": "overlay",
              "size": 10,
              "solidity": 0.2
             }
            },
            "type": "barpolar"
           }
          ],
          "carpet": [
           {
            "aaxis": {
             "endlinecolor": "#2a3f5f",
             "gridcolor": "white",
             "linecolor": "white",
             "minorgridcolor": "white",
             "startlinecolor": "#2a3f5f"
            },
            "baxis": {
             "endlinecolor": "#2a3f5f",
             "gridcolor": "white",
             "linecolor": "white",
             "minorgridcolor": "white",
             "startlinecolor": "#2a3f5f"
            },
            "type": "carpet"
           }
          ],
          "choropleth": [
           {
            "colorbar": {
             "outlinewidth": 0,
             "ticks": ""
            },
            "type": "choropleth"
           }
          ],
          "contour": [
           {
            "colorbar": {
             "outlinewidth": 0,
             "ticks": ""
            },
            "colorscale": [
             [
              0,
              "#0d0887"
             ],
             [
              0.1111111111111111,
              "#46039f"
             ],
             [
              0.2222222222222222,
              "#7201a8"
             ],
             [
              0.3333333333333333,
              "#9c179e"
             ],
             [
              0.4444444444444444,
              "#bd3786"
             ],
             [
              0.5555555555555556,
              "#d8576b"
             ],
             [
              0.6666666666666666,
              "#ed7953"
             ],
             [
              0.7777777777777778,
              "#fb9f3a"
             ],
             [
              0.8888888888888888,
              "#fdca26"
             ],
             [
              1,
              "#f0f921"
             ]
            ],
            "type": "contour"
           }
          ],
          "contourcarpet": [
           {
            "colorbar": {
             "outlinewidth": 0,
             "ticks": ""
            },
            "type": "contourcarpet"
           }
          ],
          "heatmap": [
           {
            "colorbar": {
             "outlinewidth": 0,
             "ticks": ""
            },
            "colorscale": [
             [
              0,
              "#0d0887"
             ],
             [
              0.1111111111111111,
              "#46039f"
             ],
             [
              0.2222222222222222,
              "#7201a8"
             ],
             [
              0.3333333333333333,
              "#9c179e"
             ],
             [
              0.4444444444444444,
              "#bd3786"
             ],
             [
              0.5555555555555556,
              "#d8576b"
             ],
             [
              0.6666666666666666,
              "#ed7953"
             ],
             [
              0.7777777777777778,
              "#fb9f3a"
             ],
             [
              0.8888888888888888,
              "#fdca26"
             ],
             [
              1,
              "#f0f921"
             ]
            ],
            "type": "heatmap"
           }
          ],
          "histogram": [
           {
            "marker": {
             "pattern": {
              "fillmode": "overlay",
              "size": 10,
              "solidity": 0.2
             }
            },
            "type": "histogram"
           }
          ],
          "histogram2d": [
           {
            "colorbar": {
             "outlinewidth": 0,
             "ticks": ""
            },
            "colorscale": [
             [
              0,
              "#0d0887"
             ],
             [
              0.1111111111111111,
              "#46039f"
             ],
             [
              0.2222222222222222,
              "#7201a8"
             ],
             [
              0.3333333333333333,
              "#9c179e"
             ],
             [
              0.4444444444444444,
              "#bd3786"
             ],
             [
              0.5555555555555556,
              "#d8576b"
             ],
             [
              0.6666666666666666,
              "#ed7953"
             ],
             [
              0.7777777777777778,
              "#fb9f3a"
             ],
             [
              0.8888888888888888,
              "#fdca26"
             ],
             [
              1,
              "#f0f921"
             ]
            ],
            "type": "histogram2d"
           }
          ],
          "histogram2dcontour": [
           {
            "colorbar": {
             "outlinewidth": 0,
             "ticks": ""
            },
            "colorscale": [
             [
              0,
              "#0d0887"
             ],
             [
              0.1111111111111111,
              "#46039f"
             ],
             [
              0.2222222222222222,
              "#7201a8"
             ],
             [
              0.3333333333333333,
              "#9c179e"
             ],
             [
              0.4444444444444444,
              "#bd3786"
             ],
             [
              0.5555555555555556,
              "#d8576b"
             ],
             [
              0.6666666666666666,
              "#ed7953"
             ],
             [
              0.7777777777777778,
              "#fb9f3a"
             ],
             [
              0.8888888888888888,
              "#fdca26"
             ],
             [
              1,
              "#f0f921"
             ]
            ],
            "type": "histogram2dcontour"
           }
          ],
          "mesh3d": [
           {
            "colorbar": {
             "outlinewidth": 0,
             "ticks": ""
            },
            "type": "mesh3d"
           }
          ],
          "parcoords": [
           {
            "line": {
             "colorbar": {
              "outlinewidth": 0,
              "ticks": ""
             }
            },
            "type": "parcoords"
           }
          ],
          "pie": [
           {
            "automargin": true,
            "type": "pie"
           }
          ],
          "scatter": [
           {
            "fillpattern": {
             "fillmode": "overlay",
             "size": 10,
             "solidity": 0.2
            },
            "type": "scatter"
           }
          ],
          "scatter3d": [
           {
            "line": {
             "colorbar": {
              "outlinewidth": 0,
              "ticks": ""
             }
            },
            "marker": {
             "colorbar": {
              "outlinewidth": 0,
              "ticks": ""
             }
            },
            "type": "scatter3d"
           }
          ],
          "scattercarpet": [
           {
            "marker": {
             "colorbar": {
              "outlinewidth": 0,
              "ticks": ""
             }
            },
            "type": "scattercarpet"
           }
          ],
          "scattergeo": [
           {
            "marker": {
             "colorbar": {
              "outlinewidth": 0,
              "ticks": ""
             }
            },
            "type": "scattergeo"
           }
          ],
          "scattergl": [
           {
            "marker": {
             "colorbar": {
              "outlinewidth": 0,
              "ticks": ""
             }
            },
            "type": "scattergl"
           }
          ],
          "scattermap": [
           {
            "marker": {
             "colorbar": {
              "outlinewidth": 0,
              "ticks": ""
             }
            },
            "type": "scattermap"
           }
          ],
          "scattermapbox": [
           {
            "marker": {
             "colorbar": {
              "outlinewidth": 0,
              "ticks": ""
             }
            },
            "type": "scattermapbox"
           }
          ],
          "scatterpolar": [
           {
            "marker": {
             "colorbar": {
              "outlinewidth": 0,
              "ticks": ""
             }
            },
            "type": "scatterpolar"
           }
          ],
          "scatterpolargl": [
           {
            "marker": {
             "colorbar": {
              "outlinewidth": 0,
              "ticks": ""
             }
            },
            "type": "scatterpolargl"
           }
          ],
          "scatterternary": [
           {
            "marker": {
             "colorbar": {
              "outlinewidth": 0,
              "ticks": ""
             }
            },
            "type": "scatterternary"
           }
          ],
          "surface": [
           {
            "colorbar": {
             "outlinewidth": 0,
             "ticks": ""
            },
            "colorscale": [
             [
              0,
              "#0d0887"
             ],
             [
              0.1111111111111111,
              "#46039f"
             ],
             [
              0.2222222222222222,
              "#7201a8"
             ],
             [
              0.3333333333333333,
              "#9c179e"
             ],
             [
              0.4444444444444444,
              "#bd3786"
             ],
             [
              0.5555555555555556,
              "#d8576b"
             ],
             [
              0.6666666666666666,
              "#ed7953"
             ],
             [
              0.7777777777777778,
              "#fb9f3a"
             ],
             [
              0.8888888888888888,
              "#fdca26"
             ],
             [
              1,
              "#f0f921"
             ]
            ],
            "type": "surface"
           }
          ],
          "table": [
           {
            "cells": {
             "fill": {
              "color": "#EBF0F8"
             },
             "line": {
              "color": "white"
             }
            },
            "header": {
             "fill": {
              "color": "#C8D4E3"
             },
             "line": {
              "color": "white"
             }
            },
            "type": "table"
           }
          ]
         },
         "layout": {
          "annotationdefaults": {
           "arrowcolor": "#2a3f5f",
           "arrowhead": 0,
           "arrowwidth": 1
          },
          "autotypenumbers": "strict",
          "coloraxis": {
           "colorbar": {
            "outlinewidth": 0,
            "ticks": ""
           }
          },
          "colorscale": {
           "diverging": [
            [
             0,
             "#8e0152"
            ],
            [
             0.1,
             "#c51b7d"
            ],
            [
             0.2,
             "#de77ae"
            ],
            [
             0.3,
             "#f1b6da"
            ],
            [
             0.4,
             "#fde0ef"
            ],
            [
             0.5,
             "#f7f7f7"
            ],
            [
             0.6,
             "#e6f5d0"
            ],
            [
             0.7,
             "#b8e186"
            ],
            [
             0.8,
             "#7fbc41"
            ],
            [
             0.9,
             "#4d9221"
            ],
            [
             1,
             "#276419"
            ]
           ],
           "sequential": [
            [
             0,
             "#0d0887"
            ],
            [
             0.1111111111111111,
             "#46039f"
            ],
            [
             0.2222222222222222,
             "#7201a8"
            ],
            [
             0.3333333333333333,
             "#9c179e"
            ],
            [
             0.4444444444444444,
             "#bd3786"
            ],
            [
             0.5555555555555556,
             "#d8576b"
            ],
            [
             0.6666666666666666,
             "#ed7953"
            ],
            [
             0.7777777777777778,
             "#fb9f3a"
            ],
            [
             0.8888888888888888,
             "#fdca26"
            ],
            [
             1,
             "#f0f921"
            ]
           ],
           "sequentialminus": [
            [
             0,
             "#0d0887"
            ],
            [
             0.1111111111111111,
             "#46039f"
            ],
            [
             0.2222222222222222,
             "#7201a8"
            ],
            [
             0.3333333333333333,
             "#9c179e"
            ],
            [
             0.4444444444444444,
             "#bd3786"
            ],
            [
             0.5555555555555556,
             "#d8576b"
            ],
            [
             0.6666666666666666,
             "#ed7953"
            ],
            [
             0.7777777777777778,
             "#fb9f3a"
            ],
            [
             0.8888888888888888,
             "#fdca26"
            ],
            [
             1,
             "#f0f921"
            ]
           ]
          },
          "colorway": [
           "#636efa",
           "#EF553B",
           "#00cc96",
           "#ab63fa",
           "#FFA15A",
           "#19d3f3",
           "#FF6692",
           "#B6E880",
           "#FF97FF",
           "#FECB52"
          ],
          "font": {
           "color": "#2a3f5f"
          },
          "geo": {
           "bgcolor": "white",
           "lakecolor": "white",
           "landcolor": "#E5ECF6",
           "showlakes": true,
           "showland": true,
           "subunitcolor": "white"
          },
          "hoverlabel": {
           "align": "left"
          },
          "hovermode": "closest",
          "mapbox": {
           "style": "light"
          },
          "paper_bgcolor": "white",
          "plot_bgcolor": "#E5ECF6",
          "polar": {
           "angularaxis": {
            "gridcolor": "white",
            "linecolor": "white",
            "ticks": ""
           },
           "bgcolor": "#E5ECF6",
           "radialaxis": {
            "gridcolor": "white",
            "linecolor": "white",
            "ticks": ""
           }
          },
          "scene": {
           "xaxis": {
            "backgroundcolor": "#E5ECF6",
            "gridcolor": "white",
            "gridwidth": 2,
            "linecolor": "white",
            "showbackground": true,
            "ticks": "",
            "zerolinecolor": "white"
           },
           "yaxis": {
            "backgroundcolor": "#E5ECF6",
            "gridcolor": "white",
            "gridwidth": 2,
            "linecolor": "white",
            "showbackground": true,
            "ticks": "",
            "zerolinecolor": "white"
           },
           "zaxis": {
            "backgroundcolor": "#E5ECF6",
            "gridcolor": "white",
            "gridwidth": 2,
            "linecolor": "white",
            "showbackground": true,
            "ticks": "",
            "zerolinecolor": "white"
           }
          },
          "shapedefaults": {
           "line": {
            "color": "#2a3f5f"
           }
          },
          "ternary": {
           "aaxis": {
            "gridcolor": "white",
            "linecolor": "white",
            "ticks": ""
           },
           "baxis": {
            "gridcolor": "white",
            "linecolor": "white",
            "ticks": ""
           },
           "bgcolor": "#E5ECF6",
           "caxis": {
            "gridcolor": "white",
            "linecolor": "white",
            "ticks": ""
           }
          },
          "title": {
           "x": 0.05
          },
          "xaxis": {
           "automargin": true,
           "gridcolor": "white",
           "linecolor": "white",
           "ticks": "",
           "title": {
            "standoff": 15
           },
           "zerolinecolor": "white",
           "zerolinewidth": 2
          },
          "yaxis": {
           "automargin": true,
           "gridcolor": "white",
           "linecolor": "white",
           "ticks": "",
           "title": {
            "standoff": 15
           },
           "zerolinecolor": "white",
           "zerolinewidth": 2
          }
         }
        },
        "title": {
         "text": "Average Duration of GameSessions per Game (Free vs Premium) - Horizontal"
        },
        "width": 1000,
        "xaxis": {
         "anchor": "y",
         "domain": [
          0,
          1
         ],
         "title": {
          "text": "Duration"
         }
        },
        "yaxis": {
         "anchor": "x",
         "categoryorder": "total ascending",
         "domain": [
          0,
          1
         ],
         "title": {
          "text": "Game"
         }
        }
       }
      }
     },
     "metadata": {},
     "output_type": "display_data"
    }
   ],
   "source": [
    "import plotly.express as px\n",
    "\n",
    "df_filtered = df_agg_gamession_by_user_type_per_game[~df_agg_gamession_by_user_type_per_game['game_name'].isnull()]\n",
    "\n",
    "\n",
    "fig = px.bar(\n",
    "    df_filtered,\n",
    "    x='pct_gamesession_within_user_type',\n",
    "    y='game_name',\n",
    "    color='user_type',\n",
    "    orientation='h',\n",
    "    text='pct_gamesession_within_user_type',\n",
    "    barmode='group',\n",
    "    title='Percent of Total GameSessions per Game (Free vs Premium) - Horizontal',\n",
    "    labels={\n",
    "        \"pct_gamesession_within_user_type\": \"Percent of Total GameSessions\",\n",
    "        \"game_name\": \"Game\",\n",
    "        \"user_type\": \"User Type\"\n",
    "    }\n",
    ")\n",
    "\n",
    "fig.update_traces(textposition='outside')\n",
    "fig.update_layout(\n",
    "    height=800,\n",
    "    width=1000,\n",
    "    margin=dict(l=150, t=80),\n",
    "    yaxis=dict(categoryorder='total ascending') \n",
    ")\n",
    "\n",
    "fig.show()\n",
    "\n",
    "######################################################################################\n",
    "fig = px.bar(\n",
    "    df_filtered,\n",
    "    x='pct_users_within_user_type',\n",
    "    y='game_name',\n",
    "    color='user_type',\n",
    "    orientation='h',\n",
    "    text='pct_users_within_user_type',\n",
    "    barmode='group',\n",
    "    title='Percent of Total Users who Generated GameSessions per Game (Free vs Premium) - Horizontal',\n",
    "    labels={\n",
    "        \"pct_users_within_user_type\": \"Percent of Total Users\",\n",
    "        \"game_name\": \"Game\",\n",
    "        \"user_type\": \"User Type\"\n",
    "    }\n",
    ")\n",
    "\n",
    "fig.update_traces(textposition='outside')\n",
    "fig.update_layout(\n",
    "    height=800,\n",
    "    width=1000,\n",
    "    margin=dict(l=150, t=80),\n",
    "    yaxis=dict(categoryorder='total ascending') \n",
    ")\n",
    "\n",
    "fig.show()\n",
    "\n",
    "######################################################################################\n",
    "fig = px.bar(\n",
    "    df_filtered,\n",
    "    x='average_duration_gamesession',\n",
    "    y='game_name',\n",
    "    color='user_type',\n",
    "    orientation='h',\n",
    "    text='average_duration_gamesession',\n",
    "    barmode='group',\n",
    "    title='Average Duration of GameSessions per Game (Free vs Premium) - Horizontal',\n",
    "    labels={\n",
    "        \"average_duration_gamesession\": \"Duration\",\n",
    "        \"game_name\": \"Game\",\n",
    "        \"user_type\": \"User Type\"\n",
    "    }\n",
    ")\n",
    "\n",
    "fig.update_traces(textposition='outside')\n",
    "fig.update_layout(\n",
    "    height=800,\n",
    "    width=1000,\n",
    "    margin=dict(l=150, t=80),\n",
    "    yaxis=dict(categoryorder='total ascending') \n",
    ")\n",
    "\n",
    "fig.show()\n"
   ]
  },
  {
   "cell_type": "code",
   "execution_count": null,
   "id": "a86c6323",
   "metadata": {},
   "outputs": [],
   "source": []
  }
 ],
 "metadata": {
  "kernelspec": {
   "display_name": "Python 3",
   "language": "python",
   "name": "python3"
  },
  "language_info": {
   "codemirror_mode": {
    "name": "ipython",
    "version": 3
   },
   "file_extension": ".py",
   "mimetype": "text/x-python",
   "name": "python",
   "nbconvert_exporter": "python",
   "pygments_lexer": "ipython3",
   "version": "3.11.4"
  }
 },
 "nbformat": 4,
 "nbformat_minor": 5
}
